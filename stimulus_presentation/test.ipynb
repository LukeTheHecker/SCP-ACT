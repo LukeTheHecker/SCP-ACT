{
 "cells": [
  {
   "cell_type": "code",
   "execution_count": null,
   "source": [
    "import numpy as np\r\n",
    "expectation_task = \"Expectation\\n\",\r\n",
    "\r\n",
    "tasks = np.array([\r\n",
    "    \"Resting state\\n\",\r\n",
    "    \"DRMT\\n\",\r\n",
    "    \"Kornhuber Task\\n\"\r\n",
    "])\r\n",
    "np.random.shuffle(tasks)\r\n",
    "rest_idx = np.where(tasks==\"Resting state\\n\")[0][0]\r\n",
    "drmt_idx = np.where(tasks==\"DRMT\\n\")[0][0]\r\n",
    "while rest_idx > drmt_idx:\r\n",
    "    np.random.shuffle(tasks)\r\n",
    "\r\n",
    "print(tasks)\r\n",
    "\r\n",
    "second_tasks = tasks[::-1]\r\n",
    "\r\n",
    "rest_idx = np.where(second_tasks==\"Resting state\\n\")[0][0]\r\n",
    "drmt_idx = np.where(second_tasks==\"DRMT\\n\")[0][0]\r\n",
    "tmp = second_tasks[rest_idx]\r\n",
    "second_tasks[rest_idx] = second_tasks[drmt_idx]\r\n",
    "second_tasks[drmt_idx] = tmp\r\n",
    "\r\n",
    "all_tasks = np.append(np.append(tasks, expectation_task), second_tasks)\r\n",
    "print(all_tasks)\r\n",
    "\r\n",
    "\r\n",
    "\r\n",
    "\r\n"
   ],
   "outputs": [],
   "metadata": {}
  },
  {
   "cell_type": "code",
   "execution_count": null,
   "source": [],
   "outputs": [],
   "metadata": {}
  }
 ],
 "metadata": {
  "orig_nbformat": 4,
  "language_info": {
   "name": "python"
  }
 },
 "nbformat": 4,
 "nbformat_minor": 2
}