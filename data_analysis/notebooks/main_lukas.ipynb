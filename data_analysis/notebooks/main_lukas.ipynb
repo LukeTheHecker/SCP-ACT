{
 "cells": [
  {
   "cell_type": "code",
   "execution_count": 1,
   "source": [
    "import sys; sys.path.insert(1, '../')\r\n",
    "import os\r\n",
    "import numpy as np\r\n",
    "import mne\r\n",
    "import matplotlib.pyplot as plt\r\n",
    "import seaborn as sns\r\n",
    "from actionpy.prepro import get_data, preprocessing\r\n",
    "from actionpy.util import multipage\r\n",
    "\r\n",
    "sns.set(font_scale=1.25, font='georgia', style='whitegrid')\r\n",
    "\r\n",
    "%load_ext autoreload\r\n",
    "%autoreload 2"
   ],
   "outputs": [],
   "metadata": {}
  },
  {
   "cell_type": "markdown",
   "source": [
    "# Preprocessing"
   ],
   "metadata": {}
  },
  {
   "cell_type": "code",
   "execution_count": 2,
   "source": [
    "base_path = 'D:/data/scp-act'\r\n",
    "subjects = [folder for folder in os.listdir(base_path) if folder.startswith('S')]\r\n",
    "\r\n",
    "files = ['rest_01', 'rest_02', 'exp_01', 'drmt_01', 'drmt_02', 'vol_01', 'vol_02']\r\n",
    "ending = '.vhdr'\r\n",
    "\r\n",
    "data = []\r\n",
    "for subject in subjects:\r\n",
    "    print(subject)\r\n",
    "    raws = []\r\n",
    "    path = base_path + '/' + subject + '/' + subject + '_'\r\n",
    "    for file in files:\r\n",
    "        print('\\t', file)\r\n",
    "        pth_raw = path + file + ending\r\n",
    "        print(pth_raw)\r\n",
    "        raws.append( preprocessing(pth_raw) )\r\n",
    "    data.append(raws)"
   ],
   "outputs": [
    {
     "output_type": "stream",
     "name": "stdout",
     "text": [
      "S00\n",
      "\t rest_01\n",
      "D:/data/scp-act/S00/S00_rest_01.vhdr\n"
     ]
    },
    {
     "output_type": "stream",
     "name": "stderr",
     "text": [
      "c:\\Users\\lukas\\Dokumente\\projects\\scp-act\\data_analysis\\notebooks\\..\\actionpy\\prepro\\prepro.py:23: RuntimeWarning: Online software filter detected. Using software filter settings and ignoring hardware values\n",
      "  raw = mne.io.read_raw_brainvision(pth, preload=True, verbose=verbose)\n",
      "c:\\Users\\lukas\\Dokumente\\projects\\scp-act\\data_analysis\\notebooks\\..\\actionpy\\prepro\\prepro.py:23: RuntimeWarning: Channels contain different highpass filters. Lowest (weakest) filter setting (0.00 Hz) will be stored.\n",
      "  raw = mne.io.read_raw_brainvision(pth, preload=True, verbose=verbose)\n",
      "c:\\Users\\lukas\\Dokumente\\projects\\scp-act\\data_analysis\\notebooks\\..\\actionpy\\prepro\\prepro.py:23: RuntimeWarning: Channels contain different lowpass filters. Highest (weakest) filter setting (500.00 Hz, Nyquist limit) will be stored.\n",
      "  raw = mne.io.read_raw_brainvision(pth, preload=True, verbose=verbose)\n"
     ]
    },
    {
     "output_type": "stream",
     "name": "stdout",
     "text": [
      "Used Annotations descriptions: ['New Segment/', 'Stimulus/S  2', 'Stimulus/S  4']\n"
     ]
    },
    {
     "output_type": "stream",
     "name": "stderr",
     "text": [
      "c:\\Users\\lukas\\Dokumente\\projects\\scp-act\\data_analysis\\notebooks\\..\\actionpy\\prepro\\prepro.py:124: RuntimeWarning: The unit for channel(s) VEOG has changed from C to V.\n",
      "  raw.set_channel_types(mapping)\n"
     ]
    },
    {
     "output_type": "stream",
     "name": "stdout",
     "text": [
      "Not setting metadata\n",
      "Not setting metadata\n",
      "1 matching events found\n",
      "No baseline correction applied\n",
      "0 projection items activated\n",
      "0 bad epochs dropped\n"
     ]
    },
    {
     "output_type": "stream",
     "name": "stderr",
     "text": [
      "[Parallel(n_jobs=8)]: Using backend LokyBackend with 8 concurrent workers.\n"
     ]
    },
    {
     "output_type": "stream",
     "name": "stdout",
     "text": [
      "Creating RawArray with float64 data, n_channels=1, n_times=42100\n",
      "    Range : 0 ... 42099 =      0.000 ...   420.990 secs\n",
      "Ready.\n"
     ]
    },
    {
     "output_type": "stream",
     "name": "stderr",
     "text": [
      "[Parallel(n_jobs=8)]: Done   1 tasks      | elapsed:    2.2s\n",
      "[Parallel(n_jobs=8)]: Done   1 out of   1 | elapsed:    2.2s finished\n",
      "C:\\Users\\lukas\\virtualenvs\\eegenv\\lib\\site-packages\\autoreject\\ransac.py:226: RuntimeWarning: No bad channels to interpolate. Doing nothing...\n",
      "  epochs.interpolate_bads(reset_bads=True)\n",
      "c:\\Users\\lukas\\Dokumente\\projects\\scp-act\\data_analysis\\notebooks\\..\\actionpy\\prepro\\prepro.py:147: DeprecationWarning: Version 0.23 introduced max_iter=\"auto\", setting max_iter=1000 for `fastica` and max_iter=500 for `infomax` and `picard`. The current default of max_iter=200 will be changed to \"auto\" in version 0.24.\n",
      "  ica = mne.preprocessing.ICA(n_components=n_components,\n"
     ]
    },
    {
     "output_type": "stream",
     "name": "stdout",
     "text": [
      "\t rest_02\n",
      "D:/data/scp-act/S00/S00_rest_02.vhdr\n",
      "Used Annotations descriptions: ['New Segment/', 'Stimulus/S  2', 'Stimulus/S  4', 'Stimulus/S 14']\n"
     ]
    },
    {
     "output_type": "stream",
     "name": "stderr",
     "text": [
      "c:\\Users\\lukas\\Dokumente\\projects\\scp-act\\data_analysis\\notebooks\\..\\actionpy\\prepro\\prepro.py:23: RuntimeWarning: Online software filter detected. Using software filter settings and ignoring hardware values\n",
      "  raw = mne.io.read_raw_brainvision(pth, preload=True, verbose=verbose)\n",
      "c:\\Users\\lukas\\Dokumente\\projects\\scp-act\\data_analysis\\notebooks\\..\\actionpy\\prepro\\prepro.py:23: RuntimeWarning: Channels contain different highpass filters. Lowest (weakest) filter setting (0.00 Hz) will be stored.\n",
      "  raw = mne.io.read_raw_brainvision(pth, preload=True, verbose=verbose)\n",
      "c:\\Users\\lukas\\Dokumente\\projects\\scp-act\\data_analysis\\notebooks\\..\\actionpy\\prepro\\prepro.py:23: RuntimeWarning: Channels contain different lowpass filters. Highest (weakest) filter setting (500.00 Hz, Nyquist limit) will be stored.\n",
      "  raw = mne.io.read_raw_brainvision(pth, preload=True, verbose=verbose)\n",
      "c:\\Users\\lukas\\Dokumente\\projects\\scp-act\\data_analysis\\notebooks\\..\\actionpy\\prepro\\prepro.py:124: RuntimeWarning: The unit for channel(s) VEOG has changed from C to V.\n",
      "  raw.set_channel_types(mapping)\n"
     ]
    },
    {
     "output_type": "stream",
     "name": "stdout",
     "text": [
      "Not setting metadata\n",
      "Not setting metadata\n",
      "1 matching events found\n",
      "No baseline correction applied\n",
      "0 projection items activated\n",
      "0 bad epochs dropped\n"
     ]
    },
    {
     "output_type": "stream",
     "name": "stderr",
     "text": [
      "[Parallel(n_jobs=8)]: Using backend LokyBackend with 8 concurrent workers.\n"
     ]
    },
    {
     "output_type": "stream",
     "name": "stdout",
     "text": [
      "Creating RawArray with float64 data, n_channels=1, n_times=42100\n",
      "    Range : 0 ... 42099 =      0.000 ...   420.990 secs\n",
      "Ready.\n"
     ]
    },
    {
     "output_type": "stream",
     "name": "stderr",
     "text": [
      "[Parallel(n_jobs=8)]: Done   1 tasks      | elapsed:    2.2s\n",
      "[Parallel(n_jobs=8)]: Done   1 out of   1 | elapsed:    2.2s finished\n",
      "C:\\Users\\lukas\\virtualenvs\\eegenv\\lib\\site-packages\\autoreject\\ransac.py:226: RuntimeWarning: No bad channels to interpolate. Doing nothing...\n",
      "  epochs.interpolate_bads(reset_bads=True)\n",
      "c:\\Users\\lukas\\Dokumente\\projects\\scp-act\\data_analysis\\notebooks\\..\\actionpy\\prepro\\prepro.py:147: DeprecationWarning: Version 0.23 introduced max_iter=\"auto\", setting max_iter=1000 for `fastica` and max_iter=500 for `infomax` and `picard`. The current default of max_iter=200 will be changed to \"auto\" in version 0.24.\n",
      "  ica = mne.preprocessing.ICA(n_components=n_components,\n"
     ]
    },
    {
     "output_type": "stream",
     "name": "stdout",
     "text": [
      "\t exp_01\n",
      "D:/data/scp-act/S00/S00_exp_01.vhdr\n"
     ]
    },
    {
     "output_type": "stream",
     "name": "stderr",
     "text": [
      "c:\\Users\\lukas\\Dokumente\\projects\\scp-act\\data_analysis\\notebooks\\..\\actionpy\\prepro\\prepro.py:23: RuntimeWarning: Online software filter detected. Using software filter settings and ignoring hardware values\n",
      "  raw = mne.io.read_raw_brainvision(pth, preload=True, verbose=verbose)\n",
      "c:\\Users\\lukas\\Dokumente\\projects\\scp-act\\data_analysis\\notebooks\\..\\actionpy\\prepro\\prepro.py:23: RuntimeWarning: Channels contain different highpass filters. Lowest (weakest) filter setting (0.00 Hz) will be stored.\n",
      "  raw = mne.io.read_raw_brainvision(pth, preload=True, verbose=verbose)\n",
      "c:\\Users\\lukas\\Dokumente\\projects\\scp-act\\data_analysis\\notebooks\\..\\actionpy\\prepro\\prepro.py:23: RuntimeWarning: Channels contain different lowpass filters. Highest (weakest) filter setting (500.00 Hz, Nyquist limit) will be stored.\n",
      "  raw = mne.io.read_raw_brainvision(pth, preload=True, verbose=verbose)\n"
     ]
    },
    {
     "output_type": "stream",
     "name": "stdout",
     "text": [
      "Used Annotations descriptions: ['New Segment/', 'Response/R  7', 'Response/R 15', 'Stimulus/S  2', 'Stimulus/S  4', 'Stimulus/S  6', 'Stimulus/S 14']\n"
     ]
    },
    {
     "output_type": "stream",
     "name": "stderr",
     "text": [
      "c:\\Users\\lukas\\Dokumente\\projects\\scp-act\\data_analysis\\notebooks\\..\\actionpy\\prepro\\prepro.py:124: RuntimeWarning: The unit for channel(s) VEOG has changed from C to V.\n",
      "  raw.set_channel_types(mapping)\n"
     ]
    },
    {
     "output_type": "stream",
     "name": "stdout",
     "text": [
      "Not setting metadata\n",
      "Not setting metadata\n",
      "1 matching events found\n",
      "No baseline correction applied\n",
      "0 projection items activated\n",
      "0 bad epochs dropped\n"
     ]
    },
    {
     "output_type": "stream",
     "name": "stderr",
     "text": [
      "[Parallel(n_jobs=8)]: Using backend LokyBackend with 8 concurrent workers.\n"
     ]
    },
    {
     "output_type": "stream",
     "name": "stdout",
     "text": [
      "Interpolating bad channels\n",
      "    Automatic origin fit: head of radius 92.0 mm\n",
      "Computing interpolation matrix from 27 sensor positions\n",
      "Interpolating 4 sensors\n",
      "Creating RawArray with float64 data, n_channels=1, n_times=42101\n"
     ]
    },
    {
     "output_type": "stream",
     "name": "stderr",
     "text": [
      "[Parallel(n_jobs=8)]: Done   1 tasks      | elapsed:    2.2s\n",
      "[Parallel(n_jobs=8)]: Done   1 out of   1 | elapsed:    2.2s finished\n"
     ]
    },
    {
     "output_type": "stream",
     "name": "stdout",
     "text": [
      "    Range : 0 ... 42100 =      0.000 ...   421.000 secs\n",
      "Ready.\n"
     ]
    },
    {
     "output_type": "stream",
     "name": "stderr",
     "text": [
      "c:\\Users\\lukas\\Dokumente\\projects\\scp-act\\data_analysis\\notebooks\\..\\actionpy\\prepro\\prepro.py:147: DeprecationWarning: Version 0.23 introduced max_iter=\"auto\", setting max_iter=1000 for `fastica` and max_iter=500 for `infomax` and `picard`. The current default of max_iter=200 will be changed to \"auto\" in version 0.24.\n",
      "  ica = mne.preprocessing.ICA(n_components=n_components,\n"
     ]
    },
    {
     "output_type": "stream",
     "name": "stdout",
     "text": [
      "\t drmt_01\n",
      "D:/data/scp-act/S00/S00_drmt_01.vhdr\n"
     ]
    },
    {
     "output_type": "stream",
     "name": "stderr",
     "text": [
      "c:\\Users\\lukas\\Dokumente\\projects\\scp-act\\data_analysis\\notebooks\\..\\actionpy\\prepro\\prepro.py:23: RuntimeWarning: Online software filter detected. Using software filter settings and ignoring hardware values\n",
      "  raw = mne.io.read_raw_brainvision(pth, preload=True, verbose=verbose)\n",
      "c:\\Users\\lukas\\Dokumente\\projects\\scp-act\\data_analysis\\notebooks\\..\\actionpy\\prepro\\prepro.py:23: RuntimeWarning: Channels contain different highpass filters. Lowest (weakest) filter setting (0.00 Hz) will be stored.\n",
      "  raw = mne.io.read_raw_brainvision(pth, preload=True, verbose=verbose)\n",
      "c:\\Users\\lukas\\Dokumente\\projects\\scp-act\\data_analysis\\notebooks\\..\\actionpy\\prepro\\prepro.py:23: RuntimeWarning: Channels contain different lowpass filters. Highest (weakest) filter setting (500.00 Hz, Nyquist limit) will be stored.\n",
      "  raw = mne.io.read_raw_brainvision(pth, preload=True, verbose=verbose)\n"
     ]
    },
    {
     "output_type": "stream",
     "name": "stdout",
     "text": [
      "Used Annotations descriptions: ['New Segment/', 'Stimulus/S  2', 'Stimulus/S  4', 'Stimulus/S  6', 'Stimulus/S 14']\n"
     ]
    },
    {
     "output_type": "stream",
     "name": "stderr",
     "text": [
      "c:\\Users\\lukas\\Dokumente\\projects\\scp-act\\data_analysis\\notebooks\\..\\actionpy\\prepro\\prepro.py:124: RuntimeWarning: The unit for channel(s) VEOG has changed from C to V.\n",
      "  raw.set_channel_types(mapping)\n"
     ]
    },
    {
     "output_type": "stream",
     "name": "stdout",
     "text": [
      "Not setting metadata\n",
      "Not setting metadata\n",
      "1 matching events found\n",
      "No baseline correction applied\n",
      "0 projection items activated\n",
      "0 bad epochs dropped\n"
     ]
    },
    {
     "output_type": "stream",
     "name": "stderr",
     "text": [
      "[Parallel(n_jobs=8)]: Using backend LokyBackend with 8 concurrent workers.\n"
     ]
    },
    {
     "output_type": "stream",
     "name": "stdout",
     "text": [
      "Interpolating bad channels\n",
      "    Automatic origin fit: head of radius 92.0 mm\n",
      "Computing interpolation matrix from 28 sensor positions\n",
      "Interpolating 3 sensors\n",
      "Creating RawArray with float64 data, n_channels=1, n_times=42000\n",
      "    Range : 0 ... 41999 =      0.000 ...   419.990 secs\n",
      "Ready.\n"
     ]
    },
    {
     "output_type": "stream",
     "name": "stderr",
     "text": [
      "[Parallel(n_jobs=8)]: Done   1 tasks      | elapsed:    1.9s\n",
      "[Parallel(n_jobs=8)]: Done   1 out of   1 | elapsed:    2.0s finished\n",
      "c:\\Users\\lukas\\Dokumente\\projects\\scp-act\\data_analysis\\notebooks\\..\\actionpy\\prepro\\prepro.py:147: DeprecationWarning: Version 0.23 introduced max_iter=\"auto\", setting max_iter=1000 for `fastica` and max_iter=500 for `infomax` and `picard`. The current default of max_iter=200 will be changed to \"auto\" in version 0.24.\n",
      "  ica = mne.preprocessing.ICA(n_components=n_components,\n"
     ]
    },
    {
     "output_type": "stream",
     "name": "stdout",
     "text": [
      "\t drmt_02\n",
      "D:/data/scp-act/S00/S00_drmt_02.vhdr\n"
     ]
    },
    {
     "output_type": "stream",
     "name": "stderr",
     "text": [
      "c:\\Users\\lukas\\Dokumente\\projects\\scp-act\\data_analysis\\notebooks\\..\\actionpy\\prepro\\prepro.py:23: RuntimeWarning: Online software filter detected. Using software filter settings and ignoring hardware values\n",
      "  raw = mne.io.read_raw_brainvision(pth, preload=True, verbose=verbose)\n",
      "c:\\Users\\lukas\\Dokumente\\projects\\scp-act\\data_analysis\\notebooks\\..\\actionpy\\prepro\\prepro.py:23: RuntimeWarning: Channels contain different highpass filters. Lowest (weakest) filter setting (0.00 Hz) will be stored.\n",
      "  raw = mne.io.read_raw_brainvision(pth, preload=True, verbose=verbose)\n",
      "c:\\Users\\lukas\\Dokumente\\projects\\scp-act\\data_analysis\\notebooks\\..\\actionpy\\prepro\\prepro.py:23: RuntimeWarning: Channels contain different lowpass filters. Highest (weakest) filter setting (500.00 Hz, Nyquist limit) will be stored.\n",
      "  raw = mne.io.read_raw_brainvision(pth, preload=True, verbose=verbose)\n"
     ]
    },
    {
     "output_type": "stream",
     "name": "stdout",
     "text": [
      "Used Annotations descriptions: ['New Segment/', 'Stimulus/S  2', 'Stimulus/S 14']\n"
     ]
    },
    {
     "output_type": "stream",
     "name": "stderr",
     "text": [
      "c:\\Users\\lukas\\Dokumente\\projects\\scp-act\\data_analysis\\notebooks\\..\\actionpy\\prepro\\prepro.py:124: RuntimeWarning: The unit for channel(s) VEOG has changed from C to V.\n",
      "  raw.set_channel_types(mapping)\n"
     ]
    },
    {
     "output_type": "stream",
     "name": "stdout",
     "text": [
      "Not setting metadata\n",
      "Not setting metadata\n",
      "1 matching events found\n",
      "No baseline correction applied\n",
      "0 projection items activated\n",
      "0 bad epochs dropped\n"
     ]
    },
    {
     "output_type": "stream",
     "name": "stderr",
     "text": [
      "[Parallel(n_jobs=8)]: Using backend LokyBackend with 8 concurrent workers.\n"
     ]
    },
    {
     "output_type": "stream",
     "name": "stdout",
     "text": [
      "Interpolating bad channels\n",
      "    Automatic origin fit: head of radius 92.0 mm\n",
      "Computing interpolation matrix from 28 sensor positions\n",
      "Interpolating 3 sensors\n",
      "Creating RawArray with float64 data, n_channels=1, n_times=42000\n",
      "    Range : 0 ... 41999 =      0.000 ...   419.990 secs\n",
      "Ready.\n"
     ]
    },
    {
     "output_type": "stream",
     "name": "stderr",
     "text": [
      "[Parallel(n_jobs=8)]: Done   1 tasks      | elapsed:    2.1s\n",
      "[Parallel(n_jobs=8)]: Done   1 out of   1 | elapsed:    2.1s finished\n",
      "c:\\Users\\lukas\\Dokumente\\projects\\scp-act\\data_analysis\\notebooks\\..\\actionpy\\prepro\\prepro.py:147: DeprecationWarning: Version 0.23 introduced max_iter=\"auto\", setting max_iter=1000 for `fastica` and max_iter=500 for `infomax` and `picard`. The current default of max_iter=200 will be changed to \"auto\" in version 0.24.\n",
      "  ica = mne.preprocessing.ICA(n_components=n_components,\n"
     ]
    },
    {
     "output_type": "stream",
     "name": "stdout",
     "text": [
      "\t vol_01\n",
      "D:/data/scp-act/S00/S00_vol_01.vhdr\n",
      "Used Annotations descriptions: ['New Segment/', 'Response/R  7', 'Response/R 15', 'Stimulus/S  2', 'Stimulus/S  4']\n"
     ]
    },
    {
     "output_type": "stream",
     "name": "stderr",
     "text": [
      "c:\\Users\\lukas\\Dokumente\\projects\\scp-act\\data_analysis\\notebooks\\..\\actionpy\\prepro\\prepro.py:23: RuntimeWarning: Online software filter detected. Using software filter settings and ignoring hardware values\n",
      "  raw = mne.io.read_raw_brainvision(pth, preload=True, verbose=verbose)\n",
      "c:\\Users\\lukas\\Dokumente\\projects\\scp-act\\data_analysis\\notebooks\\..\\actionpy\\prepro\\prepro.py:23: RuntimeWarning: Channels contain different highpass filters. Lowest (weakest) filter setting (0.00 Hz) will be stored.\n",
      "  raw = mne.io.read_raw_brainvision(pth, preload=True, verbose=verbose)\n",
      "c:\\Users\\lukas\\Dokumente\\projects\\scp-act\\data_analysis\\notebooks\\..\\actionpy\\prepro\\prepro.py:23: RuntimeWarning: Channels contain different lowpass filters. Highest (weakest) filter setting (500.00 Hz, Nyquist limit) will be stored.\n",
      "  raw = mne.io.read_raw_brainvision(pth, preload=True, verbose=verbose)\n",
      "c:\\Users\\lukas\\Dokumente\\projects\\scp-act\\data_analysis\\notebooks\\..\\actionpy\\prepro\\prepro.py:124: RuntimeWarning: The unit for channel(s) VEOG has changed from C to V.\n",
      "  raw.set_channel_types(mapping)\n"
     ]
    },
    {
     "output_type": "stream",
     "name": "stdout",
     "text": [
      "Not setting metadata\n",
      "Not setting metadata\n",
      "1 matching events found\n",
      "No baseline correction applied\n",
      "0 projection items activated\n",
      "0 bad epochs dropped\n"
     ]
    },
    {
     "output_type": "stream",
     "name": "stderr",
     "text": [
      "[Parallel(n_jobs=8)]: Using backend LokyBackend with 8 concurrent workers.\n"
     ]
    },
    {
     "output_type": "stream",
     "name": "stdout",
     "text": [
      "Interpolating bad channels\n",
      "    Automatic origin fit: head of radius 92.0 mm\n",
      "Computing interpolation matrix from 30 sensor positions\n",
      "Interpolating 1 sensors\n",
      "Creating RawArray with float64 data, n_channels=1, n_times=42100\n",
      "    Range : 0 ... 42099 =      0.000 ...   420.990 secs\n",
      "Ready.\n"
     ]
    },
    {
     "output_type": "stream",
     "name": "stderr",
     "text": [
      "[Parallel(n_jobs=8)]: Done   1 tasks      | elapsed:    1.9s\n",
      "[Parallel(n_jobs=8)]: Done   1 out of   1 | elapsed:    1.9s finished\n",
      "c:\\Users\\lukas\\Dokumente\\projects\\scp-act\\data_analysis\\notebooks\\..\\actionpy\\prepro\\prepro.py:147: DeprecationWarning: Version 0.23 introduced max_iter=\"auto\", setting max_iter=1000 for `fastica` and max_iter=500 for `infomax` and `picard`. The current default of max_iter=200 will be changed to \"auto\" in version 0.24.\n",
      "  ica = mne.preprocessing.ICA(n_components=n_components,\n"
     ]
    },
    {
     "output_type": "stream",
     "name": "stdout",
     "text": [
      "\t vol_02\n",
      "D:/data/scp-act/S00/S00_vol_02.vhdr\n"
     ]
    },
    {
     "output_type": "stream",
     "name": "stderr",
     "text": [
      "c:\\Users\\lukas\\Dokumente\\projects\\scp-act\\data_analysis\\notebooks\\..\\actionpy\\prepro\\prepro.py:23: RuntimeWarning: Online software filter detected. Using software filter settings and ignoring hardware values\n",
      "  raw = mne.io.read_raw_brainvision(pth, preload=True, verbose=verbose)\n",
      "c:\\Users\\lukas\\Dokumente\\projects\\scp-act\\data_analysis\\notebooks\\..\\actionpy\\prepro\\prepro.py:23: RuntimeWarning: Channels contain different highpass filters. Lowest (weakest) filter setting (0.00 Hz) will be stored.\n",
      "  raw = mne.io.read_raw_brainvision(pth, preload=True, verbose=verbose)\n",
      "c:\\Users\\lukas\\Dokumente\\projects\\scp-act\\data_analysis\\notebooks\\..\\actionpy\\prepro\\prepro.py:23: RuntimeWarning: Channels contain different lowpass filters. Highest (weakest) filter setting (500.00 Hz, Nyquist limit) will be stored.\n",
      "  raw = mne.io.read_raw_brainvision(pth, preload=True, verbose=verbose)\n"
     ]
    },
    {
     "output_type": "stream",
     "name": "stdout",
     "text": [
      "Used Annotations descriptions: ['New Segment/', 'Response/R  7', 'Response/R 15', 'Stimulus/S  2', 'Stimulus/S  4']\n"
     ]
    },
    {
     "output_type": "stream",
     "name": "stderr",
     "text": [
      "c:\\Users\\lukas\\Dokumente\\projects\\scp-act\\data_analysis\\notebooks\\..\\actionpy\\prepro\\prepro.py:124: RuntimeWarning: The unit for channel(s) VEOG has changed from C to V.\n",
      "  raw.set_channel_types(mapping)\n"
     ]
    },
    {
     "output_type": "stream",
     "name": "stdout",
     "text": [
      "Not setting metadata\n",
      "Not setting metadata\n",
      "1 matching events found\n",
      "No baseline correction applied\n",
      "0 projection items activated\n",
      "0 bad epochs dropped\n"
     ]
    },
    {
     "output_type": "stream",
     "name": "stderr",
     "text": [
      "[Parallel(n_jobs=8)]: Using backend LokyBackend with 8 concurrent workers.\n"
     ]
    },
    {
     "output_type": "stream",
     "name": "stdout",
     "text": [
      "Interpolating bad channels\n",
      "    Automatic origin fit: head of radius 92.0 mm\n",
      "Computing interpolation matrix from 30 sensor positions\n",
      "Interpolating 1 sensors\n",
      "Creating RawArray with float64 data, n_channels=1, n_times=42100\n",
      "    Range : 0 ... 42099 =      0.000 ...   420.990 secs\n",
      "Ready.\n"
     ]
    },
    {
     "output_type": "stream",
     "name": "stderr",
     "text": [
      "[Parallel(n_jobs=8)]: Done   1 tasks      | elapsed:    2.0s\n",
      "[Parallel(n_jobs=8)]: Done   1 out of   1 | elapsed:    2.0s finished\n",
      "c:\\Users\\lukas\\Dokumente\\projects\\scp-act\\data_analysis\\notebooks\\..\\actionpy\\prepro\\prepro.py:147: DeprecationWarning: Version 0.23 introduced max_iter=\"auto\", setting max_iter=1000 for `fastica` and max_iter=500 for `infomax` and `picard`. The current default of max_iter=200 will be changed to \"auto\" in version 0.24.\n",
      "  ica = mne.preprocessing.ICA(n_components=n_components,\n"
     ]
    },
    {
     "output_type": "stream",
     "name": "stdout",
     "text": [
      "S01\n",
      "\t rest_01\n",
      "D:/data/scp-act/S01/S01_rest_01.vhdr\n"
     ]
    },
    {
     "output_type": "stream",
     "name": "stderr",
     "text": [
      "c:\\Users\\lukas\\Dokumente\\projects\\scp-act\\data_analysis\\notebooks\\..\\actionpy\\prepro\\prepro.py:23: RuntimeWarning: Online software filter detected. Using software filter settings and ignoring hardware values\n",
      "  raw = mne.io.read_raw_brainvision(pth, preload=True, verbose=verbose)\n",
      "c:\\Users\\lukas\\Dokumente\\projects\\scp-act\\data_analysis\\notebooks\\..\\actionpy\\prepro\\prepro.py:23: RuntimeWarning: Channels contain different highpass filters. Lowest (weakest) filter setting (0.00 Hz) will be stored.\n",
      "  raw = mne.io.read_raw_brainvision(pth, preload=True, verbose=verbose)\n",
      "c:\\Users\\lukas\\Dokumente\\projects\\scp-act\\data_analysis\\notebooks\\..\\actionpy\\prepro\\prepro.py:23: RuntimeWarning: Channels contain different lowpass filters. Highest (weakest) filter setting (500.00 Hz, Nyquist limit) will be stored.\n",
      "  raw = mne.io.read_raw_brainvision(pth, preload=True, verbose=verbose)\n"
     ]
    },
    {
     "output_type": "stream",
     "name": "stdout",
     "text": [
      "Used Annotations descriptions: ['New Segment/', 'Stimulus/S  2', 'Stimulus/S  4']\n"
     ]
    },
    {
     "output_type": "stream",
     "name": "stderr",
     "text": [
      "c:\\Users\\lukas\\Dokumente\\projects\\scp-act\\data_analysis\\notebooks\\..\\actionpy\\prepro\\prepro.py:124: RuntimeWarning: The unit for channel(s) VEOG has changed from C to V.\n",
      "  raw.set_channel_types(mapping)\n"
     ]
    },
    {
     "output_type": "stream",
     "name": "stdout",
     "text": [
      "Not setting metadata\n",
      "Not setting metadata\n",
      "1 matching events found\n",
      "No baseline correction applied\n",
      "0 projection items activated\n",
      "0 bad epochs dropped\n"
     ]
    },
    {
     "output_type": "stream",
     "name": "stderr",
     "text": [
      "[Parallel(n_jobs=8)]: Using backend LokyBackend with 8 concurrent workers.\n"
     ]
    },
    {
     "output_type": "stream",
     "name": "stdout",
     "text": [
      "Interpolating bad channels\n",
      "    Automatic origin fit: head of radius 92.0 mm\n",
      "Computing interpolation matrix from 30 sensor positions\n",
      "Interpolating 1 sensors\n",
      "Creating RawArray with float64 data, n_channels=1, n_times=42100\n"
     ]
    },
    {
     "output_type": "stream",
     "name": "stderr",
     "text": [
      "[Parallel(n_jobs=8)]: Done   1 tasks      | elapsed:    2.2s\n",
      "[Parallel(n_jobs=8)]: Done   1 out of   1 | elapsed:    2.2s finished\n"
     ]
    },
    {
     "output_type": "stream",
     "name": "stdout",
     "text": [
      "    Range : 0 ... 42099 =      0.000 ...   420.990 secs\n",
      "Ready.\n"
     ]
    },
    {
     "output_type": "stream",
     "name": "stderr",
     "text": [
      "c:\\Users\\lukas\\Dokumente\\projects\\scp-act\\data_analysis\\notebooks\\..\\actionpy\\prepro\\prepro.py:147: DeprecationWarning: Version 0.23 introduced max_iter=\"auto\", setting max_iter=1000 for `fastica` and max_iter=500 for `infomax` and `picard`. The current default of max_iter=200 will be changed to \"auto\" in version 0.24.\n",
      "  ica = mne.preprocessing.ICA(n_components=n_components,\n"
     ]
    },
    {
     "output_type": "stream",
     "name": "stdout",
     "text": [
      "\t rest_02\n",
      "D:/data/scp-act/S01/S01_rest_02.vhdr\n"
     ]
    },
    {
     "output_type": "stream",
     "name": "stderr",
     "text": [
      "c:\\Users\\lukas\\Dokumente\\projects\\scp-act\\data_analysis\\notebooks\\..\\actionpy\\prepro\\prepro.py:23: RuntimeWarning: Online software filter detected. Using software filter settings and ignoring hardware values\n",
      "  raw = mne.io.read_raw_brainvision(pth, preload=True, verbose=verbose)\n",
      "c:\\Users\\lukas\\Dokumente\\projects\\scp-act\\data_analysis\\notebooks\\..\\actionpy\\prepro\\prepro.py:23: RuntimeWarning: Channels contain different highpass filters. Lowest (weakest) filter setting (0.00 Hz) will be stored.\n",
      "  raw = mne.io.read_raw_brainvision(pth, preload=True, verbose=verbose)\n",
      "c:\\Users\\lukas\\Dokumente\\projects\\scp-act\\data_analysis\\notebooks\\..\\actionpy\\prepro\\prepro.py:23: RuntimeWarning: Channels contain different lowpass filters. Highest (weakest) filter setting (500.00 Hz, Nyquist limit) will be stored.\n",
      "  raw = mne.io.read_raw_brainvision(pth, preload=True, verbose=verbose)\n"
     ]
    },
    {
     "output_type": "stream",
     "name": "stdout",
     "text": [
      "Used Annotations descriptions: ['New Segment/', 'Stimulus/S  2', 'Stimulus/S  4']\n"
     ]
    },
    {
     "output_type": "stream",
     "name": "stderr",
     "text": [
      "c:\\Users\\lukas\\Dokumente\\projects\\scp-act\\data_analysis\\notebooks\\..\\actionpy\\prepro\\prepro.py:124: RuntimeWarning: The unit for channel(s) VEOG has changed from C to V.\n",
      "  raw.set_channel_types(mapping)\n"
     ]
    },
    {
     "output_type": "stream",
     "name": "stdout",
     "text": [
      "Not setting metadata\n",
      "Not setting metadata\n",
      "1 matching events found\n",
      "No baseline correction applied\n",
      "0 projection items activated\n",
      "0 bad epochs dropped\n"
     ]
    },
    {
     "output_type": "stream",
     "name": "stderr",
     "text": [
      "[Parallel(n_jobs=8)]: Using backend LokyBackend with 8 concurrent workers.\n"
     ]
    },
    {
     "output_type": "stream",
     "name": "stdout",
     "text": [
      "Creating RawArray with float64 data, n_channels=1, n_times=42100\n"
     ]
    },
    {
     "output_type": "stream",
     "name": "stderr",
     "text": [
      "[Parallel(n_jobs=8)]: Done   1 tasks      | elapsed:    2.3s\n",
      "[Parallel(n_jobs=8)]: Done   1 out of   1 | elapsed:    2.3s finished\n",
      "C:\\Users\\lukas\\virtualenvs\\eegenv\\lib\\site-packages\\autoreject\\ransac.py:226: RuntimeWarning: No bad channels to interpolate. Doing nothing...\n",
      "  epochs.interpolate_bads(reset_bads=True)\n"
     ]
    },
    {
     "output_type": "stream",
     "name": "stdout",
     "text": [
      "    Range : 0 ... 42099 =      0.000 ...   420.990 secs\n",
      "Ready.\n"
     ]
    },
    {
     "output_type": "stream",
     "name": "stderr",
     "text": [
      "c:\\Users\\lukas\\Dokumente\\projects\\scp-act\\data_analysis\\notebooks\\..\\actionpy\\prepro\\prepro.py:147: DeprecationWarning: Version 0.23 introduced max_iter=\"auto\", setting max_iter=1000 for `fastica` and max_iter=500 for `infomax` and `picard`. The current default of max_iter=200 will be changed to \"auto\" in version 0.24.\n",
      "  ica = mne.preprocessing.ICA(n_components=n_components,\n"
     ]
    },
    {
     "output_type": "stream",
     "name": "stdout",
     "text": [
      "\t exp_01\n",
      "D:/data/scp-act/S01/S01_exp_01.vhdr\n"
     ]
    },
    {
     "output_type": "stream",
     "name": "stderr",
     "text": [
      "c:\\Users\\lukas\\Dokumente\\projects\\scp-act\\data_analysis\\notebooks\\..\\actionpy\\prepro\\prepro.py:23: RuntimeWarning: Online software filter detected. Using software filter settings and ignoring hardware values\n",
      "  raw = mne.io.read_raw_brainvision(pth, preload=True, verbose=verbose)\n",
      "c:\\Users\\lukas\\Dokumente\\projects\\scp-act\\data_analysis\\notebooks\\..\\actionpy\\prepro\\prepro.py:23: RuntimeWarning: Channels contain different highpass filters. Lowest (weakest) filter setting (0.00 Hz) will be stored.\n",
      "  raw = mne.io.read_raw_brainvision(pth, preload=True, verbose=verbose)\n",
      "c:\\Users\\lukas\\Dokumente\\projects\\scp-act\\data_analysis\\notebooks\\..\\actionpy\\prepro\\prepro.py:23: RuntimeWarning: Channels contain different lowpass filters. Highest (weakest) filter setting (500.00 Hz, Nyquist limit) will be stored.\n",
      "  raw = mne.io.read_raw_brainvision(pth, preload=True, verbose=verbose)\n"
     ]
    },
    {
     "output_type": "stream",
     "name": "stdout",
     "text": [
      "Used Annotations descriptions: ['New Segment/', 'Response/R  7', 'Response/R 15', 'Stimulus/S  2', 'Stimulus/S  4', 'Stimulus/S  6', 'Stimulus/S 14']\n"
     ]
    },
    {
     "output_type": "stream",
     "name": "stderr",
     "text": [
      "c:\\Users\\lukas\\Dokumente\\projects\\scp-act\\data_analysis\\notebooks\\..\\actionpy\\prepro\\prepro.py:124: RuntimeWarning: The unit for channel(s) VEOG has changed from C to V.\n",
      "  raw.set_channel_types(mapping)\n"
     ]
    },
    {
     "output_type": "stream",
     "name": "stdout",
     "text": [
      "Not setting metadata\n",
      "Not setting metadata\n",
      "1 matching events found\n",
      "No baseline correction applied\n",
      "0 projection items activated\n",
      "0 bad epochs dropped\n"
     ]
    },
    {
     "output_type": "stream",
     "name": "stderr",
     "text": [
      "[Parallel(n_jobs=8)]: Using backend LokyBackend with 8 concurrent workers.\n"
     ]
    },
    {
     "output_type": "stream",
     "name": "stdout",
     "text": [
      "Creating RawArray with float64 data, n_channels=1, n_times=42102\n",
      "    Range : 0 ... 42101 =      0.000 ...   421.010 secs\n",
      "Ready.\n"
     ]
    },
    {
     "output_type": "stream",
     "name": "stderr",
     "text": [
      "[Parallel(n_jobs=8)]: Done   1 tasks      | elapsed:    2.1s\n",
      "[Parallel(n_jobs=8)]: Done   1 out of   1 | elapsed:    2.1s finished\n",
      "C:\\Users\\lukas\\virtualenvs\\eegenv\\lib\\site-packages\\autoreject\\ransac.py:226: RuntimeWarning: No bad channels to interpolate. Doing nothing...\n",
      "  epochs.interpolate_bads(reset_bads=True)\n",
      "c:\\Users\\lukas\\Dokumente\\projects\\scp-act\\data_analysis\\notebooks\\..\\actionpy\\prepro\\prepro.py:147: DeprecationWarning: Version 0.23 introduced max_iter=\"auto\", setting max_iter=1000 for `fastica` and max_iter=500 for `infomax` and `picard`. The current default of max_iter=200 will be changed to \"auto\" in version 0.24.\n",
      "  ica = mne.preprocessing.ICA(n_components=n_components,\n"
     ]
    },
    {
     "output_type": "stream",
     "name": "stdout",
     "text": [
      "\t drmt_01\n",
      "D:/data/scp-act/S01/S01_drmt_01.vhdr\n"
     ]
    },
    {
     "output_type": "stream",
     "name": "stderr",
     "text": [
      "c:\\Users\\lukas\\Dokumente\\projects\\scp-act\\data_analysis\\notebooks\\..\\actionpy\\prepro\\prepro.py:23: RuntimeWarning: Online software filter detected. Using software filter settings and ignoring hardware values\n",
      "  raw = mne.io.read_raw_brainvision(pth, preload=True, verbose=verbose)\n",
      "c:\\Users\\lukas\\Dokumente\\projects\\scp-act\\data_analysis\\notebooks\\..\\actionpy\\prepro\\prepro.py:23: RuntimeWarning: Channels contain different highpass filters. Lowest (weakest) filter setting (0.00 Hz) will be stored.\n",
      "  raw = mne.io.read_raw_brainvision(pth, preload=True, verbose=verbose)\n",
      "c:\\Users\\lukas\\Dokumente\\projects\\scp-act\\data_analysis\\notebooks\\..\\actionpy\\prepro\\prepro.py:23: RuntimeWarning: Channels contain different lowpass filters. Highest (weakest) filter setting (500.00 Hz, Nyquist limit) will be stored.\n",
      "  raw = mne.io.read_raw_brainvision(pth, preload=True, verbose=verbose)\n"
     ]
    },
    {
     "output_type": "stream",
     "name": "stdout",
     "text": [
      "Used Annotations descriptions: ['New Segment/', 'Stimulus/S  2', 'Stimulus/S  4', 'Stimulus/S  6']\n"
     ]
    },
    {
     "output_type": "stream",
     "name": "stderr",
     "text": [
      "c:\\Users\\lukas\\Dokumente\\projects\\scp-act\\data_analysis\\notebooks\\..\\actionpy\\prepro\\prepro.py:124: RuntimeWarning: The unit for channel(s) VEOG has changed from C to V.\n",
      "  raw.set_channel_types(mapping)\n"
     ]
    },
    {
     "output_type": "stream",
     "name": "stdout",
     "text": [
      "Not setting metadata\n",
      "Not setting metadata\n",
      "1 matching events found\n",
      "No baseline correction applied\n",
      "0 projection items activated\n",
      "0 bad epochs dropped\n"
     ]
    },
    {
     "output_type": "stream",
     "name": "stderr",
     "text": [
      "[Parallel(n_jobs=8)]: Using backend LokyBackend with 8 concurrent workers.\n"
     ]
    },
    {
     "output_type": "stream",
     "name": "stdout",
     "text": [
      "Interpolating bad channels\n",
      "    Automatic origin fit: head of radius 92.0 mm\n",
      "Computing interpolation matrix from 30 sensor positions\n",
      "Interpolating 1 sensors\n",
      "Creating RawArray with float64 data, n_channels=1, n_times=42000\n",
      "    Range : 0 ... 41999 =      0.000 ...   419.990 secs\n",
      "Ready.\n"
     ]
    },
    {
     "output_type": "stream",
     "name": "stderr",
     "text": [
      "[Parallel(n_jobs=8)]: Done   1 tasks      | elapsed:    2.1s\n",
      "[Parallel(n_jobs=8)]: Done   1 out of   1 | elapsed:    2.1s finished\n",
      "c:\\Users\\lukas\\Dokumente\\projects\\scp-act\\data_analysis\\notebooks\\..\\actionpy\\prepro\\prepro.py:147: DeprecationWarning: Version 0.23 introduced max_iter=\"auto\", setting max_iter=1000 for `fastica` and max_iter=500 for `infomax` and `picard`. The current default of max_iter=200 will be changed to \"auto\" in version 0.24.\n",
      "  ica = mne.preprocessing.ICA(n_components=n_components,\n"
     ]
    },
    {
     "output_type": "stream",
     "name": "stdout",
     "text": [
      "\t drmt_02\n",
      "D:/data/scp-act/S01/S01_drmt_02.vhdr\n"
     ]
    },
    {
     "output_type": "stream",
     "name": "stderr",
     "text": [
      "c:\\Users\\lukas\\Dokumente\\projects\\scp-act\\data_analysis\\notebooks\\..\\actionpy\\prepro\\prepro.py:23: RuntimeWarning: Online software filter detected. Using software filter settings and ignoring hardware values\n",
      "  raw = mne.io.read_raw_brainvision(pth, preload=True, verbose=verbose)\n",
      "c:\\Users\\lukas\\Dokumente\\projects\\scp-act\\data_analysis\\notebooks\\..\\actionpy\\prepro\\prepro.py:23: RuntimeWarning: Channels contain different highpass filters. Lowest (weakest) filter setting (0.00 Hz) will be stored.\n",
      "  raw = mne.io.read_raw_brainvision(pth, preload=True, verbose=verbose)\n",
      "c:\\Users\\lukas\\Dokumente\\projects\\scp-act\\data_analysis\\notebooks\\..\\actionpy\\prepro\\prepro.py:23: RuntimeWarning: Channels contain different lowpass filters. Highest (weakest) filter setting (500.00 Hz, Nyquist limit) will be stored.\n",
      "  raw = mne.io.read_raw_brainvision(pth, preload=True, verbose=verbose)\n"
     ]
    },
    {
     "output_type": "stream",
     "name": "stdout",
     "text": [
      "Used Annotations descriptions: ['New Segment/', 'Stimulus/S  2', 'Stimulus/S  4', 'Stimulus/S  6']\n"
     ]
    },
    {
     "output_type": "stream",
     "name": "stderr",
     "text": [
      "c:\\Users\\lukas\\Dokumente\\projects\\scp-act\\data_analysis\\notebooks\\..\\actionpy\\prepro\\prepro.py:124: RuntimeWarning: The unit for channel(s) VEOG has changed from C to V.\n",
      "  raw.set_channel_types(mapping)\n"
     ]
    },
    {
     "output_type": "stream",
     "name": "stdout",
     "text": [
      "Not setting metadata\n",
      "Not setting metadata\n",
      "1 matching events found\n",
      "No baseline correction applied\n",
      "0 projection items activated\n",
      "0 bad epochs dropped\n"
     ]
    },
    {
     "output_type": "stream",
     "name": "stderr",
     "text": [
      "[Parallel(n_jobs=8)]: Using backend LokyBackend with 8 concurrent workers.\n"
     ]
    },
    {
     "output_type": "stream",
     "name": "stdout",
     "text": [
      "Creating RawArray with float64 data, n_channels=1, n_times=42000\n"
     ]
    },
    {
     "output_type": "stream",
     "name": "stderr",
     "text": [
      "[Parallel(n_jobs=8)]: Done   1 tasks      | elapsed:    2.1s\n",
      "[Parallel(n_jobs=8)]: Done   1 out of   1 | elapsed:    2.1s finished\n",
      "C:\\Users\\lukas\\virtualenvs\\eegenv\\lib\\site-packages\\autoreject\\ransac.py:226: RuntimeWarning: No bad channels to interpolate. Doing nothing...\n",
      "  epochs.interpolate_bads(reset_bads=True)\n"
     ]
    },
    {
     "output_type": "stream",
     "name": "stdout",
     "text": [
      "    Range : 0 ... 41999 =      0.000 ...   419.990 secs\n",
      "Ready.\n"
     ]
    },
    {
     "output_type": "stream",
     "name": "stderr",
     "text": [
      "c:\\Users\\lukas\\Dokumente\\projects\\scp-act\\data_analysis\\notebooks\\..\\actionpy\\prepro\\prepro.py:147: DeprecationWarning: Version 0.23 introduced max_iter=\"auto\", setting max_iter=1000 for `fastica` and max_iter=500 for `infomax` and `picard`. The current default of max_iter=200 will be changed to \"auto\" in version 0.24.\n",
      "  ica = mne.preprocessing.ICA(n_components=n_components,\n"
     ]
    },
    {
     "output_type": "stream",
     "name": "stdout",
     "text": [
      "\t vol_01\n",
      "D:/data/scp-act/S01/S01_vol_01.vhdr\n"
     ]
    },
    {
     "output_type": "stream",
     "name": "stderr",
     "text": [
      "c:\\Users\\lukas\\Dokumente\\projects\\scp-act\\data_analysis\\notebooks\\..\\actionpy\\prepro\\prepro.py:23: RuntimeWarning: Online software filter detected. Using software filter settings and ignoring hardware values\n",
      "  raw = mne.io.read_raw_brainvision(pth, preload=True, verbose=verbose)\n",
      "c:\\Users\\lukas\\Dokumente\\projects\\scp-act\\data_analysis\\notebooks\\..\\actionpy\\prepro\\prepro.py:23: RuntimeWarning: Channels contain different highpass filters. Lowest (weakest) filter setting (0.00 Hz) will be stored.\n",
      "  raw = mne.io.read_raw_brainvision(pth, preload=True, verbose=verbose)\n",
      "c:\\Users\\lukas\\Dokumente\\projects\\scp-act\\data_analysis\\notebooks\\..\\actionpy\\prepro\\prepro.py:23: RuntimeWarning: Channels contain different lowpass filters. Highest (weakest) filter setting (500.00 Hz, Nyquist limit) will be stored.\n",
      "  raw = mne.io.read_raw_brainvision(pth, preload=True, verbose=verbose)\n"
     ]
    },
    {
     "output_type": "stream",
     "name": "stdout",
     "text": [
      "Used Annotations descriptions: ['New Segment/', 'Response/R  7', 'Response/R 15', 'Stimulus/S  2', 'Stimulus/S  4']\n"
     ]
    },
    {
     "output_type": "stream",
     "name": "stderr",
     "text": [
      "c:\\Users\\lukas\\Dokumente\\projects\\scp-act\\data_analysis\\notebooks\\..\\actionpy\\prepro\\prepro.py:124: RuntimeWarning: The unit for channel(s) VEOG has changed from C to V.\n",
      "  raw.set_channel_types(mapping)\n"
     ]
    },
    {
     "output_type": "stream",
     "name": "stdout",
     "text": [
      "Not setting metadata\n",
      "Not setting metadata\n",
      "1 matching events found\n",
      "No baseline correction applied\n",
      "0 projection items activated\n",
      "0 bad epochs dropped\n"
     ]
    },
    {
     "output_type": "stream",
     "name": "stderr",
     "text": [
      "[Parallel(n_jobs=8)]: Using backend LokyBackend with 8 concurrent workers.\n"
     ]
    },
    {
     "output_type": "stream",
     "name": "stdout",
     "text": [
      "Interpolating bad channels\n",
      "    Automatic origin fit: head of radius 92.0 mm\n",
      "Computing interpolation matrix from 28 sensor positions\n",
      "Interpolating 3 sensors\n",
      "Creating RawArray with float64 data, n_channels=1, n_times=42100\n"
     ]
    },
    {
     "output_type": "stream",
     "name": "stderr",
     "text": [
      "[Parallel(n_jobs=8)]: Done   1 tasks      | elapsed:    2.0s\n",
      "[Parallel(n_jobs=8)]: Done   1 out of   1 | elapsed:    2.0s finished\n"
     ]
    },
    {
     "output_type": "stream",
     "name": "stdout",
     "text": [
      "    Range : 0 ... 42099 =      0.000 ...   420.990 secs\n",
      "Ready.\n"
     ]
    },
    {
     "output_type": "stream",
     "name": "stderr",
     "text": [
      "c:\\Users\\lukas\\Dokumente\\projects\\scp-act\\data_analysis\\notebooks\\..\\actionpy\\prepro\\prepro.py:147: DeprecationWarning: Version 0.23 introduced max_iter=\"auto\", setting max_iter=1000 for `fastica` and max_iter=500 for `infomax` and `picard`. The current default of max_iter=200 will be changed to \"auto\" in version 0.24.\n",
      "  ica = mne.preprocessing.ICA(n_components=n_components,\n"
     ]
    },
    {
     "output_type": "stream",
     "name": "stdout",
     "text": [
      "\t vol_02\n",
      "D:/data/scp-act/S01/S01_vol_02.vhdr\n"
     ]
    },
    {
     "output_type": "stream",
     "name": "stderr",
     "text": [
      "c:\\Users\\lukas\\Dokumente\\projects\\scp-act\\data_analysis\\notebooks\\..\\actionpy\\prepro\\prepro.py:23: RuntimeWarning: Online software filter detected. Using software filter settings and ignoring hardware values\n",
      "  raw = mne.io.read_raw_brainvision(pth, preload=True, verbose=verbose)\n",
      "c:\\Users\\lukas\\Dokumente\\projects\\scp-act\\data_analysis\\notebooks\\..\\actionpy\\prepro\\prepro.py:23: RuntimeWarning: Channels contain different highpass filters. Lowest (weakest) filter setting (0.00 Hz) will be stored.\n",
      "  raw = mne.io.read_raw_brainvision(pth, preload=True, verbose=verbose)\n",
      "c:\\Users\\lukas\\Dokumente\\projects\\scp-act\\data_analysis\\notebooks\\..\\actionpy\\prepro\\prepro.py:23: RuntimeWarning: Channels contain different lowpass filters. Highest (weakest) filter setting (500.00 Hz, Nyquist limit) will be stored.\n",
      "  raw = mne.io.read_raw_brainvision(pth, preload=True, verbose=verbose)\n"
     ]
    },
    {
     "output_type": "stream",
     "name": "stdout",
     "text": [
      "Used Annotations descriptions: ['New Segment/', 'Response/R  7', 'Response/R 15', 'Stimulus/S  2', 'Stimulus/S  4']\n"
     ]
    },
    {
     "output_type": "stream",
     "name": "stderr",
     "text": [
      "c:\\Users\\lukas\\Dokumente\\projects\\scp-act\\data_analysis\\notebooks\\..\\actionpy\\prepro\\prepro.py:124: RuntimeWarning: The unit for channel(s) VEOG has changed from C to V.\n",
      "  raw.set_channel_types(mapping)\n"
     ]
    },
    {
     "output_type": "stream",
     "name": "stdout",
     "text": [
      "Not setting metadata\n",
      "Not setting metadata\n",
      "1 matching events found\n",
      "No baseline correction applied\n",
      "0 projection items activated\n",
      "0 bad epochs dropped\n"
     ]
    },
    {
     "output_type": "stream",
     "name": "stderr",
     "text": [
      "[Parallel(n_jobs=8)]: Using backend LokyBackend with 8 concurrent workers.\n"
     ]
    },
    {
     "output_type": "stream",
     "name": "stdout",
     "text": [
      "Creating RawArray with float64 data, n_channels=1, n_times=42101\n",
      "    Range : 0 ... 42100 =      0.000 ...   421.000 secs\n",
      "Ready.\n"
     ]
    },
    {
     "output_type": "stream",
     "name": "stderr",
     "text": [
      "[Parallel(n_jobs=8)]: Done   1 tasks      | elapsed:    1.9s\n",
      "[Parallel(n_jobs=8)]: Done   1 out of   1 | elapsed:    1.9s finished\n",
      "C:\\Users\\lukas\\virtualenvs\\eegenv\\lib\\site-packages\\autoreject\\ransac.py:226: RuntimeWarning: No bad channels to interpolate. Doing nothing...\n",
      "  epochs.interpolate_bads(reset_bads=True)\n",
      "c:\\Users\\lukas\\Dokumente\\projects\\scp-act\\data_analysis\\notebooks\\..\\actionpy\\prepro\\prepro.py:147: DeprecationWarning: Version 0.23 introduced max_iter=\"auto\", setting max_iter=1000 for `fastica` and max_iter=500 for `infomax` and `picard`. The current default of max_iter=200 will be changed to \"auto\" in version 0.24.\n",
      "  ica = mne.preprocessing.ICA(n_components=n_components,\n"
     ]
    },
    {
     "output_type": "stream",
     "name": "stdout",
     "text": [
      "S02\n",
      "\t rest_01\n",
      "D:/data/scp-act/S02/S02_rest_01.vhdr\n"
     ]
    },
    {
     "output_type": "stream",
     "name": "stderr",
     "text": [
      "c:\\Users\\lukas\\Dokumente\\projects\\scp-act\\data_analysis\\notebooks\\..\\actionpy\\prepro\\prepro.py:23: RuntimeWarning: Online software filter detected. Using software filter settings and ignoring hardware values\n",
      "  raw = mne.io.read_raw_brainvision(pth, preload=True, verbose=verbose)\n",
      "c:\\Users\\lukas\\Dokumente\\projects\\scp-act\\data_analysis\\notebooks\\..\\actionpy\\prepro\\prepro.py:23: RuntimeWarning: Channels contain different highpass filters. Lowest (weakest) filter setting (0.00 Hz) will be stored.\n",
      "  raw = mne.io.read_raw_brainvision(pth, preload=True, verbose=verbose)\n",
      "c:\\Users\\lukas\\Dokumente\\projects\\scp-act\\data_analysis\\notebooks\\..\\actionpy\\prepro\\prepro.py:23: RuntimeWarning: Channels contain different lowpass filters. Highest (weakest) filter setting (500.00 Hz, Nyquist limit) will be stored.\n",
      "  raw = mne.io.read_raw_brainvision(pth, preload=True, verbose=verbose)\n"
     ]
    },
    {
     "output_type": "stream",
     "name": "stdout",
     "text": [
      "Used Annotations descriptions: ['New Segment/', 'Stimulus/S  2', 'Stimulus/S  4']\n"
     ]
    },
    {
     "output_type": "stream",
     "name": "stderr",
     "text": [
      "c:\\Users\\lukas\\Dokumente\\projects\\scp-act\\data_analysis\\notebooks\\..\\actionpy\\prepro\\prepro.py:124: RuntimeWarning: The unit for channel(s) VEOG has changed from C to V.\n",
      "  raw.set_channel_types(mapping)\n"
     ]
    },
    {
     "output_type": "stream",
     "name": "stdout",
     "text": [
      "Not setting metadata\n",
      "Not setting metadata\n",
      "1 matching events found\n",
      "No baseline correction applied\n",
      "0 projection items activated\n",
      "0 bad epochs dropped\n"
     ]
    },
    {
     "output_type": "stream",
     "name": "stderr",
     "text": [
      "[Parallel(n_jobs=8)]: Using backend LokyBackend with 8 concurrent workers.\n"
     ]
    },
    {
     "output_type": "stream",
     "name": "stdout",
     "text": [
      "Interpolating bad channels\n",
      "    Automatic origin fit: head of radius 92.0 mm\n",
      "Computing interpolation matrix from 29 sensor positions\n",
      "Interpolating 2 sensors\n",
      "Creating RawArray with float64 data, n_channels=1, n_times=42101\n",
      "    Range : 0 ... 42100 =      0.000 ...   421.000 secs\n",
      "Ready.\n"
     ]
    },
    {
     "output_type": "stream",
     "name": "stderr",
     "text": [
      "[Parallel(n_jobs=8)]: Done   1 tasks      | elapsed:    1.9s\n",
      "[Parallel(n_jobs=8)]: Done   1 out of   1 | elapsed:    1.9s finished\n",
      "c:\\Users\\lukas\\Dokumente\\projects\\scp-act\\data_analysis\\notebooks\\..\\actionpy\\prepro\\prepro.py:147: DeprecationWarning: Version 0.23 introduced max_iter=\"auto\", setting max_iter=1000 for `fastica` and max_iter=500 for `infomax` and `picard`. The current default of max_iter=200 will be changed to \"auto\" in version 0.24.\n",
      "  ica = mne.preprocessing.ICA(n_components=n_components,\n"
     ]
    },
    {
     "output_type": "stream",
     "name": "stdout",
     "text": [
      "\t rest_02\n",
      "D:/data/scp-act/S02/S02_rest_02.vhdr\n"
     ]
    },
    {
     "output_type": "stream",
     "name": "stderr",
     "text": [
      "c:\\Users\\lukas\\Dokumente\\projects\\scp-act\\data_analysis\\notebooks\\..\\actionpy\\prepro\\prepro.py:23: RuntimeWarning: Online software filter detected. Using software filter settings and ignoring hardware values\n",
      "  raw = mne.io.read_raw_brainvision(pth, preload=True, verbose=verbose)\n",
      "c:\\Users\\lukas\\Dokumente\\projects\\scp-act\\data_analysis\\notebooks\\..\\actionpy\\prepro\\prepro.py:23: RuntimeWarning: Channels contain different highpass filters. Lowest (weakest) filter setting (0.00 Hz) will be stored.\n",
      "  raw = mne.io.read_raw_brainvision(pth, preload=True, verbose=verbose)\n",
      "c:\\Users\\lukas\\Dokumente\\projects\\scp-act\\data_analysis\\notebooks\\..\\actionpy\\prepro\\prepro.py:23: RuntimeWarning: Channels contain different lowpass filters. Highest (weakest) filter setting (500.00 Hz, Nyquist limit) will be stored.\n",
      "  raw = mne.io.read_raw_brainvision(pth, preload=True, verbose=verbose)\n"
     ]
    },
    {
     "output_type": "stream",
     "name": "stdout",
     "text": [
      "Used Annotations descriptions: ['New Segment/', 'Stimulus/S  2', 'Stimulus/S  4']\n"
     ]
    },
    {
     "output_type": "stream",
     "name": "stderr",
     "text": [
      "c:\\Users\\lukas\\Dokumente\\projects\\scp-act\\data_analysis\\notebooks\\..\\actionpy\\prepro\\prepro.py:124: RuntimeWarning: The unit for channel(s) VEOG has changed from C to V.\n",
      "  raw.set_channel_types(mapping)\n"
     ]
    },
    {
     "output_type": "stream",
     "name": "stdout",
     "text": [
      "Not setting metadata\n",
      "Not setting metadata\n",
      "1 matching events found\n",
      "No baseline correction applied\n",
      "0 projection items activated\n",
      "0 bad epochs dropped\n"
     ]
    },
    {
     "output_type": "stream",
     "name": "stderr",
     "text": [
      "[Parallel(n_jobs=8)]: Using backend LokyBackend with 8 concurrent workers.\n"
     ]
    },
    {
     "output_type": "stream",
     "name": "stdout",
     "text": [
      "Creating RawArray with float64 data, n_channels=1, n_times=42100\n",
      "    Range : 0 ... 42099 =      0.000 ...   420.990 secs\n",
      "Ready.\n"
     ]
    },
    {
     "output_type": "stream",
     "name": "stderr",
     "text": [
      "[Parallel(n_jobs=8)]: Done   1 tasks      | elapsed:    1.9s\n",
      "[Parallel(n_jobs=8)]: Done   1 out of   1 | elapsed:    1.9s finished\n",
      "C:\\Users\\lukas\\virtualenvs\\eegenv\\lib\\site-packages\\autoreject\\ransac.py:226: RuntimeWarning: No bad channels to interpolate. Doing nothing...\n",
      "  epochs.interpolate_bads(reset_bads=True)\n",
      "c:\\Users\\lukas\\Dokumente\\projects\\scp-act\\data_analysis\\notebooks\\..\\actionpy\\prepro\\prepro.py:147: DeprecationWarning: Version 0.23 introduced max_iter=\"auto\", setting max_iter=1000 for `fastica` and max_iter=500 for `infomax` and `picard`. The current default of max_iter=200 will be changed to \"auto\" in version 0.24.\n",
      "  ica = mne.preprocessing.ICA(n_components=n_components,\n"
     ]
    },
    {
     "output_type": "stream",
     "name": "stdout",
     "text": [
      "\t exp_01\n",
      "D:/data/scp-act/S02/S02_exp_01.vhdr\n"
     ]
    },
    {
     "output_type": "stream",
     "name": "stderr",
     "text": [
      "c:\\Users\\lukas\\Dokumente\\projects\\scp-act\\data_analysis\\notebooks\\..\\actionpy\\prepro\\prepro.py:23: RuntimeWarning: Online software filter detected. Using software filter settings and ignoring hardware values\n",
      "  raw = mne.io.read_raw_brainvision(pth, preload=True, verbose=verbose)\n",
      "c:\\Users\\lukas\\Dokumente\\projects\\scp-act\\data_analysis\\notebooks\\..\\actionpy\\prepro\\prepro.py:23: RuntimeWarning: Channels contain different highpass filters. Lowest (weakest) filter setting (0.00 Hz) will be stored.\n",
      "  raw = mne.io.read_raw_brainvision(pth, preload=True, verbose=verbose)\n",
      "c:\\Users\\lukas\\Dokumente\\projects\\scp-act\\data_analysis\\notebooks\\..\\actionpy\\prepro\\prepro.py:23: RuntimeWarning: Channels contain different lowpass filters. Highest (weakest) filter setting (500.00 Hz, Nyquist limit) will be stored.\n",
      "  raw = mne.io.read_raw_brainvision(pth, preload=True, verbose=verbose)\n"
     ]
    },
    {
     "output_type": "stream",
     "name": "stdout",
     "text": [
      "Used Annotations descriptions: ['New Segment/', 'Response/R  7', 'Response/R 15', 'Stimulus/S  2', 'Stimulus/S  4', 'Stimulus/S  6']\n"
     ]
    },
    {
     "output_type": "stream",
     "name": "stderr",
     "text": [
      "c:\\Users\\lukas\\Dokumente\\projects\\scp-act\\data_analysis\\notebooks\\..\\actionpy\\prepro\\prepro.py:124: RuntimeWarning: The unit for channel(s) VEOG has changed from C to V.\n",
      "  raw.set_channel_types(mapping)\n"
     ]
    },
    {
     "output_type": "stream",
     "name": "stdout",
     "text": [
      "Not setting metadata\n",
      "Not setting metadata\n",
      "1 matching events found\n",
      "No baseline correction applied\n",
      "0 projection items activated\n",
      "0 bad epochs dropped\n"
     ]
    },
    {
     "output_type": "stream",
     "name": "stderr",
     "text": [
      "[Parallel(n_jobs=8)]: Using backend LokyBackend with 8 concurrent workers.\n"
     ]
    },
    {
     "output_type": "stream",
     "name": "stdout",
     "text": [
      "Interpolating bad channels\n",
      "    Automatic origin fit: head of radius 92.0 mm\n",
      "Computing interpolation matrix from 30 sensor positions\n",
      "Interpolating 1 sensors\n",
      "Creating RawArray with float64 data, n_channels=1, n_times=42101\n",
      "    Range : 0 ... 42100 =      0.000 ...   421.000 secs\n",
      "Ready.\n"
     ]
    },
    {
     "output_type": "stream",
     "name": "stderr",
     "text": [
      "[Parallel(n_jobs=8)]: Done   1 tasks      | elapsed:    1.9s\n",
      "[Parallel(n_jobs=8)]: Done   1 out of   1 | elapsed:    1.9s finished\n",
      "c:\\Users\\lukas\\Dokumente\\projects\\scp-act\\data_analysis\\notebooks\\..\\actionpy\\prepro\\prepro.py:147: DeprecationWarning: Version 0.23 introduced max_iter=\"auto\", setting max_iter=1000 for `fastica` and max_iter=500 for `infomax` and `picard`. The current default of max_iter=200 will be changed to \"auto\" in version 0.24.\n",
      "  ica = mne.preprocessing.ICA(n_components=n_components,\n"
     ]
    },
    {
     "output_type": "stream",
     "name": "stdout",
     "text": [
      "\t drmt_01\n",
      "D:/data/scp-act/S02/S02_drmt_01.vhdr\n"
     ]
    },
    {
     "output_type": "stream",
     "name": "stderr",
     "text": [
      "c:\\Users\\lukas\\Dokumente\\projects\\scp-act\\data_analysis\\notebooks\\..\\actionpy\\prepro\\prepro.py:23: RuntimeWarning: Online software filter detected. Using software filter settings and ignoring hardware values\n",
      "  raw = mne.io.read_raw_brainvision(pth, preload=True, verbose=verbose)\n",
      "c:\\Users\\lukas\\Dokumente\\projects\\scp-act\\data_analysis\\notebooks\\..\\actionpy\\prepro\\prepro.py:23: RuntimeWarning: Channels contain different highpass filters. Lowest (weakest) filter setting (0.00 Hz) will be stored.\n",
      "  raw = mne.io.read_raw_brainvision(pth, preload=True, verbose=verbose)\n",
      "c:\\Users\\lukas\\Dokumente\\projects\\scp-act\\data_analysis\\notebooks\\..\\actionpy\\prepro\\prepro.py:23: RuntimeWarning: Channels contain different lowpass filters. Highest (weakest) filter setting (500.00 Hz, Nyquist limit) will be stored.\n",
      "  raw = mne.io.read_raw_brainvision(pth, preload=True, verbose=verbose)\n"
     ]
    },
    {
     "output_type": "stream",
     "name": "stdout",
     "text": [
      "Used Annotations descriptions: ['New Segment/', 'Stimulus/S  2', 'Stimulus/S  4']\n"
     ]
    },
    {
     "output_type": "stream",
     "name": "stderr",
     "text": [
      "c:\\Users\\lukas\\Dokumente\\projects\\scp-act\\data_analysis\\notebooks\\..\\actionpy\\prepro\\prepro.py:124: RuntimeWarning: The unit for channel(s) VEOG has changed from C to V.\n",
      "  raw.set_channel_types(mapping)\n"
     ]
    },
    {
     "output_type": "stream",
     "name": "stdout",
     "text": [
      "Not setting metadata\n",
      "Not setting metadata\n",
      "1 matching events found\n",
      "No baseline correction applied\n",
      "0 projection items activated\n",
      "0 bad epochs dropped\n"
     ]
    },
    {
     "output_type": "stream",
     "name": "stderr",
     "text": [
      "[Parallel(n_jobs=8)]: Using backend LokyBackend with 8 concurrent workers.\n"
     ]
    },
    {
     "output_type": "stream",
     "name": "stdout",
     "text": [
      "Creating RawArray with float64 data, n_channels=1, n_times=42000\n",
      "    Range : 0 ... 41999 =      0.000 ...   419.990 secs\n",
      "Ready.\n"
     ]
    },
    {
     "output_type": "stream",
     "name": "stderr",
     "text": [
      "[Parallel(n_jobs=8)]: Done   1 tasks      | elapsed:    1.9s\n",
      "[Parallel(n_jobs=8)]: Done   1 out of   1 | elapsed:    1.9s finished\n",
      "C:\\Users\\lukas\\virtualenvs\\eegenv\\lib\\site-packages\\autoreject\\ransac.py:226: RuntimeWarning: No bad channels to interpolate. Doing nothing...\n",
      "  epochs.interpolate_bads(reset_bads=True)\n",
      "c:\\Users\\lukas\\Dokumente\\projects\\scp-act\\data_analysis\\notebooks\\..\\actionpy\\prepro\\prepro.py:147: DeprecationWarning: Version 0.23 introduced max_iter=\"auto\", setting max_iter=1000 for `fastica` and max_iter=500 for `infomax` and `picard`. The current default of max_iter=200 will be changed to \"auto\" in version 0.24.\n",
      "  ica = mne.preprocessing.ICA(n_components=n_components,\n"
     ]
    },
    {
     "output_type": "stream",
     "name": "stdout",
     "text": [
      "\t drmt_02\n",
      "D:/data/scp-act/S02/S02_drmt_02.vhdr\n"
     ]
    },
    {
     "output_type": "stream",
     "name": "stderr",
     "text": [
      "c:\\Users\\lukas\\Dokumente\\projects\\scp-act\\data_analysis\\notebooks\\..\\actionpy\\prepro\\prepro.py:23: RuntimeWarning: Online software filter detected. Using software filter settings and ignoring hardware values\n",
      "  raw = mne.io.read_raw_brainvision(pth, preload=True, verbose=verbose)\n",
      "c:\\Users\\lukas\\Dokumente\\projects\\scp-act\\data_analysis\\notebooks\\..\\actionpy\\prepro\\prepro.py:23: RuntimeWarning: Channels contain different highpass filters. Lowest (weakest) filter setting (0.00 Hz) will be stored.\n",
      "  raw = mne.io.read_raw_brainvision(pth, preload=True, verbose=verbose)\n",
      "c:\\Users\\lukas\\Dokumente\\projects\\scp-act\\data_analysis\\notebooks\\..\\actionpy\\prepro\\prepro.py:23: RuntimeWarning: Channels contain different lowpass filters. Highest (weakest) filter setting (500.00 Hz, Nyquist limit) will be stored.\n",
      "  raw = mne.io.read_raw_brainvision(pth, preload=True, verbose=verbose)\n"
     ]
    },
    {
     "output_type": "stream",
     "name": "stdout",
     "text": [
      "Used Annotations descriptions: ['New Segment/', 'Stimulus/S  2', 'Stimulus/S  4']\n"
     ]
    },
    {
     "output_type": "stream",
     "name": "stderr",
     "text": [
      "c:\\Users\\lukas\\Dokumente\\projects\\scp-act\\data_analysis\\notebooks\\..\\actionpy\\prepro\\prepro.py:124: RuntimeWarning: The unit for channel(s) VEOG has changed from C to V.\n",
      "  raw.set_channel_types(mapping)\n"
     ]
    },
    {
     "output_type": "stream",
     "name": "stdout",
     "text": [
      "Not setting metadata\n",
      "Not setting metadata\n",
      "1 matching events found\n",
      "No baseline correction applied\n",
      "0 projection items activated\n",
      "0 bad epochs dropped\n"
     ]
    },
    {
     "output_type": "stream",
     "name": "stderr",
     "text": [
      "[Parallel(n_jobs=8)]: Using backend LokyBackend with 8 concurrent workers.\n"
     ]
    },
    {
     "output_type": "stream",
     "name": "stdout",
     "text": [
      "Creating RawArray with float64 data, n_channels=1, n_times=42000\n",
      "    Range : 0 ... 41999 =      0.000 ...   419.990 secs\n",
      "Ready.\n"
     ]
    },
    {
     "output_type": "stream",
     "name": "stderr",
     "text": [
      "[Parallel(n_jobs=8)]: Done   1 tasks      | elapsed:    1.9s\n",
      "[Parallel(n_jobs=8)]: Done   1 out of   1 | elapsed:    1.9s finished\n",
      "C:\\Users\\lukas\\virtualenvs\\eegenv\\lib\\site-packages\\autoreject\\ransac.py:226: RuntimeWarning: No bad channels to interpolate. Doing nothing...\n",
      "  epochs.interpolate_bads(reset_bads=True)\n",
      "c:\\Users\\lukas\\Dokumente\\projects\\scp-act\\data_analysis\\notebooks\\..\\actionpy\\prepro\\prepro.py:147: DeprecationWarning: Version 0.23 introduced max_iter=\"auto\", setting max_iter=1000 for `fastica` and max_iter=500 for `infomax` and `picard`. The current default of max_iter=200 will be changed to \"auto\" in version 0.24.\n",
      "  ica = mne.preprocessing.ICA(n_components=n_components,\n"
     ]
    },
    {
     "output_type": "stream",
     "name": "stdout",
     "text": [
      "\t vol_01\n",
      "D:/data/scp-act/S02/S02_vol_01.vhdr\n",
      "Used Annotations descriptions: ['New Segment/', 'Response/R  7', 'Response/R 15', 'Stimulus/S  2', 'Stimulus/S  4']\n"
     ]
    },
    {
     "output_type": "stream",
     "name": "stderr",
     "text": [
      "c:\\Users\\lukas\\Dokumente\\projects\\scp-act\\data_analysis\\notebooks\\..\\actionpy\\prepro\\prepro.py:23: RuntimeWarning: Online software filter detected. Using software filter settings and ignoring hardware values\n",
      "  raw = mne.io.read_raw_brainvision(pth, preload=True, verbose=verbose)\n",
      "c:\\Users\\lukas\\Dokumente\\projects\\scp-act\\data_analysis\\notebooks\\..\\actionpy\\prepro\\prepro.py:23: RuntimeWarning: Channels contain different highpass filters. Lowest (weakest) filter setting (0.00 Hz) will be stored.\n",
      "  raw = mne.io.read_raw_brainvision(pth, preload=True, verbose=verbose)\n",
      "c:\\Users\\lukas\\Dokumente\\projects\\scp-act\\data_analysis\\notebooks\\..\\actionpy\\prepro\\prepro.py:23: RuntimeWarning: Channels contain different lowpass filters. Highest (weakest) filter setting (500.00 Hz, Nyquist limit) will be stored.\n",
      "  raw = mne.io.read_raw_brainvision(pth, preload=True, verbose=verbose)\n",
      "c:\\Users\\lukas\\Dokumente\\projects\\scp-act\\data_analysis\\notebooks\\..\\actionpy\\prepro\\prepro.py:124: RuntimeWarning: The unit for channel(s) VEOG has changed from C to V.\n",
      "  raw.set_channel_types(mapping)\n"
     ]
    },
    {
     "output_type": "stream",
     "name": "stdout",
     "text": [
      "Not setting metadata\n",
      "Not setting metadata\n",
      "1 matching events found\n",
      "No baseline correction applied\n",
      "0 projection items activated\n",
      "0 bad epochs dropped\n"
     ]
    },
    {
     "output_type": "stream",
     "name": "stderr",
     "text": [
      "[Parallel(n_jobs=8)]: Using backend LokyBackend with 8 concurrent workers.\n"
     ]
    },
    {
     "output_type": "stream",
     "name": "stdout",
     "text": [
      "Interpolating bad channels\n",
      "    Automatic origin fit: head of radius 92.0 mm\n",
      "Computing interpolation matrix from 30 sensor positions\n",
      "Interpolating 1 sensors\n",
      "Creating RawArray with float64 data, n_channels=1, n_times=42100\n"
     ]
    },
    {
     "output_type": "stream",
     "name": "stderr",
     "text": [
      "[Parallel(n_jobs=8)]: Done   1 tasks      | elapsed:    2.0s\n",
      "[Parallel(n_jobs=8)]: Done   1 out of   1 | elapsed:    2.0s finished\n"
     ]
    },
    {
     "output_type": "stream",
     "name": "stdout",
     "text": [
      "    Range : 0 ... 42099 =      0.000 ...   420.990 secs\n",
      "Ready.\n"
     ]
    },
    {
     "output_type": "stream",
     "name": "stderr",
     "text": [
      "c:\\Users\\lukas\\Dokumente\\projects\\scp-act\\data_analysis\\notebooks\\..\\actionpy\\prepro\\prepro.py:147: DeprecationWarning: Version 0.23 introduced max_iter=\"auto\", setting max_iter=1000 for `fastica` and max_iter=500 for `infomax` and `picard`. The current default of max_iter=200 will be changed to \"auto\" in version 0.24.\n",
      "  ica = mne.preprocessing.ICA(n_components=n_components,\n"
     ]
    },
    {
     "output_type": "stream",
     "name": "stdout",
     "text": [
      "\t vol_02\n",
      "D:/data/scp-act/S02/S02_vol_02.vhdr\n",
      "Used Annotations descriptions: ['New Segment/', 'Response/R  7', 'Response/R 15', 'Stimulus/S  2', 'Stimulus/S  4']\n"
     ]
    },
    {
     "output_type": "stream",
     "name": "stderr",
     "text": [
      "c:\\Users\\lukas\\Dokumente\\projects\\scp-act\\data_analysis\\notebooks\\..\\actionpy\\prepro\\prepro.py:23: RuntimeWarning: Online software filter detected. Using software filter settings and ignoring hardware values\n",
      "  raw = mne.io.read_raw_brainvision(pth, preload=True, verbose=verbose)\n",
      "c:\\Users\\lukas\\Dokumente\\projects\\scp-act\\data_analysis\\notebooks\\..\\actionpy\\prepro\\prepro.py:23: RuntimeWarning: Channels contain different highpass filters. Lowest (weakest) filter setting (0.00 Hz) will be stored.\n",
      "  raw = mne.io.read_raw_brainvision(pth, preload=True, verbose=verbose)\n",
      "c:\\Users\\lukas\\Dokumente\\projects\\scp-act\\data_analysis\\notebooks\\..\\actionpy\\prepro\\prepro.py:23: RuntimeWarning: Channels contain different lowpass filters. Highest (weakest) filter setting (500.00 Hz, Nyquist limit) will be stored.\n",
      "  raw = mne.io.read_raw_brainvision(pth, preload=True, verbose=verbose)\n",
      "c:\\Users\\lukas\\Dokumente\\projects\\scp-act\\data_analysis\\notebooks\\..\\actionpy\\prepro\\prepro.py:124: RuntimeWarning: The unit for channel(s) VEOG has changed from C to V.\n",
      "  raw.set_channel_types(mapping)\n"
     ]
    },
    {
     "output_type": "stream",
     "name": "stdout",
     "text": [
      "Not setting metadata\n",
      "Not setting metadata\n",
      "1 matching events found\n",
      "No baseline correction applied\n",
      "0 projection items activated\n",
      "0 bad epochs dropped\n"
     ]
    },
    {
     "output_type": "stream",
     "name": "stderr",
     "text": [
      "[Parallel(n_jobs=8)]: Using backend LokyBackend with 8 concurrent workers.\n"
     ]
    },
    {
     "output_type": "stream",
     "name": "stdout",
     "text": [
      "Interpolating bad channels\n",
      "    Automatic origin fit: head of radius 92.0 mm\n",
      "Computing interpolation matrix from 30 sensor positions\n",
      "Interpolating 1 sensors\n",
      "Creating RawArray with float64 data, n_channels=1, n_times=42101\n",
      "    Range : 0 ... 42100 =      0.000 ...   421.000 secs\n",
      "Ready.\n"
     ]
    },
    {
     "output_type": "stream",
     "name": "stderr",
     "text": [
      "[Parallel(n_jobs=8)]: Done   1 tasks      | elapsed:    1.9s\n",
      "[Parallel(n_jobs=8)]: Done   1 out of   1 | elapsed:    1.9s finished\n",
      "c:\\Users\\lukas\\Dokumente\\projects\\scp-act\\data_analysis\\notebooks\\..\\actionpy\\prepro\\prepro.py:147: DeprecationWarning: Version 0.23 introduced max_iter=\"auto\", setting max_iter=1000 for `fastica` and max_iter=500 for `infomax` and `picard`. The current default of max_iter=200 will be changed to \"auto\" in version 0.24.\n",
      "  ica = mne.preprocessing.ICA(n_components=n_components,\n"
     ]
    },
    {
     "output_type": "stream",
     "name": "stdout",
     "text": [
      "S03\n",
      "\t rest_01\n",
      "D:/data/scp-act/S03/S03_rest_01.vhdr\n"
     ]
    },
    {
     "output_type": "stream",
     "name": "stderr",
     "text": [
      "c:\\Users\\lukas\\Dokumente\\projects\\scp-act\\data_analysis\\notebooks\\..\\actionpy\\prepro\\prepro.py:23: RuntimeWarning: Online software filter detected. Using software filter settings and ignoring hardware values\n",
      "  raw = mne.io.read_raw_brainvision(pth, preload=True, verbose=verbose)\n",
      "c:\\Users\\lukas\\Dokumente\\projects\\scp-act\\data_analysis\\notebooks\\..\\actionpy\\prepro\\prepro.py:23: RuntimeWarning: Channels contain different highpass filters. Lowest (weakest) filter setting (0.00 Hz) will be stored.\n",
      "  raw = mne.io.read_raw_brainvision(pth, preload=True, verbose=verbose)\n",
      "c:\\Users\\lukas\\Dokumente\\projects\\scp-act\\data_analysis\\notebooks\\..\\actionpy\\prepro\\prepro.py:23: RuntimeWarning: Channels contain different lowpass filters. Highest (weakest) filter setting (500.00 Hz, Nyquist limit) will be stored.\n",
      "  raw = mne.io.read_raw_brainvision(pth, preload=True, verbose=verbose)\n"
     ]
    },
    {
     "output_type": "stream",
     "name": "stdout",
     "text": [
      "Used Annotations descriptions: ['New Segment/', 'Stimulus/S  2', 'Stimulus/S  4']\n"
     ]
    },
    {
     "output_type": "stream",
     "name": "stderr",
     "text": [
      "c:\\Users\\lukas\\Dokumente\\projects\\scp-act\\data_analysis\\notebooks\\..\\actionpy\\prepro\\prepro.py:124: RuntimeWarning: The unit for channel(s) VEOG has changed from C to V.\n",
      "  raw.set_channel_types(mapping)\n"
     ]
    },
    {
     "output_type": "stream",
     "name": "stdout",
     "text": [
      "Not setting metadata\n",
      "Not setting metadata\n",
      "1 matching events found\n",
      "No baseline correction applied\n",
      "0 projection items activated\n",
      "0 bad epochs dropped\n"
     ]
    },
    {
     "output_type": "stream",
     "name": "stderr",
     "text": [
      "[Parallel(n_jobs=8)]: Using backend LokyBackend with 8 concurrent workers.\n"
     ]
    },
    {
     "output_type": "stream",
     "name": "stdout",
     "text": [
      "Creating RawArray with float64 data, n_channels=1, n_times=42100\n",
      "    Range : 0 ... 42099 =      0.000 ...   420.990 secs\n",
      "Ready.\n"
     ]
    },
    {
     "output_type": "stream",
     "name": "stderr",
     "text": [
      "[Parallel(n_jobs=8)]: Done   1 tasks      | elapsed:    1.9s\n",
      "[Parallel(n_jobs=8)]: Done   1 out of   1 | elapsed:    2.0s finished\n",
      "C:\\Users\\lukas\\virtualenvs\\eegenv\\lib\\site-packages\\autoreject\\ransac.py:226: RuntimeWarning: No bad channels to interpolate. Doing nothing...\n",
      "  epochs.interpolate_bads(reset_bads=True)\n",
      "c:\\Users\\lukas\\Dokumente\\projects\\scp-act\\data_analysis\\notebooks\\..\\actionpy\\prepro\\prepro.py:147: DeprecationWarning: Version 0.23 introduced max_iter=\"auto\", setting max_iter=1000 for `fastica` and max_iter=500 for `infomax` and `picard`. The current default of max_iter=200 will be changed to \"auto\" in version 0.24.\n",
      "  ica = mne.preprocessing.ICA(n_components=n_components,\n"
     ]
    },
    {
     "output_type": "stream",
     "name": "stdout",
     "text": [
      "\t rest_02\n",
      "D:/data/scp-act/S03/S03_rest_02.vhdr\n",
      "Used Annotations descriptions: ['New Segment/', 'Stimulus/S  2', 'Stimulus/S  4']\n"
     ]
    },
    {
     "output_type": "stream",
     "name": "stderr",
     "text": [
      "c:\\Users\\lukas\\Dokumente\\projects\\scp-act\\data_analysis\\notebooks\\..\\actionpy\\prepro\\prepro.py:23: RuntimeWarning: Online software filter detected. Using software filter settings and ignoring hardware values\n",
      "  raw = mne.io.read_raw_brainvision(pth, preload=True, verbose=verbose)\n",
      "c:\\Users\\lukas\\Dokumente\\projects\\scp-act\\data_analysis\\notebooks\\..\\actionpy\\prepro\\prepro.py:23: RuntimeWarning: Channels contain different highpass filters. Lowest (weakest) filter setting (0.00 Hz) will be stored.\n",
      "  raw = mne.io.read_raw_brainvision(pth, preload=True, verbose=verbose)\n",
      "c:\\Users\\lukas\\Dokumente\\projects\\scp-act\\data_analysis\\notebooks\\..\\actionpy\\prepro\\prepro.py:23: RuntimeWarning: Channels contain different lowpass filters. Highest (weakest) filter setting (500.00 Hz, Nyquist limit) will be stored.\n",
      "  raw = mne.io.read_raw_brainvision(pth, preload=True, verbose=verbose)\n",
      "c:\\Users\\lukas\\Dokumente\\projects\\scp-act\\data_analysis\\notebooks\\..\\actionpy\\prepro\\prepro.py:124: RuntimeWarning: The unit for channel(s) VEOG has changed from C to V.\n",
      "  raw.set_channel_types(mapping)\n"
     ]
    },
    {
     "output_type": "stream",
     "name": "stdout",
     "text": [
      "Not setting metadata\n",
      "Not setting metadata\n",
      "1 matching events found\n",
      "No baseline correction applied\n",
      "0 projection items activated\n",
      "0 bad epochs dropped\n"
     ]
    },
    {
     "output_type": "stream",
     "name": "stderr",
     "text": [
      "[Parallel(n_jobs=8)]: Using backend LokyBackend with 8 concurrent workers.\n"
     ]
    },
    {
     "output_type": "stream",
     "name": "stdout",
     "text": [
      "Creating RawArray with float64 data, n_channels=1, n_times=42101\n",
      "    Range : 0 ... 42100 =      0.000 ...   421.000 secs\n",
      "Ready.\n"
     ]
    },
    {
     "output_type": "stream",
     "name": "stderr",
     "text": [
      "[Parallel(n_jobs=8)]: Done   1 tasks      | elapsed:    1.9s\n",
      "[Parallel(n_jobs=8)]: Done   1 out of   1 | elapsed:    1.9s finished\n",
      "C:\\Users\\lukas\\virtualenvs\\eegenv\\lib\\site-packages\\autoreject\\ransac.py:226: RuntimeWarning: No bad channels to interpolate. Doing nothing...\n",
      "  epochs.interpolate_bads(reset_bads=True)\n",
      "c:\\Users\\lukas\\Dokumente\\projects\\scp-act\\data_analysis\\notebooks\\..\\actionpy\\prepro\\prepro.py:147: DeprecationWarning: Version 0.23 introduced max_iter=\"auto\", setting max_iter=1000 for `fastica` and max_iter=500 for `infomax` and `picard`. The current default of max_iter=200 will be changed to \"auto\" in version 0.24.\n",
      "  ica = mne.preprocessing.ICA(n_components=n_components,\n"
     ]
    },
    {
     "output_type": "stream",
     "name": "stdout",
     "text": [
      "\t exp_01\n",
      "D:/data/scp-act/S03/S03_exp_01.vhdr\n",
      "Used Annotations descriptions: ['New Segment/', 'Response/R  7', 'Response/R 15', 'Stimulus/S  2', 'Stimulus/S  4', 'Stimulus/S  6']\n"
     ]
    },
    {
     "output_type": "stream",
     "name": "stderr",
     "text": [
      "c:\\Users\\lukas\\Dokumente\\projects\\scp-act\\data_analysis\\notebooks\\..\\actionpy\\prepro\\prepro.py:23: RuntimeWarning: Online software filter detected. Using software filter settings and ignoring hardware values\n",
      "  raw = mne.io.read_raw_brainvision(pth, preload=True, verbose=verbose)\n",
      "c:\\Users\\lukas\\Dokumente\\projects\\scp-act\\data_analysis\\notebooks\\..\\actionpy\\prepro\\prepro.py:23: RuntimeWarning: Channels contain different highpass filters. Lowest (weakest) filter setting (0.00 Hz) will be stored.\n",
      "  raw = mne.io.read_raw_brainvision(pth, preload=True, verbose=verbose)\n",
      "c:\\Users\\lukas\\Dokumente\\projects\\scp-act\\data_analysis\\notebooks\\..\\actionpy\\prepro\\prepro.py:23: RuntimeWarning: Channels contain different lowpass filters. Highest (weakest) filter setting (500.00 Hz, Nyquist limit) will be stored.\n",
      "  raw = mne.io.read_raw_brainvision(pth, preload=True, verbose=verbose)\n",
      "c:\\Users\\lukas\\Dokumente\\projects\\scp-act\\data_analysis\\notebooks\\..\\actionpy\\prepro\\prepro.py:124: RuntimeWarning: The unit for channel(s) VEOG has changed from C to V.\n",
      "  raw.set_channel_types(mapping)\n"
     ]
    },
    {
     "output_type": "stream",
     "name": "stdout",
     "text": [
      "Not setting metadata\n",
      "Not setting metadata\n",
      "1 matching events found\n",
      "No baseline correction applied\n",
      "0 projection items activated\n",
      "0 bad epochs dropped\n"
     ]
    },
    {
     "output_type": "stream",
     "name": "stderr",
     "text": [
      "[Parallel(n_jobs=8)]: Using backend LokyBackend with 8 concurrent workers.\n"
     ]
    },
    {
     "output_type": "stream",
     "name": "stdout",
     "text": [
      "Interpolating bad channels\n",
      "    Automatic origin fit: head of radius 92.0 mm\n",
      "Computing interpolation matrix from 30 sensor positions\n",
      "Interpolating 1 sensors\n",
      "Creating RawArray with float64 data, n_channels=1, n_times=42102\n",
      "    Range : 0 ... 42101 =      0.000 ...   421.010 secs\n",
      "Ready.\n"
     ]
    },
    {
     "output_type": "stream",
     "name": "stderr",
     "text": [
      "[Parallel(n_jobs=8)]: Done   1 tasks      | elapsed:    1.9s\n",
      "[Parallel(n_jobs=8)]: Done   1 out of   1 | elapsed:    1.9s finished\n",
      "c:\\Users\\lukas\\Dokumente\\projects\\scp-act\\data_analysis\\notebooks\\..\\actionpy\\prepro\\prepro.py:147: DeprecationWarning: Version 0.23 introduced max_iter=\"auto\", setting max_iter=1000 for `fastica` and max_iter=500 for `infomax` and `picard`. The current default of max_iter=200 will be changed to \"auto\" in version 0.24.\n",
      "  ica = mne.preprocessing.ICA(n_components=n_components,\n"
     ]
    },
    {
     "output_type": "stream",
     "name": "stdout",
     "text": [
      "\t drmt_01\n",
      "D:/data/scp-act/S03/S03_drmt_01.vhdr\n"
     ]
    },
    {
     "output_type": "stream",
     "name": "stderr",
     "text": [
      "c:\\Users\\lukas\\Dokumente\\projects\\scp-act\\data_analysis\\notebooks\\..\\actionpy\\prepro\\prepro.py:23: RuntimeWarning: Online software filter detected. Using software filter settings and ignoring hardware values\n",
      "  raw = mne.io.read_raw_brainvision(pth, preload=True, verbose=verbose)\n",
      "c:\\Users\\lukas\\Dokumente\\projects\\scp-act\\data_analysis\\notebooks\\..\\actionpy\\prepro\\prepro.py:23: RuntimeWarning: Channels contain different highpass filters. Lowest (weakest) filter setting (0.00 Hz) will be stored.\n",
      "  raw = mne.io.read_raw_brainvision(pth, preload=True, verbose=verbose)\n",
      "c:\\Users\\lukas\\Dokumente\\projects\\scp-act\\data_analysis\\notebooks\\..\\actionpy\\prepro\\prepro.py:23: RuntimeWarning: Channels contain different lowpass filters. Highest (weakest) filter setting (500.00 Hz, Nyquist limit) will be stored.\n",
      "  raw = mne.io.read_raw_brainvision(pth, preload=True, verbose=verbose)\n"
     ]
    },
    {
     "output_type": "stream",
     "name": "stdout",
     "text": [
      "Used Annotations descriptions: ['New Segment/', 'Stimulus/S  2', 'Stimulus/S  4']\n"
     ]
    },
    {
     "output_type": "stream",
     "name": "stderr",
     "text": [
      "c:\\Users\\lukas\\Dokumente\\projects\\scp-act\\data_analysis\\notebooks\\..\\actionpy\\prepro\\prepro.py:124: RuntimeWarning: The unit for channel(s) VEOG has changed from C to V.\n",
      "  raw.set_channel_types(mapping)\n"
     ]
    },
    {
     "output_type": "stream",
     "name": "stdout",
     "text": [
      "Not setting metadata\n",
      "Not setting metadata\n",
      "1 matching events found\n",
      "No baseline correction applied\n",
      "0 projection items activated\n",
      "0 bad epochs dropped\n"
     ]
    },
    {
     "output_type": "stream",
     "name": "stderr",
     "text": [
      "[Parallel(n_jobs=8)]: Using backend LokyBackend with 8 concurrent workers.\n"
     ]
    },
    {
     "output_type": "stream",
     "name": "stdout",
     "text": [
      "Creating RawArray with float64 data, n_channels=1, n_times=42000\n",
      "    Range : 0 ... 41999 =      0.000 ...   419.990 secs\n",
      "Ready.\n"
     ]
    },
    {
     "output_type": "stream",
     "name": "stderr",
     "text": [
      "[Parallel(n_jobs=8)]: Done   1 tasks      | elapsed:    1.9s\n",
      "[Parallel(n_jobs=8)]: Done   1 out of   1 | elapsed:    1.9s finished\n",
      "C:\\Users\\lukas\\virtualenvs\\eegenv\\lib\\site-packages\\autoreject\\ransac.py:226: RuntimeWarning: No bad channels to interpolate. Doing nothing...\n",
      "  epochs.interpolate_bads(reset_bads=True)\n",
      "c:\\Users\\lukas\\Dokumente\\projects\\scp-act\\data_analysis\\notebooks\\..\\actionpy\\prepro\\prepro.py:147: DeprecationWarning: Version 0.23 introduced max_iter=\"auto\", setting max_iter=1000 for `fastica` and max_iter=500 for `infomax` and `picard`. The current default of max_iter=200 will be changed to \"auto\" in version 0.24.\n",
      "  ica = mne.preprocessing.ICA(n_components=n_components,\n"
     ]
    },
    {
     "output_type": "stream",
     "name": "stdout",
     "text": [
      "\t drmt_02\n",
      "D:/data/scp-act/S03/S03_drmt_02.vhdr\n"
     ]
    },
    {
     "output_type": "stream",
     "name": "stderr",
     "text": [
      "c:\\Users\\lukas\\Dokumente\\projects\\scp-act\\data_analysis\\notebooks\\..\\actionpy\\prepro\\prepro.py:23: RuntimeWarning: Online software filter detected. Using software filter settings and ignoring hardware values\n",
      "  raw = mne.io.read_raw_brainvision(pth, preload=True, verbose=verbose)\n",
      "c:\\Users\\lukas\\Dokumente\\projects\\scp-act\\data_analysis\\notebooks\\..\\actionpy\\prepro\\prepro.py:23: RuntimeWarning: Channels contain different highpass filters. Lowest (weakest) filter setting (0.00 Hz) will be stored.\n",
      "  raw = mne.io.read_raw_brainvision(pth, preload=True, verbose=verbose)\n",
      "c:\\Users\\lukas\\Dokumente\\projects\\scp-act\\data_analysis\\notebooks\\..\\actionpy\\prepro\\prepro.py:23: RuntimeWarning: Channels contain different lowpass filters. Highest (weakest) filter setting (500.00 Hz, Nyquist limit) will be stored.\n",
      "  raw = mne.io.read_raw_brainvision(pth, preload=True, verbose=verbose)\n"
     ]
    },
    {
     "output_type": "stream",
     "name": "stdout",
     "text": [
      "Used Annotations descriptions: ['New Segment/', 'Stimulus/S  2', 'Stimulus/S  4']\n"
     ]
    },
    {
     "output_type": "stream",
     "name": "stderr",
     "text": [
      "c:\\Users\\lukas\\Dokumente\\projects\\scp-act\\data_analysis\\notebooks\\..\\actionpy\\prepro\\prepro.py:124: RuntimeWarning: The unit for channel(s) VEOG has changed from C to V.\n",
      "  raw.set_channel_types(mapping)\n"
     ]
    },
    {
     "output_type": "stream",
     "name": "stdout",
     "text": [
      "Not setting metadata\n",
      "Not setting metadata\n",
      "1 matching events found\n",
      "No baseline correction applied\n",
      "0 projection items activated\n",
      "0 bad epochs dropped\n"
     ]
    },
    {
     "output_type": "stream",
     "name": "stderr",
     "text": [
      "[Parallel(n_jobs=8)]: Using backend LokyBackend with 8 concurrent workers.\n"
     ]
    },
    {
     "output_type": "stream",
     "name": "stdout",
     "text": [
      "Creating RawArray with float64 data, n_channels=1, n_times=42000\n",
      "    Range : 0 ... 41999 =      0.000 ...   419.990 secs\n",
      "Ready.\n"
     ]
    },
    {
     "output_type": "stream",
     "name": "stderr",
     "text": [
      "[Parallel(n_jobs=8)]: Done   1 tasks      | elapsed:    1.9s\n",
      "[Parallel(n_jobs=8)]: Done   1 out of   1 | elapsed:    1.9s finished\n",
      "C:\\Users\\lukas\\virtualenvs\\eegenv\\lib\\site-packages\\autoreject\\ransac.py:226: RuntimeWarning: No bad channels to interpolate. Doing nothing...\n",
      "  epochs.interpolate_bads(reset_bads=True)\n",
      "c:\\Users\\lukas\\Dokumente\\projects\\scp-act\\data_analysis\\notebooks\\..\\actionpy\\prepro\\prepro.py:147: DeprecationWarning: Version 0.23 introduced max_iter=\"auto\", setting max_iter=1000 for `fastica` and max_iter=500 for `infomax` and `picard`. The current default of max_iter=200 will be changed to \"auto\" in version 0.24.\n",
      "  ica = mne.preprocessing.ICA(n_components=n_components,\n"
     ]
    },
    {
     "output_type": "stream",
     "name": "stdout",
     "text": [
      "\t vol_01\n",
      "D:/data/scp-act/S03/S03_vol_01.vhdr\n",
      "Used Annotations descriptions: ['New Segment/', 'Response/R  7', 'Response/R 15', 'Stimulus/S  2', 'Stimulus/S  4']\n"
     ]
    },
    {
     "output_type": "stream",
     "name": "stderr",
     "text": [
      "c:\\Users\\lukas\\Dokumente\\projects\\scp-act\\data_analysis\\notebooks\\..\\actionpy\\prepro\\prepro.py:124: RuntimeWarning: The unit for channel(s) VEOG has changed from C to V.\n",
      "  raw.set_channel_types(mapping)\n"
     ]
    },
    {
     "output_type": "stream",
     "name": "stdout",
     "text": [
      "Not setting metadata\n",
      "Not setting metadata\n",
      "1 matching events found\n",
      "No baseline correction applied\n",
      "0 projection items activated\n",
      "0 bad epochs dropped\n"
     ]
    },
    {
     "output_type": "stream",
     "name": "stderr",
     "text": [
      "[Parallel(n_jobs=8)]: Using backend LokyBackend with 8 concurrent workers.\n"
     ]
    },
    {
     "output_type": "stream",
     "name": "stdout",
     "text": [
      "Interpolating bad channels\n",
      "    Automatic origin fit: head of radius 92.0 mm\n",
      "Computing interpolation matrix from 30 sensor positions\n",
      "Interpolating 1 sensors\n",
      "Creating RawArray with float64 data, n_channels=1, n_times=42100\n",
      "    Range : 0 ... 42099 =      0.000 ...   420.990 secs\n",
      "Ready.\n"
     ]
    },
    {
     "output_type": "stream",
     "name": "stderr",
     "text": [
      "[Parallel(n_jobs=8)]: Done   1 tasks      | elapsed:    2.1s\n",
      "[Parallel(n_jobs=8)]: Done   1 out of   1 | elapsed:    2.1s finished\n",
      "c:\\Users\\lukas\\Dokumente\\projects\\scp-act\\data_analysis\\notebooks\\..\\actionpy\\prepro\\prepro.py:147: DeprecationWarning: Version 0.23 introduced max_iter=\"auto\", setting max_iter=1000 for `fastica` and max_iter=500 for `infomax` and `picard`. The current default of max_iter=200 will be changed to \"auto\" in version 0.24.\n",
      "  ica = mne.preprocessing.ICA(n_components=n_components,\n"
     ]
    },
    {
     "output_type": "stream",
     "name": "stdout",
     "text": [
      "\t vol_02\n",
      "D:/data/scp-act/S03/S03_vol_02.vhdr\n"
     ]
    },
    {
     "output_type": "stream",
     "name": "stderr",
     "text": [
      "c:\\Users\\lukas\\Dokumente\\projects\\scp-act\\data_analysis\\notebooks\\..\\actionpy\\prepro\\prepro.py:23: RuntimeWarning: Online software filter detected. Using software filter settings and ignoring hardware values\n",
      "  raw = mne.io.read_raw_brainvision(pth, preload=True, verbose=verbose)\n",
      "c:\\Users\\lukas\\Dokumente\\projects\\scp-act\\data_analysis\\notebooks\\..\\actionpy\\prepro\\prepro.py:23: RuntimeWarning: Channels contain different highpass filters. Lowest (weakest) filter setting (0.00 Hz) will be stored.\n",
      "  raw = mne.io.read_raw_brainvision(pth, preload=True, verbose=verbose)\n",
      "c:\\Users\\lukas\\Dokumente\\projects\\scp-act\\data_analysis\\notebooks\\..\\actionpy\\prepro\\prepro.py:23: RuntimeWarning: Channels contain different lowpass filters. Highest (weakest) filter setting (500.00 Hz, Nyquist limit) will be stored.\n",
      "  raw = mne.io.read_raw_brainvision(pth, preload=True, verbose=verbose)\n"
     ]
    },
    {
     "output_type": "stream",
     "name": "stdout",
     "text": [
      "Used Annotations descriptions: ['New Segment/', 'Response/R  7', 'Response/R 15', 'Stimulus/S  2', 'Stimulus/S  4']\n"
     ]
    },
    {
     "output_type": "stream",
     "name": "stderr",
     "text": [
      "c:\\Users\\lukas\\Dokumente\\projects\\scp-act\\data_analysis\\notebooks\\..\\actionpy\\prepro\\prepro.py:124: RuntimeWarning: The unit for channel(s) VEOG has changed from C to V.\n",
      "  raw.set_channel_types(mapping)\n"
     ]
    },
    {
     "output_type": "stream",
     "name": "stdout",
     "text": [
      "Not setting metadata\n",
      "Not setting metadata\n",
      "1 matching events found\n",
      "No baseline correction applied\n",
      "0 projection items activated\n",
      "0 bad epochs dropped\n"
     ]
    },
    {
     "output_type": "stream",
     "name": "stderr",
     "text": [
      "[Parallel(n_jobs=8)]: Using backend LokyBackend with 8 concurrent workers.\n"
     ]
    },
    {
     "output_type": "stream",
     "name": "stdout",
     "text": [
      "Creating RawArray with float64 data, n_channels=1, n_times=42101\n",
      "    Range : 0 ... 42100 =      0.000 ...   421.000 secs\n",
      "Ready.\n"
     ]
    },
    {
     "output_type": "stream",
     "name": "stderr",
     "text": [
      "[Parallel(n_jobs=8)]: Done   1 tasks      | elapsed:    2.1s\n",
      "[Parallel(n_jobs=8)]: Done   1 out of   1 | elapsed:    2.1s finished\n",
      "C:\\Users\\lukas\\virtualenvs\\eegenv\\lib\\site-packages\\autoreject\\ransac.py:226: RuntimeWarning: No bad channels to interpolate. Doing nothing...\n",
      "  epochs.interpolate_bads(reset_bads=True)\n",
      "c:\\Users\\lukas\\Dokumente\\projects\\scp-act\\data_analysis\\notebooks\\..\\actionpy\\prepro\\prepro.py:147: DeprecationWarning: Version 0.23 introduced max_iter=\"auto\", setting max_iter=1000 for `fastica` and max_iter=500 for `infomax` and `picard`. The current default of max_iter=200 will be changed to \"auto\" in version 0.24.\n",
      "  ica = mne.preprocessing.ICA(n_components=n_components,\n"
     ]
    },
    {
     "output_type": "stream",
     "name": "stdout",
     "text": [
      "S04\n",
      "\t rest_01\n",
      "D:/data/scp-act/S04/S04_rest_01.vhdr\n"
     ]
    },
    {
     "output_type": "stream",
     "name": "stderr",
     "text": [
      "c:\\Users\\lukas\\Dokumente\\projects\\scp-act\\data_analysis\\notebooks\\..\\actionpy\\prepro\\prepro.py:23: RuntimeWarning: Online software filter detected. Using software filter settings and ignoring hardware values\n",
      "  raw = mne.io.read_raw_brainvision(pth, preload=True, verbose=verbose)\n",
      "c:\\Users\\lukas\\Dokumente\\projects\\scp-act\\data_analysis\\notebooks\\..\\actionpy\\prepro\\prepro.py:23: RuntimeWarning: Channels contain different highpass filters. Lowest (weakest) filter setting (0.00 Hz) will be stored.\n",
      "  raw = mne.io.read_raw_brainvision(pth, preload=True, verbose=verbose)\n",
      "c:\\Users\\lukas\\Dokumente\\projects\\scp-act\\data_analysis\\notebooks\\..\\actionpy\\prepro\\prepro.py:23: RuntimeWarning: Channels contain different lowpass filters. Highest (weakest) filter setting (500.00 Hz, Nyquist limit) will be stored.\n",
      "  raw = mne.io.read_raw_brainvision(pth, preload=True, verbose=verbose)\n"
     ]
    },
    {
     "output_type": "stream",
     "name": "stdout",
     "text": [
      "Used Annotations descriptions: ['New Segment/', 'Stimulus/S  2', 'Stimulus/S  4']\n"
     ]
    },
    {
     "output_type": "stream",
     "name": "stderr",
     "text": [
      "c:\\Users\\lukas\\Dokumente\\projects\\scp-act\\data_analysis\\notebooks\\..\\actionpy\\prepro\\prepro.py:124: RuntimeWarning: The unit for channel(s) VEOG has changed from C to V.\n",
      "  raw.set_channel_types(mapping)\n"
     ]
    },
    {
     "output_type": "stream",
     "name": "stdout",
     "text": [
      "Not setting metadata\n",
      "Not setting metadata\n",
      "1 matching events found\n",
      "No baseline correction applied\n",
      "0 projection items activated\n",
      "0 bad epochs dropped\n"
     ]
    },
    {
     "output_type": "stream",
     "name": "stderr",
     "text": [
      "[Parallel(n_jobs=8)]: Using backend LokyBackend with 8 concurrent workers.\n"
     ]
    },
    {
     "output_type": "stream",
     "name": "stdout",
     "text": [
      "Interpolating bad channels\n",
      "    Automatic origin fit: head of radius 92.0 mm\n",
      "Computing interpolation matrix from 30 sensor positions\n",
      "Interpolating 1 sensors\n",
      "Creating RawArray with float64 data, n_channels=1, n_times=42101\n",
      "    Range : 0 ... 42100 =      0.000 ...   421.000 secs\n",
      "Ready.\n"
     ]
    },
    {
     "output_type": "stream",
     "name": "stderr",
     "text": [
      "[Parallel(n_jobs=8)]: Done   1 tasks      | elapsed:    1.9s\n",
      "[Parallel(n_jobs=8)]: Done   1 out of   1 | elapsed:    1.9s finished\n",
      "c:\\Users\\lukas\\Dokumente\\projects\\scp-act\\data_analysis\\notebooks\\..\\actionpy\\prepro\\prepro.py:147: DeprecationWarning: Version 0.23 introduced max_iter=\"auto\", setting max_iter=1000 for `fastica` and max_iter=500 for `infomax` and `picard`. The current default of max_iter=200 will be changed to \"auto\" in version 0.24.\n",
      "  ica = mne.preprocessing.ICA(n_components=n_components,\n"
     ]
    },
    {
     "output_type": "stream",
     "name": "stdout",
     "text": [
      "\t rest_02\n",
      "D:/data/scp-act/S04/S04_rest_02.vhdr\n",
      "Used Annotations descriptions: ['New Segment/', 'Stimulus/S  2', 'Stimulus/S  4']\n"
     ]
    },
    {
     "output_type": "stream",
     "name": "stderr",
     "text": [
      "c:\\Users\\lukas\\Dokumente\\projects\\scp-act\\data_analysis\\notebooks\\..\\actionpy\\prepro\\prepro.py:23: RuntimeWarning: Online software filter detected. Using software filter settings and ignoring hardware values\n",
      "  raw = mne.io.read_raw_brainvision(pth, preload=True, verbose=verbose)\n",
      "c:\\Users\\lukas\\Dokumente\\projects\\scp-act\\data_analysis\\notebooks\\..\\actionpy\\prepro\\prepro.py:23: RuntimeWarning: Channels contain different highpass filters. Lowest (weakest) filter setting (0.00 Hz) will be stored.\n",
      "  raw = mne.io.read_raw_brainvision(pth, preload=True, verbose=verbose)\n",
      "c:\\Users\\lukas\\Dokumente\\projects\\scp-act\\data_analysis\\notebooks\\..\\actionpy\\prepro\\prepro.py:23: RuntimeWarning: Channels contain different lowpass filters. Highest (weakest) filter setting (500.00 Hz, Nyquist limit) will be stored.\n",
      "  raw = mne.io.read_raw_brainvision(pth, preload=True, verbose=verbose)\n",
      "c:\\Users\\lukas\\Dokumente\\projects\\scp-act\\data_analysis\\notebooks\\..\\actionpy\\prepro\\prepro.py:124: RuntimeWarning: The unit for channel(s) VEOG has changed from C to V.\n",
      "  raw.set_channel_types(mapping)\n"
     ]
    },
    {
     "output_type": "stream",
     "name": "stdout",
     "text": [
      "Not setting metadata\n",
      "Not setting metadata\n",
      "1 matching events found\n",
      "No baseline correction applied\n",
      "0 projection items activated\n",
      "0 bad epochs dropped\n"
     ]
    },
    {
     "output_type": "stream",
     "name": "stderr",
     "text": [
      "[Parallel(n_jobs=8)]: Using backend LokyBackend with 8 concurrent workers.\n"
     ]
    },
    {
     "output_type": "stream",
     "name": "stdout",
     "text": [
      "Interpolating bad channels\n",
      "    Automatic origin fit: head of radius 92.0 mm\n",
      "Computing interpolation matrix from 28 sensor positions\n",
      "Interpolating 3 sensors\n",
      "Creating RawArray with float64 data, n_channels=1, n_times=42100\n",
      "    Range : 0 ... 42099 =      0.000 ...   420.990 secs\n",
      "Ready.\n"
     ]
    },
    {
     "output_type": "stream",
     "name": "stderr",
     "text": [
      "[Parallel(n_jobs=8)]: Done   1 tasks      | elapsed:    2.0s\n",
      "[Parallel(n_jobs=8)]: Done   1 out of   1 | elapsed:    2.0s finished\n",
      "c:\\Users\\lukas\\Dokumente\\projects\\scp-act\\data_analysis\\notebooks\\..\\actionpy\\prepro\\prepro.py:147: DeprecationWarning: Version 0.23 introduced max_iter=\"auto\", setting max_iter=1000 for `fastica` and max_iter=500 for `infomax` and `picard`. The current default of max_iter=200 will be changed to \"auto\" in version 0.24.\n",
      "  ica = mne.preprocessing.ICA(n_components=n_components,\n"
     ]
    },
    {
     "output_type": "stream",
     "name": "stdout",
     "text": [
      "\t exp_01\n",
      "D:/data/scp-act/S04/S04_exp_01.vhdr\n",
      "Used Annotations descriptions: ['New Segment/', 'Response/R  7', 'Response/R 15', 'Stimulus/S  2', 'Stimulus/S  4', 'Stimulus/S  6']\n"
     ]
    },
    {
     "output_type": "stream",
     "name": "stderr",
     "text": [
      "c:\\Users\\lukas\\Dokumente\\projects\\scp-act\\data_analysis\\notebooks\\..\\actionpy\\prepro\\prepro.py:23: RuntimeWarning: Online software filter detected. Using software filter settings and ignoring hardware values\n",
      "  raw = mne.io.read_raw_brainvision(pth, preload=True, verbose=verbose)\n",
      "c:\\Users\\lukas\\Dokumente\\projects\\scp-act\\data_analysis\\notebooks\\..\\actionpy\\prepro\\prepro.py:23: RuntimeWarning: Channels contain different highpass filters. Lowest (weakest) filter setting (0.00 Hz) will be stored.\n",
      "  raw = mne.io.read_raw_brainvision(pth, preload=True, verbose=verbose)\n",
      "c:\\Users\\lukas\\Dokumente\\projects\\scp-act\\data_analysis\\notebooks\\..\\actionpy\\prepro\\prepro.py:23: RuntimeWarning: Channels contain different lowpass filters. Highest (weakest) filter setting (500.00 Hz, Nyquist limit) will be stored.\n",
      "  raw = mne.io.read_raw_brainvision(pth, preload=True, verbose=verbose)\n",
      "c:\\Users\\lukas\\Dokumente\\projects\\scp-act\\data_analysis\\notebooks\\..\\actionpy\\prepro\\prepro.py:124: RuntimeWarning: The unit for channel(s) VEOG has changed from C to V.\n",
      "  raw.set_channel_types(mapping)\n"
     ]
    },
    {
     "output_type": "stream",
     "name": "stdout",
     "text": [
      "Not setting metadata\n",
      "Not setting metadata\n",
      "1 matching events found\n",
      "No baseline correction applied\n",
      "0 projection items activated\n",
      "0 bad epochs dropped\n"
     ]
    },
    {
     "output_type": "stream",
     "name": "stderr",
     "text": [
      "[Parallel(n_jobs=8)]: Using backend LokyBackend with 8 concurrent workers.\n"
     ]
    },
    {
     "output_type": "stream",
     "name": "stdout",
     "text": [
      "Interpolating bad channels\n",
      "    Automatic origin fit: head of radius 92.0 mm\n",
      "Computing interpolation matrix from 28 sensor positions\n",
      "Interpolating 3 sensors\n",
      "Creating RawArray with float64 data, n_channels=1, n_times=42102\n",
      "    Range : 0 ... 42101 =      0.000 ...   421.010 secs\n",
      "Ready.\n"
     ]
    },
    {
     "output_type": "stream",
     "name": "stderr",
     "text": [
      "[Parallel(n_jobs=8)]: Done   1 tasks      | elapsed:    2.0s\n",
      "[Parallel(n_jobs=8)]: Done   1 out of   1 | elapsed:    2.0s finished\n",
      "c:\\Users\\lukas\\Dokumente\\projects\\scp-act\\data_analysis\\notebooks\\..\\actionpy\\prepro\\prepro.py:147: DeprecationWarning: Version 0.23 introduced max_iter=\"auto\", setting max_iter=1000 for `fastica` and max_iter=500 for `infomax` and `picard`. The current default of max_iter=200 will be changed to \"auto\" in version 0.24.\n",
      "  ica = mne.preprocessing.ICA(n_components=n_components,\n"
     ]
    },
    {
     "output_type": "stream",
     "name": "stdout",
     "text": [
      "\t drmt_01\n",
      "D:/data/scp-act/S04/S04_drmt_01.vhdr\n"
     ]
    },
    {
     "output_type": "stream",
     "name": "stderr",
     "text": [
      "c:\\Users\\lukas\\Dokumente\\projects\\scp-act\\data_analysis\\notebooks\\..\\actionpy\\prepro\\prepro.py:23: RuntimeWarning: Online software filter detected. Using software filter settings and ignoring hardware values\n",
      "  raw = mne.io.read_raw_brainvision(pth, preload=True, verbose=verbose)\n",
      "c:\\Users\\lukas\\Dokumente\\projects\\scp-act\\data_analysis\\notebooks\\..\\actionpy\\prepro\\prepro.py:23: RuntimeWarning: Channels contain different highpass filters. Lowest (weakest) filter setting (0.00 Hz) will be stored.\n",
      "  raw = mne.io.read_raw_brainvision(pth, preload=True, verbose=verbose)\n",
      "c:\\Users\\lukas\\Dokumente\\projects\\scp-act\\data_analysis\\notebooks\\..\\actionpy\\prepro\\prepro.py:23: RuntimeWarning: Channels contain different lowpass filters. Highest (weakest) filter setting (500.00 Hz, Nyquist limit) will be stored.\n",
      "  raw = mne.io.read_raw_brainvision(pth, preload=True, verbose=verbose)\n"
     ]
    },
    {
     "output_type": "stream",
     "name": "stdout",
     "text": [
      "Used Annotations descriptions: ['New Segment/', 'Stimulus/S  2', 'Stimulus/S  4']\n"
     ]
    },
    {
     "output_type": "stream",
     "name": "stderr",
     "text": [
      "c:\\Users\\lukas\\Dokumente\\projects\\scp-act\\data_analysis\\notebooks\\..\\actionpy\\prepro\\prepro.py:124: RuntimeWarning: The unit for channel(s) VEOG has changed from C to V.\n",
      "  raw.set_channel_types(mapping)\n"
     ]
    },
    {
     "output_type": "stream",
     "name": "stdout",
     "text": [
      "Not setting metadata\n",
      "Not setting metadata\n",
      "1 matching events found\n",
      "No baseline correction applied\n",
      "0 projection items activated\n",
      "0 bad epochs dropped\n"
     ]
    },
    {
     "output_type": "stream",
     "name": "stderr",
     "text": [
      "[Parallel(n_jobs=8)]: Using backend LokyBackend with 8 concurrent workers.\n"
     ]
    },
    {
     "output_type": "stream",
     "name": "stdout",
     "text": [
      "Interpolating bad channels\n",
      "    Automatic origin fit: head of radius 92.0 mm\n",
      "Computing interpolation matrix from 27 sensor positions\n",
      "Interpolating 4 sensors\n",
      "Creating RawArray with float64 data, n_channels=1, n_times=42000\n",
      "    Range : 0 ... 41999 =      0.000 ...   419.990 secs\n",
      "Ready.\n"
     ]
    },
    {
     "output_type": "stream",
     "name": "stderr",
     "text": [
      "[Parallel(n_jobs=8)]: Done   1 tasks      | elapsed:    2.4s\n",
      "[Parallel(n_jobs=8)]: Done   1 out of   1 | elapsed:    2.4s finished\n",
      "c:\\Users\\lukas\\Dokumente\\projects\\scp-act\\data_analysis\\notebooks\\..\\actionpy\\prepro\\prepro.py:147: DeprecationWarning: Version 0.23 introduced max_iter=\"auto\", setting max_iter=1000 for `fastica` and max_iter=500 for `infomax` and `picard`. The current default of max_iter=200 will be changed to \"auto\" in version 0.24.\n",
      "  ica = mne.preprocessing.ICA(n_components=n_components,\n"
     ]
    },
    {
     "output_type": "stream",
     "name": "stdout",
     "text": [
      "\t drmt_02\n",
      "D:/data/scp-act/S04/S04_drmt_02.vhdr\n"
     ]
    },
    {
     "output_type": "stream",
     "name": "stderr",
     "text": [
      "c:\\Users\\lukas\\Dokumente\\projects\\scp-act\\data_analysis\\notebooks\\..\\actionpy\\prepro\\prepro.py:23: RuntimeWarning: Online software filter detected. Using software filter settings and ignoring hardware values\n",
      "  raw = mne.io.read_raw_brainvision(pth, preload=True, verbose=verbose)\n",
      "c:\\Users\\lukas\\Dokumente\\projects\\scp-act\\data_analysis\\notebooks\\..\\actionpy\\prepro\\prepro.py:23: RuntimeWarning: Channels contain different highpass filters. Lowest (weakest) filter setting (0.00 Hz) will be stored.\n",
      "  raw = mne.io.read_raw_brainvision(pth, preload=True, verbose=verbose)\n",
      "c:\\Users\\lukas\\Dokumente\\projects\\scp-act\\data_analysis\\notebooks\\..\\actionpy\\prepro\\prepro.py:23: RuntimeWarning: Channels contain different lowpass filters. Highest (weakest) filter setting (500.00 Hz, Nyquist limit) will be stored.\n",
      "  raw = mne.io.read_raw_brainvision(pth, preload=True, verbose=verbose)\n"
     ]
    },
    {
     "output_type": "stream",
     "name": "stdout",
     "text": [
      "Used Annotations descriptions: ['New Segment/', 'Stimulus/S  2', 'Stimulus/S  4']\n"
     ]
    },
    {
     "output_type": "stream",
     "name": "stderr",
     "text": [
      "c:\\Users\\lukas\\Dokumente\\projects\\scp-act\\data_analysis\\notebooks\\..\\actionpy\\prepro\\prepro.py:124: RuntimeWarning: The unit for channel(s) VEOG has changed from C to V.\n",
      "  raw.set_channel_types(mapping)\n"
     ]
    },
    {
     "output_type": "stream",
     "name": "stdout",
     "text": [
      "Not setting metadata\n",
      "Not setting metadata\n",
      "1 matching events found\n",
      "No baseline correction applied\n",
      "0 projection items activated\n",
      "0 bad epochs dropped\n"
     ]
    },
    {
     "output_type": "stream",
     "name": "stderr",
     "text": [
      "[Parallel(n_jobs=8)]: Using backend LokyBackend with 8 concurrent workers.\n"
     ]
    },
    {
     "output_type": "stream",
     "name": "stdout",
     "text": [
      "Interpolating bad channels\n",
      "    Automatic origin fit: head of radius 92.0 mm\n",
      "Computing interpolation matrix from 30 sensor positions\n",
      "Interpolating 1 sensors\n",
      "Creating RawArray with float64 data, n_channels=1, n_times=42000\n",
      "    Range : 0 ... 41999 =      0.000 ...   419.990 secs\n",
      "Ready.\n"
     ]
    },
    {
     "output_type": "stream",
     "name": "stderr",
     "text": [
      "[Parallel(n_jobs=8)]: Done   1 tasks      | elapsed:    2.0s\n",
      "[Parallel(n_jobs=8)]: Done   1 out of   1 | elapsed:    2.0s finished\n",
      "c:\\Users\\lukas\\Dokumente\\projects\\scp-act\\data_analysis\\notebooks\\..\\actionpy\\prepro\\prepro.py:147: DeprecationWarning: Version 0.23 introduced max_iter=\"auto\", setting max_iter=1000 for `fastica` and max_iter=500 for `infomax` and `picard`. The current default of max_iter=200 will be changed to \"auto\" in version 0.24.\n",
      "  ica = mne.preprocessing.ICA(n_components=n_components,\n"
     ]
    },
    {
     "output_type": "stream",
     "name": "stdout",
     "text": [
      "\t vol_01\n",
      "D:/data/scp-act/S04/S04_vol_01.vhdr\n"
     ]
    },
    {
     "output_type": "stream",
     "name": "stderr",
     "text": [
      "c:\\Users\\lukas\\Dokumente\\projects\\scp-act\\data_analysis\\notebooks\\..\\actionpy\\prepro\\prepro.py:23: RuntimeWarning: Online software filter detected. Using software filter settings and ignoring hardware values\n",
      "  raw = mne.io.read_raw_brainvision(pth, preload=True, verbose=verbose)\n",
      "c:\\Users\\lukas\\Dokumente\\projects\\scp-act\\data_analysis\\notebooks\\..\\actionpy\\prepro\\prepro.py:23: RuntimeWarning: Channels contain different highpass filters. Lowest (weakest) filter setting (0.00 Hz) will be stored.\n",
      "  raw = mne.io.read_raw_brainvision(pth, preload=True, verbose=verbose)\n",
      "c:\\Users\\lukas\\Dokumente\\projects\\scp-act\\data_analysis\\notebooks\\..\\actionpy\\prepro\\prepro.py:23: RuntimeWarning: Channels contain different lowpass filters. Highest (weakest) filter setting (500.00 Hz, Nyquist limit) will be stored.\n",
      "  raw = mne.io.read_raw_brainvision(pth, preload=True, verbose=verbose)\n"
     ]
    },
    {
     "output_type": "stream",
     "name": "stdout",
     "text": [
      "Used Annotations descriptions: ['New Segment/', 'Response/R  7', 'Response/R 15', 'Stimulus/S  2', 'Stimulus/S  4']\n"
     ]
    },
    {
     "output_type": "stream",
     "name": "stderr",
     "text": [
      "c:\\Users\\lukas\\Dokumente\\projects\\scp-act\\data_analysis\\notebooks\\..\\actionpy\\prepro\\prepro.py:124: RuntimeWarning: The unit for channel(s) VEOG has changed from C to V.\n",
      "  raw.set_channel_types(mapping)\n"
     ]
    },
    {
     "output_type": "stream",
     "name": "stdout",
     "text": [
      "Not setting metadata\n",
      "Not setting metadata\n",
      "1 matching events found\n",
      "No baseline correction applied\n",
      "0 projection items activated\n",
      "0 bad epochs dropped\n"
     ]
    },
    {
     "output_type": "stream",
     "name": "stderr",
     "text": [
      "[Parallel(n_jobs=8)]: Using backend LokyBackend with 8 concurrent workers.\n"
     ]
    },
    {
     "output_type": "stream",
     "name": "stdout",
     "text": [
      "Interpolating bad channels\n",
      "    Automatic origin fit: head of radius 92.0 mm\n",
      "Computing interpolation matrix from 26 sensor positions\n",
      "Interpolating 5 sensors\n",
      "Creating RawArray with float64 data, n_channels=1, n_times=42101\n",
      "    Range : 0 ... 42100 =      0.000 ...   421.000 secs\n",
      "Ready.\n"
     ]
    },
    {
     "output_type": "stream",
     "name": "stderr",
     "text": [
      "[Parallel(n_jobs=8)]: Done   1 tasks      | elapsed:    1.9s\n",
      "[Parallel(n_jobs=8)]: Done   1 out of   1 | elapsed:    1.9s finished\n",
      "c:\\Users\\lukas\\Dokumente\\projects\\scp-act\\data_analysis\\notebooks\\..\\actionpy\\prepro\\prepro.py:147: DeprecationWarning: Version 0.23 introduced max_iter=\"auto\", setting max_iter=1000 for `fastica` and max_iter=500 for `infomax` and `picard`. The current default of max_iter=200 will be changed to \"auto\" in version 0.24.\n",
      "  ica = mne.preprocessing.ICA(n_components=n_components,\n"
     ]
    },
    {
     "output_type": "stream",
     "name": "stdout",
     "text": [
      "\t vol_02\n",
      "D:/data/scp-act/S04/S04_vol_02.vhdr\n",
      "Used Annotations descriptions: ['New Segment/', 'Response/R  7', 'Response/R 15', 'Stimulus/S  2', 'Stimulus/S  4']\n"
     ]
    },
    {
     "output_type": "stream",
     "name": "stderr",
     "text": [
      "c:\\Users\\lukas\\Dokumente\\projects\\scp-act\\data_analysis\\notebooks\\..\\actionpy\\prepro\\prepro.py:23: RuntimeWarning: Online software filter detected. Using software filter settings and ignoring hardware values\n",
      "  raw = mne.io.read_raw_brainvision(pth, preload=True, verbose=verbose)\n",
      "c:\\Users\\lukas\\Dokumente\\projects\\scp-act\\data_analysis\\notebooks\\..\\actionpy\\prepro\\prepro.py:23: RuntimeWarning: Channels contain different highpass filters. Lowest (weakest) filter setting (0.00 Hz) will be stored.\n",
      "  raw = mne.io.read_raw_brainvision(pth, preload=True, verbose=verbose)\n",
      "c:\\Users\\lukas\\Dokumente\\projects\\scp-act\\data_analysis\\notebooks\\..\\actionpy\\prepro\\prepro.py:23: RuntimeWarning: Channels contain different lowpass filters. Highest (weakest) filter setting (500.00 Hz, Nyquist limit) will be stored.\n",
      "  raw = mne.io.read_raw_brainvision(pth, preload=True, verbose=verbose)\n",
      "c:\\Users\\lukas\\Dokumente\\projects\\scp-act\\data_analysis\\notebooks\\..\\actionpy\\prepro\\prepro.py:124: RuntimeWarning: The unit for channel(s) VEOG has changed from C to V.\n",
      "  raw.set_channel_types(mapping)\n"
     ]
    },
    {
     "output_type": "stream",
     "name": "stdout",
     "text": [
      "Not setting metadata\n",
      "Not setting metadata\n",
      "1 matching events found\n",
      "No baseline correction applied\n",
      "0 projection items activated\n",
      "0 bad epochs dropped\n"
     ]
    },
    {
     "output_type": "stream",
     "name": "stderr",
     "text": [
      "[Parallel(n_jobs=8)]: Using backend LokyBackend with 8 concurrent workers.\n"
     ]
    },
    {
     "output_type": "stream",
     "name": "stdout",
     "text": [
      "Interpolating bad channels\n",
      "    Automatic origin fit: head of radius 92.0 mm\n",
      "Computing interpolation matrix from 30 sensor positions\n",
      "Interpolating 1 sensors\n",
      "Creating RawArray with float64 data, n_channels=1, n_times=42100\n",
      "    Range : 0 ... 42099 =      0.000 ...   420.990 secs\n"
     ]
    },
    {
     "output_type": "stream",
     "name": "stderr",
     "text": [
      "[Parallel(n_jobs=8)]: Done   1 tasks      | elapsed:    2.0s\n",
      "[Parallel(n_jobs=8)]: Done   1 out of   1 | elapsed:    2.0s finished\n"
     ]
    },
    {
     "output_type": "stream",
     "name": "stdout",
     "text": [
      "Ready.\n"
     ]
    },
    {
     "output_type": "stream",
     "name": "stderr",
     "text": [
      "c:\\Users\\lukas\\Dokumente\\projects\\scp-act\\data_analysis\\notebooks\\..\\actionpy\\prepro\\prepro.py:147: DeprecationWarning: Version 0.23 introduced max_iter=\"auto\", setting max_iter=1000 for `fastica` and max_iter=500 for `infomax` and `picard`. The current default of max_iter=200 will be changed to \"auto\" in version 0.24.\n",
      "  ica = mne.preprocessing.ICA(n_components=n_components,\n"
     ]
    },
    {
     "output_type": "stream",
     "name": "stdout",
     "text": [
      "S05\n",
      "\t rest_01\n",
      "D:/data/scp-act/S05/S05_rest_01.vhdr\n"
     ]
    },
    {
     "output_type": "stream",
     "name": "stderr",
     "text": [
      "c:\\Users\\lukas\\Dokumente\\projects\\scp-act\\data_analysis\\notebooks\\..\\actionpy\\prepro\\prepro.py:23: RuntimeWarning: Online software filter detected. Using software filter settings and ignoring hardware values\n",
      "  raw = mne.io.read_raw_brainvision(pth, preload=True, verbose=verbose)\n",
      "c:\\Users\\lukas\\Dokumente\\projects\\scp-act\\data_analysis\\notebooks\\..\\actionpy\\prepro\\prepro.py:23: RuntimeWarning: Channels contain different highpass filters. Lowest (weakest) filter setting (0.00 Hz) will be stored.\n",
      "  raw = mne.io.read_raw_brainvision(pth, preload=True, verbose=verbose)\n",
      "c:\\Users\\lukas\\Dokumente\\projects\\scp-act\\data_analysis\\notebooks\\..\\actionpy\\prepro\\prepro.py:23: RuntimeWarning: Channels contain different lowpass filters. Highest (weakest) filter setting (500.00 Hz, Nyquist limit) will be stored.\n",
      "  raw = mne.io.read_raw_brainvision(pth, preload=True, verbose=verbose)\n"
     ]
    },
    {
     "output_type": "stream",
     "name": "stdout",
     "text": [
      "Used Annotations descriptions: ['New Segment/', 'Stimulus/S  2', 'Stimulus/S  4']\n"
     ]
    },
    {
     "output_type": "stream",
     "name": "stderr",
     "text": [
      "c:\\Users\\lukas\\Dokumente\\projects\\scp-act\\data_analysis\\notebooks\\..\\actionpy\\prepro\\prepro.py:124: RuntimeWarning: The unit for channel(s) VEOG has changed from C to V.\n",
      "  raw.set_channel_types(mapping)\n"
     ]
    },
    {
     "output_type": "stream",
     "name": "stdout",
     "text": [
      "Not setting metadata\n",
      "Not setting metadata\n",
      "1 matching events found\n",
      "No baseline correction applied\n",
      "0 projection items activated\n",
      "0 bad epochs dropped\n"
     ]
    },
    {
     "output_type": "stream",
     "name": "stderr",
     "text": [
      "[Parallel(n_jobs=8)]: Using backend LokyBackend with 8 concurrent workers.\n"
     ]
    },
    {
     "output_type": "stream",
     "name": "stdout",
     "text": [
      "Interpolating bad channels\n",
      "    Automatic origin fit: head of radius 92.0 mm\n",
      "Computing interpolation matrix from 30 sensor positions\n",
      "Interpolating 1 sensors\n",
      "Creating RawArray with float64 data, n_channels=1, n_times=42100\n",
      "    Range : 0 ... 42099 =      0.000 ...   420.990 secs\n",
      "Ready.\n"
     ]
    },
    {
     "output_type": "stream",
     "name": "stderr",
     "text": [
      "[Parallel(n_jobs=8)]: Done   1 tasks      | elapsed:    2.0s\n",
      "[Parallel(n_jobs=8)]: Done   1 out of   1 | elapsed:    2.0s finished\n",
      "c:\\Users\\lukas\\Dokumente\\projects\\scp-act\\data_analysis\\notebooks\\..\\actionpy\\prepro\\prepro.py:147: DeprecationWarning: Version 0.23 introduced max_iter=\"auto\", setting max_iter=1000 for `fastica` and max_iter=500 for `infomax` and `picard`. The current default of max_iter=200 will be changed to \"auto\" in version 0.24.\n",
      "  ica = mne.preprocessing.ICA(n_components=n_components,\n"
     ]
    },
    {
     "output_type": "stream",
     "name": "stdout",
     "text": [
      "\t rest_02\n",
      "D:/data/scp-act/S05/S05_rest_02.vhdr\n"
     ]
    },
    {
     "output_type": "stream",
     "name": "stderr",
     "text": [
      "c:\\Users\\lukas\\Dokumente\\projects\\scp-act\\data_analysis\\notebooks\\..\\actionpy\\prepro\\prepro.py:23: RuntimeWarning: Online software filter detected. Using software filter settings and ignoring hardware values\n",
      "  raw = mne.io.read_raw_brainvision(pth, preload=True, verbose=verbose)\n",
      "c:\\Users\\lukas\\Dokumente\\projects\\scp-act\\data_analysis\\notebooks\\..\\actionpy\\prepro\\prepro.py:23: RuntimeWarning: Channels contain different highpass filters. Lowest (weakest) filter setting (0.00 Hz) will be stored.\n",
      "  raw = mne.io.read_raw_brainvision(pth, preload=True, verbose=verbose)\n",
      "c:\\Users\\lukas\\Dokumente\\projects\\scp-act\\data_analysis\\notebooks\\..\\actionpy\\prepro\\prepro.py:23: RuntimeWarning: Channels contain different lowpass filters. Highest (weakest) filter setting (500.00 Hz, Nyquist limit) will be stored.\n",
      "  raw = mne.io.read_raw_brainvision(pth, preload=True, verbose=verbose)\n"
     ]
    },
    {
     "output_type": "stream",
     "name": "stdout",
     "text": [
      "Used Annotations descriptions: ['New Segment/', 'Stimulus/S  2', 'Stimulus/S  4']\n"
     ]
    },
    {
     "output_type": "stream",
     "name": "stderr",
     "text": [
      "c:\\Users\\lukas\\Dokumente\\projects\\scp-act\\data_analysis\\notebooks\\..\\actionpy\\prepro\\prepro.py:124: RuntimeWarning: The unit for channel(s) VEOG has changed from C to V.\n",
      "  raw.set_channel_types(mapping)\n"
     ]
    },
    {
     "output_type": "stream",
     "name": "stdout",
     "text": [
      "Not setting metadata\n",
      "Not setting metadata\n",
      "1 matching events found\n",
      "No baseline correction applied\n",
      "0 projection items activated\n",
      "0 bad epochs dropped\n"
     ]
    },
    {
     "output_type": "stream",
     "name": "stderr",
     "text": [
      "[Parallel(n_jobs=8)]: Using backend LokyBackend with 8 concurrent workers.\n"
     ]
    },
    {
     "output_type": "stream",
     "name": "stdout",
     "text": [
      "Creating RawArray with float64 data, n_channels=1, n_times=42100\n",
      "    Range : 0 ... 42099 =      0.000 ...   420.990 secs\n",
      "Ready.\n"
     ]
    },
    {
     "output_type": "stream",
     "name": "stderr",
     "text": [
      "[Parallel(n_jobs=8)]: Done   1 tasks      | elapsed:    2.0s\n",
      "[Parallel(n_jobs=8)]: Done   1 out of   1 | elapsed:    2.0s finished\n",
      "C:\\Users\\lukas\\virtualenvs\\eegenv\\lib\\site-packages\\autoreject\\ransac.py:226: RuntimeWarning: No bad channels to interpolate. Doing nothing...\n",
      "  epochs.interpolate_bads(reset_bads=True)\n",
      "c:\\Users\\lukas\\Dokumente\\projects\\scp-act\\data_analysis\\notebooks\\..\\actionpy\\prepro\\prepro.py:147: DeprecationWarning: Version 0.23 introduced max_iter=\"auto\", setting max_iter=1000 for `fastica` and max_iter=500 for `infomax` and `picard`. The current default of max_iter=200 will be changed to \"auto\" in version 0.24.\n",
      "  ica = mne.preprocessing.ICA(n_components=n_components,\n"
     ]
    },
    {
     "output_type": "stream",
     "name": "stdout",
     "text": [
      "\t exp_01\n",
      "D:/data/scp-act/S05/S05_exp_01.vhdr\n"
     ]
    },
    {
     "output_type": "stream",
     "name": "stderr",
     "text": [
      "c:\\Users\\lukas\\Dokumente\\projects\\scp-act\\data_analysis\\notebooks\\..\\actionpy\\prepro\\prepro.py:23: RuntimeWarning: Online software filter detected. Using software filter settings and ignoring hardware values\n",
      "  raw = mne.io.read_raw_brainvision(pth, preload=True, verbose=verbose)\n",
      "c:\\Users\\lukas\\Dokumente\\projects\\scp-act\\data_analysis\\notebooks\\..\\actionpy\\prepro\\prepro.py:23: RuntimeWarning: Channels contain different highpass filters. Lowest (weakest) filter setting (0.00 Hz) will be stored.\n",
      "  raw = mne.io.read_raw_brainvision(pth, preload=True, verbose=verbose)\n",
      "c:\\Users\\lukas\\Dokumente\\projects\\scp-act\\data_analysis\\notebooks\\..\\actionpy\\prepro\\prepro.py:23: RuntimeWarning: Channels contain different lowpass filters. Highest (weakest) filter setting (500.00 Hz, Nyquist limit) will be stored.\n",
      "  raw = mne.io.read_raw_brainvision(pth, preload=True, verbose=verbose)\n"
     ]
    },
    {
     "output_type": "stream",
     "name": "stdout",
     "text": [
      "Used Annotations descriptions: ['New Segment/', 'Response/R  7', 'Response/R 15', 'Stimulus/S  2', 'Stimulus/S  4', 'Stimulus/S  6']\n"
     ]
    },
    {
     "output_type": "stream",
     "name": "stderr",
     "text": [
      "c:\\Users\\lukas\\Dokumente\\projects\\scp-act\\data_analysis\\notebooks\\..\\actionpy\\prepro\\prepro.py:124: RuntimeWarning: The unit for channel(s) VEOG has changed from C to V.\n",
      "  raw.set_channel_types(mapping)\n"
     ]
    },
    {
     "output_type": "stream",
     "name": "stdout",
     "text": [
      "Not setting metadata\n",
      "Not setting metadata\n",
      "1 matching events found\n",
      "No baseline correction applied\n",
      "0 projection items activated\n",
      "0 bad epochs dropped\n"
     ]
    },
    {
     "output_type": "stream",
     "name": "stderr",
     "text": [
      "[Parallel(n_jobs=8)]: Using backend LokyBackend with 8 concurrent workers.\n"
     ]
    },
    {
     "output_type": "stream",
     "name": "stdout",
     "text": [
      "Interpolating bad channels\n",
      "    Automatic origin fit: head of radius 92.0 mm\n",
      "Computing interpolation matrix from 30 sensor positions\n",
      "Interpolating 1 sensors\n",
      "Creating RawArray with float64 data, n_channels=1, n_times=42101\n"
     ]
    },
    {
     "output_type": "stream",
     "name": "stderr",
     "text": [
      "[Parallel(n_jobs=8)]: Done   1 tasks      | elapsed:    2.0s\n",
      "[Parallel(n_jobs=8)]: Done   1 out of   1 | elapsed:    2.0s finished\n"
     ]
    },
    {
     "output_type": "stream",
     "name": "stdout",
     "text": [
      "    Range : 0 ... 42100 =      0.000 ...   421.000 secs\n",
      "Ready.\n"
     ]
    },
    {
     "output_type": "stream",
     "name": "stderr",
     "text": [
      "c:\\Users\\lukas\\Dokumente\\projects\\scp-act\\data_analysis\\notebooks\\..\\actionpy\\prepro\\prepro.py:147: DeprecationWarning: Version 0.23 introduced max_iter=\"auto\", setting max_iter=1000 for `fastica` and max_iter=500 for `infomax` and `picard`. The current default of max_iter=200 will be changed to \"auto\" in version 0.24.\n",
      "  ica = mne.preprocessing.ICA(n_components=n_components,\n"
     ]
    },
    {
     "output_type": "stream",
     "name": "stdout",
     "text": [
      "\t drmt_01\n",
      "D:/data/scp-act/S05/S05_drmt_01.vhdr\n"
     ]
    },
    {
     "output_type": "stream",
     "name": "stderr",
     "text": [
      "c:\\Users\\lukas\\Dokumente\\projects\\scp-act\\data_analysis\\notebooks\\..\\actionpy\\prepro\\prepro.py:23: RuntimeWarning: Online software filter detected. Using software filter settings and ignoring hardware values\n",
      "  raw = mne.io.read_raw_brainvision(pth, preload=True, verbose=verbose)\n",
      "c:\\Users\\lukas\\Dokumente\\projects\\scp-act\\data_analysis\\notebooks\\..\\actionpy\\prepro\\prepro.py:23: RuntimeWarning: Channels contain different highpass filters. Lowest (weakest) filter setting (0.00 Hz) will be stored.\n",
      "  raw = mne.io.read_raw_brainvision(pth, preload=True, verbose=verbose)\n",
      "c:\\Users\\lukas\\Dokumente\\projects\\scp-act\\data_analysis\\notebooks\\..\\actionpy\\prepro\\prepro.py:23: RuntimeWarning: Channels contain different lowpass filters. Highest (weakest) filter setting (500.00 Hz, Nyquist limit) will be stored.\n",
      "  raw = mne.io.read_raw_brainvision(pth, preload=True, verbose=verbose)\n"
     ]
    },
    {
     "output_type": "stream",
     "name": "stdout",
     "text": [
      "Used Annotations descriptions: ['New Segment/', 'Stimulus/S  2', 'Stimulus/S  4']\n"
     ]
    },
    {
     "output_type": "stream",
     "name": "stderr",
     "text": [
      "c:\\Users\\lukas\\Dokumente\\projects\\scp-act\\data_analysis\\notebooks\\..\\actionpy\\prepro\\prepro.py:124: RuntimeWarning: The unit for channel(s) VEOG has changed from C to V.\n",
      "  raw.set_channel_types(mapping)\n"
     ]
    },
    {
     "output_type": "stream",
     "name": "stdout",
     "text": [
      "Not setting metadata\n",
      "Not setting metadata\n",
      "1 matching events found\n",
      "No baseline correction applied\n",
      "0 projection items activated\n",
      "0 bad epochs dropped\n"
     ]
    },
    {
     "output_type": "stream",
     "name": "stderr",
     "text": [
      "[Parallel(n_jobs=8)]: Using backend LokyBackend with 8 concurrent workers.\n"
     ]
    },
    {
     "output_type": "stream",
     "name": "stdout",
     "text": [
      "Creating RawArray with float64 data, n_channels=1, n_times=42000\n",
      "    Range : 0 ... 41999 =      0.000 ...   419.990 secs\n",
      "Ready.\n"
     ]
    },
    {
     "output_type": "stream",
     "name": "stderr",
     "text": [
      "[Parallel(n_jobs=8)]: Done   1 tasks      | elapsed:    1.9s\n",
      "[Parallel(n_jobs=8)]: Done   1 out of   1 | elapsed:    1.9s finished\n",
      "C:\\Users\\lukas\\virtualenvs\\eegenv\\lib\\site-packages\\autoreject\\ransac.py:226: RuntimeWarning: No bad channels to interpolate. Doing nothing...\n",
      "  epochs.interpolate_bads(reset_bads=True)\n",
      "c:\\Users\\lukas\\Dokumente\\projects\\scp-act\\data_analysis\\notebooks\\..\\actionpy\\prepro\\prepro.py:147: DeprecationWarning: Version 0.23 introduced max_iter=\"auto\", setting max_iter=1000 for `fastica` and max_iter=500 for `infomax` and `picard`. The current default of max_iter=200 will be changed to \"auto\" in version 0.24.\n",
      "  ica = mne.preprocessing.ICA(n_components=n_components,\n"
     ]
    },
    {
     "output_type": "stream",
     "name": "stdout",
     "text": [
      "\t drmt_02\n",
      "D:/data/scp-act/S05/S05_drmt_02.vhdr\n"
     ]
    },
    {
     "output_type": "stream",
     "name": "stderr",
     "text": [
      "c:\\Users\\lukas\\Dokumente\\projects\\scp-act\\data_analysis\\notebooks\\..\\actionpy\\prepro\\prepro.py:23: RuntimeWarning: Online software filter detected. Using software filter settings and ignoring hardware values\n",
      "  raw = mne.io.read_raw_brainvision(pth, preload=True, verbose=verbose)\n",
      "c:\\Users\\lukas\\Dokumente\\projects\\scp-act\\data_analysis\\notebooks\\..\\actionpy\\prepro\\prepro.py:23: RuntimeWarning: Channels contain different highpass filters. Lowest (weakest) filter setting (0.00 Hz) will be stored.\n",
      "  raw = mne.io.read_raw_brainvision(pth, preload=True, verbose=verbose)\n",
      "c:\\Users\\lukas\\Dokumente\\projects\\scp-act\\data_analysis\\notebooks\\..\\actionpy\\prepro\\prepro.py:23: RuntimeWarning: Channels contain different lowpass filters. Highest (weakest) filter setting (500.00 Hz, Nyquist limit) will be stored.\n",
      "  raw = mne.io.read_raw_brainvision(pth, preload=True, verbose=verbose)\n"
     ]
    },
    {
     "output_type": "stream",
     "name": "stdout",
     "text": [
      "Used Annotations descriptions: ['New Segment/', 'Stimulus/S  2', 'Stimulus/S  4']\n"
     ]
    },
    {
     "output_type": "stream",
     "name": "stderr",
     "text": [
      "c:\\Users\\lukas\\Dokumente\\projects\\scp-act\\data_analysis\\notebooks\\..\\actionpy\\prepro\\prepro.py:124: RuntimeWarning: The unit for channel(s) VEOG has changed from C to V.\n",
      "  raw.set_channel_types(mapping)\n"
     ]
    },
    {
     "output_type": "stream",
     "name": "stdout",
     "text": [
      "Not setting metadata\n",
      "Not setting metadata\n",
      "1 matching events found\n",
      "No baseline correction applied\n",
      "0 projection items activated\n",
      "0 bad epochs dropped\n"
     ]
    },
    {
     "output_type": "stream",
     "name": "stderr",
     "text": [
      "[Parallel(n_jobs=8)]: Using backend LokyBackend with 8 concurrent workers.\n"
     ]
    },
    {
     "output_type": "stream",
     "name": "stdout",
     "text": [
      "Creating RawArray with float64 data, n_channels=1, n_times=42000\n",
      "    Range : 0 ... 41999 =      0.000 ...   419.990 secs\n",
      "Ready.\n"
     ]
    },
    {
     "output_type": "stream",
     "name": "stderr",
     "text": [
      "[Parallel(n_jobs=8)]: Done   1 tasks      | elapsed:    1.9s\n",
      "[Parallel(n_jobs=8)]: Done   1 out of   1 | elapsed:    1.9s finished\n",
      "C:\\Users\\lukas\\virtualenvs\\eegenv\\lib\\site-packages\\autoreject\\ransac.py:226: RuntimeWarning: No bad channels to interpolate. Doing nothing...\n",
      "  epochs.interpolate_bads(reset_bads=True)\n",
      "c:\\Users\\lukas\\Dokumente\\projects\\scp-act\\data_analysis\\notebooks\\..\\actionpy\\prepro\\prepro.py:147: DeprecationWarning: Version 0.23 introduced max_iter=\"auto\", setting max_iter=1000 for `fastica` and max_iter=500 for `infomax` and `picard`. The current default of max_iter=200 will be changed to \"auto\" in version 0.24.\n",
      "  ica = mne.preprocessing.ICA(n_components=n_components,\n"
     ]
    },
    {
     "output_type": "stream",
     "name": "stdout",
     "text": [
      "\t vol_01\n",
      "D:/data/scp-act/S05/S05_vol_01.vhdr\n"
     ]
    },
    {
     "output_type": "stream",
     "name": "stderr",
     "text": [
      "c:\\Users\\lukas\\Dokumente\\projects\\scp-act\\data_analysis\\notebooks\\..\\actionpy\\prepro\\prepro.py:23: RuntimeWarning: Online software filter detected. Using software filter settings and ignoring hardware values\n",
      "  raw = mne.io.read_raw_brainvision(pth, preload=True, verbose=verbose)\n",
      "c:\\Users\\lukas\\Dokumente\\projects\\scp-act\\data_analysis\\notebooks\\..\\actionpy\\prepro\\prepro.py:23: RuntimeWarning: Channels contain different highpass filters. Lowest (weakest) filter setting (0.00 Hz) will be stored.\n",
      "  raw = mne.io.read_raw_brainvision(pth, preload=True, verbose=verbose)\n",
      "c:\\Users\\lukas\\Dokumente\\projects\\scp-act\\data_analysis\\notebooks\\..\\actionpy\\prepro\\prepro.py:23: RuntimeWarning: Channels contain different lowpass filters. Highest (weakest) filter setting (500.00 Hz, Nyquist limit) will be stored.\n",
      "  raw = mne.io.read_raw_brainvision(pth, preload=True, verbose=verbose)\n"
     ]
    },
    {
     "output_type": "stream",
     "name": "stdout",
     "text": [
      "Used Annotations descriptions: ['New Segment/', 'Response/R  7', 'Response/R 15', 'Stimulus/S  2', 'Stimulus/S  4']\n"
     ]
    },
    {
     "output_type": "stream",
     "name": "stderr",
     "text": [
      "c:\\Users\\lukas\\Dokumente\\projects\\scp-act\\data_analysis\\notebooks\\..\\actionpy\\prepro\\prepro.py:124: RuntimeWarning: The unit for channel(s) VEOG has changed from C to V.\n",
      "  raw.set_channel_types(mapping)\n"
     ]
    },
    {
     "output_type": "stream",
     "name": "stdout",
     "text": [
      "Not setting metadata\n",
      "Not setting metadata\n",
      "1 matching events found\n",
      "No baseline correction applied\n",
      "0 projection items activated\n",
      "0 bad epochs dropped\n"
     ]
    },
    {
     "output_type": "stream",
     "name": "stderr",
     "text": [
      "[Parallel(n_jobs=8)]: Using backend LokyBackend with 8 concurrent workers.\n"
     ]
    },
    {
     "output_type": "stream",
     "name": "stdout",
     "text": [
      "Creating RawArray with float64 data, n_channels=1, n_times=42101\n",
      "    Range : 0 ... 42100 =      0.000 ...   421.000 secs\n",
      "Ready.\n"
     ]
    },
    {
     "output_type": "stream",
     "name": "stderr",
     "text": [
      "[Parallel(n_jobs=8)]: Done   1 tasks      | elapsed:    2.2s\n",
      "[Parallel(n_jobs=8)]: Done   1 out of   1 | elapsed:    2.2s finished\n",
      "C:\\Users\\lukas\\virtualenvs\\eegenv\\lib\\site-packages\\autoreject\\ransac.py:226: RuntimeWarning: No bad channels to interpolate. Doing nothing...\n",
      "  epochs.interpolate_bads(reset_bads=True)\n",
      "c:\\Users\\lukas\\Dokumente\\projects\\scp-act\\data_analysis\\notebooks\\..\\actionpy\\prepro\\prepro.py:147: DeprecationWarning: Version 0.23 introduced max_iter=\"auto\", setting max_iter=1000 for `fastica` and max_iter=500 for `infomax` and `picard`. The current default of max_iter=200 will be changed to \"auto\" in version 0.24.\n",
      "  ica = mne.preprocessing.ICA(n_components=n_components,\n"
     ]
    },
    {
     "output_type": "stream",
     "name": "stdout",
     "text": [
      "\t vol_02\n",
      "D:/data/scp-act/S05/S05_vol_02.vhdr\n"
     ]
    },
    {
     "output_type": "stream",
     "name": "stderr",
     "text": [
      "c:\\Users\\lukas\\Dokumente\\projects\\scp-act\\data_analysis\\notebooks\\..\\actionpy\\prepro\\prepro.py:23: RuntimeWarning: Online software filter detected. Using software filter settings and ignoring hardware values\n",
      "  raw = mne.io.read_raw_brainvision(pth, preload=True, verbose=verbose)\n",
      "c:\\Users\\lukas\\Dokumente\\projects\\scp-act\\data_analysis\\notebooks\\..\\actionpy\\prepro\\prepro.py:23: RuntimeWarning: Channels contain different highpass filters. Lowest (weakest) filter setting (0.00 Hz) will be stored.\n",
      "  raw = mne.io.read_raw_brainvision(pth, preload=True, verbose=verbose)\n",
      "c:\\Users\\lukas\\Dokumente\\projects\\scp-act\\data_analysis\\notebooks\\..\\actionpy\\prepro\\prepro.py:23: RuntimeWarning: Channels contain different lowpass filters. Highest (weakest) filter setting (500.00 Hz, Nyquist limit) will be stored.\n",
      "  raw = mne.io.read_raw_brainvision(pth, preload=True, verbose=verbose)\n"
     ]
    },
    {
     "output_type": "stream",
     "name": "stdout",
     "text": [
      "Used Annotations descriptions: ['New Segment/', 'Response/R  7', 'Response/R 15', 'Stimulus/S  2', 'Stimulus/S  4']\n"
     ]
    },
    {
     "output_type": "stream",
     "name": "stderr",
     "text": [
      "c:\\Users\\lukas\\Dokumente\\projects\\scp-act\\data_analysis\\notebooks\\..\\actionpy\\prepro\\prepro.py:124: RuntimeWarning: The unit for channel(s) VEOG has changed from C to V.\n",
      "  raw.set_channel_types(mapping)\n"
     ]
    },
    {
     "output_type": "stream",
     "name": "stdout",
     "text": [
      "Not setting metadata\n",
      "Not setting metadata\n",
      "1 matching events found\n",
      "No baseline correction applied\n",
      "0 projection items activated\n",
      "0 bad epochs dropped\n"
     ]
    },
    {
     "output_type": "stream",
     "name": "stderr",
     "text": [
      "[Parallel(n_jobs=8)]: Using backend LokyBackend with 8 concurrent workers.\n"
     ]
    },
    {
     "output_type": "stream",
     "name": "stdout",
     "text": [
      "Creating RawArray with float64 data, n_channels=1, n_times=42100\n",
      "    Range : 0 ... 42099 =      0.000 ...   420.990 secs\n",
      "Ready.\n"
     ]
    },
    {
     "output_type": "stream",
     "name": "stderr",
     "text": [
      "[Parallel(n_jobs=8)]: Done   1 tasks      | elapsed:    2.0s\n",
      "[Parallel(n_jobs=8)]: Done   1 out of   1 | elapsed:    2.0s finished\n",
      "C:\\Users\\lukas\\virtualenvs\\eegenv\\lib\\site-packages\\autoreject\\ransac.py:226: RuntimeWarning: No bad channels to interpolate. Doing nothing...\n",
      "  epochs.interpolate_bads(reset_bads=True)\n",
      "c:\\Users\\lukas\\Dokumente\\projects\\scp-act\\data_analysis\\notebooks\\..\\actionpy\\prepro\\prepro.py:147: DeprecationWarning: Version 0.23 introduced max_iter=\"auto\", setting max_iter=1000 for `fastica` and max_iter=500 for `infomax` and `picard`. The current default of max_iter=200 will be changed to \"auto\" in version 0.24.\n",
      "  ica = mne.preprocessing.ICA(n_components=n_components,\n"
     ]
    }
   ],
   "metadata": {}
  },
  {
   "cell_type": "markdown",
   "source": [
    "# Visualize Raw SCPs\r\n",
    "Lets visualize the global field power of one condition for each participant."
   ],
   "metadata": {}
  },
  {
   "cell_type": "code",
   "execution_count": 5,
   "source": [
    "%matplotlib qt\r\n",
    "# ylim = (-90, 90)\r\n",
    "scale = 1e6\r\n",
    "n = len(data)\r\n",
    "cond = 0\r\n",
    "plt.figure()\r\n",
    "for i, sub in enumerate(data):\r\n",
    "    num = n*100 + 11 + i\r\n",
    "    raw = sub[cond]\r\n",
    "    plt.subplot(num)\r\n",
    "    plt.plot(raw.times, np.std(raw.copy().filter(None, 0.5).pick_types(eeg=True)._data, axis=0)*scale)\r\n",
    "    plt.title(f'GFP Subject {subjects[i]}')\r\n",
    "plt.suptitle(f'Cond {files[cond]}')\r\n",
    "plt.tight_layout()\r\n"
   ],
   "outputs": [
    {
     "output_type": "stream",
     "name": "stderr",
     "text": [
      "C:\\Users\\lukas\\AppData\\Local\\Temp/ipykernel_9336/1210994302.py:14: UserWarning: Tight layout not applied. tight_layout cannot make axes height small enough to accommodate all axes decorations\n",
      "  plt.tight_layout()\n"
     ]
    }
   ],
   "metadata": {}
  },
  {
   "cell_type": "markdown",
   "source": [
    "# Global Descriptors\r\n",
    "## Calculation"
   ],
   "metadata": {}
  },
  {
   "cell_type": "code",
   "execution_count": 51,
   "source": [
    "from nolds import sampen\r\n",
    "from actionpy.analysis import run_length_encoding, omega_descriptor, sigma_descriptor, phi_descriptor, average_phase_synchrony\r\n",
    "\r\n",
    "metrics = (omega_descriptor, sigma_descriptor, phi_descriptor, average_phase_synchrony)\r\n",
    "metric_names = ('omega', 'sigma', 'phi', 'phase_synchrony')\r\n",
    "condition_names = ['Rest_1', 'Rest_2', 'Expectancy_1', 'Relaxation_1', 'Relaxation_2', 'Volition_1', 'Volition_2']\r\n",
    "\r\n",
    "n = 7\r\n",
    "results_gd = dict()\r\n",
    "for cond, filename in enumerate(condition_names):\r\n",
    "    print(filename)\r\n",
    "    results_gd[filename] = dict()\r\n",
    "    for metric, metric_name in zip(metrics, metric_names):\r\n",
    "        results_gd[filename][metric_name] = []\r\n",
    "        for subject in data:\r\n",
    "            subject_data = subject[cond].copy().filter(None, 0.5, method='iir').pick_types(eeg=True)._data\r\n",
    "            if metric_name == 'phi':\r\n",
    "                result = np.median( [metric(portion, sfreq=100) for portion in np.array_split(subject_data, n, axis=1)] )\r\n",
    "            else:\r\n",
    "                result = np.median( [metric(portion) for portion in np.array_split(subject_data, n, axis=1)] )\r\n",
    "            results_gd[filename][metric_name].append(result)\r\n"
   ],
   "outputs": [
    {
     "output_type": "stream",
     "name": "stdout",
     "text": [
      "Rest_1\n",
      "Rest_2\n",
      "Expectancy_1\n",
      "Relaxation_1\n",
      "Relaxation_2\n",
      "Volition_1\n",
      "Volition_2\n"
     ]
    }
   ],
   "metadata": {}
  },
  {
   "cell_type": "markdown",
   "source": [
    "## Visualize Global Descriptors"
   ],
   "metadata": {}
  },
  {
   "cell_type": "code",
   "execution_count": 53,
   "source": [
    "import seaborn as sns\r\n",
    "%matplotlib qt\r\n",
    "condition_names = ['Rest_1', 'Rest_2', 'Expectancy_1', 'Relaxation_1', 'Relaxation_2', 'Volition_1', 'Volition_2']\r\n",
    "metric_names = ('omega', 'sigma', 'phi', 'phase_synchrony')\r\n",
    "\r\n",
    "for metric_name in metric_names:\r\n",
    "    plotvals = [np.real(results_gd[condition_name][metric_name]) for condition_name in condition_names]\r\n",
    "\r\n",
    "    plt.figure(figsize=(13, 7))\r\n",
    "    sns.boxplot(data=plotvals)\r\n",
    "    sns.stripplot(data=plotvals, size=8, color=\".3\", linewidth=1, jitter=False)\r\n",
    "    \r\n",
    "    # for isub in range(len(plotvals[0])):\r\n",
    "    #     vals = [cond[isub] for cond in plotvals]\r\n",
    "    #     plt.plot(np.arange(len(plotvals)), vals, color='k', linewidth=2)\r\n",
    "\r\n",
    "    plt.xticks(ticks=np.arange(len(plotvals)), labels=condition_names)\r\n",
    "    plt.title(metric_name)\r\n",
    "    plt.tight_layout()\r\n",
    "\r\n",
    "# multipage(r'C:\\Users\\lukas\\Dokumente\\projects\\scp-act\\figures\\report_marianne\\global\\global_descriptors.pdf', png=True)"
   ],
   "outputs": [],
   "metadata": {}
  },
  {
   "cell_type": "markdown",
   "source": [
    "# Single Channel Metrics"
   ],
   "metadata": {}
  },
  {
   "cell_type": "code",
   "execution_count": 7,
   "source": [
    "from nolds import sampen\r\n",
    "from actionpy.analysis import run_length_encoding, get_acfw, get_ptp_amplitudes, get_ptp_latencies, detrended_std\r\n",
    "\r\n",
    "metrics = (sampen, run_length_encoding, detrended_std, get_acfw, lambda x: np.median(get_ptp_amplitudes(x)), lambda x: np.median(get_ptp_latencies(x)))\r\n",
    "metric_names = ('Sample_Entropy', 'Run_Length_Encoding', 'Detrended_Standard_Deviation', 'ACFW', 'P2P Amplitudes Median', 'P2P Latencies Median')\r\n",
    "\r\n",
    "condition_names = ['Rest_1', 'Rest_2', 'Expectancy_1', 'Relaxation_1', 'Relaxation_2', 'Volition_1', 'Volition_2']\r\n",
    "\r\n",
    "ch_name = 'Cz'\r\n",
    "ch_idx = data[0][0].ch_names.index(ch_name)\r\n",
    "\r\n",
    "n = 14\r\n",
    "results_sc = dict()\r\n",
    "for cond, filename in enumerate(condition_names):\r\n",
    "    print(filename)\r\n",
    "    results_sc[filename] = dict()\r\n",
    "    for metric, metric_name in zip(metrics, metric_names):\r\n",
    "        results_sc[filename][metric_name] = []\r\n",
    "        for subject in data:\r\n",
    "            subject_data = subject[cond].copy().filter(None, 0.5, method='iir')._data\r\n",
    "            result = np.median( [metric(portion[ch_idx]) for portion in np.array_split(subject_data, n, axis=1)] )\r\n",
    "            results_sc[filename][metric_name].append(result)"
   ],
   "outputs": [
    {
     "output_type": "stream",
     "name": "stdout",
     "text": [
      "Rest_1\n",
      "Rest_2\n",
      "Expectancy_1\n",
      "Relaxation_1\n",
      "Relaxation_2\n",
      "Volition_1\n",
      "Volition_2\n"
     ]
    }
   ],
   "metadata": {}
  },
  {
   "cell_type": "code",
   "execution_count": 8,
   "source": [
    "%matplotlib qt\r\n",
    "for metric_name in metric_names:\r\n",
    "    plotvals = [np.real(results_sc[condition_name][metric_name]) for condition_name in condition_names]\r\n",
    "\r\n",
    "    plt.figure(figsize=(13, 7))\r\n",
    "    sns.boxplot(data=plotvals)\r\n",
    "    sns.stripplot(data=plotvals, size=8, color=\".3\", linewidth=1, jitter=True)\r\n",
    "    \r\n",
    "    # for isub in range(len(plotvals[0])):\r\n",
    "    #     vals = [cond[isub] for cond in plotvals]\r\n",
    "    #     plt.plot(np.arange(len(plotvals)), vals, color='k', linewidth=2)\r\n",
    "\r\n",
    "    plt.xticks(ticks=np.arange(len(plotvals)), labels=condition_names)\r\n",
    "    plt.title(metric_name)\r\n",
    "    plt.tight_layout()\r\n",
    "\r\n",
    "multipage(r'C:\\Users\\lukas\\Dokumente\\projects\\scp-act\\figures\\report_marianne\\single_channel\\Cz\\single_channel_metrics_6subs.pdf', png=True)"
   ],
   "outputs": [],
   "metadata": {}
  },
  {
   "cell_type": "markdown",
   "source": [
    "## Evaluate consistency by computing inter- and intra-condition differences"
   ],
   "metadata": {}
  },
  {
   "cell_type": "code",
   "execution_count": 56,
   "source": [
    "intra_condition_mad = dict()  # mad = mean absolute deviation\r\n",
    "inter_condition_mad = dict()\r\n",
    "\r\n",
    "\r\n",
    "intra_condition_pairs = [\r\n",
    "    ['Rest_1', 'Rest_2'],\r\n",
    "    ['Relaxation_1', 'Relaxation_2'],\r\n",
    "    ['Volition_1', 'Volition_2']\r\n",
    "]\r\n",
    "\r\n",
    "inter_condition_pairs = [\r\n",
    "    ['Rest_1', 'Relaxation_1'],\r\n",
    "    ['Rest_1', 'Relaxation_2'],\r\n",
    "    ['Rest_1', 'Volition_1'],\r\n",
    "    ['Rest_1', 'Volition_2'],\r\n",
    "\r\n",
    "    ['Rest_2', 'Relaxation_1'],\r\n",
    "    ['Rest_2', 'Relaxation_2'],\r\n",
    "    ['Rest_2', 'Volition_1'],\r\n",
    "    ['Rest_2', 'Volition_2'],\r\n",
    "\r\n",
    "    ['Relaxation_1', 'Volition_1'],\r\n",
    "    ['Relaxation_1', 'Volition_2'],\r\n",
    "    \r\n",
    "    ['Relaxation_2', 'Volition_1'],\r\n",
    "    ['Relaxation_2', 'Volition_2']\r\n",
    "]\r\n",
    "\r\n",
    "# Intra\r\n",
    "for metric_name in metric_names:\r\n",
    "    intra_condition_mad[metric_name] = []\r\n",
    "    for sub in range(len(subjects)):\r\n",
    "        differences = []\r\n",
    "        for pair in intra_condition_pairs:\r\n",
    "            cond_1, cond_2 = pair\r\n",
    "            differences.append( results_sc[cond_1][metric_name][sub] - results_sc[cond_2][metric_name][sub] )\r\n",
    "        mad = np.mean(np.abs(differences))\r\n",
    "        intra_condition_mad[metric_name].append(mad)\r\n",
    "# Inter\r\n",
    "for metric_name in metric_names:\r\n",
    "    inter_condition_mad[metric_name] = []\r\n",
    "    for sub in range(len(subjects)):\r\n",
    "        differences = []\r\n",
    "        for pair in inter_condition_pairs:\r\n",
    "            cond_1, cond_2 = pair\r\n",
    "            differences.append( results_sc[cond_1][metric_name][sub] - results_sc[cond_2][metric_name][sub] )\r\n",
    "        mad = np.mean(np.abs(differences))\r\n",
    "        inter_condition_mad[metric_name].append(mad)\r\n",
    "\r\n"
   ],
   "outputs": [],
   "metadata": {}
  },
  {
   "cell_type": "markdown",
   "source": [
    "## Transform Consistency data to pandas.DataFrame"
   ],
   "metadata": {}
  },
  {
   "cell_type": "code",
   "execution_count": 58,
   "source": [
    "import pandas as pd\r\n",
    "# Data Frame for Inter-condition differences\r\n",
    "df = pd.DataFrame(inter_condition_mad)\r\n",
    "df['Subject'] = np.arange(len(subjects))\r\n",
    "df['Group'] = ['inter'] * len(subjects)\r\n",
    "# Data Frame for Intra-condition differences\r\n",
    "df_2 = pd.DataFrame(intra_condition_mad)\r\n",
    "df_2['Subject'] = np.arange(len(subjects))\r\n",
    "df_2['Group'] = ['intra'] * len(subjects)\r\n",
    "# Merge\r\n",
    "df = df.append(df_2)\r\n",
    "\r\n",
    "# Normalize Data\r\n",
    "for col in df.columns:\r\n",
    "    if col == 'Group' or col == 'Subject':\r\n",
    "        continue\r\n",
    "    df[col] = (df[col]- df[col].mean()) / df[col].std()\r\n",
    "\r\n",
    "df_melt = df.melt(value_vars=metric_names, id_vars=['Subject', 'Group'], var_name='Metric', value_name='Inconsistency')\r\n",
    "df_melt.head()\r\n"
   ],
   "outputs": [
    {
     "output_type": "execute_result",
     "data": {
      "text/plain": [
       "   Subject  Group               Metric  Inconsistency\n",
       "0        0  inter  Run_Length_Encoding      -0.788095\n",
       "1        1  inter  Run_Length_Encoding      -0.348855\n",
       "2        2  inter  Run_Length_Encoding      -0.960979\n",
       "3        3  inter  Run_Length_Encoding       1.108603\n",
       "4        4  inter  Run_Length_Encoding       0.630821"
      ],
      "text/html": [
       "<div>\n",
       "<style scoped>\n",
       "    .dataframe tbody tr th:only-of-type {\n",
       "        vertical-align: middle;\n",
       "    }\n",
       "\n",
       "    .dataframe tbody tr th {\n",
       "        vertical-align: top;\n",
       "    }\n",
       "\n",
       "    .dataframe thead th {\n",
       "        text-align: right;\n",
       "    }\n",
       "</style>\n",
       "<table border=\"1\" class=\"dataframe\">\n",
       "  <thead>\n",
       "    <tr style=\"text-align: right;\">\n",
       "      <th></th>\n",
       "      <th>Subject</th>\n",
       "      <th>Group</th>\n",
       "      <th>Metric</th>\n",
       "      <th>Inconsistency</th>\n",
       "    </tr>\n",
       "  </thead>\n",
       "  <tbody>\n",
       "    <tr>\n",
       "      <th>0</th>\n",
       "      <td>0</td>\n",
       "      <td>inter</td>\n",
       "      <td>Run_Length_Encoding</td>\n",
       "      <td>-0.788095</td>\n",
       "    </tr>\n",
       "    <tr>\n",
       "      <th>1</th>\n",
       "      <td>1</td>\n",
       "      <td>inter</td>\n",
       "      <td>Run_Length_Encoding</td>\n",
       "      <td>-0.348855</td>\n",
       "    </tr>\n",
       "    <tr>\n",
       "      <th>2</th>\n",
       "      <td>2</td>\n",
       "      <td>inter</td>\n",
       "      <td>Run_Length_Encoding</td>\n",
       "      <td>-0.960979</td>\n",
       "    </tr>\n",
       "    <tr>\n",
       "      <th>3</th>\n",
       "      <td>3</td>\n",
       "      <td>inter</td>\n",
       "      <td>Run_Length_Encoding</td>\n",
       "      <td>1.108603</td>\n",
       "    </tr>\n",
       "    <tr>\n",
       "      <th>4</th>\n",
       "      <td>4</td>\n",
       "      <td>inter</td>\n",
       "      <td>Run_Length_Encoding</td>\n",
       "      <td>0.630821</td>\n",
       "    </tr>\n",
       "  </tbody>\n",
       "</table>\n",
       "</div>"
      ]
     },
     "metadata": {},
     "execution_count": 58
    }
   ],
   "metadata": {}
  },
  {
   "cell_type": "markdown",
   "source": [
    "## Visualize"
   ],
   "metadata": {}
  },
  {
   "cell_type": "code",
   "execution_count": 60,
   "source": [
    "sns.set(font_scale=1.1)\r\n",
    "plt.figure(figsize=(15, 8))\r\n",
    "sns.boxplot(data=df_melt.loc[df_melt['Subject'] <4], x='Metric', y='Inconsistency', hue='Group')\r\n",
    "sns.stripplot(data=df_melt.loc[df_melt['Subject'] <4], x='Metric', y='Inconsistency', hue='Group', jitter=True)\r\n"
   ],
   "outputs": [
    {
     "output_type": "execute_result",
     "data": {
      "text/plain": [
       "<AxesSubplot:xlabel='Metric', ylabel='Inconsistency'>"
      ]
     },
     "metadata": {},
     "execution_count": 60
    }
   ],
   "metadata": {}
  },
  {
   "cell_type": "markdown",
   "source": [
    "## Statistics"
   ],
   "metadata": {}
  },
  {
   "cell_type": "code",
   "execution_count": 136,
   "source": [
    "import pingouin as pg\r\n",
    "pg.rm_anova(data=df_melt.loc[df_melt['Subject'] <4], dv='Inconsistency', within='Group', subject='Subject', detailed=True)\r\n",
    "\r\n",
    "# pg.anova(data=df_melt.loc[df_melt['Subject'] <4], dv='Inconsistency', between='Group', detailed=True)"
   ],
   "outputs": [
    {
     "output_type": "execute_result",
     "data": {
      "text/plain": [
       "  Source        SS  DF        MS         F     p-unc       np2  eps\n",
       "0  Group  0.497055   1  0.497055  2.812349  0.192134  0.483858  1.0\n",
       "1  Error  0.530220   3  0.176740       NaN       NaN       NaN  NaN"
      ],
      "text/html": [
       "<div>\n",
       "<style scoped>\n",
       "    .dataframe tbody tr th:only-of-type {\n",
       "        vertical-align: middle;\n",
       "    }\n",
       "\n",
       "    .dataframe tbody tr th {\n",
       "        vertical-align: top;\n",
       "    }\n",
       "\n",
       "    .dataframe thead th {\n",
       "        text-align: right;\n",
       "    }\n",
       "</style>\n",
       "<table border=\"1\" class=\"dataframe\">\n",
       "  <thead>\n",
       "    <tr style=\"text-align: right;\">\n",
       "      <th></th>\n",
       "      <th>Source</th>\n",
       "      <th>SS</th>\n",
       "      <th>DF</th>\n",
       "      <th>MS</th>\n",
       "      <th>F</th>\n",
       "      <th>p-unc</th>\n",
       "      <th>np2</th>\n",
       "      <th>eps</th>\n",
       "    </tr>\n",
       "  </thead>\n",
       "  <tbody>\n",
       "    <tr>\n",
       "      <th>0</th>\n",
       "      <td>Group</td>\n",
       "      <td>0.497055</td>\n",
       "      <td>1</td>\n",
       "      <td>0.497055</td>\n",
       "      <td>2.812349</td>\n",
       "      <td>0.192134</td>\n",
       "      <td>0.483858</td>\n",
       "      <td>1.0</td>\n",
       "    </tr>\n",
       "    <tr>\n",
       "      <th>1</th>\n",
       "      <td>Error</td>\n",
       "      <td>0.530220</td>\n",
       "      <td>3</td>\n",
       "      <td>0.176740</td>\n",
       "      <td>NaN</td>\n",
       "      <td>NaN</td>\n",
       "      <td>NaN</td>\n",
       "      <td>NaN</td>\n",
       "    </tr>\n",
       "  </tbody>\n",
       "</table>\n",
       "</div>"
      ]
     },
     "metadata": {},
     "execution_count": 136
    }
   ],
   "metadata": {}
  },
  {
   "cell_type": "markdown",
   "source": [
    "## Visualize Single-Channel Metrics"
   ],
   "metadata": {}
  },
  {
   "cell_type": "code",
   "execution_count": 107,
   "source": [
    "import seaborn as sns\r\n",
    "\r\n",
    "for channel_name in ch_names:\r\n",
    "    for metric_name in metric_names:\r\n",
    "        plt.figure()\r\n",
    "        sns.boxplot(data=results[channel_name][metric_name])\r\n",
    "        plt.xticks(ticks=np.arange(len(files)), labels=files)\r\n",
    "        plt.title(f'{metric_name} {channel_name}')\r\n",
    "        "
   ],
   "outputs": [
    {
     "output_type": "error",
     "ename": "NameError",
     "evalue": "name 'ch_names' is not defined",
     "traceback": [
      "\u001b[1;31m---------------------------------------------------------------------------\u001b[0m",
      "\u001b[1;31mNameError\u001b[0m                                 Traceback (most recent call last)",
      "\u001b[1;32m~\\AppData\\Local\\Temp/ipykernel_11684/1813581376.py\u001b[0m in \u001b[0;36m<module>\u001b[1;34m\u001b[0m\n\u001b[0;32m      1\u001b[0m \u001b[1;32mimport\u001b[0m \u001b[0mseaborn\u001b[0m \u001b[1;32mas\u001b[0m \u001b[0msns\u001b[0m\u001b[1;33m\u001b[0m\u001b[1;33m\u001b[0m\u001b[0m\n\u001b[0;32m      2\u001b[0m \u001b[1;33m\u001b[0m\u001b[0m\n\u001b[1;32m----> 3\u001b[1;33m \u001b[1;32mfor\u001b[0m \u001b[0mchannel_name\u001b[0m \u001b[1;32min\u001b[0m \u001b[0mch_names\u001b[0m\u001b[1;33m:\u001b[0m\u001b[1;33m\u001b[0m\u001b[1;33m\u001b[0m\u001b[0m\n\u001b[0m\u001b[0;32m      4\u001b[0m     \u001b[1;32mfor\u001b[0m \u001b[0mmetric_name\u001b[0m \u001b[1;32min\u001b[0m \u001b[0mmetric_names\u001b[0m\u001b[1;33m:\u001b[0m\u001b[1;33m\u001b[0m\u001b[1;33m\u001b[0m\u001b[0m\n\u001b[0;32m      5\u001b[0m         \u001b[0mplt\u001b[0m\u001b[1;33m.\u001b[0m\u001b[0mfigure\u001b[0m\u001b[1;33m(\u001b[0m\u001b[1;33m)\u001b[0m\u001b[1;33m\u001b[0m\u001b[1;33m\u001b[0m\u001b[0m\n",
      "\u001b[1;31mNameError\u001b[0m: name 'ch_names' is not defined"
     ]
    }
   ],
   "metadata": {}
  },
  {
   "cell_type": "code",
   "execution_count": null,
   "source": [
    "from scipy.stats import pearsonr\r\n",
    "from sklearn.metrics import mutual_info_score\r\n",
    "\r\n",
    "ch1 = raw.ch_names.index('Cz')\r\n",
    "ch2 = raw.ch_names.index('Resp')\r\n",
    "mutual_information_scores = []\r\n",
    "correlation_scores = []\r\n",
    "for cnd in range(4):\r\n",
    "    mi = mutual_info_score(datas[cnd][ch1], datas[cnd][ch2])\r\n",
    "    r = pearsonr(datas[cnd][ch1], datas[cnd][ch2])\r\n",
    "    print(cnd, mi)\r\n",
    "    mutual_information_scores.append(mi)\r\n",
    "    correlation_scores.append(r[0])\r\n",
    "\r\n",
    "plt.figure()\r\n",
    "plt.bar(files, mutual_information_scores)\r\n",
    "plt.ylim(min(mutual_information_scores)*0.99, max(mutual_information_scores)*1.01)\r\n",
    "\r\n",
    "plt.figure()\r\n",
    "plt.bar(files, correlation_scores)\r\n"
   ],
   "outputs": [],
   "metadata": {}
  },
  {
   "cell_type": "markdown",
   "source": [
    "# Coupling between SCP and Respiration"
   ],
   "metadata": {}
  },
  {
   "cell_type": "code",
   "execution_count": null,
   "source": [
    "corrs = []\r\n",
    "psis = []\r\n",
    "n = 14\r\n",
    "for raw in raws:\r\n",
    "    data = raw.copy().filter(None, 0.5, , method='iir', n_jobs=-1).pick(['Cz', 'Resp'])._data\r\n",
    "    corr = [mne.connectivity.envelope_correlation(np.expand_dims(portion, axis=0))[0,1] for portion in np.array_split(data, n, axis=1)]\r\n",
    "    corrs.append( corr )\r\n",
    "    \r\n",
    "    \r\n",
    "    indices = (np.array([0]), np.array([1]))\r\n",
    "    psi = [np.squeeze(mne.connectivity.phase_slope_index(np.expand_dims(portion, axis=0), indices=indices)[0]) for portion in np.array_split(data, n, axis=1)]\r\n",
    "    psis.append(psi)\r\n",
    "\r\n",
    "results['coupling'] = corrs\r\n",
    "results['direction'] = psis\r\n"
   ],
   "outputs": [],
   "metadata": {}
  },
  {
   "cell_type": "code",
   "execution_count": null,
   "source": [
    "%matplotlib qt\r\n",
    "\r\n",
    "plt.figure()\r\n",
    "plt.subplot(211)\r\n",
    "sns.boxplot(data=results['coupling'])\r\n",
    "plt.title(f'Envelope Correlation')\r\n",
    "\r\n",
    "plt.subplot(212)\r\n",
    "sns.boxplot(data=results['direction'])\r\n",
    "plt.title(f'Phase Slope Index')\r\n",
    "\r\n",
    "plt.tight_layout()\r\n"
   ],
   "outputs": [],
   "metadata": {}
  },
  {
   "cell_type": "code",
   "execution_count": 169,
   "source": [
    "peak_to_peak_latencies = []\r\n",
    "peak_to_peak_amplitudes = []\r\n",
    "\r\n",
    "for pos_peak_idx in pos_peak_idc:\r\n",
    "    \r\n",
    "    next_negative_idc = np.where(neg_peak_idc>pos_peak_idx)[0]\r\n",
    "    \r\n",
    "    if next_negative_idc.size==0:\r\n",
    "        break\r\n",
    "    else:\r\n",
    "        next_negative_idx = next_negative_idc[0]\r\n",
    "    \r\n",
    "    neg_peak_idx = neg_peak_idc[next_negative_idx]\r\n",
    "\r\n",
    "    idx_pair = (pos_peak_idx, neg_peak_idx)\r\n",
    "    diff = np.abs(idx_pair[0]-idx_pair[1])\r\n",
    "    \r\n",
    "    peak_to_peak_latencies.append( diff / raw.info['sfreq'] )\r\n",
    "    amp_diff = np.abs(arr[pos_peak_idx] - arr[neg_peak_idx])\r\n",
    "    peak_to_peak_amplitudes.append( amp_diff )\r\n",
    "\r\n",
    "\r\n",
    "\r\n",
    "\r\n",
    "peak_to_peak_latencies = np.array(peak_to_peak_latencies)\r\n",
    "peak_to_peak_amplitudes = np.array(peak_to_peak_amplitudes)\r\n"
   ],
   "outputs": [],
   "metadata": {}
  },
  {
   "cell_type": "code",
   "execution_count": 168,
   "source": [
    "plt.figure()\r\n",
    "sns.distplot(peak_to_peak_amplitudes*1e6)\r\n",
    "plt.tight_layout()\r\n",
    "\r\n",
    "plt.figure()\r\n",
    "sns.distplot(peak_to_peak_latencies)\r\n",
    "plt.tight_layout()"
   ],
   "outputs": [
    {
     "output_type": "stream",
     "name": "stderr",
     "text": [
      "C:\\Users\\lukas\\virtualenvs\\eegenv\\lib\\site-packages\\seaborn\\distributions.py:2557: FutureWarning: `distplot` is a deprecated function and will be removed in a future version. Please adapt your code to use either `displot` (a figure-level function with similar flexibility) or `histplot` (an axes-level function for histograms).\n",
      "  warnings.warn(msg, FutureWarning)\n",
      "C:\\Users\\lukas\\virtualenvs\\eegenv\\lib\\site-packages\\seaborn\\distributions.py:2557: FutureWarning: `distplot` is a deprecated function and will be removed in a future version. Please adapt your code to use either `displot` (a figure-level function with similar flexibility) or `histplot` (an axes-level function for histograms).\n",
      "  warnings.warn(msg, FutureWarning)\n"
     ]
    }
   ],
   "metadata": {}
  },
  {
   "cell_type": "code",
   "execution_count": null,
   "source": [],
   "outputs": [],
   "metadata": {}
  }
 ],
 "metadata": {
  "orig_nbformat": 4,
  "language_info": {
   "name": "python",
   "version": "3.8.10",
   "mimetype": "text/x-python",
   "codemirror_mode": {
    "name": "ipython",
    "version": 3
   },
   "pygments_lexer": "ipython3",
   "nbconvert_exporter": "python",
   "file_extension": ".py"
  },
  "kernelspec": {
   "name": "python3",
   "display_name": "Python 3.8.10 64-bit ('eegenv': virtualenvwrapper)"
  },
  "interpreter": {
   "hash": "b3ab6a524f8fdefa2fba1a0ab7407e8dbd386bc97b991bfb50d01a11f6cd0d5f"
  }
 },
 "nbformat": 4,
 "nbformat_minor": 2
}