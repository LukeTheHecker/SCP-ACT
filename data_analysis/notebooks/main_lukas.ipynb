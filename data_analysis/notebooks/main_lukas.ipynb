{
 "cells": [
  {
   "cell_type": "code",
   "execution_count": 1,
   "source": [
    "import sys; sys.path.insert(1, '../')\r\n",
    "import os\r\n",
    "import numpy as np\r\n",
    "import mne\r\n",
    "import matplotlib.pyplot as plt\r\n",
    "import seaborn as sns\r\n",
    "from actionpy.prepro import get_data, preprocessing\r\n",
    "from actionpy.util import multipage, filtparams\r\n",
    "\r\n",
    "sns.set(font_scale=1.25, font='georgia', style='whitegrid')\r\n",
    "\r\n",
    "%load_ext autoreload\r\n",
    "%autoreload 2"
   ],
   "outputs": [],
   "metadata": {}
  },
  {
   "cell_type": "markdown",
   "source": [
    "# Preprocessing"
   ],
   "metadata": {}
  },
  {
   "cell_type": "code",
   "execution_count": 2,
   "source": [
    "base_path = 'D:/data/scp-act'\r\n",
    "subjects = [folder for folder in os.listdir(base_path) if folder.startswith('S')]\r\n",
    "\r\n",
    "files = ['rest_01', 'rest_02', 'exp_01', 'drmt_01', 'drmt_02', 'vol_01', 'vol_02']\r\n",
    "ending = '.vhdr'\r\n",
    "\r\n",
    "data = []\r\n",
    "for subject in subjects:\r\n",
    "    print(subject)\r\n",
    "    raws = []\r\n",
    "    path = base_path + '/' + subject + '/' + subject + '_'\r\n",
    "    for file in files:\r\n",
    "        print('\\t', file)\r\n",
    "        pth_raw = path + file + ending\r\n",
    "        print(pth_raw)\r\n",
    "        raws.append( preprocessing(pth_raw) )\r\n",
    "    data.append(raws)"
   ],
   "outputs": [
    {
     "output_type": "stream",
     "name": "stdout",
     "text": [
      "S00\n",
      "\t rest_01\n",
      "D:/data/scp-act/S00/S00_rest_01.vhdr\n"
     ]
    },
    {
     "output_type": "stream",
     "name": "stderr",
     "text": [
      "c:\\Users\\lukas\\Dokumente\\projects\\scp-act\\data_analysis\\notebooks\\..\\actionpy\\prepro\\prepro.py:24: RuntimeWarning: Online software filter detected. Using software filter settings and ignoring hardware values\n",
      "  raw = mne.io.read_raw_brainvision(pth, preload=True, verbose=verbose)\n",
      "c:\\Users\\lukas\\Dokumente\\projects\\scp-act\\data_analysis\\notebooks\\..\\actionpy\\prepro\\prepro.py:24: RuntimeWarning: Channels contain different highpass filters. Lowest (weakest) filter setting (0.00 Hz) will be stored.\n",
      "  raw = mne.io.read_raw_brainvision(pth, preload=True, verbose=verbose)\n",
      "c:\\Users\\lukas\\Dokumente\\projects\\scp-act\\data_analysis\\notebooks\\..\\actionpy\\prepro\\prepro.py:24: RuntimeWarning: Channels contain different lowpass filters. Highest (weakest) filter setting (500.00 Hz, Nyquist limit) will be stored.\n",
      "  raw = mne.io.read_raw_brainvision(pth, preload=True, verbose=verbose)\n"
     ]
    },
    {
     "output_type": "stream",
     "name": "stdout",
     "text": [
      "Used Annotations descriptions: ['New Segment/', 'Stimulus/S  2', 'Stimulus/S  4']\n"
     ]
    },
    {
     "output_type": "stream",
     "name": "stderr",
     "text": [
      "c:\\Users\\lukas\\Dokumente\\projects\\scp-act\\data_analysis\\notebooks\\..\\actionpy\\prepro\\prepro.py:125: RuntimeWarning: The unit for channel(s) VEOG has changed from C to V.\n",
      "  raw.set_channel_types(mapping)\n"
     ]
    },
    {
     "output_type": "stream",
     "name": "stdout",
     "text": [
      "Not setting metadata\n",
      "Not setting metadata\n",
      "1 matching events found\n",
      "No baseline correction applied\n",
      "0 projection items activated\n",
      "0 bad epochs dropped\n"
     ]
    },
    {
     "output_type": "stream",
     "name": "stderr",
     "text": [
      "[Parallel(n_jobs=8)]: Using backend LokyBackend with 8 concurrent workers.\n",
      "[Parallel(n_jobs=8)]: Done   1 tasks      | elapsed:    7.1s\n",
      "[Parallel(n_jobs=8)]: Done   1 out of   1 | elapsed:    7.1s finished\n",
      "C:\\Users\\lukas\\virtualenvs\\eegenv\\lib\\site-packages\\autoreject\\ransac.py:226: RuntimeWarning: No bad channels to interpolate. Doing nothing...\n",
      "  epochs.interpolate_bads(reset_bads=True)\n"
     ]
    },
    {
     "output_type": "stream",
     "name": "stdout",
     "text": [
      "Creating RawArray with float64 data, n_channels=1, n_times=42100\n",
      "    Range : 0 ... 42099 =      0.000 ...   420.990 secs\n",
      "Ready.\n"
     ]
    },
    {
     "output_type": "stream",
     "name": "stderr",
     "text": [
      "c:\\Users\\lukas\\Dokumente\\projects\\scp-act\\data_analysis\\notebooks\\..\\actionpy\\prepro\\prepro.py:148: DeprecationWarning: Version 0.23 introduced max_iter=\"auto\", setting max_iter=1000 for `fastica` and max_iter=500 for `infomax` and `picard`. The current default of max_iter=200 will be changed to \"auto\" in version 0.24.\n",
      "  ica = mne.preprocessing.ICA(n_components=n_components,\n"
     ]
    },
    {
     "output_type": "stream",
     "name": "stdout",
     "text": [
      "\t rest_02\n",
      "D:/data/scp-act/S00/S00_rest_02.vhdr\n"
     ]
    },
    {
     "output_type": "stream",
     "name": "stderr",
     "text": [
      "c:\\Users\\lukas\\Dokumente\\projects\\scp-act\\data_analysis\\notebooks\\..\\actionpy\\prepro\\prepro.py:24: RuntimeWarning: Online software filter detected. Using software filter settings and ignoring hardware values\n",
      "  raw = mne.io.read_raw_brainvision(pth, preload=True, verbose=verbose)\n",
      "c:\\Users\\lukas\\Dokumente\\projects\\scp-act\\data_analysis\\notebooks\\..\\actionpy\\prepro\\prepro.py:24: RuntimeWarning: Channels contain different highpass filters. Lowest (weakest) filter setting (0.00 Hz) will be stored.\n",
      "  raw = mne.io.read_raw_brainvision(pth, preload=True, verbose=verbose)\n",
      "c:\\Users\\lukas\\Dokumente\\projects\\scp-act\\data_analysis\\notebooks\\..\\actionpy\\prepro\\prepro.py:24: RuntimeWarning: Channels contain different lowpass filters. Highest (weakest) filter setting (500.00 Hz, Nyquist limit) will be stored.\n",
      "  raw = mne.io.read_raw_brainvision(pth, preload=True, verbose=verbose)\n"
     ]
    },
    {
     "output_type": "stream",
     "name": "stdout",
     "text": [
      "Used Annotations descriptions: ['New Segment/', 'Stimulus/S  2', 'Stimulus/S  4', 'Stimulus/S 14']\n"
     ]
    },
    {
     "output_type": "stream",
     "name": "stderr",
     "text": [
      "c:\\Users\\lukas\\Dokumente\\projects\\scp-act\\data_analysis\\notebooks\\..\\actionpy\\prepro\\prepro.py:125: RuntimeWarning: The unit for channel(s) VEOG has changed from C to V.\n",
      "  raw.set_channel_types(mapping)\n"
     ]
    },
    {
     "output_type": "stream",
     "name": "stdout",
     "text": [
      "Not setting metadata\n",
      "Not setting metadata\n",
      "1 matching events found\n",
      "No baseline correction applied\n",
      "0 projection items activated\n",
      "0 bad epochs dropped\n"
     ]
    },
    {
     "output_type": "stream",
     "name": "stderr",
     "text": [
      "[Parallel(n_jobs=8)]: Using backend LokyBackend with 8 concurrent workers.\n",
      "[Parallel(n_jobs=8)]: Done   1 tasks      | elapsed:    6.6s\n",
      "[Parallel(n_jobs=8)]: Done   1 out of   1 | elapsed:    6.6s finished\n",
      "C:\\Users\\lukas\\virtualenvs\\eegenv\\lib\\site-packages\\autoreject\\ransac.py:226: RuntimeWarning: No bad channels to interpolate. Doing nothing...\n",
      "  epochs.interpolate_bads(reset_bads=True)\n"
     ]
    },
    {
     "output_type": "stream",
     "name": "stdout",
     "text": [
      "Creating RawArray with float64 data, n_channels=1, n_times=42100\n",
      "    Range : 0 ... 42099 =      0.000 ...   420.990 secs\n",
      "Ready.\n"
     ]
    },
    {
     "output_type": "stream",
     "name": "stderr",
     "text": [
      "c:\\Users\\lukas\\Dokumente\\projects\\scp-act\\data_analysis\\notebooks\\..\\actionpy\\prepro\\prepro.py:148: DeprecationWarning: Version 0.23 introduced max_iter=\"auto\", setting max_iter=1000 for `fastica` and max_iter=500 for `infomax` and `picard`. The current default of max_iter=200 will be changed to \"auto\" in version 0.24.\n",
      "  ica = mne.preprocessing.ICA(n_components=n_components,\n"
     ]
    },
    {
     "output_type": "stream",
     "name": "stdout",
     "text": [
      "\t exp_01\n",
      "D:/data/scp-act/S00/S00_exp_01.vhdr\n"
     ]
    },
    {
     "output_type": "stream",
     "name": "stderr",
     "text": [
      "c:\\Users\\lukas\\Dokumente\\projects\\scp-act\\data_analysis\\notebooks\\..\\actionpy\\prepro\\prepro.py:24: RuntimeWarning: Online software filter detected. Using software filter settings and ignoring hardware values\n",
      "  raw = mne.io.read_raw_brainvision(pth, preload=True, verbose=verbose)\n",
      "c:\\Users\\lukas\\Dokumente\\projects\\scp-act\\data_analysis\\notebooks\\..\\actionpy\\prepro\\prepro.py:24: RuntimeWarning: Channels contain different highpass filters. Lowest (weakest) filter setting (0.00 Hz) will be stored.\n",
      "  raw = mne.io.read_raw_brainvision(pth, preload=True, verbose=verbose)\n",
      "c:\\Users\\lukas\\Dokumente\\projects\\scp-act\\data_analysis\\notebooks\\..\\actionpy\\prepro\\prepro.py:24: RuntimeWarning: Channels contain different lowpass filters. Highest (weakest) filter setting (500.00 Hz, Nyquist limit) will be stored.\n",
      "  raw = mne.io.read_raw_brainvision(pth, preload=True, verbose=verbose)\n"
     ]
    },
    {
     "output_type": "stream",
     "name": "stdout",
     "text": [
      "Used Annotations descriptions: ['New Segment/', 'Response/R  7', 'Response/R 15', 'Stimulus/S  2', 'Stimulus/S  4', 'Stimulus/S  6', 'Stimulus/S 14']\n"
     ]
    },
    {
     "output_type": "stream",
     "name": "stderr",
     "text": [
      "c:\\Users\\lukas\\Dokumente\\projects\\scp-act\\data_analysis\\notebooks\\..\\actionpy\\prepro\\prepro.py:125: RuntimeWarning: The unit for channel(s) VEOG has changed from C to V.\n",
      "  raw.set_channel_types(mapping)\n"
     ]
    },
    {
     "output_type": "stream",
     "name": "stdout",
     "text": [
      "Not setting metadata\n",
      "Not setting metadata\n",
      "1 matching events found\n",
      "No baseline correction applied\n",
      "0 projection items activated\n",
      "0 bad epochs dropped\n"
     ]
    },
    {
     "output_type": "stream",
     "name": "stderr",
     "text": [
      "[Parallel(n_jobs=8)]: Using backend LokyBackend with 8 concurrent workers.\n"
     ]
    },
    {
     "output_type": "stream",
     "name": "stdout",
     "text": [
      "Interpolating bad channels\n",
      "    Automatic origin fit: head of radius 92.0 mm\n",
      "Computing interpolation matrix from 27 sensor positions\n",
      "Interpolating 4 sensors\n"
     ]
    },
    {
     "output_type": "stream",
     "name": "stderr",
     "text": [
      "[Parallel(n_jobs=8)]: Done   1 tasks      | elapsed:    5.7s\n",
      "[Parallel(n_jobs=8)]: Done   1 out of   1 | elapsed:    5.7s finished\n"
     ]
    },
    {
     "output_type": "stream",
     "name": "stdout",
     "text": [
      "Creating RawArray with float64 data, n_channels=1, n_times=42101\n",
      "    Range : 0 ... 42100 =      0.000 ...   421.000 secs\n",
      "Ready.\n"
     ]
    },
    {
     "output_type": "stream",
     "name": "stderr",
     "text": [
      "c:\\Users\\lukas\\Dokumente\\projects\\scp-act\\data_analysis\\notebooks\\..\\actionpy\\prepro\\prepro.py:148: DeprecationWarning: Version 0.23 introduced max_iter=\"auto\", setting max_iter=1000 for `fastica` and max_iter=500 for `infomax` and `picard`. The current default of max_iter=200 will be changed to \"auto\" in version 0.24.\n",
      "  ica = mne.preprocessing.ICA(n_components=n_components,\n"
     ]
    },
    {
     "output_type": "stream",
     "name": "stdout",
     "text": [
      "\t drmt_01\n",
      "D:/data/scp-act/S00/S00_drmt_01.vhdr\n"
     ]
    },
    {
     "output_type": "stream",
     "name": "stderr",
     "text": [
      "c:\\Users\\lukas\\Dokumente\\projects\\scp-act\\data_analysis\\notebooks\\..\\actionpy\\prepro\\prepro.py:24: RuntimeWarning: Online software filter detected. Using software filter settings and ignoring hardware values\n",
      "  raw = mne.io.read_raw_brainvision(pth, preload=True, verbose=verbose)\n",
      "c:\\Users\\lukas\\Dokumente\\projects\\scp-act\\data_analysis\\notebooks\\..\\actionpy\\prepro\\prepro.py:24: RuntimeWarning: Channels contain different highpass filters. Lowest (weakest) filter setting (0.00 Hz) will be stored.\n",
      "  raw = mne.io.read_raw_brainvision(pth, preload=True, verbose=verbose)\n",
      "c:\\Users\\lukas\\Dokumente\\projects\\scp-act\\data_analysis\\notebooks\\..\\actionpy\\prepro\\prepro.py:24: RuntimeWarning: Channels contain different lowpass filters. Highest (weakest) filter setting (500.00 Hz, Nyquist limit) will be stored.\n",
      "  raw = mne.io.read_raw_brainvision(pth, preload=True, verbose=verbose)\n"
     ]
    },
    {
     "output_type": "stream",
     "name": "stdout",
     "text": [
      "Used Annotations descriptions: ['New Segment/', 'Stimulus/S  2', 'Stimulus/S  4', 'Stimulus/S  6', 'Stimulus/S 14']\n"
     ]
    },
    {
     "output_type": "stream",
     "name": "stderr",
     "text": [
      "c:\\Users\\lukas\\Dokumente\\projects\\scp-act\\data_analysis\\notebooks\\..\\actionpy\\prepro\\prepro.py:125: RuntimeWarning: The unit for channel(s) VEOG has changed from C to V.\n",
      "  raw.set_channel_types(mapping)\n"
     ]
    },
    {
     "output_type": "stream",
     "name": "stdout",
     "text": [
      "Not setting metadata\n",
      "Not setting metadata\n",
      "1 matching events found\n",
      "No baseline correction applied\n",
      "0 projection items activated\n",
      "0 bad epochs dropped\n"
     ]
    },
    {
     "output_type": "stream",
     "name": "stderr",
     "text": [
      "[Parallel(n_jobs=8)]: Using backend LokyBackend with 8 concurrent workers.\n"
     ]
    },
    {
     "output_type": "stream",
     "name": "stdout",
     "text": [
      "Interpolating bad channels\n",
      "    Automatic origin fit: head of radius 92.0 mm\n",
      "Computing interpolation matrix from 28 sensor positions\n",
      "Interpolating 3 sensors\n"
     ]
    },
    {
     "output_type": "stream",
     "name": "stderr",
     "text": [
      "[Parallel(n_jobs=8)]: Done   1 tasks      | elapsed:    6.2s\n",
      "[Parallel(n_jobs=8)]: Done   1 out of   1 | elapsed:    6.2s finished\n"
     ]
    },
    {
     "output_type": "stream",
     "name": "stdout",
     "text": [
      "Creating RawArray with float64 data, n_channels=1, n_times=42000\n",
      "    Range : 0 ... 41999 =      0.000 ...   419.990 secs\n",
      "Ready.\n"
     ]
    },
    {
     "output_type": "stream",
     "name": "stderr",
     "text": [
      "c:\\Users\\lukas\\Dokumente\\projects\\scp-act\\data_analysis\\notebooks\\..\\actionpy\\prepro\\prepro.py:148: DeprecationWarning: Version 0.23 introduced max_iter=\"auto\", setting max_iter=1000 for `fastica` and max_iter=500 for `infomax` and `picard`. The current default of max_iter=200 will be changed to \"auto\" in version 0.24.\n",
      "  ica = mne.preprocessing.ICA(n_components=n_components,\n"
     ]
    },
    {
     "output_type": "stream",
     "name": "stdout",
     "text": [
      "\t drmt_02\n",
      "D:/data/scp-act/S00/S00_drmt_02.vhdr\n"
     ]
    },
    {
     "output_type": "stream",
     "name": "stderr",
     "text": [
      "c:\\Users\\lukas\\Dokumente\\projects\\scp-act\\data_analysis\\notebooks\\..\\actionpy\\prepro\\prepro.py:24: RuntimeWarning: Online software filter detected. Using software filter settings and ignoring hardware values\n",
      "  raw = mne.io.read_raw_brainvision(pth, preload=True, verbose=verbose)\n",
      "c:\\Users\\lukas\\Dokumente\\projects\\scp-act\\data_analysis\\notebooks\\..\\actionpy\\prepro\\prepro.py:24: RuntimeWarning: Channels contain different highpass filters. Lowest (weakest) filter setting (0.00 Hz) will be stored.\n",
      "  raw = mne.io.read_raw_brainvision(pth, preload=True, verbose=verbose)\n",
      "c:\\Users\\lukas\\Dokumente\\projects\\scp-act\\data_analysis\\notebooks\\..\\actionpy\\prepro\\prepro.py:24: RuntimeWarning: Channels contain different lowpass filters. Highest (weakest) filter setting (500.00 Hz, Nyquist limit) will be stored.\n",
      "  raw = mne.io.read_raw_brainvision(pth, preload=True, verbose=verbose)\n"
     ]
    },
    {
     "output_type": "stream",
     "name": "stdout",
     "text": [
      "Used Annotations descriptions: ['New Segment/', 'Stimulus/S  2', 'Stimulus/S 14']\n"
     ]
    },
    {
     "output_type": "stream",
     "name": "stderr",
     "text": [
      "c:\\Users\\lukas\\Dokumente\\projects\\scp-act\\data_analysis\\notebooks\\..\\actionpy\\prepro\\prepro.py:125: RuntimeWarning: The unit for channel(s) VEOG has changed from C to V.\n",
      "  raw.set_channel_types(mapping)\n"
     ]
    },
    {
     "output_type": "stream",
     "name": "stdout",
     "text": [
      "Not setting metadata\n",
      "Not setting metadata\n",
      "1 matching events found\n",
      "No baseline correction applied\n",
      "0 projection items activated\n",
      "0 bad epochs dropped\n"
     ]
    },
    {
     "output_type": "stream",
     "name": "stderr",
     "text": [
      "[Parallel(n_jobs=8)]: Using backend LokyBackend with 8 concurrent workers.\n"
     ]
    },
    {
     "output_type": "stream",
     "name": "stdout",
     "text": [
      "Interpolating bad channels\n",
      "    Automatic origin fit: head of radius 92.0 mm\n",
      "Computing interpolation matrix from 28 sensor positions\n",
      "Interpolating 3 sensors\n"
     ]
    },
    {
     "output_type": "stream",
     "name": "stderr",
     "text": [
      "[Parallel(n_jobs=8)]: Done   1 tasks      | elapsed:    4.9s\n",
      "[Parallel(n_jobs=8)]: Done   1 out of   1 | elapsed:    4.9s finished\n"
     ]
    },
    {
     "output_type": "stream",
     "name": "stdout",
     "text": [
      "Creating RawArray with float64 data, n_channels=1, n_times=42000\n",
      "    Range : 0 ... 41999 =      0.000 ...   419.990 secs\n",
      "Ready.\n"
     ]
    },
    {
     "output_type": "stream",
     "name": "stderr",
     "text": [
      "c:\\Users\\lukas\\Dokumente\\projects\\scp-act\\data_analysis\\notebooks\\..\\actionpy\\prepro\\prepro.py:148: DeprecationWarning: Version 0.23 introduced max_iter=\"auto\", setting max_iter=1000 for `fastica` and max_iter=500 for `infomax` and `picard`. The current default of max_iter=200 will be changed to \"auto\" in version 0.24.\n",
      "  ica = mne.preprocessing.ICA(n_components=n_components,\n"
     ]
    },
    {
     "output_type": "stream",
     "name": "stdout",
     "text": [
      "\t vol_01\n",
      "D:/data/scp-act/S00/S00_vol_01.vhdr\n"
     ]
    },
    {
     "output_type": "stream",
     "name": "stderr",
     "text": [
      "c:\\Users\\lukas\\Dokumente\\projects\\scp-act\\data_analysis\\notebooks\\..\\actionpy\\prepro\\prepro.py:24: RuntimeWarning: Online software filter detected. Using software filter settings and ignoring hardware values\n",
      "  raw = mne.io.read_raw_brainvision(pth, preload=True, verbose=verbose)\n",
      "c:\\Users\\lukas\\Dokumente\\projects\\scp-act\\data_analysis\\notebooks\\..\\actionpy\\prepro\\prepro.py:24: RuntimeWarning: Channels contain different highpass filters. Lowest (weakest) filter setting (0.00 Hz) will be stored.\n",
      "  raw = mne.io.read_raw_brainvision(pth, preload=True, verbose=verbose)\n",
      "c:\\Users\\lukas\\Dokumente\\projects\\scp-act\\data_analysis\\notebooks\\..\\actionpy\\prepro\\prepro.py:24: RuntimeWarning: Channels contain different lowpass filters. Highest (weakest) filter setting (500.00 Hz, Nyquist limit) will be stored.\n",
      "  raw = mne.io.read_raw_brainvision(pth, preload=True, verbose=verbose)\n"
     ]
    },
    {
     "output_type": "stream",
     "name": "stdout",
     "text": [
      "Used Annotations descriptions: ['New Segment/', 'Response/R  7', 'Response/R 15', 'Stimulus/S  2', 'Stimulus/S  4']\n"
     ]
    },
    {
     "output_type": "stream",
     "name": "stderr",
     "text": [
      "c:\\Users\\lukas\\Dokumente\\projects\\scp-act\\data_analysis\\notebooks\\..\\actionpy\\prepro\\prepro.py:125: RuntimeWarning: The unit for channel(s) VEOG has changed from C to V.\n",
      "  raw.set_channel_types(mapping)\n"
     ]
    },
    {
     "output_type": "stream",
     "name": "stdout",
     "text": [
      "Not setting metadata\n",
      "Not setting metadata\n",
      "1 matching events found\n",
      "No baseline correction applied\n",
      "0 projection items activated\n",
      "0 bad epochs dropped\n"
     ]
    },
    {
     "output_type": "stream",
     "name": "stderr",
     "text": [
      "[Parallel(n_jobs=8)]: Using backend LokyBackend with 8 concurrent workers.\n"
     ]
    },
    {
     "output_type": "stream",
     "name": "stdout",
     "text": [
      "Interpolating bad channels\n",
      "    Automatic origin fit: head of radius 92.0 mm\n",
      "Computing interpolation matrix from 30 sensor positions\n",
      "Interpolating 1 sensors\n",
      "Creating RawArray with float64 data, n_channels=1, n_times=42100\n"
     ]
    },
    {
     "output_type": "stream",
     "name": "stderr",
     "text": [
      "[Parallel(n_jobs=8)]: Done   1 tasks      | elapsed:    3.1s\n",
      "[Parallel(n_jobs=8)]: Done   1 out of   1 | elapsed:    3.1s finished\n"
     ]
    },
    {
     "output_type": "stream",
     "name": "stdout",
     "text": [
      "    Range : 0 ... 42099 =      0.000 ...   420.990 secs\n",
      "Ready.\n"
     ]
    },
    {
     "output_type": "stream",
     "name": "stderr",
     "text": [
      "c:\\Users\\lukas\\Dokumente\\projects\\scp-act\\data_analysis\\notebooks\\..\\actionpy\\prepro\\prepro.py:148: DeprecationWarning: Version 0.23 introduced max_iter=\"auto\", setting max_iter=1000 for `fastica` and max_iter=500 for `infomax` and `picard`. The current default of max_iter=200 will be changed to \"auto\" in version 0.24.\n",
      "  ica = mne.preprocessing.ICA(n_components=n_components,\n"
     ]
    },
    {
     "output_type": "stream",
     "name": "stdout",
     "text": [
      "\t vol_02\n",
      "D:/data/scp-act/S00/S00_vol_02.vhdr\n"
     ]
    },
    {
     "output_type": "stream",
     "name": "stderr",
     "text": [
      "c:\\Users\\lukas\\Dokumente\\projects\\scp-act\\data_analysis\\notebooks\\..\\actionpy\\prepro\\prepro.py:24: RuntimeWarning: Online software filter detected. Using software filter settings and ignoring hardware values\n",
      "  raw = mne.io.read_raw_brainvision(pth, preload=True, verbose=verbose)\n",
      "c:\\Users\\lukas\\Dokumente\\projects\\scp-act\\data_analysis\\notebooks\\..\\actionpy\\prepro\\prepro.py:24: RuntimeWarning: Channels contain different highpass filters. Lowest (weakest) filter setting (0.00 Hz) will be stored.\n",
      "  raw = mne.io.read_raw_brainvision(pth, preload=True, verbose=verbose)\n",
      "c:\\Users\\lukas\\Dokumente\\projects\\scp-act\\data_analysis\\notebooks\\..\\actionpy\\prepro\\prepro.py:24: RuntimeWarning: Channels contain different lowpass filters. Highest (weakest) filter setting (500.00 Hz, Nyquist limit) will be stored.\n",
      "  raw = mne.io.read_raw_brainvision(pth, preload=True, verbose=verbose)\n"
     ]
    },
    {
     "output_type": "stream",
     "name": "stdout",
     "text": [
      "Used Annotations descriptions: ['New Segment/', 'Response/R  7', 'Response/R 15', 'Stimulus/S  2', 'Stimulus/S  4']\n"
     ]
    },
    {
     "output_type": "stream",
     "name": "stderr",
     "text": [
      "c:\\Users\\lukas\\Dokumente\\projects\\scp-act\\data_analysis\\notebooks\\..\\actionpy\\prepro\\prepro.py:125: RuntimeWarning: The unit for channel(s) VEOG has changed from C to V.\n",
      "  raw.set_channel_types(mapping)\n"
     ]
    },
    {
     "output_type": "stream",
     "name": "stdout",
     "text": [
      "Not setting metadata\n",
      "Not setting metadata\n",
      "1 matching events found\n",
      "No baseline correction applied\n",
      "0 projection items activated\n",
      "0 bad epochs dropped\n"
     ]
    },
    {
     "output_type": "stream",
     "name": "stderr",
     "text": [
      "[Parallel(n_jobs=8)]: Using backend LokyBackend with 8 concurrent workers.\n"
     ]
    },
    {
     "output_type": "stream",
     "name": "stdout",
     "text": [
      "Interpolating bad channels\n",
      "    Automatic origin fit: head of radius 92.0 mm\n",
      "Computing interpolation matrix from 30 sensor positions\n",
      "Interpolating 1 sensors\n"
     ]
    },
    {
     "output_type": "stream",
     "name": "stderr",
     "text": [
      "[Parallel(n_jobs=8)]: Done   1 tasks      | elapsed:    3.9s\n",
      "[Parallel(n_jobs=8)]: Done   1 out of   1 | elapsed:    3.9s finished\n"
     ]
    },
    {
     "output_type": "stream",
     "name": "stdout",
     "text": [
      "Creating RawArray with float64 data, n_channels=1, n_times=42100\n",
      "    Range : 0 ... 42099 =      0.000 ...   420.990 secs\n",
      "Ready.\n"
     ]
    },
    {
     "output_type": "stream",
     "name": "stderr",
     "text": [
      "c:\\Users\\lukas\\Dokumente\\projects\\scp-act\\data_analysis\\notebooks\\..\\actionpy\\prepro\\prepro.py:148: DeprecationWarning: Version 0.23 introduced max_iter=\"auto\", setting max_iter=1000 for `fastica` and max_iter=500 for `infomax` and `picard`. The current default of max_iter=200 will be changed to \"auto\" in version 0.24.\n",
      "  ica = mne.preprocessing.ICA(n_components=n_components,\n"
     ]
    },
    {
     "output_type": "stream",
     "name": "stdout",
     "text": [
      "S01\n",
      "\t rest_01\n",
      "D:/data/scp-act/S01/S01_rest_01.vhdr\n"
     ]
    },
    {
     "output_type": "stream",
     "name": "stderr",
     "text": [
      "c:\\Users\\lukas\\Dokumente\\projects\\scp-act\\data_analysis\\notebooks\\..\\actionpy\\prepro\\prepro.py:24: RuntimeWarning: Online software filter detected. Using software filter settings and ignoring hardware values\n",
      "  raw = mne.io.read_raw_brainvision(pth, preload=True, verbose=verbose)\n",
      "c:\\Users\\lukas\\Dokumente\\projects\\scp-act\\data_analysis\\notebooks\\..\\actionpy\\prepro\\prepro.py:24: RuntimeWarning: Channels contain different highpass filters. Lowest (weakest) filter setting (0.00 Hz) will be stored.\n",
      "  raw = mne.io.read_raw_brainvision(pth, preload=True, verbose=verbose)\n",
      "c:\\Users\\lukas\\Dokumente\\projects\\scp-act\\data_analysis\\notebooks\\..\\actionpy\\prepro\\prepro.py:24: RuntimeWarning: Channels contain different lowpass filters. Highest (weakest) filter setting (500.00 Hz, Nyquist limit) will be stored.\n",
      "  raw = mne.io.read_raw_brainvision(pth, preload=True, verbose=verbose)\n"
     ]
    },
    {
     "output_type": "stream",
     "name": "stdout",
     "text": [
      "Used Annotations descriptions: ['New Segment/', 'Stimulus/S  2', 'Stimulus/S  4']\n"
     ]
    },
    {
     "output_type": "stream",
     "name": "stderr",
     "text": [
      "c:\\Users\\lukas\\Dokumente\\projects\\scp-act\\data_analysis\\notebooks\\..\\actionpy\\prepro\\prepro.py:125: RuntimeWarning: The unit for channel(s) VEOG has changed from C to V.\n",
      "  raw.set_channel_types(mapping)\n"
     ]
    },
    {
     "output_type": "stream",
     "name": "stdout",
     "text": [
      "Not setting metadata\n",
      "Not setting metadata\n",
      "1 matching events found\n",
      "No baseline correction applied\n",
      "0 projection items activated\n",
      "0 bad epochs dropped\n"
     ]
    },
    {
     "output_type": "stream",
     "name": "stderr",
     "text": [
      "[Parallel(n_jobs=8)]: Using backend LokyBackend with 8 concurrent workers.\n"
     ]
    },
    {
     "output_type": "stream",
     "name": "stdout",
     "text": [
      "Interpolating bad channels\n",
      "    Automatic origin fit: head of radius 92.0 mm\n",
      "Computing interpolation matrix from 30 sensor positions\n",
      "Interpolating 1 sensors\n",
      "Creating RawArray with float64 data, n_channels=1, n_times=42100\n",
      "    Range : 0 ... 42099 =      0.000 ...   420.990 secs\n",
      "Ready.\n"
     ]
    },
    {
     "output_type": "stream",
     "name": "stderr",
     "text": [
      "[Parallel(n_jobs=8)]: Done   1 tasks      | elapsed:    3.2s\n",
      "[Parallel(n_jobs=8)]: Done   1 out of   1 | elapsed:    3.2s finished\n",
      "c:\\Users\\lukas\\Dokumente\\projects\\scp-act\\data_analysis\\notebooks\\..\\actionpy\\prepro\\prepro.py:148: DeprecationWarning: Version 0.23 introduced max_iter=\"auto\", setting max_iter=1000 for `fastica` and max_iter=500 for `infomax` and `picard`. The current default of max_iter=200 will be changed to \"auto\" in version 0.24.\n",
      "  ica = mne.preprocessing.ICA(n_components=n_components,\n"
     ]
    },
    {
     "output_type": "stream",
     "name": "stdout",
     "text": [
      "\t rest_02\n",
      "D:/data/scp-act/S01/S01_rest_02.vhdr\n"
     ]
    },
    {
     "output_type": "stream",
     "name": "stderr",
     "text": [
      "c:\\Users\\lukas\\Dokumente\\projects\\scp-act\\data_analysis\\notebooks\\..\\actionpy\\prepro\\prepro.py:24: RuntimeWarning: Online software filter detected. Using software filter settings and ignoring hardware values\n",
      "  raw = mne.io.read_raw_brainvision(pth, preload=True, verbose=verbose)\n",
      "c:\\Users\\lukas\\Dokumente\\projects\\scp-act\\data_analysis\\notebooks\\..\\actionpy\\prepro\\prepro.py:24: RuntimeWarning: Channels contain different highpass filters. Lowest (weakest) filter setting (0.00 Hz) will be stored.\n",
      "  raw = mne.io.read_raw_brainvision(pth, preload=True, verbose=verbose)\n",
      "c:\\Users\\lukas\\Dokumente\\projects\\scp-act\\data_analysis\\notebooks\\..\\actionpy\\prepro\\prepro.py:24: RuntimeWarning: Channels contain different lowpass filters. Highest (weakest) filter setting (500.00 Hz, Nyquist limit) will be stored.\n",
      "  raw = mne.io.read_raw_brainvision(pth, preload=True, verbose=verbose)\n"
     ]
    },
    {
     "output_type": "stream",
     "name": "stdout",
     "text": [
      "Used Annotations descriptions: ['New Segment/', 'Stimulus/S  2', 'Stimulus/S  4']\n"
     ]
    },
    {
     "output_type": "stream",
     "name": "stderr",
     "text": [
      "c:\\Users\\lukas\\Dokumente\\projects\\scp-act\\data_analysis\\notebooks\\..\\actionpy\\prepro\\prepro.py:125: RuntimeWarning: The unit for channel(s) VEOG has changed from C to V.\n",
      "  raw.set_channel_types(mapping)\n"
     ]
    },
    {
     "output_type": "stream",
     "name": "stdout",
     "text": [
      "Not setting metadata\n",
      "Not setting metadata\n",
      "1 matching events found\n",
      "No baseline correction applied\n",
      "0 projection items activated\n",
      "0 bad epochs dropped\n"
     ]
    },
    {
     "output_type": "stream",
     "name": "stderr",
     "text": [
      "[Parallel(n_jobs=8)]: Using backend LokyBackend with 8 concurrent workers.\n"
     ]
    },
    {
     "output_type": "stream",
     "name": "stdout",
     "text": [
      "Creating RawArray with float64 data, n_channels=1, n_times=42100\n",
      "    Range : 0 ... 42099 =      0.000 ...   420.990 secs\n",
      "Ready.\n"
     ]
    },
    {
     "output_type": "stream",
     "name": "stderr",
     "text": [
      "[Parallel(n_jobs=8)]: Done   1 tasks      | elapsed:    2.6s\n",
      "[Parallel(n_jobs=8)]: Done   1 out of   1 | elapsed:    2.6s finished\n",
      "C:\\Users\\lukas\\virtualenvs\\eegenv\\lib\\site-packages\\autoreject\\ransac.py:226: RuntimeWarning: No bad channels to interpolate. Doing nothing...\n",
      "  epochs.interpolate_bads(reset_bads=True)\n",
      "c:\\Users\\lukas\\Dokumente\\projects\\scp-act\\data_analysis\\notebooks\\..\\actionpy\\prepro\\prepro.py:148: DeprecationWarning: Version 0.23 introduced max_iter=\"auto\", setting max_iter=1000 for `fastica` and max_iter=500 for `infomax` and `picard`. The current default of max_iter=200 will be changed to \"auto\" in version 0.24.\n",
      "  ica = mne.preprocessing.ICA(n_components=n_components,\n"
     ]
    },
    {
     "output_type": "stream",
     "name": "stdout",
     "text": [
      "\t exp_01\n",
      "D:/data/scp-act/S01/S01_exp_01.vhdr\n"
     ]
    },
    {
     "output_type": "stream",
     "name": "stderr",
     "text": [
      "c:\\Users\\lukas\\Dokumente\\projects\\scp-act\\data_analysis\\notebooks\\..\\actionpy\\prepro\\prepro.py:24: RuntimeWarning: Online software filter detected. Using software filter settings and ignoring hardware values\n",
      "  raw = mne.io.read_raw_brainvision(pth, preload=True, verbose=verbose)\n",
      "c:\\Users\\lukas\\Dokumente\\projects\\scp-act\\data_analysis\\notebooks\\..\\actionpy\\prepro\\prepro.py:24: RuntimeWarning: Channels contain different highpass filters. Lowest (weakest) filter setting (0.00 Hz) will be stored.\n",
      "  raw = mne.io.read_raw_brainvision(pth, preload=True, verbose=verbose)\n",
      "c:\\Users\\lukas\\Dokumente\\projects\\scp-act\\data_analysis\\notebooks\\..\\actionpy\\prepro\\prepro.py:24: RuntimeWarning: Channels contain different lowpass filters. Highest (weakest) filter setting (500.00 Hz, Nyquist limit) will be stored.\n",
      "  raw = mne.io.read_raw_brainvision(pth, preload=True, verbose=verbose)\n"
     ]
    },
    {
     "output_type": "stream",
     "name": "stdout",
     "text": [
      "Used Annotations descriptions: ['New Segment/', 'Response/R  7', 'Response/R 15', 'Stimulus/S  2', 'Stimulus/S  4', 'Stimulus/S  6', 'Stimulus/S 14']\n"
     ]
    },
    {
     "output_type": "stream",
     "name": "stderr",
     "text": [
      "c:\\Users\\lukas\\Dokumente\\projects\\scp-act\\data_analysis\\notebooks\\..\\actionpy\\prepro\\prepro.py:125: RuntimeWarning: The unit for channel(s) VEOG has changed from C to V.\n",
      "  raw.set_channel_types(mapping)\n"
     ]
    },
    {
     "output_type": "stream",
     "name": "stdout",
     "text": [
      "Not setting metadata\n",
      "Not setting metadata\n",
      "1 matching events found\n",
      "No baseline correction applied\n",
      "0 projection items activated\n",
      "0 bad epochs dropped\n"
     ]
    },
    {
     "output_type": "stream",
     "name": "stderr",
     "text": [
      "[Parallel(n_jobs=8)]: Using backend LokyBackend with 8 concurrent workers.\n"
     ]
    },
    {
     "output_type": "stream",
     "name": "stdout",
     "text": [
      "Creating RawArray with float64 data, n_channels=1, n_times=42102\n",
      "    Range : 0 ... 42101 =      0.000 ...   421.010 secs\n",
      "Ready.\n"
     ]
    },
    {
     "output_type": "stream",
     "name": "stderr",
     "text": [
      "[Parallel(n_jobs=8)]: Done   1 tasks      | elapsed:    2.6s\n",
      "[Parallel(n_jobs=8)]: Done   1 out of   1 | elapsed:    2.6s finished\n",
      "C:\\Users\\lukas\\virtualenvs\\eegenv\\lib\\site-packages\\autoreject\\ransac.py:226: RuntimeWarning: No bad channels to interpolate. Doing nothing...\n",
      "  epochs.interpolate_bads(reset_bads=True)\n",
      "c:\\Users\\lukas\\Dokumente\\projects\\scp-act\\data_analysis\\notebooks\\..\\actionpy\\prepro\\prepro.py:148: DeprecationWarning: Version 0.23 introduced max_iter=\"auto\", setting max_iter=1000 for `fastica` and max_iter=500 for `infomax` and `picard`. The current default of max_iter=200 will be changed to \"auto\" in version 0.24.\n",
      "  ica = mne.preprocessing.ICA(n_components=n_components,\n"
     ]
    },
    {
     "output_type": "stream",
     "name": "stdout",
     "text": [
      "\t drmt_01\n",
      "D:/data/scp-act/S01/S01_drmt_01.vhdr\n"
     ]
    },
    {
     "output_type": "stream",
     "name": "stderr",
     "text": [
      "c:\\Users\\lukas\\Dokumente\\projects\\scp-act\\data_analysis\\notebooks\\..\\actionpy\\prepro\\prepro.py:24: RuntimeWarning: Online software filter detected. Using software filter settings and ignoring hardware values\n",
      "  raw = mne.io.read_raw_brainvision(pth, preload=True, verbose=verbose)\n",
      "c:\\Users\\lukas\\Dokumente\\projects\\scp-act\\data_analysis\\notebooks\\..\\actionpy\\prepro\\prepro.py:24: RuntimeWarning: Channels contain different highpass filters. Lowest (weakest) filter setting (0.00 Hz) will be stored.\n",
      "  raw = mne.io.read_raw_brainvision(pth, preload=True, verbose=verbose)\n",
      "c:\\Users\\lukas\\Dokumente\\projects\\scp-act\\data_analysis\\notebooks\\..\\actionpy\\prepro\\prepro.py:24: RuntimeWarning: Channels contain different lowpass filters. Highest (weakest) filter setting (500.00 Hz, Nyquist limit) will be stored.\n",
      "  raw = mne.io.read_raw_brainvision(pth, preload=True, verbose=verbose)\n"
     ]
    },
    {
     "output_type": "stream",
     "name": "stdout",
     "text": [
      "Used Annotations descriptions: ['New Segment/', 'Stimulus/S  2', 'Stimulus/S  4', 'Stimulus/S  6']\n"
     ]
    },
    {
     "output_type": "stream",
     "name": "stderr",
     "text": [
      "c:\\Users\\lukas\\Dokumente\\projects\\scp-act\\data_analysis\\notebooks\\..\\actionpy\\prepro\\prepro.py:125: RuntimeWarning: The unit for channel(s) VEOG has changed from C to V.\n",
      "  raw.set_channel_types(mapping)\n"
     ]
    },
    {
     "output_type": "stream",
     "name": "stdout",
     "text": [
      "Not setting metadata\n",
      "Not setting metadata\n",
      "1 matching events found\n",
      "No baseline correction applied\n",
      "0 projection items activated\n",
      "0 bad epochs dropped\n"
     ]
    },
    {
     "output_type": "stream",
     "name": "stderr",
     "text": [
      "[Parallel(n_jobs=8)]: Using backend LokyBackend with 8 concurrent workers.\n"
     ]
    },
    {
     "output_type": "stream",
     "name": "stdout",
     "text": [
      "Interpolating bad channels\n",
      "    Automatic origin fit: head of radius 92.0 mm\n",
      "Computing interpolation matrix from 30 sensor positions\n",
      "Interpolating 1 sensors\n"
     ]
    },
    {
     "output_type": "stream",
     "name": "stderr",
     "text": [
      "[Parallel(n_jobs=8)]: Done   1 tasks      | elapsed:    2.7s\n",
      "[Parallel(n_jobs=8)]: Done   1 out of   1 | elapsed:    2.7s finished\n"
     ]
    },
    {
     "output_type": "stream",
     "name": "stdout",
     "text": [
      "Creating RawArray with float64 data, n_channels=1, n_times=42000\n",
      "    Range : 0 ... 41999 =      0.000 ...   419.990 secs\n",
      "Ready.\n"
     ]
    },
    {
     "output_type": "stream",
     "name": "stderr",
     "text": [
      "c:\\Users\\lukas\\Dokumente\\projects\\scp-act\\data_analysis\\notebooks\\..\\actionpy\\prepro\\prepro.py:148: DeprecationWarning: Version 0.23 introduced max_iter=\"auto\", setting max_iter=1000 for `fastica` and max_iter=500 for `infomax` and `picard`. The current default of max_iter=200 will be changed to \"auto\" in version 0.24.\n",
      "  ica = mne.preprocessing.ICA(n_components=n_components,\n"
     ]
    },
    {
     "output_type": "stream",
     "name": "stdout",
     "text": [
      "\t drmt_02\n",
      "D:/data/scp-act/S01/S01_drmt_02.vhdr\n"
     ]
    },
    {
     "output_type": "stream",
     "name": "stderr",
     "text": [
      "c:\\Users\\lukas\\Dokumente\\projects\\scp-act\\data_analysis\\notebooks\\..\\actionpy\\prepro\\prepro.py:24: RuntimeWarning: Online software filter detected. Using software filter settings and ignoring hardware values\n",
      "  raw = mne.io.read_raw_brainvision(pth, preload=True, verbose=verbose)\n",
      "c:\\Users\\lukas\\Dokumente\\projects\\scp-act\\data_analysis\\notebooks\\..\\actionpy\\prepro\\prepro.py:24: RuntimeWarning: Channels contain different highpass filters. Lowest (weakest) filter setting (0.00 Hz) will be stored.\n",
      "  raw = mne.io.read_raw_brainvision(pth, preload=True, verbose=verbose)\n",
      "c:\\Users\\lukas\\Dokumente\\projects\\scp-act\\data_analysis\\notebooks\\..\\actionpy\\prepro\\prepro.py:24: RuntimeWarning: Channels contain different lowpass filters. Highest (weakest) filter setting (500.00 Hz, Nyquist limit) will be stored.\n",
      "  raw = mne.io.read_raw_brainvision(pth, preload=True, verbose=verbose)\n"
     ]
    },
    {
     "output_type": "stream",
     "name": "stdout",
     "text": [
      "Used Annotations descriptions: ['New Segment/', 'Stimulus/S  2', 'Stimulus/S  4', 'Stimulus/S  6']\n"
     ]
    },
    {
     "output_type": "stream",
     "name": "stderr",
     "text": [
      "c:\\Users\\lukas\\Dokumente\\projects\\scp-act\\data_analysis\\notebooks\\..\\actionpy\\prepro\\prepro.py:125: RuntimeWarning: The unit for channel(s) VEOG has changed from C to V.\n",
      "  raw.set_channel_types(mapping)\n"
     ]
    },
    {
     "output_type": "stream",
     "name": "stdout",
     "text": [
      "Not setting metadata\n",
      "Not setting metadata\n",
      "1 matching events found\n",
      "No baseline correction applied\n",
      "0 projection items activated\n",
      "0 bad epochs dropped\n"
     ]
    },
    {
     "output_type": "stream",
     "name": "stderr",
     "text": [
      "[Parallel(n_jobs=8)]: Using backend LokyBackend with 8 concurrent workers.\n"
     ]
    },
    {
     "output_type": "stream",
     "name": "stdout",
     "text": [
      "Creating RawArray with float64 data, n_channels=1, n_times=42000\n",
      "    Range : 0 ... 41999 =      0.000 ...   419.990 secs\n",
      "Ready.\n"
     ]
    },
    {
     "output_type": "stream",
     "name": "stderr",
     "text": [
      "[Parallel(n_jobs=8)]: Done   1 tasks      | elapsed:    2.5s\n",
      "[Parallel(n_jobs=8)]: Done   1 out of   1 | elapsed:    2.5s finished\n",
      "C:\\Users\\lukas\\virtualenvs\\eegenv\\lib\\site-packages\\autoreject\\ransac.py:226: RuntimeWarning: No bad channels to interpolate. Doing nothing...\n",
      "  epochs.interpolate_bads(reset_bads=True)\n",
      "c:\\Users\\lukas\\Dokumente\\projects\\scp-act\\data_analysis\\notebooks\\..\\actionpy\\prepro\\prepro.py:148: DeprecationWarning: Version 0.23 introduced max_iter=\"auto\", setting max_iter=1000 for `fastica` and max_iter=500 for `infomax` and `picard`. The current default of max_iter=200 will be changed to \"auto\" in version 0.24.\n",
      "  ica = mne.preprocessing.ICA(n_components=n_components,\n"
     ]
    },
    {
     "output_type": "stream",
     "name": "stdout",
     "text": [
      "\t vol_01\n",
      "D:/data/scp-act/S01/S01_vol_01.vhdr\n"
     ]
    },
    {
     "output_type": "stream",
     "name": "stderr",
     "text": [
      "c:\\Users\\lukas\\Dokumente\\projects\\scp-act\\data_analysis\\notebooks\\..\\actionpy\\prepro\\prepro.py:24: RuntimeWarning: Online software filter detected. Using software filter settings and ignoring hardware values\n",
      "  raw = mne.io.read_raw_brainvision(pth, preload=True, verbose=verbose)\n",
      "c:\\Users\\lukas\\Dokumente\\projects\\scp-act\\data_analysis\\notebooks\\..\\actionpy\\prepro\\prepro.py:24: RuntimeWarning: Channels contain different highpass filters. Lowest (weakest) filter setting (0.00 Hz) will be stored.\n",
      "  raw = mne.io.read_raw_brainvision(pth, preload=True, verbose=verbose)\n",
      "c:\\Users\\lukas\\Dokumente\\projects\\scp-act\\data_analysis\\notebooks\\..\\actionpy\\prepro\\prepro.py:24: RuntimeWarning: Channels contain different lowpass filters. Highest (weakest) filter setting (500.00 Hz, Nyquist limit) will be stored.\n",
      "  raw = mne.io.read_raw_brainvision(pth, preload=True, verbose=verbose)\n"
     ]
    },
    {
     "output_type": "stream",
     "name": "stdout",
     "text": [
      "Used Annotations descriptions: ['New Segment/', 'Response/R  7', 'Response/R 15', 'Stimulus/S  2', 'Stimulus/S  4']\n"
     ]
    },
    {
     "output_type": "stream",
     "name": "stderr",
     "text": [
      "c:\\Users\\lukas\\Dokumente\\projects\\scp-act\\data_analysis\\notebooks\\..\\actionpy\\prepro\\prepro.py:125: RuntimeWarning: The unit for channel(s) VEOG has changed from C to V.\n",
      "  raw.set_channel_types(mapping)\n"
     ]
    },
    {
     "output_type": "stream",
     "name": "stdout",
     "text": [
      "Not setting metadata\n",
      "Not setting metadata\n",
      "1 matching events found\n",
      "No baseline correction applied\n",
      "0 projection items activated\n",
      "0 bad epochs dropped\n"
     ]
    },
    {
     "output_type": "stream",
     "name": "stderr",
     "text": [
      "[Parallel(n_jobs=8)]: Using backend LokyBackend with 8 concurrent workers.\n"
     ]
    },
    {
     "output_type": "stream",
     "name": "stdout",
     "text": [
      "Interpolating bad channels\n",
      "    Automatic origin fit: head of radius 92.0 mm\n",
      "Computing interpolation matrix from 28 sensor positions\n",
      "Interpolating 3 sensors\n",
      "Creating RawArray with float64 data, n_channels=1, n_times=42100\n",
      "    Range : 0 ... 42099 =      0.000 ...   420.990 secs\n",
      "Ready.\n"
     ]
    },
    {
     "output_type": "stream",
     "name": "stderr",
     "text": [
      "[Parallel(n_jobs=8)]: Done   1 tasks      | elapsed:    2.4s\n",
      "[Parallel(n_jobs=8)]: Done   1 out of   1 | elapsed:    2.4s finished\n",
      "c:\\Users\\lukas\\Dokumente\\projects\\scp-act\\data_analysis\\notebooks\\..\\actionpy\\prepro\\prepro.py:148: DeprecationWarning: Version 0.23 introduced max_iter=\"auto\", setting max_iter=1000 for `fastica` and max_iter=500 for `infomax` and `picard`. The current default of max_iter=200 will be changed to \"auto\" in version 0.24.\n",
      "  ica = mne.preprocessing.ICA(n_components=n_components,\n"
     ]
    },
    {
     "output_type": "stream",
     "name": "stdout",
     "text": [
      "\t vol_02\n",
      "D:/data/scp-act/S01/S01_vol_02.vhdr\n",
      "Used Annotations descriptions: ['New Segment/', 'Response/R  7', 'Response/R 15', 'Stimulus/S  2', 'Stimulus/S  4']\n"
     ]
    },
    {
     "output_type": "stream",
     "name": "stderr",
     "text": [
      "c:\\Users\\lukas\\Dokumente\\projects\\scp-act\\data_analysis\\notebooks\\..\\actionpy\\prepro\\prepro.py:24: RuntimeWarning: Online software filter detected. Using software filter settings and ignoring hardware values\n",
      "  raw = mne.io.read_raw_brainvision(pth, preload=True, verbose=verbose)\n",
      "c:\\Users\\lukas\\Dokumente\\projects\\scp-act\\data_analysis\\notebooks\\..\\actionpy\\prepro\\prepro.py:24: RuntimeWarning: Channels contain different highpass filters. Lowest (weakest) filter setting (0.00 Hz) will be stored.\n",
      "  raw = mne.io.read_raw_brainvision(pth, preload=True, verbose=verbose)\n",
      "c:\\Users\\lukas\\Dokumente\\projects\\scp-act\\data_analysis\\notebooks\\..\\actionpy\\prepro\\prepro.py:24: RuntimeWarning: Channels contain different lowpass filters. Highest (weakest) filter setting (500.00 Hz, Nyquist limit) will be stored.\n",
      "  raw = mne.io.read_raw_brainvision(pth, preload=True, verbose=verbose)\n",
      "c:\\Users\\lukas\\Dokumente\\projects\\scp-act\\data_analysis\\notebooks\\..\\actionpy\\prepro\\prepro.py:125: RuntimeWarning: The unit for channel(s) VEOG has changed from C to V.\n",
      "  raw.set_channel_types(mapping)\n"
     ]
    },
    {
     "output_type": "stream",
     "name": "stdout",
     "text": [
      "Not setting metadata\n",
      "Not setting metadata\n",
      "1 matching events found\n",
      "No baseline correction applied\n",
      "0 projection items activated\n",
      "0 bad epochs dropped\n"
     ]
    },
    {
     "output_type": "stream",
     "name": "stderr",
     "text": [
      "[Parallel(n_jobs=8)]: Using backend LokyBackend with 8 concurrent workers.\n"
     ]
    },
    {
     "output_type": "stream",
     "name": "stdout",
     "text": [
      "Creating RawArray with float64 data, n_channels=1, n_times=42101\n",
      "    Range : 0 ... 42100 =      0.000 ...   421.000 secs\n",
      "Ready.\n"
     ]
    },
    {
     "output_type": "stream",
     "name": "stderr",
     "text": [
      "[Parallel(n_jobs=8)]: Done   1 tasks      | elapsed:    2.4s\n",
      "[Parallel(n_jobs=8)]: Done   1 out of   1 | elapsed:    2.4s finished\n",
      "C:\\Users\\lukas\\virtualenvs\\eegenv\\lib\\site-packages\\autoreject\\ransac.py:226: RuntimeWarning: No bad channels to interpolate. Doing nothing...\n",
      "  epochs.interpolate_bads(reset_bads=True)\n",
      "c:\\Users\\lukas\\Dokumente\\projects\\scp-act\\data_analysis\\notebooks\\..\\actionpy\\prepro\\prepro.py:148: DeprecationWarning: Version 0.23 introduced max_iter=\"auto\", setting max_iter=1000 for `fastica` and max_iter=500 for `infomax` and `picard`. The current default of max_iter=200 will be changed to \"auto\" in version 0.24.\n",
      "  ica = mne.preprocessing.ICA(n_components=n_components,\n"
     ]
    },
    {
     "output_type": "stream",
     "name": "stdout",
     "text": [
      "S02\n",
      "\t rest_01\n",
      "D:/data/scp-act/S02/S02_rest_01.vhdr\n"
     ]
    },
    {
     "output_type": "stream",
     "name": "stderr",
     "text": [
      "c:\\Users\\lukas\\Dokumente\\projects\\scp-act\\data_analysis\\notebooks\\..\\actionpy\\prepro\\prepro.py:24: RuntimeWarning: Online software filter detected. Using software filter settings and ignoring hardware values\n",
      "  raw = mne.io.read_raw_brainvision(pth, preload=True, verbose=verbose)\n",
      "c:\\Users\\lukas\\Dokumente\\projects\\scp-act\\data_analysis\\notebooks\\..\\actionpy\\prepro\\prepro.py:24: RuntimeWarning: Channels contain different highpass filters. Lowest (weakest) filter setting (0.00 Hz) will be stored.\n",
      "  raw = mne.io.read_raw_brainvision(pth, preload=True, verbose=verbose)\n",
      "c:\\Users\\lukas\\Dokumente\\projects\\scp-act\\data_analysis\\notebooks\\..\\actionpy\\prepro\\prepro.py:24: RuntimeWarning: Channels contain different lowpass filters. Highest (weakest) filter setting (500.00 Hz, Nyquist limit) will be stored.\n",
      "  raw = mne.io.read_raw_brainvision(pth, preload=True, verbose=verbose)\n"
     ]
    },
    {
     "output_type": "stream",
     "name": "stdout",
     "text": [
      "Used Annotations descriptions: ['New Segment/', 'Stimulus/S  2', 'Stimulus/S  4']\n"
     ]
    },
    {
     "output_type": "stream",
     "name": "stderr",
     "text": [
      "c:\\Users\\lukas\\Dokumente\\projects\\scp-act\\data_analysis\\notebooks\\..\\actionpy\\prepro\\prepro.py:125: RuntimeWarning: The unit for channel(s) VEOG has changed from C to V.\n",
      "  raw.set_channel_types(mapping)\n"
     ]
    },
    {
     "output_type": "stream",
     "name": "stdout",
     "text": [
      "Not setting metadata\n",
      "Not setting metadata\n",
      "1 matching events found\n",
      "No baseline correction applied\n",
      "0 projection items activated\n",
      "0 bad epochs dropped\n"
     ]
    },
    {
     "output_type": "stream",
     "name": "stderr",
     "text": [
      "[Parallel(n_jobs=8)]: Using backend LokyBackend with 8 concurrent workers.\n"
     ]
    },
    {
     "output_type": "stream",
     "name": "stdout",
     "text": [
      "Interpolating bad channels\n",
      "    Automatic origin fit: head of radius 92.0 mm\n",
      "Computing interpolation matrix from 29 sensor positions\n",
      "Interpolating 2 sensors\n",
      "Creating RawArray with float64 data, n_channels=1, n_times=42101\n",
      "    Range : 0 ... 42100 =      0.000 ...   421.000 secs\n",
      "Ready.\n"
     ]
    },
    {
     "output_type": "stream",
     "name": "stderr",
     "text": [
      "[Parallel(n_jobs=8)]: Done   1 tasks      | elapsed:    2.4s\n",
      "[Parallel(n_jobs=8)]: Done   1 out of   1 | elapsed:    2.4s finished\n",
      "c:\\Users\\lukas\\Dokumente\\projects\\scp-act\\data_analysis\\notebooks\\..\\actionpy\\prepro\\prepro.py:148: DeprecationWarning: Version 0.23 introduced max_iter=\"auto\", setting max_iter=1000 for `fastica` and max_iter=500 for `infomax` and `picard`. The current default of max_iter=200 will be changed to \"auto\" in version 0.24.\n",
      "  ica = mne.preprocessing.ICA(n_components=n_components,\n"
     ]
    },
    {
     "output_type": "stream",
     "name": "stdout",
     "text": [
      "\t rest_02\n",
      "D:/data/scp-act/S02/S02_rest_02.vhdr\n"
     ]
    },
    {
     "output_type": "stream",
     "name": "stderr",
     "text": [
      "c:\\Users\\lukas\\Dokumente\\projects\\scp-act\\data_analysis\\notebooks\\..\\actionpy\\prepro\\prepro.py:24: RuntimeWarning: Online software filter detected. Using software filter settings and ignoring hardware values\n",
      "  raw = mne.io.read_raw_brainvision(pth, preload=True, verbose=verbose)\n",
      "c:\\Users\\lukas\\Dokumente\\projects\\scp-act\\data_analysis\\notebooks\\..\\actionpy\\prepro\\prepro.py:24: RuntimeWarning: Channels contain different highpass filters. Lowest (weakest) filter setting (0.00 Hz) will be stored.\n",
      "  raw = mne.io.read_raw_brainvision(pth, preload=True, verbose=verbose)\n",
      "c:\\Users\\lukas\\Dokumente\\projects\\scp-act\\data_analysis\\notebooks\\..\\actionpy\\prepro\\prepro.py:24: RuntimeWarning: Channels contain different lowpass filters. Highest (weakest) filter setting (500.00 Hz, Nyquist limit) will be stored.\n",
      "  raw = mne.io.read_raw_brainvision(pth, preload=True, verbose=verbose)\n"
     ]
    },
    {
     "output_type": "stream",
     "name": "stdout",
     "text": [
      "Used Annotations descriptions: ['New Segment/', 'Stimulus/S  2', 'Stimulus/S  4']\n"
     ]
    },
    {
     "output_type": "stream",
     "name": "stderr",
     "text": [
      "c:\\Users\\lukas\\Dokumente\\projects\\scp-act\\data_analysis\\notebooks\\..\\actionpy\\prepro\\prepro.py:125: RuntimeWarning: The unit for channel(s) VEOG has changed from C to V.\n",
      "  raw.set_channel_types(mapping)\n"
     ]
    },
    {
     "output_type": "stream",
     "name": "stdout",
     "text": [
      "Not setting metadata\n",
      "Not setting metadata\n",
      "1 matching events found\n",
      "No baseline correction applied\n",
      "0 projection items activated\n",
      "0 bad epochs dropped\n"
     ]
    },
    {
     "output_type": "stream",
     "name": "stderr",
     "text": [
      "[Parallel(n_jobs=8)]: Using backend LokyBackend with 8 concurrent workers.\n"
     ]
    },
    {
     "output_type": "stream",
     "name": "stdout",
     "text": [
      "Creating RawArray with float64 data, n_channels=1, n_times=42100\n",
      "    Range : 0 ... 42099 =      0.000 ...   420.990 secs\n",
      "Ready.\n"
     ]
    },
    {
     "output_type": "stream",
     "name": "stderr",
     "text": [
      "[Parallel(n_jobs=8)]: Done   1 tasks      | elapsed:    2.5s\n",
      "[Parallel(n_jobs=8)]: Done   1 out of   1 | elapsed:    2.5s finished\n",
      "C:\\Users\\lukas\\virtualenvs\\eegenv\\lib\\site-packages\\autoreject\\ransac.py:226: RuntimeWarning: No bad channels to interpolate. Doing nothing...\n",
      "  epochs.interpolate_bads(reset_bads=True)\n",
      "c:\\Users\\lukas\\Dokumente\\projects\\scp-act\\data_analysis\\notebooks\\..\\actionpy\\prepro\\prepro.py:148: DeprecationWarning: Version 0.23 introduced max_iter=\"auto\", setting max_iter=1000 for `fastica` and max_iter=500 for `infomax` and `picard`. The current default of max_iter=200 will be changed to \"auto\" in version 0.24.\n",
      "  ica = mne.preprocessing.ICA(n_components=n_components,\n"
     ]
    },
    {
     "output_type": "stream",
     "name": "stdout",
     "text": [
      "\t exp_01\n",
      "D:/data/scp-act/S02/S02_exp_01.vhdr\n"
     ]
    },
    {
     "output_type": "stream",
     "name": "stderr",
     "text": [
      "c:\\Users\\lukas\\Dokumente\\projects\\scp-act\\data_analysis\\notebooks\\..\\actionpy\\prepro\\prepro.py:24: RuntimeWarning: Online software filter detected. Using software filter settings and ignoring hardware values\n",
      "  raw = mne.io.read_raw_brainvision(pth, preload=True, verbose=verbose)\n",
      "c:\\Users\\lukas\\Dokumente\\projects\\scp-act\\data_analysis\\notebooks\\..\\actionpy\\prepro\\prepro.py:24: RuntimeWarning: Channels contain different highpass filters. Lowest (weakest) filter setting (0.00 Hz) will be stored.\n",
      "  raw = mne.io.read_raw_brainvision(pth, preload=True, verbose=verbose)\n",
      "c:\\Users\\lukas\\Dokumente\\projects\\scp-act\\data_analysis\\notebooks\\..\\actionpy\\prepro\\prepro.py:24: RuntimeWarning: Channels contain different lowpass filters. Highest (weakest) filter setting (500.00 Hz, Nyquist limit) will be stored.\n",
      "  raw = mne.io.read_raw_brainvision(pth, preload=True, verbose=verbose)\n"
     ]
    },
    {
     "output_type": "stream",
     "name": "stdout",
     "text": [
      "Used Annotations descriptions: ['New Segment/', 'Response/R  7', 'Response/R 15', 'Stimulus/S  2', 'Stimulus/S  4', 'Stimulus/S  6']\n"
     ]
    },
    {
     "output_type": "stream",
     "name": "stderr",
     "text": [
      "c:\\Users\\lukas\\Dokumente\\projects\\scp-act\\data_analysis\\notebooks\\..\\actionpy\\prepro\\prepro.py:125: RuntimeWarning: The unit for channel(s) VEOG has changed from C to V.\n",
      "  raw.set_channel_types(mapping)\n"
     ]
    },
    {
     "output_type": "stream",
     "name": "stdout",
     "text": [
      "Not setting metadata\n",
      "Not setting metadata\n",
      "1 matching events found\n",
      "No baseline correction applied\n",
      "0 projection items activated\n",
      "0 bad epochs dropped\n"
     ]
    },
    {
     "output_type": "stream",
     "name": "stderr",
     "text": [
      "[Parallel(n_jobs=8)]: Using backend LokyBackend with 8 concurrent workers.\n"
     ]
    },
    {
     "output_type": "stream",
     "name": "stdout",
     "text": [
      "Interpolating bad channels\n",
      "    Automatic origin fit: head of radius 92.0 mm\n",
      "Computing interpolation matrix from 30 sensor positions\n",
      "Interpolating 1 sensors\n",
      "Creating RawArray with float64 data, n_channels=1, n_times=42101\n",
      "    Range : 0 ... 42100 =      0.000 ...   421.000 secs\n",
      "Ready.\n"
     ]
    },
    {
     "output_type": "stream",
     "name": "stderr",
     "text": [
      "[Parallel(n_jobs=8)]: Done   1 tasks      | elapsed:    2.7s\n",
      "[Parallel(n_jobs=8)]: Done   1 out of   1 | elapsed:    2.7s finished\n",
      "c:\\Users\\lukas\\Dokumente\\projects\\scp-act\\data_analysis\\notebooks\\..\\actionpy\\prepro\\prepro.py:148: DeprecationWarning: Version 0.23 introduced max_iter=\"auto\", setting max_iter=1000 for `fastica` and max_iter=500 for `infomax` and `picard`. The current default of max_iter=200 will be changed to \"auto\" in version 0.24.\n",
      "  ica = mne.preprocessing.ICA(n_components=n_components,\n"
     ]
    },
    {
     "output_type": "stream",
     "name": "stdout",
     "text": [
      "\t drmt_01\n",
      "D:/data/scp-act/S02/S02_drmt_01.vhdr\n"
     ]
    },
    {
     "output_type": "stream",
     "name": "stderr",
     "text": [
      "c:\\Users\\lukas\\Dokumente\\projects\\scp-act\\data_analysis\\notebooks\\..\\actionpy\\prepro\\prepro.py:24: RuntimeWarning: Online software filter detected. Using software filter settings and ignoring hardware values\n",
      "  raw = mne.io.read_raw_brainvision(pth, preload=True, verbose=verbose)\n",
      "c:\\Users\\lukas\\Dokumente\\projects\\scp-act\\data_analysis\\notebooks\\..\\actionpy\\prepro\\prepro.py:24: RuntimeWarning: Channels contain different highpass filters. Lowest (weakest) filter setting (0.00 Hz) will be stored.\n",
      "  raw = mne.io.read_raw_brainvision(pth, preload=True, verbose=verbose)\n",
      "c:\\Users\\lukas\\Dokumente\\projects\\scp-act\\data_analysis\\notebooks\\..\\actionpy\\prepro\\prepro.py:24: RuntimeWarning: Channels contain different lowpass filters. Highest (weakest) filter setting (500.00 Hz, Nyquist limit) will be stored.\n",
      "  raw = mne.io.read_raw_brainvision(pth, preload=True, verbose=verbose)\n"
     ]
    },
    {
     "output_type": "stream",
     "name": "stdout",
     "text": [
      "Used Annotations descriptions: ['New Segment/', 'Stimulus/S  2', 'Stimulus/S  4']\n"
     ]
    },
    {
     "output_type": "stream",
     "name": "stderr",
     "text": [
      "c:\\Users\\lukas\\Dokumente\\projects\\scp-act\\data_analysis\\notebooks\\..\\actionpy\\prepro\\prepro.py:125: RuntimeWarning: The unit for channel(s) VEOG has changed from C to V.\n",
      "  raw.set_channel_types(mapping)\n"
     ]
    },
    {
     "output_type": "stream",
     "name": "stdout",
     "text": [
      "Not setting metadata\n",
      "Not setting metadata\n",
      "1 matching events found\n",
      "No baseline correction applied\n",
      "0 projection items activated\n",
      "0 bad epochs dropped\n"
     ]
    },
    {
     "output_type": "stream",
     "name": "stderr",
     "text": [
      "[Parallel(n_jobs=8)]: Using backend LokyBackend with 8 concurrent workers.\n"
     ]
    },
    {
     "output_type": "stream",
     "name": "stdout",
     "text": [
      "Creating RawArray with float64 data, n_channels=1, n_times=42000\n",
      "    Range : 0 ... 41999 =      0.000 ...   419.990 secs\n",
      "Ready.\n"
     ]
    },
    {
     "output_type": "stream",
     "name": "stderr",
     "text": [
      "[Parallel(n_jobs=8)]: Done   1 tasks      | elapsed:    3.1s\n",
      "[Parallel(n_jobs=8)]: Done   1 out of   1 | elapsed:    3.1s finished\n",
      "C:\\Users\\lukas\\virtualenvs\\eegenv\\lib\\site-packages\\autoreject\\ransac.py:226: RuntimeWarning: No bad channels to interpolate. Doing nothing...\n",
      "  epochs.interpolate_bads(reset_bads=True)\n",
      "c:\\Users\\lukas\\Dokumente\\projects\\scp-act\\data_analysis\\notebooks\\..\\actionpy\\prepro\\prepro.py:148: DeprecationWarning: Version 0.23 introduced max_iter=\"auto\", setting max_iter=1000 for `fastica` and max_iter=500 for `infomax` and `picard`. The current default of max_iter=200 will be changed to \"auto\" in version 0.24.\n",
      "  ica = mne.preprocessing.ICA(n_components=n_components,\n"
     ]
    },
    {
     "output_type": "stream",
     "name": "stdout",
     "text": [
      "\t drmt_02\n",
      "D:/data/scp-act/S02/S02_drmt_02.vhdr\n"
     ]
    },
    {
     "output_type": "stream",
     "name": "stderr",
     "text": [
      "c:\\Users\\lukas\\Dokumente\\projects\\scp-act\\data_analysis\\notebooks\\..\\actionpy\\prepro\\prepro.py:24: RuntimeWarning: Online software filter detected. Using software filter settings and ignoring hardware values\n",
      "  raw = mne.io.read_raw_brainvision(pth, preload=True, verbose=verbose)\n",
      "c:\\Users\\lukas\\Dokumente\\projects\\scp-act\\data_analysis\\notebooks\\..\\actionpy\\prepro\\prepro.py:24: RuntimeWarning: Channels contain different highpass filters. Lowest (weakest) filter setting (0.00 Hz) will be stored.\n",
      "  raw = mne.io.read_raw_brainvision(pth, preload=True, verbose=verbose)\n",
      "c:\\Users\\lukas\\Dokumente\\projects\\scp-act\\data_analysis\\notebooks\\..\\actionpy\\prepro\\prepro.py:24: RuntimeWarning: Channels contain different lowpass filters. Highest (weakest) filter setting (500.00 Hz, Nyquist limit) will be stored.\n",
      "  raw = mne.io.read_raw_brainvision(pth, preload=True, verbose=verbose)\n"
     ]
    },
    {
     "output_type": "stream",
     "name": "stdout",
     "text": [
      "Used Annotations descriptions: ['New Segment/', 'Stimulus/S  2', 'Stimulus/S  4']\n"
     ]
    },
    {
     "output_type": "stream",
     "name": "stderr",
     "text": [
      "c:\\Users\\lukas\\Dokumente\\projects\\scp-act\\data_analysis\\notebooks\\..\\actionpy\\prepro\\prepro.py:125: RuntimeWarning: The unit for channel(s) VEOG has changed from C to V.\n",
      "  raw.set_channel_types(mapping)\n"
     ]
    },
    {
     "output_type": "stream",
     "name": "stdout",
     "text": [
      "Not setting metadata\n",
      "Not setting metadata\n",
      "1 matching events found\n",
      "No baseline correction applied\n",
      "0 projection items activated\n",
      "0 bad epochs dropped\n"
     ]
    },
    {
     "output_type": "stream",
     "name": "stderr",
     "text": [
      "[Parallel(n_jobs=8)]: Using backend LokyBackend with 8 concurrent workers.\n"
     ]
    },
    {
     "output_type": "stream",
     "name": "stdout",
     "text": [
      "Creating RawArray with float64 data, n_channels=1, n_times=42000\n",
      "    Range : 0 ... 41999 =      0.000 ...   419.990 secs\n",
      "Ready.\n"
     ]
    },
    {
     "output_type": "stream",
     "name": "stderr",
     "text": [
      "[Parallel(n_jobs=8)]: Done   1 tasks      | elapsed:    2.5s\n",
      "[Parallel(n_jobs=8)]: Done   1 out of   1 | elapsed:    2.5s finished\n",
      "C:\\Users\\lukas\\virtualenvs\\eegenv\\lib\\site-packages\\autoreject\\ransac.py:226: RuntimeWarning: No bad channels to interpolate. Doing nothing...\n",
      "  epochs.interpolate_bads(reset_bads=True)\n",
      "c:\\Users\\lukas\\Dokumente\\projects\\scp-act\\data_analysis\\notebooks\\..\\actionpy\\prepro\\prepro.py:148: DeprecationWarning: Version 0.23 introduced max_iter=\"auto\", setting max_iter=1000 for `fastica` and max_iter=500 for `infomax` and `picard`. The current default of max_iter=200 will be changed to \"auto\" in version 0.24.\n",
      "  ica = mne.preprocessing.ICA(n_components=n_components,\n"
     ]
    },
    {
     "output_type": "stream",
     "name": "stdout",
     "text": [
      "\t vol_01\n",
      "D:/data/scp-act/S02/S02_vol_01.vhdr\n"
     ]
    },
    {
     "output_type": "stream",
     "name": "stderr",
     "text": [
      "c:\\Users\\lukas\\Dokumente\\projects\\scp-act\\data_analysis\\notebooks\\..\\actionpy\\prepro\\prepro.py:24: RuntimeWarning: Online software filter detected. Using software filter settings and ignoring hardware values\n",
      "  raw = mne.io.read_raw_brainvision(pth, preload=True, verbose=verbose)\n",
      "c:\\Users\\lukas\\Dokumente\\projects\\scp-act\\data_analysis\\notebooks\\..\\actionpy\\prepro\\prepro.py:24: RuntimeWarning: Channels contain different highpass filters. Lowest (weakest) filter setting (0.00 Hz) will be stored.\n",
      "  raw = mne.io.read_raw_brainvision(pth, preload=True, verbose=verbose)\n",
      "c:\\Users\\lukas\\Dokumente\\projects\\scp-act\\data_analysis\\notebooks\\..\\actionpy\\prepro\\prepro.py:24: RuntimeWarning: Channels contain different lowpass filters. Highest (weakest) filter setting (500.00 Hz, Nyquist limit) will be stored.\n",
      "  raw = mne.io.read_raw_brainvision(pth, preload=True, verbose=verbose)\n"
     ]
    },
    {
     "output_type": "stream",
     "name": "stdout",
     "text": [
      "Used Annotations descriptions: ['New Segment/', 'Response/R  7', 'Response/R 15', 'Stimulus/S  2', 'Stimulus/S  4']\n"
     ]
    },
    {
     "output_type": "stream",
     "name": "stderr",
     "text": [
      "c:\\Users\\lukas\\Dokumente\\projects\\scp-act\\data_analysis\\notebooks\\..\\actionpy\\prepro\\prepro.py:125: RuntimeWarning: The unit for channel(s) VEOG has changed from C to V.\n",
      "  raw.set_channel_types(mapping)\n"
     ]
    },
    {
     "output_type": "stream",
     "name": "stdout",
     "text": [
      "Not setting metadata\n",
      "Not setting metadata\n",
      "1 matching events found\n",
      "No baseline correction applied\n",
      "0 projection items activated\n",
      "0 bad epochs dropped\n"
     ]
    },
    {
     "output_type": "stream",
     "name": "stderr",
     "text": [
      "[Parallel(n_jobs=8)]: Using backend LokyBackend with 8 concurrent workers.\n"
     ]
    },
    {
     "output_type": "stream",
     "name": "stdout",
     "text": [
      "Interpolating bad channels\n",
      "    Automatic origin fit: head of radius 92.0 mm\n",
      "Computing interpolation matrix from 30 sensor positions\n",
      "Interpolating 1 sensors\n",
      "Creating RawArray with float64 data, n_channels=1, n_times=42100\n",
      "    Range : 0 ... 42099 =      0.000 ...   420.990 secs\n",
      "Ready.\n"
     ]
    },
    {
     "output_type": "stream",
     "name": "stderr",
     "text": [
      "[Parallel(n_jobs=8)]: Done   1 tasks      | elapsed:    2.6s\n",
      "[Parallel(n_jobs=8)]: Done   1 out of   1 | elapsed:    2.6s finished\n",
      "c:\\Users\\lukas\\Dokumente\\projects\\scp-act\\data_analysis\\notebooks\\..\\actionpy\\prepro\\prepro.py:148: DeprecationWarning: Version 0.23 introduced max_iter=\"auto\", setting max_iter=1000 for `fastica` and max_iter=500 for `infomax` and `picard`. The current default of max_iter=200 will be changed to \"auto\" in version 0.24.\n",
      "  ica = mne.preprocessing.ICA(n_components=n_components,\n"
     ]
    },
    {
     "output_type": "stream",
     "name": "stdout",
     "text": [
      "\t vol_02\n",
      "D:/data/scp-act/S02/S02_vol_02.vhdr\n"
     ]
    },
    {
     "output_type": "stream",
     "name": "stderr",
     "text": [
      "c:\\Users\\lukas\\Dokumente\\projects\\scp-act\\data_analysis\\notebooks\\..\\actionpy\\prepro\\prepro.py:24: RuntimeWarning: Online software filter detected. Using software filter settings and ignoring hardware values\n",
      "  raw = mne.io.read_raw_brainvision(pth, preload=True, verbose=verbose)\n",
      "c:\\Users\\lukas\\Dokumente\\projects\\scp-act\\data_analysis\\notebooks\\..\\actionpy\\prepro\\prepro.py:24: RuntimeWarning: Channels contain different highpass filters. Lowest (weakest) filter setting (0.00 Hz) will be stored.\n",
      "  raw = mne.io.read_raw_brainvision(pth, preload=True, verbose=verbose)\n",
      "c:\\Users\\lukas\\Dokumente\\projects\\scp-act\\data_analysis\\notebooks\\..\\actionpy\\prepro\\prepro.py:24: RuntimeWarning: Channels contain different lowpass filters. Highest (weakest) filter setting (500.00 Hz, Nyquist limit) will be stored.\n",
      "  raw = mne.io.read_raw_brainvision(pth, preload=True, verbose=verbose)\n"
     ]
    },
    {
     "output_type": "stream",
     "name": "stdout",
     "text": [
      "Used Annotations descriptions: ['New Segment/', 'Response/R  7', 'Response/R 15', 'Stimulus/S  2', 'Stimulus/S  4']\n"
     ]
    },
    {
     "output_type": "stream",
     "name": "stderr",
     "text": [
      "c:\\Users\\lukas\\Dokumente\\projects\\scp-act\\data_analysis\\notebooks\\..\\actionpy\\prepro\\prepro.py:125: RuntimeWarning: The unit for channel(s) VEOG has changed from C to V.\n",
      "  raw.set_channel_types(mapping)\n"
     ]
    },
    {
     "output_type": "stream",
     "name": "stdout",
     "text": [
      "Not setting metadata\n",
      "Not setting metadata\n",
      "1 matching events found\n",
      "No baseline correction applied\n",
      "0 projection items activated\n",
      "0 bad epochs dropped\n"
     ]
    },
    {
     "output_type": "stream",
     "name": "stderr",
     "text": [
      "[Parallel(n_jobs=8)]: Using backend LokyBackend with 8 concurrent workers.\n"
     ]
    },
    {
     "output_type": "stream",
     "name": "stdout",
     "text": [
      "Interpolating bad channels\n",
      "    Automatic origin fit: head of radius 92.0 mm\n",
      "Computing interpolation matrix from 30 sensor positions\n",
      "Interpolating 1 sensors\n",
      "Creating RawArray with float64 data, n_channels=1, n_times=42101\n",
      "    Range : 0 ... 42100 =      0.000 ...   421.000 secs\n",
      "Ready.\n"
     ]
    },
    {
     "output_type": "stream",
     "name": "stderr",
     "text": [
      "[Parallel(n_jobs=8)]: Done   1 tasks      | elapsed:    2.6s\n",
      "[Parallel(n_jobs=8)]: Done   1 out of   1 | elapsed:    2.6s finished\n",
      "c:\\Users\\lukas\\Dokumente\\projects\\scp-act\\data_analysis\\notebooks\\..\\actionpy\\prepro\\prepro.py:148: DeprecationWarning: Version 0.23 introduced max_iter=\"auto\", setting max_iter=1000 for `fastica` and max_iter=500 for `infomax` and `picard`. The current default of max_iter=200 will be changed to \"auto\" in version 0.24.\n",
      "  ica = mne.preprocessing.ICA(n_components=n_components,\n"
     ]
    },
    {
     "output_type": "stream",
     "name": "stdout",
     "text": [
      "S03\n",
      "\t rest_01\n",
      "D:/data/scp-act/S03/S03_rest_01.vhdr\n"
     ]
    },
    {
     "output_type": "stream",
     "name": "stderr",
     "text": [
      "c:\\Users\\lukas\\Dokumente\\projects\\scp-act\\data_analysis\\notebooks\\..\\actionpy\\prepro\\prepro.py:24: RuntimeWarning: Online software filter detected. Using software filter settings and ignoring hardware values\n",
      "  raw = mne.io.read_raw_brainvision(pth, preload=True, verbose=verbose)\n",
      "c:\\Users\\lukas\\Dokumente\\projects\\scp-act\\data_analysis\\notebooks\\..\\actionpy\\prepro\\prepro.py:24: RuntimeWarning: Channels contain different highpass filters. Lowest (weakest) filter setting (0.00 Hz) will be stored.\n",
      "  raw = mne.io.read_raw_brainvision(pth, preload=True, verbose=verbose)\n",
      "c:\\Users\\lukas\\Dokumente\\projects\\scp-act\\data_analysis\\notebooks\\..\\actionpy\\prepro\\prepro.py:24: RuntimeWarning: Channels contain different lowpass filters. Highest (weakest) filter setting (500.00 Hz, Nyquist limit) will be stored.\n",
      "  raw = mne.io.read_raw_brainvision(pth, preload=True, verbose=verbose)\n"
     ]
    },
    {
     "output_type": "stream",
     "name": "stdout",
     "text": [
      "Used Annotations descriptions: ['New Segment/', 'Stimulus/S  2', 'Stimulus/S  4']\n"
     ]
    },
    {
     "output_type": "stream",
     "name": "stderr",
     "text": [
      "c:\\Users\\lukas\\Dokumente\\projects\\scp-act\\data_analysis\\notebooks\\..\\actionpy\\prepro\\prepro.py:125: RuntimeWarning: The unit for channel(s) VEOG has changed from C to V.\n",
      "  raw.set_channel_types(mapping)\n"
     ]
    },
    {
     "output_type": "stream",
     "name": "stdout",
     "text": [
      "Not setting metadata\n",
      "Not setting metadata\n",
      "1 matching events found\n",
      "No baseline correction applied\n",
      "0 projection items activated\n",
      "0 bad epochs dropped\n"
     ]
    },
    {
     "output_type": "stream",
     "name": "stderr",
     "text": [
      "[Parallel(n_jobs=8)]: Using backend LokyBackend with 8 concurrent workers.\n"
     ]
    },
    {
     "output_type": "stream",
     "name": "stdout",
     "text": [
      "Creating RawArray with float64 data, n_channels=1, n_times=42100\n",
      "    Range : 0 ... 42099 =      0.000 ...   420.990 secs\n",
      "Ready.\n"
     ]
    },
    {
     "output_type": "stream",
     "name": "stderr",
     "text": [
      "[Parallel(n_jobs=8)]: Done   1 tasks      | elapsed:    2.6s\n",
      "[Parallel(n_jobs=8)]: Done   1 out of   1 | elapsed:    2.6s finished\n",
      "C:\\Users\\lukas\\virtualenvs\\eegenv\\lib\\site-packages\\autoreject\\ransac.py:226: RuntimeWarning: No bad channels to interpolate. Doing nothing...\n",
      "  epochs.interpolate_bads(reset_bads=True)\n",
      "c:\\Users\\lukas\\Dokumente\\projects\\scp-act\\data_analysis\\notebooks\\..\\actionpy\\prepro\\prepro.py:148: DeprecationWarning: Version 0.23 introduced max_iter=\"auto\", setting max_iter=1000 for `fastica` and max_iter=500 for `infomax` and `picard`. The current default of max_iter=200 will be changed to \"auto\" in version 0.24.\n",
      "  ica = mne.preprocessing.ICA(n_components=n_components,\n"
     ]
    },
    {
     "output_type": "stream",
     "name": "stdout",
     "text": [
      "\t rest_02\n",
      "D:/data/scp-act/S03/S03_rest_02.vhdr\n"
     ]
    },
    {
     "output_type": "stream",
     "name": "stderr",
     "text": [
      "c:\\Users\\lukas\\Dokumente\\projects\\scp-act\\data_analysis\\notebooks\\..\\actionpy\\prepro\\prepro.py:24: RuntimeWarning: Online software filter detected. Using software filter settings and ignoring hardware values\n",
      "  raw = mne.io.read_raw_brainvision(pth, preload=True, verbose=verbose)\n",
      "c:\\Users\\lukas\\Dokumente\\projects\\scp-act\\data_analysis\\notebooks\\..\\actionpy\\prepro\\prepro.py:24: RuntimeWarning: Channels contain different highpass filters. Lowest (weakest) filter setting (0.00 Hz) will be stored.\n",
      "  raw = mne.io.read_raw_brainvision(pth, preload=True, verbose=verbose)\n",
      "c:\\Users\\lukas\\Dokumente\\projects\\scp-act\\data_analysis\\notebooks\\..\\actionpy\\prepro\\prepro.py:24: RuntimeWarning: Channels contain different lowpass filters. Highest (weakest) filter setting (500.00 Hz, Nyquist limit) will be stored.\n",
      "  raw = mne.io.read_raw_brainvision(pth, preload=True, verbose=verbose)\n"
     ]
    },
    {
     "output_type": "stream",
     "name": "stdout",
     "text": [
      "Used Annotations descriptions: ['New Segment/', 'Stimulus/S  2', 'Stimulus/S  4']\n"
     ]
    },
    {
     "output_type": "stream",
     "name": "stderr",
     "text": [
      "c:\\Users\\lukas\\Dokumente\\projects\\scp-act\\data_analysis\\notebooks\\..\\actionpy\\prepro\\prepro.py:125: RuntimeWarning: The unit for channel(s) VEOG has changed from C to V.\n",
      "  raw.set_channel_types(mapping)\n"
     ]
    },
    {
     "output_type": "stream",
     "name": "stdout",
     "text": [
      "Not setting metadata\n",
      "Not setting metadata\n",
      "1 matching events found\n",
      "No baseline correction applied\n",
      "0 projection items activated\n",
      "0 bad epochs dropped\n"
     ]
    },
    {
     "output_type": "stream",
     "name": "stderr",
     "text": [
      "[Parallel(n_jobs=8)]: Using backend LokyBackend with 8 concurrent workers.\n"
     ]
    },
    {
     "output_type": "stream",
     "name": "stdout",
     "text": [
      "Creating RawArray with float64 data, n_channels=1, n_times=42101\n",
      "    Range : 0 ... 42100 =      0.000 ...   421.000 secs\n",
      "Ready.\n"
     ]
    },
    {
     "output_type": "stream",
     "name": "stderr",
     "text": [
      "[Parallel(n_jobs=8)]: Done   1 tasks      | elapsed:    2.4s\n",
      "[Parallel(n_jobs=8)]: Done   1 out of   1 | elapsed:    2.4s finished\n",
      "C:\\Users\\lukas\\virtualenvs\\eegenv\\lib\\site-packages\\autoreject\\ransac.py:226: RuntimeWarning: No bad channels to interpolate. Doing nothing...\n",
      "  epochs.interpolate_bads(reset_bads=True)\n",
      "c:\\Users\\lukas\\Dokumente\\projects\\scp-act\\data_analysis\\notebooks\\..\\actionpy\\prepro\\prepro.py:148: DeprecationWarning: Version 0.23 introduced max_iter=\"auto\", setting max_iter=1000 for `fastica` and max_iter=500 for `infomax` and `picard`. The current default of max_iter=200 will be changed to \"auto\" in version 0.24.\n",
      "  ica = mne.preprocessing.ICA(n_components=n_components,\n"
     ]
    },
    {
     "output_type": "stream",
     "name": "stdout",
     "text": [
      "\t exp_01\n",
      "D:/data/scp-act/S03/S03_exp_01.vhdr\n",
      "Used Annotations descriptions: ['New Segment/', 'Response/R  7', 'Response/R 15', 'Stimulus/S  2', 'Stimulus/S  4', 'Stimulus/S  6']\n"
     ]
    },
    {
     "output_type": "stream",
     "name": "stderr",
     "text": [
      "c:\\Users\\lukas\\Dokumente\\projects\\scp-act\\data_analysis\\notebooks\\..\\actionpy\\prepro\\prepro.py:24: RuntimeWarning: Online software filter detected. Using software filter settings and ignoring hardware values\n",
      "  raw = mne.io.read_raw_brainvision(pth, preload=True, verbose=verbose)\n",
      "c:\\Users\\lukas\\Dokumente\\projects\\scp-act\\data_analysis\\notebooks\\..\\actionpy\\prepro\\prepro.py:24: RuntimeWarning: Channels contain different highpass filters. Lowest (weakest) filter setting (0.00 Hz) will be stored.\n",
      "  raw = mne.io.read_raw_brainvision(pth, preload=True, verbose=verbose)\n",
      "c:\\Users\\lukas\\Dokumente\\projects\\scp-act\\data_analysis\\notebooks\\..\\actionpy\\prepro\\prepro.py:24: RuntimeWarning: Channels contain different lowpass filters. Highest (weakest) filter setting (500.00 Hz, Nyquist limit) will be stored.\n",
      "  raw = mne.io.read_raw_brainvision(pth, preload=True, verbose=verbose)\n",
      "c:\\Users\\lukas\\Dokumente\\projects\\scp-act\\data_analysis\\notebooks\\..\\actionpy\\prepro\\prepro.py:125: RuntimeWarning: The unit for channel(s) VEOG has changed from C to V.\n",
      "  raw.set_channel_types(mapping)\n"
     ]
    },
    {
     "output_type": "stream",
     "name": "stdout",
     "text": [
      "Not setting metadata\n",
      "Not setting metadata\n",
      "1 matching events found\n",
      "No baseline correction applied\n",
      "0 projection items activated\n",
      "0 bad epochs dropped\n"
     ]
    },
    {
     "output_type": "stream",
     "name": "stderr",
     "text": [
      "[Parallel(n_jobs=8)]: Using backend LokyBackend with 8 concurrent workers.\n"
     ]
    },
    {
     "output_type": "stream",
     "name": "stdout",
     "text": [
      "Interpolating bad channels\n",
      "    Automatic origin fit: head of radius 92.0 mm\n",
      "Computing interpolation matrix from 30 sensor positions\n",
      "Interpolating 1 sensors\n",
      "Creating RawArray with float64 data, n_channels=1, n_times=42102\n",
      "    Range : 0 ... 42101 =      0.000 ...   421.010 secs\n",
      "Ready.\n"
     ]
    },
    {
     "output_type": "stream",
     "name": "stderr",
     "text": [
      "[Parallel(n_jobs=8)]: Done   1 tasks      | elapsed:    2.5s\n",
      "[Parallel(n_jobs=8)]: Done   1 out of   1 | elapsed:    2.5s finished\n",
      "c:\\Users\\lukas\\Dokumente\\projects\\scp-act\\data_analysis\\notebooks\\..\\actionpy\\prepro\\prepro.py:148: DeprecationWarning: Version 0.23 introduced max_iter=\"auto\", setting max_iter=1000 for `fastica` and max_iter=500 for `infomax` and `picard`. The current default of max_iter=200 will be changed to \"auto\" in version 0.24.\n",
      "  ica = mne.preprocessing.ICA(n_components=n_components,\n"
     ]
    },
    {
     "output_type": "stream",
     "name": "stdout",
     "text": [
      "\t drmt_01\n",
      "D:/data/scp-act/S03/S03_drmt_01.vhdr\n"
     ]
    },
    {
     "output_type": "stream",
     "name": "stderr",
     "text": [
      "c:\\Users\\lukas\\Dokumente\\projects\\scp-act\\data_analysis\\notebooks\\..\\actionpy\\prepro\\prepro.py:24: RuntimeWarning: Online software filter detected. Using software filter settings and ignoring hardware values\n",
      "  raw = mne.io.read_raw_brainvision(pth, preload=True, verbose=verbose)\n",
      "c:\\Users\\lukas\\Dokumente\\projects\\scp-act\\data_analysis\\notebooks\\..\\actionpy\\prepro\\prepro.py:24: RuntimeWarning: Channels contain different highpass filters. Lowest (weakest) filter setting (0.00 Hz) will be stored.\n",
      "  raw = mne.io.read_raw_brainvision(pth, preload=True, verbose=verbose)\n",
      "c:\\Users\\lukas\\Dokumente\\projects\\scp-act\\data_analysis\\notebooks\\..\\actionpy\\prepro\\prepro.py:24: RuntimeWarning: Channels contain different lowpass filters. Highest (weakest) filter setting (500.00 Hz, Nyquist limit) will be stored.\n",
      "  raw = mne.io.read_raw_brainvision(pth, preload=True, verbose=verbose)\n"
     ]
    },
    {
     "output_type": "stream",
     "name": "stdout",
     "text": [
      "Used Annotations descriptions: ['New Segment/', 'Stimulus/S  2', 'Stimulus/S  4']\n"
     ]
    },
    {
     "output_type": "stream",
     "name": "stderr",
     "text": [
      "c:\\Users\\lukas\\Dokumente\\projects\\scp-act\\data_analysis\\notebooks\\..\\actionpy\\prepro\\prepro.py:125: RuntimeWarning: The unit for channel(s) VEOG has changed from C to V.\n",
      "  raw.set_channel_types(mapping)\n"
     ]
    },
    {
     "output_type": "stream",
     "name": "stdout",
     "text": [
      "Not setting metadata\n",
      "Not setting metadata\n",
      "1 matching events found\n",
      "No baseline correction applied\n",
      "0 projection items activated\n",
      "0 bad epochs dropped\n"
     ]
    },
    {
     "output_type": "stream",
     "name": "stderr",
     "text": [
      "[Parallel(n_jobs=8)]: Using backend LokyBackend with 8 concurrent workers.\n"
     ]
    },
    {
     "output_type": "stream",
     "name": "stdout",
     "text": [
      "Creating RawArray with float64 data, n_channels=1, n_times=42000\n",
      "    Range : 0 ... 41999 =      0.000 ...   419.990 secs\n",
      "Ready.\n"
     ]
    },
    {
     "output_type": "stream",
     "name": "stderr",
     "text": [
      "[Parallel(n_jobs=8)]: Done   1 tasks      | elapsed:    2.5s\n",
      "[Parallel(n_jobs=8)]: Done   1 out of   1 | elapsed:    2.5s finished\n",
      "C:\\Users\\lukas\\virtualenvs\\eegenv\\lib\\site-packages\\autoreject\\ransac.py:226: RuntimeWarning: No bad channels to interpolate. Doing nothing...\n",
      "  epochs.interpolate_bads(reset_bads=True)\n",
      "c:\\Users\\lukas\\Dokumente\\projects\\scp-act\\data_analysis\\notebooks\\..\\actionpy\\prepro\\prepro.py:148: DeprecationWarning: Version 0.23 introduced max_iter=\"auto\", setting max_iter=1000 for `fastica` and max_iter=500 for `infomax` and `picard`. The current default of max_iter=200 will be changed to \"auto\" in version 0.24.\n",
      "  ica = mne.preprocessing.ICA(n_components=n_components,\n"
     ]
    },
    {
     "output_type": "stream",
     "name": "stdout",
     "text": [
      "\t drmt_02\n",
      "D:/data/scp-act/S03/S03_drmt_02.vhdr\n"
     ]
    },
    {
     "output_type": "stream",
     "name": "stderr",
     "text": [
      "c:\\Users\\lukas\\Dokumente\\projects\\scp-act\\data_analysis\\notebooks\\..\\actionpy\\prepro\\prepro.py:24: RuntimeWarning: Online software filter detected. Using software filter settings and ignoring hardware values\n",
      "  raw = mne.io.read_raw_brainvision(pth, preload=True, verbose=verbose)\n",
      "c:\\Users\\lukas\\Dokumente\\projects\\scp-act\\data_analysis\\notebooks\\..\\actionpy\\prepro\\prepro.py:24: RuntimeWarning: Channels contain different highpass filters. Lowest (weakest) filter setting (0.00 Hz) will be stored.\n",
      "  raw = mne.io.read_raw_brainvision(pth, preload=True, verbose=verbose)\n",
      "c:\\Users\\lukas\\Dokumente\\projects\\scp-act\\data_analysis\\notebooks\\..\\actionpy\\prepro\\prepro.py:24: RuntimeWarning: Channels contain different lowpass filters. Highest (weakest) filter setting (500.00 Hz, Nyquist limit) will be stored.\n",
      "  raw = mne.io.read_raw_brainvision(pth, preload=True, verbose=verbose)\n"
     ]
    },
    {
     "output_type": "stream",
     "name": "stdout",
     "text": [
      "Used Annotations descriptions: ['New Segment/', 'Stimulus/S  2', 'Stimulus/S  4']\n"
     ]
    },
    {
     "output_type": "stream",
     "name": "stderr",
     "text": [
      "c:\\Users\\lukas\\Dokumente\\projects\\scp-act\\data_analysis\\notebooks\\..\\actionpy\\prepro\\prepro.py:125: RuntimeWarning: The unit for channel(s) VEOG has changed from C to V.\n",
      "  raw.set_channel_types(mapping)\n"
     ]
    },
    {
     "output_type": "stream",
     "name": "stdout",
     "text": [
      "Not setting metadata\n",
      "Not setting metadata\n",
      "1 matching events found\n",
      "No baseline correction applied\n",
      "0 projection items activated\n",
      "0 bad epochs dropped\n"
     ]
    },
    {
     "output_type": "stream",
     "name": "stderr",
     "text": [
      "[Parallel(n_jobs=8)]: Using backend LokyBackend with 8 concurrent workers.\n"
     ]
    },
    {
     "output_type": "stream",
     "name": "stdout",
     "text": [
      "Creating RawArray with float64 data, n_channels=1, n_times=42000\n",
      "    Range : 0 ... 41999 =      0.000 ...   419.990 secs\n",
      "Ready.\n"
     ]
    },
    {
     "output_type": "stream",
     "name": "stderr",
     "text": [
      "[Parallel(n_jobs=8)]: Done   1 tasks      | elapsed:    2.6s\n",
      "[Parallel(n_jobs=8)]: Done   1 out of   1 | elapsed:    2.6s finished\n",
      "C:\\Users\\lukas\\virtualenvs\\eegenv\\lib\\site-packages\\autoreject\\ransac.py:226: RuntimeWarning: No bad channels to interpolate. Doing nothing...\n",
      "  epochs.interpolate_bads(reset_bads=True)\n",
      "c:\\Users\\lukas\\Dokumente\\projects\\scp-act\\data_analysis\\notebooks\\..\\actionpy\\prepro\\prepro.py:148: DeprecationWarning: Version 0.23 introduced max_iter=\"auto\", setting max_iter=1000 for `fastica` and max_iter=500 for `infomax` and `picard`. The current default of max_iter=200 will be changed to \"auto\" in version 0.24.\n",
      "  ica = mne.preprocessing.ICA(n_components=n_components,\n"
     ]
    },
    {
     "output_type": "stream",
     "name": "stdout",
     "text": [
      "\t vol_01\n",
      "D:/data/scp-act/S03/S03_vol_01.vhdr\n",
      "Used Annotations descriptions: ['New Segment/', 'Response/R  7', 'Response/R 15', 'Stimulus/S  2', 'Stimulus/S  4']\n"
     ]
    },
    {
     "output_type": "stream",
     "name": "stderr",
     "text": [
      "c:\\Users\\lukas\\Dokumente\\projects\\scp-act\\data_analysis\\notebooks\\..\\actionpy\\prepro\\prepro.py:125: RuntimeWarning: The unit for channel(s) VEOG has changed from C to V.\n",
      "  raw.set_channel_types(mapping)\n"
     ]
    },
    {
     "output_type": "stream",
     "name": "stdout",
     "text": [
      "Not setting metadata\n",
      "Not setting metadata\n",
      "1 matching events found\n",
      "No baseline correction applied\n",
      "0 projection items activated\n",
      "0 bad epochs dropped\n"
     ]
    },
    {
     "output_type": "stream",
     "name": "stderr",
     "text": [
      "[Parallel(n_jobs=8)]: Using backend LokyBackend with 8 concurrent workers.\n"
     ]
    },
    {
     "output_type": "stream",
     "name": "stdout",
     "text": [
      "Interpolating bad channels\n",
      "    Automatic origin fit: head of radius 92.0 mm\n",
      "Computing interpolation matrix from 30 sensor positions\n",
      "Interpolating 1 sensors\n",
      "Creating RawArray with float64 data, n_channels=1, n_times=42100\n",
      "    Range : 0 ... 42099 =      0.000 ...   420.990 secs\n",
      "Ready.\n"
     ]
    },
    {
     "output_type": "stream",
     "name": "stderr",
     "text": [
      "[Parallel(n_jobs=8)]: Done   1 tasks      | elapsed:    2.6s\n",
      "[Parallel(n_jobs=8)]: Done   1 out of   1 | elapsed:    2.6s finished\n",
      "c:\\Users\\lukas\\Dokumente\\projects\\scp-act\\data_analysis\\notebooks\\..\\actionpy\\prepro\\prepro.py:148: DeprecationWarning: Version 0.23 introduced max_iter=\"auto\", setting max_iter=1000 for `fastica` and max_iter=500 for `infomax` and `picard`. The current default of max_iter=200 will be changed to \"auto\" in version 0.24.\n",
      "  ica = mne.preprocessing.ICA(n_components=n_components,\n"
     ]
    },
    {
     "output_type": "stream",
     "name": "stdout",
     "text": [
      "\t vol_02\n",
      "D:/data/scp-act/S03/S03_vol_02.vhdr\n"
     ]
    },
    {
     "output_type": "stream",
     "name": "stderr",
     "text": [
      "c:\\Users\\lukas\\Dokumente\\projects\\scp-act\\data_analysis\\notebooks\\..\\actionpy\\prepro\\prepro.py:24: RuntimeWarning: Online software filter detected. Using software filter settings and ignoring hardware values\n",
      "  raw = mne.io.read_raw_brainvision(pth, preload=True, verbose=verbose)\n",
      "c:\\Users\\lukas\\Dokumente\\projects\\scp-act\\data_analysis\\notebooks\\..\\actionpy\\prepro\\prepro.py:24: RuntimeWarning: Channels contain different highpass filters. Lowest (weakest) filter setting (0.00 Hz) will be stored.\n",
      "  raw = mne.io.read_raw_brainvision(pth, preload=True, verbose=verbose)\n",
      "c:\\Users\\lukas\\Dokumente\\projects\\scp-act\\data_analysis\\notebooks\\..\\actionpy\\prepro\\prepro.py:24: RuntimeWarning: Channels contain different lowpass filters. Highest (weakest) filter setting (500.00 Hz, Nyquist limit) will be stored.\n",
      "  raw = mne.io.read_raw_brainvision(pth, preload=True, verbose=verbose)\n"
     ]
    },
    {
     "output_type": "stream",
     "name": "stdout",
     "text": [
      "Used Annotations descriptions: ['New Segment/', 'Response/R  7', 'Response/R 15', 'Stimulus/S  2', 'Stimulus/S  4']\n"
     ]
    },
    {
     "output_type": "stream",
     "name": "stderr",
     "text": [
      "c:\\Users\\lukas\\Dokumente\\projects\\scp-act\\data_analysis\\notebooks\\..\\actionpy\\prepro\\prepro.py:125: RuntimeWarning: The unit for channel(s) VEOG has changed from C to V.\n",
      "  raw.set_channel_types(mapping)\n"
     ]
    },
    {
     "output_type": "stream",
     "name": "stdout",
     "text": [
      "Not setting metadata\n",
      "Not setting metadata\n",
      "1 matching events found\n",
      "No baseline correction applied\n",
      "0 projection items activated\n",
      "0 bad epochs dropped\n"
     ]
    },
    {
     "output_type": "stream",
     "name": "stderr",
     "text": [
      "[Parallel(n_jobs=8)]: Using backend LokyBackend with 8 concurrent workers.\n"
     ]
    },
    {
     "output_type": "stream",
     "name": "stdout",
     "text": [
      "Creating RawArray with float64 data, n_channels=1, n_times=42101\n",
      "    Range : 0 ... 42100 =      0.000 ...   421.000 secs\n",
      "Ready.\n"
     ]
    },
    {
     "output_type": "stream",
     "name": "stderr",
     "text": [
      "[Parallel(n_jobs=8)]: Done   1 tasks      | elapsed:    2.5s\n",
      "[Parallel(n_jobs=8)]: Done   1 out of   1 | elapsed:    2.5s finished\n",
      "C:\\Users\\lukas\\virtualenvs\\eegenv\\lib\\site-packages\\autoreject\\ransac.py:226: RuntimeWarning: No bad channels to interpolate. Doing nothing...\n",
      "  epochs.interpolate_bads(reset_bads=True)\n",
      "c:\\Users\\lukas\\Dokumente\\projects\\scp-act\\data_analysis\\notebooks\\..\\actionpy\\prepro\\prepro.py:148: DeprecationWarning: Version 0.23 introduced max_iter=\"auto\", setting max_iter=1000 for `fastica` and max_iter=500 for `infomax` and `picard`. The current default of max_iter=200 will be changed to \"auto\" in version 0.24.\n",
      "  ica = mne.preprocessing.ICA(n_components=n_components,\n"
     ]
    },
    {
     "output_type": "stream",
     "name": "stdout",
     "text": [
      "S04\n",
      "\t rest_01\n",
      "D:/data/scp-act/S04/S04_rest_01.vhdr\n"
     ]
    },
    {
     "output_type": "stream",
     "name": "stderr",
     "text": [
      "c:\\Users\\lukas\\Dokumente\\projects\\scp-act\\data_analysis\\notebooks\\..\\actionpy\\prepro\\prepro.py:24: RuntimeWarning: Online software filter detected. Using software filter settings and ignoring hardware values\n",
      "  raw = mne.io.read_raw_brainvision(pth, preload=True, verbose=verbose)\n",
      "c:\\Users\\lukas\\Dokumente\\projects\\scp-act\\data_analysis\\notebooks\\..\\actionpy\\prepro\\prepro.py:24: RuntimeWarning: Channels contain different highpass filters. Lowest (weakest) filter setting (0.00 Hz) will be stored.\n",
      "  raw = mne.io.read_raw_brainvision(pth, preload=True, verbose=verbose)\n",
      "c:\\Users\\lukas\\Dokumente\\projects\\scp-act\\data_analysis\\notebooks\\..\\actionpy\\prepro\\prepro.py:24: RuntimeWarning: Channels contain different lowpass filters. Highest (weakest) filter setting (500.00 Hz, Nyquist limit) will be stored.\n",
      "  raw = mne.io.read_raw_brainvision(pth, preload=True, verbose=verbose)\n"
     ]
    },
    {
     "output_type": "stream",
     "name": "stdout",
     "text": [
      "Used Annotations descriptions: ['New Segment/', 'Stimulus/S  2', 'Stimulus/S  4']\n"
     ]
    },
    {
     "output_type": "stream",
     "name": "stderr",
     "text": [
      "c:\\Users\\lukas\\Dokumente\\projects\\scp-act\\data_analysis\\notebooks\\..\\actionpy\\prepro\\prepro.py:125: RuntimeWarning: The unit for channel(s) VEOG has changed from C to V.\n",
      "  raw.set_channel_types(mapping)\n"
     ]
    },
    {
     "output_type": "stream",
     "name": "stdout",
     "text": [
      "Not setting metadata\n",
      "Not setting metadata\n",
      "1 matching events found\n",
      "No baseline correction applied\n",
      "0 projection items activated\n",
      "0 bad epochs dropped\n"
     ]
    },
    {
     "output_type": "stream",
     "name": "stderr",
     "text": [
      "[Parallel(n_jobs=8)]: Using backend LokyBackend with 8 concurrent workers.\n"
     ]
    },
    {
     "output_type": "stream",
     "name": "stdout",
     "text": [
      "Interpolating bad channels\n",
      "    Automatic origin fit: head of radius 92.0 mm\n",
      "Computing interpolation matrix from 30 sensor positions\n",
      "Interpolating 1 sensors\n",
      "Creating RawArray with float64 data, n_channels=1, n_times=42101\n"
     ]
    },
    {
     "output_type": "stream",
     "name": "stderr",
     "text": [
      "[Parallel(n_jobs=8)]: Done   1 tasks      | elapsed:    2.6s\n",
      "[Parallel(n_jobs=8)]: Done   1 out of   1 | elapsed:    2.6s finished\n"
     ]
    },
    {
     "output_type": "stream",
     "name": "stdout",
     "text": [
      "    Range : 0 ... 42100 =      0.000 ...   421.000 secs\n",
      "Ready.\n"
     ]
    },
    {
     "output_type": "stream",
     "name": "stderr",
     "text": [
      "c:\\Users\\lukas\\Dokumente\\projects\\scp-act\\data_analysis\\notebooks\\..\\actionpy\\prepro\\prepro.py:148: DeprecationWarning: Version 0.23 introduced max_iter=\"auto\", setting max_iter=1000 for `fastica` and max_iter=500 for `infomax` and `picard`. The current default of max_iter=200 will be changed to \"auto\" in version 0.24.\n",
      "  ica = mne.preprocessing.ICA(n_components=n_components,\n"
     ]
    },
    {
     "output_type": "stream",
     "name": "stdout",
     "text": [
      "\t rest_02\n",
      "D:/data/scp-act/S04/S04_rest_02.vhdr\n"
     ]
    },
    {
     "output_type": "stream",
     "name": "stderr",
     "text": [
      "c:\\Users\\lukas\\Dokumente\\projects\\scp-act\\data_analysis\\notebooks\\..\\actionpy\\prepro\\prepro.py:24: RuntimeWarning: Online software filter detected. Using software filter settings and ignoring hardware values\n",
      "  raw = mne.io.read_raw_brainvision(pth, preload=True, verbose=verbose)\n",
      "c:\\Users\\lukas\\Dokumente\\projects\\scp-act\\data_analysis\\notebooks\\..\\actionpy\\prepro\\prepro.py:24: RuntimeWarning: Channels contain different highpass filters. Lowest (weakest) filter setting (0.00 Hz) will be stored.\n",
      "  raw = mne.io.read_raw_brainvision(pth, preload=True, verbose=verbose)\n",
      "c:\\Users\\lukas\\Dokumente\\projects\\scp-act\\data_analysis\\notebooks\\..\\actionpy\\prepro\\prepro.py:24: RuntimeWarning: Channels contain different lowpass filters. Highest (weakest) filter setting (500.00 Hz, Nyquist limit) will be stored.\n",
      "  raw = mne.io.read_raw_brainvision(pth, preload=True, verbose=verbose)\n"
     ]
    },
    {
     "output_type": "stream",
     "name": "stdout",
     "text": [
      "Used Annotations descriptions: ['New Segment/', 'Stimulus/S  2', 'Stimulus/S  4']\n"
     ]
    },
    {
     "output_type": "stream",
     "name": "stderr",
     "text": [
      "c:\\Users\\lukas\\Dokumente\\projects\\scp-act\\data_analysis\\notebooks\\..\\actionpy\\prepro\\prepro.py:125: RuntimeWarning: The unit for channel(s) VEOG has changed from C to V.\n",
      "  raw.set_channel_types(mapping)\n"
     ]
    },
    {
     "output_type": "stream",
     "name": "stdout",
     "text": [
      "Not setting metadata\n",
      "Not setting metadata\n",
      "1 matching events found\n",
      "No baseline correction applied\n",
      "0 projection items activated\n",
      "0 bad epochs dropped\n"
     ]
    },
    {
     "output_type": "stream",
     "name": "stderr",
     "text": [
      "[Parallel(n_jobs=8)]: Using backend LokyBackend with 8 concurrent workers.\n"
     ]
    },
    {
     "output_type": "stream",
     "name": "stdout",
     "text": [
      "Interpolating bad channels\n",
      "    Automatic origin fit: head of radius 92.0 mm\n",
      "Computing interpolation matrix from 28 sensor positions\n",
      "Interpolating 3 sensors\n",
      "Creating RawArray with float64 data, n_channels=1, n_times=42100\n",
      "    Range : 0 ... 42099 =      0.000 ...   420.990 secs\n",
      "Ready.\n"
     ]
    },
    {
     "output_type": "stream",
     "name": "stderr",
     "text": [
      "[Parallel(n_jobs=8)]: Done   1 tasks      | elapsed:    2.5s\n",
      "[Parallel(n_jobs=8)]: Done   1 out of   1 | elapsed:    2.5s finished\n",
      "c:\\Users\\lukas\\Dokumente\\projects\\scp-act\\data_analysis\\notebooks\\..\\actionpy\\prepro\\prepro.py:148: DeprecationWarning: Version 0.23 introduced max_iter=\"auto\", setting max_iter=1000 for `fastica` and max_iter=500 for `infomax` and `picard`. The current default of max_iter=200 will be changed to \"auto\" in version 0.24.\n",
      "  ica = mne.preprocessing.ICA(n_components=n_components,\n"
     ]
    },
    {
     "output_type": "stream",
     "name": "stdout",
     "text": [
      "\t exp_01\n",
      "D:/data/scp-act/S04/S04_exp_01.vhdr\n"
     ]
    },
    {
     "output_type": "stream",
     "name": "stderr",
     "text": [
      "c:\\Users\\lukas\\Dokumente\\projects\\scp-act\\data_analysis\\notebooks\\..\\actionpy\\prepro\\prepro.py:24: RuntimeWarning: Online software filter detected. Using software filter settings and ignoring hardware values\n",
      "  raw = mne.io.read_raw_brainvision(pth, preload=True, verbose=verbose)\n",
      "c:\\Users\\lukas\\Dokumente\\projects\\scp-act\\data_analysis\\notebooks\\..\\actionpy\\prepro\\prepro.py:24: RuntimeWarning: Channels contain different highpass filters. Lowest (weakest) filter setting (0.00 Hz) will be stored.\n",
      "  raw = mne.io.read_raw_brainvision(pth, preload=True, verbose=verbose)\n",
      "c:\\Users\\lukas\\Dokumente\\projects\\scp-act\\data_analysis\\notebooks\\..\\actionpy\\prepro\\prepro.py:24: RuntimeWarning: Channels contain different lowpass filters. Highest (weakest) filter setting (500.00 Hz, Nyquist limit) will be stored.\n",
      "  raw = mne.io.read_raw_brainvision(pth, preload=True, verbose=verbose)\n"
     ]
    },
    {
     "output_type": "stream",
     "name": "stdout",
     "text": [
      "Used Annotations descriptions: ['New Segment/', 'Response/R  7', 'Response/R 15', 'Stimulus/S  2', 'Stimulus/S  4', 'Stimulus/S  6']\n"
     ]
    },
    {
     "output_type": "stream",
     "name": "stderr",
     "text": [
      "c:\\Users\\lukas\\Dokumente\\projects\\scp-act\\data_analysis\\notebooks\\..\\actionpy\\prepro\\prepro.py:125: RuntimeWarning: The unit for channel(s) VEOG has changed from C to V.\n",
      "  raw.set_channel_types(mapping)\n"
     ]
    },
    {
     "output_type": "stream",
     "name": "stdout",
     "text": [
      "Not setting metadata\n",
      "Not setting metadata\n",
      "1 matching events found\n",
      "No baseline correction applied\n",
      "0 projection items activated\n",
      "0 bad epochs dropped\n"
     ]
    },
    {
     "output_type": "stream",
     "name": "stderr",
     "text": [
      "[Parallel(n_jobs=8)]: Using backend LokyBackend with 8 concurrent workers.\n"
     ]
    },
    {
     "output_type": "stream",
     "name": "stdout",
     "text": [
      "Interpolating bad channels\n",
      "    Automatic origin fit: head of radius 92.0 mm\n",
      "Computing interpolation matrix from 28 sensor positions\n",
      "Interpolating 3 sensors\n",
      "Creating RawArray with float64 data, n_channels=1, n_times=42102\n",
      "    Range : 0 ... 42101 =      0.000 ...   421.010 secs\n",
      "Ready.\n"
     ]
    },
    {
     "output_type": "stream",
     "name": "stderr",
     "text": [
      "[Parallel(n_jobs=8)]: Done   1 tasks      | elapsed:    2.5s\n",
      "[Parallel(n_jobs=8)]: Done   1 out of   1 | elapsed:    2.5s finished\n",
      "c:\\Users\\lukas\\Dokumente\\projects\\scp-act\\data_analysis\\notebooks\\..\\actionpy\\prepro\\prepro.py:148: DeprecationWarning: Version 0.23 introduced max_iter=\"auto\", setting max_iter=1000 for `fastica` and max_iter=500 for `infomax` and `picard`. The current default of max_iter=200 will be changed to \"auto\" in version 0.24.\n",
      "  ica = mne.preprocessing.ICA(n_components=n_components,\n"
     ]
    },
    {
     "output_type": "stream",
     "name": "stdout",
     "text": [
      "\t drmt_01\n",
      "D:/data/scp-act/S04/S04_drmt_01.vhdr\n"
     ]
    },
    {
     "output_type": "stream",
     "name": "stderr",
     "text": [
      "c:\\Users\\lukas\\Dokumente\\projects\\scp-act\\data_analysis\\notebooks\\..\\actionpy\\prepro\\prepro.py:24: RuntimeWarning: Online software filter detected. Using software filter settings and ignoring hardware values\n",
      "  raw = mne.io.read_raw_brainvision(pth, preload=True, verbose=verbose)\n",
      "c:\\Users\\lukas\\Dokumente\\projects\\scp-act\\data_analysis\\notebooks\\..\\actionpy\\prepro\\prepro.py:24: RuntimeWarning: Channels contain different highpass filters. Lowest (weakest) filter setting (0.00 Hz) will be stored.\n",
      "  raw = mne.io.read_raw_brainvision(pth, preload=True, verbose=verbose)\n",
      "c:\\Users\\lukas\\Dokumente\\projects\\scp-act\\data_analysis\\notebooks\\..\\actionpy\\prepro\\prepro.py:24: RuntimeWarning: Channels contain different lowpass filters. Highest (weakest) filter setting (500.00 Hz, Nyquist limit) will be stored.\n",
      "  raw = mne.io.read_raw_brainvision(pth, preload=True, verbose=verbose)\n"
     ]
    },
    {
     "output_type": "stream",
     "name": "stdout",
     "text": [
      "Used Annotations descriptions: ['New Segment/', 'Stimulus/S  2', 'Stimulus/S  4']\n"
     ]
    },
    {
     "output_type": "stream",
     "name": "stderr",
     "text": [
      "c:\\Users\\lukas\\Dokumente\\projects\\scp-act\\data_analysis\\notebooks\\..\\actionpy\\prepro\\prepro.py:125: RuntimeWarning: The unit for channel(s) VEOG has changed from C to V.\n",
      "  raw.set_channel_types(mapping)\n"
     ]
    },
    {
     "output_type": "stream",
     "name": "stdout",
     "text": [
      "Not setting metadata\n",
      "Not setting metadata\n",
      "1 matching events found\n",
      "No baseline correction applied\n",
      "0 projection items activated\n",
      "0 bad epochs dropped\n"
     ]
    },
    {
     "output_type": "stream",
     "name": "stderr",
     "text": [
      "[Parallel(n_jobs=8)]: Using backend LokyBackend with 8 concurrent workers.\n"
     ]
    },
    {
     "output_type": "stream",
     "name": "stdout",
     "text": [
      "Interpolating bad channels\n",
      "    Automatic origin fit: head of radius 92.0 mm\n",
      "Computing interpolation matrix from 27 sensor positions\n",
      "Interpolating 4 sensors\n",
      "Creating RawArray with float64 data, n_channels=1, n_times=42000\n",
      "    Range : 0 ... 41999 =      0.000 ...   419.990 secs\n",
      "Ready.\n"
     ]
    },
    {
     "output_type": "stream",
     "name": "stderr",
     "text": [
      "[Parallel(n_jobs=8)]: Done   1 tasks      | elapsed:    2.4s\n",
      "[Parallel(n_jobs=8)]: Done   1 out of   1 | elapsed:    2.4s finished\n",
      "c:\\Users\\lukas\\Dokumente\\projects\\scp-act\\data_analysis\\notebooks\\..\\actionpy\\prepro\\prepro.py:148: DeprecationWarning: Version 0.23 introduced max_iter=\"auto\", setting max_iter=1000 for `fastica` and max_iter=500 for `infomax` and `picard`. The current default of max_iter=200 will be changed to \"auto\" in version 0.24.\n",
      "  ica = mne.preprocessing.ICA(n_components=n_components,\n"
     ]
    },
    {
     "output_type": "stream",
     "name": "stdout",
     "text": [
      "\t drmt_02\n",
      "D:/data/scp-act/S04/S04_drmt_02.vhdr\n"
     ]
    },
    {
     "output_type": "stream",
     "name": "stderr",
     "text": [
      "c:\\Users\\lukas\\Dokumente\\projects\\scp-act\\data_analysis\\notebooks\\..\\actionpy\\prepro\\prepro.py:24: RuntimeWarning: Online software filter detected. Using software filter settings and ignoring hardware values\n",
      "  raw = mne.io.read_raw_brainvision(pth, preload=True, verbose=verbose)\n",
      "c:\\Users\\lukas\\Dokumente\\projects\\scp-act\\data_analysis\\notebooks\\..\\actionpy\\prepro\\prepro.py:24: RuntimeWarning: Channels contain different highpass filters. Lowest (weakest) filter setting (0.00 Hz) will be stored.\n",
      "  raw = mne.io.read_raw_brainvision(pth, preload=True, verbose=verbose)\n",
      "c:\\Users\\lukas\\Dokumente\\projects\\scp-act\\data_analysis\\notebooks\\..\\actionpy\\prepro\\prepro.py:24: RuntimeWarning: Channels contain different lowpass filters. Highest (weakest) filter setting (500.00 Hz, Nyquist limit) will be stored.\n",
      "  raw = mne.io.read_raw_brainvision(pth, preload=True, verbose=verbose)\n"
     ]
    },
    {
     "output_type": "stream",
     "name": "stdout",
     "text": [
      "Used Annotations descriptions: ['New Segment/', 'Stimulus/S  2', 'Stimulus/S  4']\n"
     ]
    },
    {
     "output_type": "stream",
     "name": "stderr",
     "text": [
      "c:\\Users\\lukas\\Dokumente\\projects\\scp-act\\data_analysis\\notebooks\\..\\actionpy\\prepro\\prepro.py:125: RuntimeWarning: The unit for channel(s) VEOG has changed from C to V.\n",
      "  raw.set_channel_types(mapping)\n"
     ]
    },
    {
     "output_type": "stream",
     "name": "stdout",
     "text": [
      "Not setting metadata\n",
      "Not setting metadata\n",
      "1 matching events found\n",
      "No baseline correction applied\n",
      "0 projection items activated\n",
      "0 bad epochs dropped\n"
     ]
    },
    {
     "output_type": "stream",
     "name": "stderr",
     "text": [
      "[Parallel(n_jobs=8)]: Using backend LokyBackend with 8 concurrent workers.\n"
     ]
    },
    {
     "output_type": "stream",
     "name": "stdout",
     "text": [
      "Interpolating bad channels\n",
      "    Automatic origin fit: head of radius 92.0 mm\n",
      "Computing interpolation matrix from 30 sensor positions\n",
      "Interpolating 1 sensors\n",
      "Creating RawArray with float64 data, n_channels=1, n_times=42000\n",
      "    Range : 0 ... 41999 =      0.000 ...   419.990 secs\n",
      "Ready.\n"
     ]
    },
    {
     "output_type": "stream",
     "name": "stderr",
     "text": [
      "[Parallel(n_jobs=8)]: Done   1 tasks      | elapsed:    2.4s\n",
      "[Parallel(n_jobs=8)]: Done   1 out of   1 | elapsed:    2.4s finished\n",
      "c:\\Users\\lukas\\Dokumente\\projects\\scp-act\\data_analysis\\notebooks\\..\\actionpy\\prepro\\prepro.py:148: DeprecationWarning: Version 0.23 introduced max_iter=\"auto\", setting max_iter=1000 for `fastica` and max_iter=500 for `infomax` and `picard`. The current default of max_iter=200 will be changed to \"auto\" in version 0.24.\n",
      "  ica = mne.preprocessing.ICA(n_components=n_components,\n"
     ]
    },
    {
     "output_type": "stream",
     "name": "stdout",
     "text": [
      "\t vol_01\n",
      "D:/data/scp-act/S04/S04_vol_01.vhdr\n",
      "Used Annotations descriptions: ['New Segment/', 'Response/R  7', 'Response/R 15', 'Stimulus/S  2', 'Stimulus/S  4']\n"
     ]
    },
    {
     "output_type": "stream",
     "name": "stderr",
     "text": [
      "c:\\Users\\lukas\\Dokumente\\projects\\scp-act\\data_analysis\\notebooks\\..\\actionpy\\prepro\\prepro.py:24: RuntimeWarning: Online software filter detected. Using software filter settings and ignoring hardware values\n",
      "  raw = mne.io.read_raw_brainvision(pth, preload=True, verbose=verbose)\n",
      "c:\\Users\\lukas\\Dokumente\\projects\\scp-act\\data_analysis\\notebooks\\..\\actionpy\\prepro\\prepro.py:24: RuntimeWarning: Channels contain different highpass filters. Lowest (weakest) filter setting (0.00 Hz) will be stored.\n",
      "  raw = mne.io.read_raw_brainvision(pth, preload=True, verbose=verbose)\n",
      "c:\\Users\\lukas\\Dokumente\\projects\\scp-act\\data_analysis\\notebooks\\..\\actionpy\\prepro\\prepro.py:24: RuntimeWarning: Channels contain different lowpass filters. Highest (weakest) filter setting (500.00 Hz, Nyquist limit) will be stored.\n",
      "  raw = mne.io.read_raw_brainvision(pth, preload=True, verbose=verbose)\n",
      "c:\\Users\\lukas\\Dokumente\\projects\\scp-act\\data_analysis\\notebooks\\..\\actionpy\\prepro\\prepro.py:125: RuntimeWarning: The unit for channel(s) VEOG has changed from C to V.\n",
      "  raw.set_channel_types(mapping)\n"
     ]
    },
    {
     "output_type": "stream",
     "name": "stdout",
     "text": [
      "Not setting metadata\n",
      "Not setting metadata\n",
      "1 matching events found\n",
      "No baseline correction applied\n",
      "0 projection items activated\n",
      "0 bad epochs dropped\n"
     ]
    },
    {
     "output_type": "stream",
     "name": "stderr",
     "text": [
      "[Parallel(n_jobs=8)]: Using backend LokyBackend with 8 concurrent workers.\n"
     ]
    },
    {
     "output_type": "stream",
     "name": "stdout",
     "text": [
      "Interpolating bad channels\n",
      "    Automatic origin fit: head of radius 92.0 mm\n",
      "Computing interpolation matrix from 26 sensor positions\n",
      "Interpolating 5 sensors\n",
      "Creating RawArray with float64 data, n_channels=1, n_times=42101\n",
      "    Range : 0 ... 42100 =      0.000 ...   421.000 secs\n",
      "Ready.\n"
     ]
    },
    {
     "output_type": "stream",
     "name": "stderr",
     "text": [
      "[Parallel(n_jobs=8)]: Done   1 tasks      | elapsed:    2.4s\n",
      "[Parallel(n_jobs=8)]: Done   1 out of   1 | elapsed:    2.4s finished\n",
      "c:\\Users\\lukas\\Dokumente\\projects\\scp-act\\data_analysis\\notebooks\\..\\actionpy\\prepro\\prepro.py:148: DeprecationWarning: Version 0.23 introduced max_iter=\"auto\", setting max_iter=1000 for `fastica` and max_iter=500 for `infomax` and `picard`. The current default of max_iter=200 will be changed to \"auto\" in version 0.24.\n",
      "  ica = mne.preprocessing.ICA(n_components=n_components,\n"
     ]
    },
    {
     "output_type": "stream",
     "name": "stdout",
     "text": [
      "\t vol_02\n",
      "D:/data/scp-act/S04/S04_vol_02.vhdr\n",
      "Used Annotations descriptions: ['New Segment/', 'Response/R  7', 'Response/R 15', 'Stimulus/S  2', 'Stimulus/S  4']\n"
     ]
    },
    {
     "output_type": "stream",
     "name": "stderr",
     "text": [
      "c:\\Users\\lukas\\Dokumente\\projects\\scp-act\\data_analysis\\notebooks\\..\\actionpy\\prepro\\prepro.py:24: RuntimeWarning: Online software filter detected. Using software filter settings and ignoring hardware values\n",
      "  raw = mne.io.read_raw_brainvision(pth, preload=True, verbose=verbose)\n",
      "c:\\Users\\lukas\\Dokumente\\projects\\scp-act\\data_analysis\\notebooks\\..\\actionpy\\prepro\\prepro.py:24: RuntimeWarning: Channels contain different highpass filters. Lowest (weakest) filter setting (0.00 Hz) will be stored.\n",
      "  raw = mne.io.read_raw_brainvision(pth, preload=True, verbose=verbose)\n",
      "c:\\Users\\lukas\\Dokumente\\projects\\scp-act\\data_analysis\\notebooks\\..\\actionpy\\prepro\\prepro.py:24: RuntimeWarning: Channels contain different lowpass filters. Highest (weakest) filter setting (500.00 Hz, Nyquist limit) will be stored.\n",
      "  raw = mne.io.read_raw_brainvision(pth, preload=True, verbose=verbose)\n",
      "c:\\Users\\lukas\\Dokumente\\projects\\scp-act\\data_analysis\\notebooks\\..\\actionpy\\prepro\\prepro.py:125: RuntimeWarning: The unit for channel(s) VEOG has changed from C to V.\n",
      "  raw.set_channel_types(mapping)\n"
     ]
    },
    {
     "output_type": "stream",
     "name": "stdout",
     "text": [
      "Not setting metadata\n",
      "Not setting metadata\n",
      "1 matching events found\n",
      "No baseline correction applied\n",
      "0 projection items activated\n",
      "0 bad epochs dropped\n"
     ]
    },
    {
     "output_type": "stream",
     "name": "stderr",
     "text": [
      "[Parallel(n_jobs=8)]: Using backend LokyBackend with 8 concurrent workers.\n"
     ]
    },
    {
     "output_type": "stream",
     "name": "stdout",
     "text": [
      "Interpolating bad channels\n",
      "    Automatic origin fit: head of radius 92.0 mm\n",
      "Computing interpolation matrix from 30 sensor positions\n",
      "Interpolating 1 sensors\n",
      "Creating RawArray with float64 data, n_channels=1, n_times=42100\n",
      "    Range : 0 ... 42099 =      0.000 ...   420.990 secs\n",
      "Ready.\n"
     ]
    },
    {
     "output_type": "stream",
     "name": "stderr",
     "text": [
      "[Parallel(n_jobs=8)]: Done   1 tasks      | elapsed:    2.3s\n",
      "[Parallel(n_jobs=8)]: Done   1 out of   1 | elapsed:    2.3s finished\n",
      "c:\\Users\\lukas\\Dokumente\\projects\\scp-act\\data_analysis\\notebooks\\..\\actionpy\\prepro\\prepro.py:148: DeprecationWarning: Version 0.23 introduced max_iter=\"auto\", setting max_iter=1000 for `fastica` and max_iter=500 for `infomax` and `picard`. The current default of max_iter=200 will be changed to \"auto\" in version 0.24.\n",
      "  ica = mne.preprocessing.ICA(n_components=n_components,\n"
     ]
    },
    {
     "output_type": "stream",
     "name": "stdout",
     "text": [
      "S05\n",
      "\t rest_01\n",
      "D:/data/scp-act/S05/S05_rest_01.vhdr\n",
      "Used Annotations descriptions: ['New Segment/', 'Stimulus/S  2', 'Stimulus/S  4']\n"
     ]
    },
    {
     "output_type": "stream",
     "name": "stderr",
     "text": [
      "c:\\Users\\lukas\\Dokumente\\projects\\scp-act\\data_analysis\\notebooks\\..\\actionpy\\prepro\\prepro.py:24: RuntimeWarning: Online software filter detected. Using software filter settings and ignoring hardware values\n",
      "  raw = mne.io.read_raw_brainvision(pth, preload=True, verbose=verbose)\n",
      "c:\\Users\\lukas\\Dokumente\\projects\\scp-act\\data_analysis\\notebooks\\..\\actionpy\\prepro\\prepro.py:24: RuntimeWarning: Channels contain different highpass filters. Lowest (weakest) filter setting (0.00 Hz) will be stored.\n",
      "  raw = mne.io.read_raw_brainvision(pth, preload=True, verbose=verbose)\n",
      "c:\\Users\\lukas\\Dokumente\\projects\\scp-act\\data_analysis\\notebooks\\..\\actionpy\\prepro\\prepro.py:24: RuntimeWarning: Channels contain different lowpass filters. Highest (weakest) filter setting (500.00 Hz, Nyquist limit) will be stored.\n",
      "  raw = mne.io.read_raw_brainvision(pth, preload=True, verbose=verbose)\n",
      "c:\\Users\\lukas\\Dokumente\\projects\\scp-act\\data_analysis\\notebooks\\..\\actionpy\\prepro\\prepro.py:125: RuntimeWarning: The unit for channel(s) VEOG has changed from C to V.\n",
      "  raw.set_channel_types(mapping)\n"
     ]
    },
    {
     "output_type": "stream",
     "name": "stdout",
     "text": [
      "Not setting metadata\n",
      "Not setting metadata\n",
      "1 matching events found\n",
      "No baseline correction applied\n",
      "0 projection items activated\n",
      "0 bad epochs dropped\n"
     ]
    },
    {
     "output_type": "stream",
     "name": "stderr",
     "text": [
      "[Parallel(n_jobs=8)]: Using backend LokyBackend with 8 concurrent workers.\n"
     ]
    },
    {
     "output_type": "stream",
     "name": "stdout",
     "text": [
      "Interpolating bad channels\n",
      "    Automatic origin fit: head of radius 92.0 mm\n",
      "Computing interpolation matrix from 30 sensor positions\n",
      "Interpolating 1 sensors\n",
      "Creating RawArray with float64 data, n_channels=1, n_times=42100\n"
     ]
    },
    {
     "output_type": "stream",
     "name": "stderr",
     "text": [
      "[Parallel(n_jobs=8)]: Done   1 tasks      | elapsed:    2.9s\n",
      "[Parallel(n_jobs=8)]: Done   1 out of   1 | elapsed:    2.9s finished\n"
     ]
    },
    {
     "output_type": "stream",
     "name": "stdout",
     "text": [
      "    Range : 0 ... 42099 =      0.000 ...   420.990 secs\n",
      "Ready.\n"
     ]
    },
    {
     "output_type": "stream",
     "name": "stderr",
     "text": [
      "c:\\Users\\lukas\\Dokumente\\projects\\scp-act\\data_analysis\\notebooks\\..\\actionpy\\prepro\\prepro.py:148: DeprecationWarning: Version 0.23 introduced max_iter=\"auto\", setting max_iter=1000 for `fastica` and max_iter=500 for `infomax` and `picard`. The current default of max_iter=200 will be changed to \"auto\" in version 0.24.\n",
      "  ica = mne.preprocessing.ICA(n_components=n_components,\n"
     ]
    },
    {
     "output_type": "stream",
     "name": "stdout",
     "text": [
      "\t rest_02\n",
      "D:/data/scp-act/S05/S05_rest_02.vhdr\n"
     ]
    },
    {
     "output_type": "stream",
     "name": "stderr",
     "text": [
      "c:\\Users\\lukas\\Dokumente\\projects\\scp-act\\data_analysis\\notebooks\\..\\actionpy\\prepro\\prepro.py:24: RuntimeWarning: Online software filter detected. Using software filter settings and ignoring hardware values\n",
      "  raw = mne.io.read_raw_brainvision(pth, preload=True, verbose=verbose)\n",
      "c:\\Users\\lukas\\Dokumente\\projects\\scp-act\\data_analysis\\notebooks\\..\\actionpy\\prepro\\prepro.py:24: RuntimeWarning: Channels contain different highpass filters. Lowest (weakest) filter setting (0.00 Hz) will be stored.\n",
      "  raw = mne.io.read_raw_brainvision(pth, preload=True, verbose=verbose)\n",
      "c:\\Users\\lukas\\Dokumente\\projects\\scp-act\\data_analysis\\notebooks\\..\\actionpy\\prepro\\prepro.py:24: RuntimeWarning: Channels contain different lowpass filters. Highest (weakest) filter setting (500.00 Hz, Nyquist limit) will be stored.\n",
      "  raw = mne.io.read_raw_brainvision(pth, preload=True, verbose=verbose)\n"
     ]
    },
    {
     "output_type": "stream",
     "name": "stdout",
     "text": [
      "Used Annotations descriptions: ['New Segment/', 'Stimulus/S  2', 'Stimulus/S  4']\n"
     ]
    },
    {
     "output_type": "stream",
     "name": "stderr",
     "text": [
      "c:\\Users\\lukas\\Dokumente\\projects\\scp-act\\data_analysis\\notebooks\\..\\actionpy\\prepro\\prepro.py:125: RuntimeWarning: The unit for channel(s) VEOG has changed from C to V.\n",
      "  raw.set_channel_types(mapping)\n"
     ]
    },
    {
     "output_type": "stream",
     "name": "stdout",
     "text": [
      "Not setting metadata\n",
      "Not setting metadata\n",
      "1 matching events found\n",
      "No baseline correction applied\n",
      "0 projection items activated\n",
      "0 bad epochs dropped\n"
     ]
    },
    {
     "output_type": "stream",
     "name": "stderr",
     "text": [
      "[Parallel(n_jobs=8)]: Using backend LokyBackend with 8 concurrent workers.\n"
     ]
    },
    {
     "output_type": "stream",
     "name": "stdout",
     "text": [
      "Creating RawArray with float64 data, n_channels=1, n_times=42100\n",
      "    Range : 0 ... 42099 =      0.000 ...   420.990 secs\n",
      "Ready.\n"
     ]
    },
    {
     "output_type": "stream",
     "name": "stderr",
     "text": [
      "[Parallel(n_jobs=8)]: Done   1 tasks      | elapsed:    2.4s\n",
      "[Parallel(n_jobs=8)]: Done   1 out of   1 | elapsed:    2.4s finished\n",
      "C:\\Users\\lukas\\virtualenvs\\eegenv\\lib\\site-packages\\autoreject\\ransac.py:226: RuntimeWarning: No bad channels to interpolate. Doing nothing...\n",
      "  epochs.interpolate_bads(reset_bads=True)\n",
      "c:\\Users\\lukas\\Dokumente\\projects\\scp-act\\data_analysis\\notebooks\\..\\actionpy\\prepro\\prepro.py:148: DeprecationWarning: Version 0.23 introduced max_iter=\"auto\", setting max_iter=1000 for `fastica` and max_iter=500 for `infomax` and `picard`. The current default of max_iter=200 will be changed to \"auto\" in version 0.24.\n",
      "  ica = mne.preprocessing.ICA(n_components=n_components,\n"
     ]
    },
    {
     "output_type": "stream",
     "name": "stdout",
     "text": [
      "\t exp_01\n",
      "D:/data/scp-act/S05/S05_exp_01.vhdr\n",
      "Used Annotations descriptions: ['New Segment/', 'Response/R  7', 'Response/R 15', 'Stimulus/S  2', 'Stimulus/S  4', 'Stimulus/S  6']\n"
     ]
    },
    {
     "output_type": "stream",
     "name": "stderr",
     "text": [
      "c:\\Users\\lukas\\Dokumente\\projects\\scp-act\\data_analysis\\notebooks\\..\\actionpy\\prepro\\prepro.py:24: RuntimeWarning: Online software filter detected. Using software filter settings and ignoring hardware values\n",
      "  raw = mne.io.read_raw_brainvision(pth, preload=True, verbose=verbose)\n",
      "c:\\Users\\lukas\\Dokumente\\projects\\scp-act\\data_analysis\\notebooks\\..\\actionpy\\prepro\\prepro.py:24: RuntimeWarning: Channels contain different highpass filters. Lowest (weakest) filter setting (0.00 Hz) will be stored.\n",
      "  raw = mne.io.read_raw_brainvision(pth, preload=True, verbose=verbose)\n",
      "c:\\Users\\lukas\\Dokumente\\projects\\scp-act\\data_analysis\\notebooks\\..\\actionpy\\prepro\\prepro.py:24: RuntimeWarning: Channels contain different lowpass filters. Highest (weakest) filter setting (500.00 Hz, Nyquist limit) will be stored.\n",
      "  raw = mne.io.read_raw_brainvision(pth, preload=True, verbose=verbose)\n",
      "c:\\Users\\lukas\\Dokumente\\projects\\scp-act\\data_analysis\\notebooks\\..\\actionpy\\prepro\\prepro.py:125: RuntimeWarning: The unit for channel(s) VEOG has changed from C to V.\n",
      "  raw.set_channel_types(mapping)\n"
     ]
    },
    {
     "output_type": "stream",
     "name": "stdout",
     "text": [
      "Not setting metadata\n",
      "Not setting metadata\n",
      "1 matching events found\n",
      "No baseline correction applied\n",
      "0 projection items activated\n",
      "0 bad epochs dropped\n"
     ]
    },
    {
     "output_type": "stream",
     "name": "stderr",
     "text": [
      "[Parallel(n_jobs=8)]: Using backend LokyBackend with 8 concurrent workers.\n"
     ]
    },
    {
     "output_type": "stream",
     "name": "stdout",
     "text": [
      "Interpolating bad channels\n",
      "    Automatic origin fit: head of radius 92.0 mm\n",
      "Computing interpolation matrix from 30 sensor positions\n",
      "Interpolating 1 sensors\n",
      "Creating RawArray with float64 data, n_channels=1, n_times=42101\n",
      "    Range : 0 ... 42100 =      0.000 ...   421.000 secs\n",
      "Ready.\n"
     ]
    },
    {
     "output_type": "stream",
     "name": "stderr",
     "text": [
      "[Parallel(n_jobs=8)]: Done   1 tasks      | elapsed:    2.3s\n",
      "[Parallel(n_jobs=8)]: Done   1 out of   1 | elapsed:    2.3s finished\n",
      "c:\\Users\\lukas\\Dokumente\\projects\\scp-act\\data_analysis\\notebooks\\..\\actionpy\\prepro\\prepro.py:148: DeprecationWarning: Version 0.23 introduced max_iter=\"auto\", setting max_iter=1000 for `fastica` and max_iter=500 for `infomax` and `picard`. The current default of max_iter=200 will be changed to \"auto\" in version 0.24.\n",
      "  ica = mne.preprocessing.ICA(n_components=n_components,\n"
     ]
    },
    {
     "output_type": "stream",
     "name": "stdout",
     "text": [
      "\t drmt_01\n",
      "D:/data/scp-act/S05/S05_drmt_01.vhdr\n"
     ]
    },
    {
     "output_type": "stream",
     "name": "stderr",
     "text": [
      "c:\\Users\\lukas\\Dokumente\\projects\\scp-act\\data_analysis\\notebooks\\..\\actionpy\\prepro\\prepro.py:24: RuntimeWarning: Online software filter detected. Using software filter settings and ignoring hardware values\n",
      "  raw = mne.io.read_raw_brainvision(pth, preload=True, verbose=verbose)\n",
      "c:\\Users\\lukas\\Dokumente\\projects\\scp-act\\data_analysis\\notebooks\\..\\actionpy\\prepro\\prepro.py:24: RuntimeWarning: Channels contain different highpass filters. Lowest (weakest) filter setting (0.00 Hz) will be stored.\n",
      "  raw = mne.io.read_raw_brainvision(pth, preload=True, verbose=verbose)\n",
      "c:\\Users\\lukas\\Dokumente\\projects\\scp-act\\data_analysis\\notebooks\\..\\actionpy\\prepro\\prepro.py:24: RuntimeWarning: Channels contain different lowpass filters. Highest (weakest) filter setting (500.00 Hz, Nyquist limit) will be stored.\n",
      "  raw = mne.io.read_raw_brainvision(pth, preload=True, verbose=verbose)\n"
     ]
    },
    {
     "output_type": "stream",
     "name": "stdout",
     "text": [
      "Used Annotations descriptions: ['New Segment/', 'Stimulus/S  2', 'Stimulus/S  4']\n"
     ]
    },
    {
     "output_type": "stream",
     "name": "stderr",
     "text": [
      "c:\\Users\\lukas\\Dokumente\\projects\\scp-act\\data_analysis\\notebooks\\..\\actionpy\\prepro\\prepro.py:125: RuntimeWarning: The unit for channel(s) VEOG has changed from C to V.\n",
      "  raw.set_channel_types(mapping)\n"
     ]
    },
    {
     "output_type": "stream",
     "name": "stdout",
     "text": [
      "Not setting metadata\n",
      "Not setting metadata\n",
      "1 matching events found\n",
      "No baseline correction applied\n",
      "0 projection items activated\n",
      "0 bad epochs dropped\n"
     ]
    },
    {
     "output_type": "stream",
     "name": "stderr",
     "text": [
      "[Parallel(n_jobs=8)]: Using backend LokyBackend with 8 concurrent workers.\n"
     ]
    },
    {
     "output_type": "stream",
     "name": "stdout",
     "text": [
      "Creating RawArray with float64 data, n_channels=1, n_times=42000\n",
      "    Range : 0 ... 41999 =      0.000 ...   419.990 secs\n",
      "Ready.\n"
     ]
    },
    {
     "output_type": "stream",
     "name": "stderr",
     "text": [
      "[Parallel(n_jobs=8)]: Done   1 tasks      | elapsed:    2.3s\n",
      "[Parallel(n_jobs=8)]: Done   1 out of   1 | elapsed:    2.3s finished\n",
      "C:\\Users\\lukas\\virtualenvs\\eegenv\\lib\\site-packages\\autoreject\\ransac.py:226: RuntimeWarning: No bad channels to interpolate. Doing nothing...\n",
      "  epochs.interpolate_bads(reset_bads=True)\n",
      "c:\\Users\\lukas\\Dokumente\\projects\\scp-act\\data_analysis\\notebooks\\..\\actionpy\\prepro\\prepro.py:148: DeprecationWarning: Version 0.23 introduced max_iter=\"auto\", setting max_iter=1000 for `fastica` and max_iter=500 for `infomax` and `picard`. The current default of max_iter=200 will be changed to \"auto\" in version 0.24.\n",
      "  ica = mne.preprocessing.ICA(n_components=n_components,\n"
     ]
    },
    {
     "output_type": "stream",
     "name": "stdout",
     "text": [
      "\t drmt_02\n",
      "D:/data/scp-act/S05/S05_drmt_02.vhdr\n"
     ]
    },
    {
     "output_type": "stream",
     "name": "stderr",
     "text": [
      "c:\\Users\\lukas\\Dokumente\\projects\\scp-act\\data_analysis\\notebooks\\..\\actionpy\\prepro\\prepro.py:24: RuntimeWarning: Online software filter detected. Using software filter settings and ignoring hardware values\n",
      "  raw = mne.io.read_raw_brainvision(pth, preload=True, verbose=verbose)\n",
      "c:\\Users\\lukas\\Dokumente\\projects\\scp-act\\data_analysis\\notebooks\\..\\actionpy\\prepro\\prepro.py:24: RuntimeWarning: Channels contain different highpass filters. Lowest (weakest) filter setting (0.00 Hz) will be stored.\n",
      "  raw = mne.io.read_raw_brainvision(pth, preload=True, verbose=verbose)\n",
      "c:\\Users\\lukas\\Dokumente\\projects\\scp-act\\data_analysis\\notebooks\\..\\actionpy\\prepro\\prepro.py:24: RuntimeWarning: Channels contain different lowpass filters. Highest (weakest) filter setting (500.00 Hz, Nyquist limit) will be stored.\n",
      "  raw = mne.io.read_raw_brainvision(pth, preload=True, verbose=verbose)\n"
     ]
    },
    {
     "output_type": "stream",
     "name": "stdout",
     "text": [
      "Used Annotations descriptions: ['New Segment/', 'Stimulus/S  2', 'Stimulus/S  4']\n"
     ]
    },
    {
     "output_type": "stream",
     "name": "stderr",
     "text": [
      "c:\\Users\\lukas\\Dokumente\\projects\\scp-act\\data_analysis\\notebooks\\..\\actionpy\\prepro\\prepro.py:125: RuntimeWarning: The unit for channel(s) VEOG has changed from C to V.\n",
      "  raw.set_channel_types(mapping)\n"
     ]
    },
    {
     "output_type": "stream",
     "name": "stdout",
     "text": [
      "Not setting metadata\n",
      "Not setting metadata\n",
      "1 matching events found\n",
      "No baseline correction applied\n",
      "0 projection items activated\n",
      "0 bad epochs dropped\n"
     ]
    },
    {
     "output_type": "stream",
     "name": "stderr",
     "text": [
      "[Parallel(n_jobs=8)]: Using backend LokyBackend with 8 concurrent workers.\n"
     ]
    },
    {
     "output_type": "stream",
     "name": "stdout",
     "text": [
      "Creating RawArray with float64 data, n_channels=1, n_times=42000\n",
      "    Range : 0 ... 41999 =      0.000 ...   419.990 secs\n",
      "Ready.\n"
     ]
    },
    {
     "output_type": "stream",
     "name": "stderr",
     "text": [
      "[Parallel(n_jobs=8)]: Done   1 tasks      | elapsed:    2.5s\n",
      "[Parallel(n_jobs=8)]: Done   1 out of   1 | elapsed:    2.5s finished\n",
      "C:\\Users\\lukas\\virtualenvs\\eegenv\\lib\\site-packages\\autoreject\\ransac.py:226: RuntimeWarning: No bad channels to interpolate. Doing nothing...\n",
      "  epochs.interpolate_bads(reset_bads=True)\n",
      "c:\\Users\\lukas\\Dokumente\\projects\\scp-act\\data_analysis\\notebooks\\..\\actionpy\\prepro\\prepro.py:148: DeprecationWarning: Version 0.23 introduced max_iter=\"auto\", setting max_iter=1000 for `fastica` and max_iter=500 for `infomax` and `picard`. The current default of max_iter=200 will be changed to \"auto\" in version 0.24.\n",
      "  ica = mne.preprocessing.ICA(n_components=n_components,\n"
     ]
    },
    {
     "output_type": "stream",
     "name": "stdout",
     "text": [
      "\t vol_01\n",
      "D:/data/scp-act/S05/S05_vol_01.vhdr\n"
     ]
    },
    {
     "output_type": "stream",
     "name": "stderr",
     "text": [
      "c:\\Users\\lukas\\Dokumente\\projects\\scp-act\\data_analysis\\notebooks\\..\\actionpy\\prepro\\prepro.py:24: RuntimeWarning: Online software filter detected. Using software filter settings and ignoring hardware values\n",
      "  raw = mne.io.read_raw_brainvision(pth, preload=True, verbose=verbose)\n",
      "c:\\Users\\lukas\\Dokumente\\projects\\scp-act\\data_analysis\\notebooks\\..\\actionpy\\prepro\\prepro.py:24: RuntimeWarning: Channels contain different highpass filters. Lowest (weakest) filter setting (0.00 Hz) will be stored.\n",
      "  raw = mne.io.read_raw_brainvision(pth, preload=True, verbose=verbose)\n",
      "c:\\Users\\lukas\\Dokumente\\projects\\scp-act\\data_analysis\\notebooks\\..\\actionpy\\prepro\\prepro.py:24: RuntimeWarning: Channels contain different lowpass filters. Highest (weakest) filter setting (500.00 Hz, Nyquist limit) will be stored.\n",
      "  raw = mne.io.read_raw_brainvision(pth, preload=True, verbose=verbose)\n"
     ]
    },
    {
     "output_type": "stream",
     "name": "stdout",
     "text": [
      "Used Annotations descriptions: ['New Segment/', 'Response/R  7', 'Response/R 15', 'Stimulus/S  2', 'Stimulus/S  4']\n"
     ]
    },
    {
     "output_type": "stream",
     "name": "stderr",
     "text": [
      "c:\\Users\\lukas\\Dokumente\\projects\\scp-act\\data_analysis\\notebooks\\..\\actionpy\\prepro\\prepro.py:125: RuntimeWarning: The unit for channel(s) VEOG has changed from C to V.\n",
      "  raw.set_channel_types(mapping)\n"
     ]
    },
    {
     "output_type": "stream",
     "name": "stdout",
     "text": [
      "Not setting metadata\n",
      "Not setting metadata\n",
      "1 matching events found\n",
      "No baseline correction applied\n",
      "0 projection items activated\n",
      "0 bad epochs dropped\n"
     ]
    },
    {
     "output_type": "stream",
     "name": "stderr",
     "text": [
      "[Parallel(n_jobs=8)]: Using backend LokyBackend with 8 concurrent workers.\n"
     ]
    },
    {
     "output_type": "stream",
     "name": "stdout",
     "text": [
      "Creating RawArray with float64 data, n_channels=1, n_times=42101\n",
      "    Range : 0 ... 42100 =      0.000 ...   421.000 secs\n",
      "Ready.\n"
     ]
    },
    {
     "output_type": "stream",
     "name": "stderr",
     "text": [
      "[Parallel(n_jobs=8)]: Done   1 tasks      | elapsed:    2.3s\n",
      "[Parallel(n_jobs=8)]: Done   1 out of   1 | elapsed:    2.3s finished\n",
      "C:\\Users\\lukas\\virtualenvs\\eegenv\\lib\\site-packages\\autoreject\\ransac.py:226: RuntimeWarning: No bad channels to interpolate. Doing nothing...\n",
      "  epochs.interpolate_bads(reset_bads=True)\n",
      "c:\\Users\\lukas\\Dokumente\\projects\\scp-act\\data_analysis\\notebooks\\..\\actionpy\\prepro\\prepro.py:148: DeprecationWarning: Version 0.23 introduced max_iter=\"auto\", setting max_iter=1000 for `fastica` and max_iter=500 for `infomax` and `picard`. The current default of max_iter=200 will be changed to \"auto\" in version 0.24.\n",
      "  ica = mne.preprocessing.ICA(n_components=n_components,\n"
     ]
    },
    {
     "output_type": "stream",
     "name": "stdout",
     "text": [
      "\t vol_02\n",
      "D:/data/scp-act/S05/S05_vol_02.vhdr\n",
      "Used Annotations descriptions: ['New Segment/', 'Response/R  7', 'Response/R 15', 'Stimulus/S  2', 'Stimulus/S  4']\n"
     ]
    },
    {
     "output_type": "stream",
     "name": "stderr",
     "text": [
      "c:\\Users\\lukas\\Dokumente\\projects\\scp-act\\data_analysis\\notebooks\\..\\actionpy\\prepro\\prepro.py:24: RuntimeWarning: Online software filter detected. Using software filter settings and ignoring hardware values\n",
      "  raw = mne.io.read_raw_brainvision(pth, preload=True, verbose=verbose)\n",
      "c:\\Users\\lukas\\Dokumente\\projects\\scp-act\\data_analysis\\notebooks\\..\\actionpy\\prepro\\prepro.py:24: RuntimeWarning: Channels contain different highpass filters. Lowest (weakest) filter setting (0.00 Hz) will be stored.\n",
      "  raw = mne.io.read_raw_brainvision(pth, preload=True, verbose=verbose)\n",
      "c:\\Users\\lukas\\Dokumente\\projects\\scp-act\\data_analysis\\notebooks\\..\\actionpy\\prepro\\prepro.py:24: RuntimeWarning: Channels contain different lowpass filters. Highest (weakest) filter setting (500.00 Hz, Nyquist limit) will be stored.\n",
      "  raw = mne.io.read_raw_brainvision(pth, preload=True, verbose=verbose)\n",
      "c:\\Users\\lukas\\Dokumente\\projects\\scp-act\\data_analysis\\notebooks\\..\\actionpy\\prepro\\prepro.py:125: RuntimeWarning: The unit for channel(s) VEOG has changed from C to V.\n",
      "  raw.set_channel_types(mapping)\n"
     ]
    },
    {
     "output_type": "stream",
     "name": "stdout",
     "text": [
      "Not setting metadata\n",
      "Not setting metadata\n",
      "1 matching events found\n",
      "No baseline correction applied\n",
      "0 projection items activated\n",
      "0 bad epochs dropped\n"
     ]
    },
    {
     "output_type": "stream",
     "name": "stderr",
     "text": [
      "[Parallel(n_jobs=8)]: Using backend LokyBackend with 8 concurrent workers.\n"
     ]
    },
    {
     "output_type": "stream",
     "name": "stdout",
     "text": [
      "Creating RawArray with float64 data, n_channels=1, n_times=42100\n",
      "    Range : 0 ... 42099 =      0.000 ...   420.990 secs\n",
      "Ready.\n"
     ]
    },
    {
     "output_type": "stream",
     "name": "stderr",
     "text": [
      "[Parallel(n_jobs=8)]: Done   1 tasks      | elapsed:    2.4s\n",
      "[Parallel(n_jobs=8)]: Done   1 out of   1 | elapsed:    2.4s finished\n",
      "C:\\Users\\lukas\\virtualenvs\\eegenv\\lib\\site-packages\\autoreject\\ransac.py:226: RuntimeWarning: No bad channels to interpolate. Doing nothing...\n",
      "  epochs.interpolate_bads(reset_bads=True)\n",
      "c:\\Users\\lukas\\Dokumente\\projects\\scp-act\\data_analysis\\notebooks\\..\\actionpy\\prepro\\prepro.py:148: DeprecationWarning: Version 0.23 introduced max_iter=\"auto\", setting max_iter=1000 for `fastica` and max_iter=500 for `infomax` and `picard`. The current default of max_iter=200 will be changed to \"auto\" in version 0.24.\n",
      "  ica = mne.preprocessing.ICA(n_components=n_components,\n"
     ]
    },
    {
     "output_type": "stream",
     "name": "stdout",
     "text": [
      "S06\n",
      "\t rest_01\n",
      "D:/data/scp-act/S06/S06_rest_01.vhdr\n",
      "Used Annotations descriptions: ['New Segment/', 'Stimulus/S  2', 'Stimulus/S  4']\n"
     ]
    },
    {
     "output_type": "stream",
     "name": "stderr",
     "text": [
      "c:\\Users\\lukas\\Dokumente\\projects\\scp-act\\data_analysis\\notebooks\\..\\actionpy\\prepro\\prepro.py:24: RuntimeWarning: Online software filter detected. Using software filter settings and ignoring hardware values\n",
      "  raw = mne.io.read_raw_brainvision(pth, preload=True, verbose=verbose)\n",
      "c:\\Users\\lukas\\Dokumente\\projects\\scp-act\\data_analysis\\notebooks\\..\\actionpy\\prepro\\prepro.py:24: RuntimeWarning: Channels contain different highpass filters. Lowest (weakest) filter setting (0.00 Hz) will be stored.\n",
      "  raw = mne.io.read_raw_brainvision(pth, preload=True, verbose=verbose)\n",
      "c:\\Users\\lukas\\Dokumente\\projects\\scp-act\\data_analysis\\notebooks\\..\\actionpy\\prepro\\prepro.py:24: RuntimeWarning: Channels contain different lowpass filters. Highest (weakest) filter setting (500.00 Hz, Nyquist limit) will be stored.\n",
      "  raw = mne.io.read_raw_brainvision(pth, preload=True, verbose=verbose)\n",
      "c:\\Users\\lukas\\Dokumente\\projects\\scp-act\\data_analysis\\notebooks\\..\\actionpy\\prepro\\prepro.py:125: RuntimeWarning: The unit for channel(s) VEOG has changed from C to V.\n",
      "  raw.set_channel_types(mapping)\n"
     ]
    },
    {
     "output_type": "stream",
     "name": "stdout",
     "text": [
      "Not setting metadata\n",
      "Not setting metadata\n",
      "1 matching events found\n",
      "No baseline correction applied\n",
      "0 projection items activated\n",
      "0 bad epochs dropped\n"
     ]
    },
    {
     "output_type": "stream",
     "name": "stderr",
     "text": [
      "[Parallel(n_jobs=8)]: Using backend LokyBackend with 8 concurrent workers.\n"
     ]
    },
    {
     "output_type": "stream",
     "name": "stdout",
     "text": [
      "Interpolating bad channels\n",
      "    Automatic origin fit: head of radius 92.0 mm\n",
      "Computing interpolation matrix from 30 sensor positions\n",
      "Interpolating 1 sensors\n",
      "Creating RawArray with float64 data, n_channels=1, n_times=42101\n",
      "    Range : 0 ... 42100 =      0.000 ...   421.000 secs\n",
      "Ready.\n"
     ]
    },
    {
     "output_type": "stream",
     "name": "stderr",
     "text": [
      "[Parallel(n_jobs=8)]: Done   1 tasks      | elapsed:    2.2s\n",
      "[Parallel(n_jobs=8)]: Done   1 out of   1 | elapsed:    2.3s finished\n",
      "c:\\Users\\lukas\\Dokumente\\projects\\scp-act\\data_analysis\\notebooks\\..\\actionpy\\prepro\\prepro.py:148: DeprecationWarning: Version 0.23 introduced max_iter=\"auto\", setting max_iter=1000 for `fastica` and max_iter=500 for `infomax` and `picard`. The current default of max_iter=200 will be changed to \"auto\" in version 0.24.\n",
      "  ica = mne.preprocessing.ICA(n_components=n_components,\n"
     ]
    },
    {
     "output_type": "stream",
     "name": "stdout",
     "text": [
      "\t rest_02\n",
      "D:/data/scp-act/S06/S06_rest_02.vhdr\n",
      "Used Annotations descriptions: ['New Segment/', 'Stimulus/S  2', 'Stimulus/S  4']\n"
     ]
    },
    {
     "output_type": "stream",
     "name": "stderr",
     "text": [
      "c:\\Users\\lukas\\Dokumente\\projects\\scp-act\\data_analysis\\notebooks\\..\\actionpy\\prepro\\prepro.py:24: RuntimeWarning: Online software filter detected. Using software filter settings and ignoring hardware values\n",
      "  raw = mne.io.read_raw_brainvision(pth, preload=True, verbose=verbose)\n",
      "c:\\Users\\lukas\\Dokumente\\projects\\scp-act\\data_analysis\\notebooks\\..\\actionpy\\prepro\\prepro.py:24: RuntimeWarning: Channels contain different highpass filters. Lowest (weakest) filter setting (0.00 Hz) will be stored.\n",
      "  raw = mne.io.read_raw_brainvision(pth, preload=True, verbose=verbose)\n",
      "c:\\Users\\lukas\\Dokumente\\projects\\scp-act\\data_analysis\\notebooks\\..\\actionpy\\prepro\\prepro.py:24: RuntimeWarning: Channels contain different lowpass filters. Highest (weakest) filter setting (500.00 Hz, Nyquist limit) will be stored.\n",
      "  raw = mne.io.read_raw_brainvision(pth, preload=True, verbose=verbose)\n",
      "c:\\Users\\lukas\\Dokumente\\projects\\scp-act\\data_analysis\\notebooks\\..\\actionpy\\prepro\\prepro.py:125: RuntimeWarning: The unit for channel(s) VEOG has changed from C to V.\n",
      "  raw.set_channel_types(mapping)\n"
     ]
    },
    {
     "output_type": "stream",
     "name": "stdout",
     "text": [
      "Not setting metadata\n",
      "Not setting metadata\n",
      "1 matching events found\n",
      "No baseline correction applied\n",
      "0 projection items activated\n",
      "0 bad epochs dropped\n"
     ]
    },
    {
     "output_type": "stream",
     "name": "stderr",
     "text": [
      "[Parallel(n_jobs=8)]: Using backend LokyBackend with 8 concurrent workers.\n"
     ]
    },
    {
     "output_type": "stream",
     "name": "stdout",
     "text": [
      "Interpolating bad channels\n",
      "    Automatic origin fit: head of radius 92.0 mm\n",
      "Computing interpolation matrix from 29 sensor positions\n",
      "Interpolating 2 sensors\n",
      "Creating RawArray with float64 data, n_channels=1, n_times=42100\n",
      "    Range : 0 ... 42099 =      0.000 ...   420.990 secs\n",
      "Ready.\n"
     ]
    },
    {
     "output_type": "stream",
     "name": "stderr",
     "text": [
      "[Parallel(n_jobs=8)]: Done   1 tasks      | elapsed:    2.5s\n",
      "[Parallel(n_jobs=8)]: Done   1 out of   1 | elapsed:    2.5s finished\n",
      "c:\\Users\\lukas\\Dokumente\\projects\\scp-act\\data_analysis\\notebooks\\..\\actionpy\\prepro\\prepro.py:148: DeprecationWarning: Version 0.23 introduced max_iter=\"auto\", setting max_iter=1000 for `fastica` and max_iter=500 for `infomax` and `picard`. The current default of max_iter=200 will be changed to \"auto\" in version 0.24.\n",
      "  ica = mne.preprocessing.ICA(n_components=n_components,\n"
     ]
    },
    {
     "output_type": "stream",
     "name": "stdout",
     "text": [
      "\t exp_01\n",
      "D:/data/scp-act/S06/S06_exp_01.vhdr\n",
      "Used Annotations descriptions: ['New Segment/', 'Response/R  7', 'Response/R 15', 'Stimulus/S  2', 'Stimulus/S  4', 'Stimulus/S  6']\n"
     ]
    },
    {
     "output_type": "stream",
     "name": "stderr",
     "text": [
      "c:\\Users\\lukas\\Dokumente\\projects\\scp-act\\data_analysis\\notebooks\\..\\actionpy\\prepro\\prepro.py:24: RuntimeWarning: Online software filter detected. Using software filter settings and ignoring hardware values\n",
      "  raw = mne.io.read_raw_brainvision(pth, preload=True, verbose=verbose)\n",
      "c:\\Users\\lukas\\Dokumente\\projects\\scp-act\\data_analysis\\notebooks\\..\\actionpy\\prepro\\prepro.py:24: RuntimeWarning: Channels contain different highpass filters. Lowest (weakest) filter setting (0.00 Hz) will be stored.\n",
      "  raw = mne.io.read_raw_brainvision(pth, preload=True, verbose=verbose)\n",
      "c:\\Users\\lukas\\Dokumente\\projects\\scp-act\\data_analysis\\notebooks\\..\\actionpy\\prepro\\prepro.py:24: RuntimeWarning: Channels contain different lowpass filters. Highest (weakest) filter setting (500.00 Hz, Nyquist limit) will be stored.\n",
      "  raw = mne.io.read_raw_brainvision(pth, preload=True, verbose=verbose)\n",
      "c:\\Users\\lukas\\Dokumente\\projects\\scp-act\\data_analysis\\notebooks\\..\\actionpy\\prepro\\prepro.py:125: RuntimeWarning: The unit for channel(s) VEOG has changed from C to V.\n",
      "  raw.set_channel_types(mapping)\n"
     ]
    },
    {
     "output_type": "stream",
     "name": "stdout",
     "text": [
      "Not setting metadata\n",
      "Not setting metadata\n",
      "1 matching events found\n",
      "No baseline correction applied\n",
      "0 projection items activated\n",
      "0 bad epochs dropped\n"
     ]
    },
    {
     "output_type": "stream",
     "name": "stderr",
     "text": [
      "[Parallel(n_jobs=8)]: Using backend LokyBackend with 8 concurrent workers.\n"
     ]
    },
    {
     "output_type": "stream",
     "name": "stdout",
     "text": [
      "Interpolating bad channels\n",
      "    Automatic origin fit: head of radius 92.0 mm\n",
      "Computing interpolation matrix from 30 sensor positions\n",
      "Interpolating 1 sensors\n",
      "Creating RawArray with float64 data, n_channels=1, n_times=42101\n",
      "    Range : 0 ... 42100 =      0.000 ...   421.000 secs\n",
      "Ready.\n"
     ]
    },
    {
     "output_type": "stream",
     "name": "stderr",
     "text": [
      "[Parallel(n_jobs=8)]: Done   1 tasks      | elapsed:    2.3s\n",
      "[Parallel(n_jobs=8)]: Done   1 out of   1 | elapsed:    2.3s finished\n",
      "c:\\Users\\lukas\\Dokumente\\projects\\scp-act\\data_analysis\\notebooks\\..\\actionpy\\prepro\\prepro.py:148: DeprecationWarning: Version 0.23 introduced max_iter=\"auto\", setting max_iter=1000 for `fastica` and max_iter=500 for `infomax` and `picard`. The current default of max_iter=200 will be changed to \"auto\" in version 0.24.\n",
      "  ica = mne.preprocessing.ICA(n_components=n_components,\n"
     ]
    },
    {
     "output_type": "stream",
     "name": "stdout",
     "text": [
      "\t drmt_01\n",
      "D:/data/scp-act/S06/S06_drmt_01.vhdr\n"
     ]
    },
    {
     "output_type": "stream",
     "name": "stderr",
     "text": [
      "c:\\Users\\lukas\\Dokumente\\projects\\scp-act\\data_analysis\\notebooks\\..\\actionpy\\prepro\\prepro.py:24: RuntimeWarning: Online software filter detected. Using software filter settings and ignoring hardware values\n",
      "  raw = mne.io.read_raw_brainvision(pth, preload=True, verbose=verbose)\n",
      "c:\\Users\\lukas\\Dokumente\\projects\\scp-act\\data_analysis\\notebooks\\..\\actionpy\\prepro\\prepro.py:24: RuntimeWarning: Channels contain different highpass filters. Lowest (weakest) filter setting (0.00 Hz) will be stored.\n",
      "  raw = mne.io.read_raw_brainvision(pth, preload=True, verbose=verbose)\n",
      "c:\\Users\\lukas\\Dokumente\\projects\\scp-act\\data_analysis\\notebooks\\..\\actionpy\\prepro\\prepro.py:24: RuntimeWarning: Channels contain different lowpass filters. Highest (weakest) filter setting (500.00 Hz, Nyquist limit) will be stored.\n",
      "  raw = mne.io.read_raw_brainvision(pth, preload=True, verbose=verbose)\n"
     ]
    },
    {
     "output_type": "stream",
     "name": "stdout",
     "text": [
      "Used Annotations descriptions: ['New Segment/', 'Stimulus/S  2', 'Stimulus/S  4', 'Stimulus/S  6']\n"
     ]
    },
    {
     "output_type": "stream",
     "name": "stderr",
     "text": [
      "c:\\Users\\lukas\\Dokumente\\projects\\scp-act\\data_analysis\\notebooks\\..\\actionpy\\prepro\\prepro.py:125: RuntimeWarning: The unit for channel(s) VEOG has changed from C to V.\n",
      "  raw.set_channel_types(mapping)\n"
     ]
    },
    {
     "output_type": "stream",
     "name": "stdout",
     "text": [
      "Not setting metadata\n",
      "Not setting metadata\n",
      "1 matching events found\n",
      "No baseline correction applied\n",
      "0 projection items activated\n",
      "0 bad epochs dropped\n"
     ]
    },
    {
     "output_type": "stream",
     "name": "stderr",
     "text": [
      "[Parallel(n_jobs=8)]: Using backend LokyBackend with 8 concurrent workers.\n"
     ]
    },
    {
     "output_type": "stream",
     "name": "stdout",
     "text": [
      "Creating RawArray with float64 data, n_channels=1, n_times=42000\n",
      "    Range : 0 ... 41999 =      0.000 ...   419.990 secs\n",
      "Ready.\n"
     ]
    },
    {
     "output_type": "stream",
     "name": "stderr",
     "text": [
      "[Parallel(n_jobs=8)]: Done   1 tasks      | elapsed:    2.4s\n",
      "[Parallel(n_jobs=8)]: Done   1 out of   1 | elapsed:    2.4s finished\n",
      "C:\\Users\\lukas\\virtualenvs\\eegenv\\lib\\site-packages\\autoreject\\ransac.py:226: RuntimeWarning: No bad channels to interpolate. Doing nothing...\n",
      "  epochs.interpolate_bads(reset_bads=True)\n",
      "c:\\Users\\lukas\\Dokumente\\projects\\scp-act\\data_analysis\\notebooks\\..\\actionpy\\prepro\\prepro.py:148: DeprecationWarning: Version 0.23 introduced max_iter=\"auto\", setting max_iter=1000 for `fastica` and max_iter=500 for `infomax` and `picard`. The current default of max_iter=200 will be changed to \"auto\" in version 0.24.\n",
      "  ica = mne.preprocessing.ICA(n_components=n_components,\n"
     ]
    },
    {
     "output_type": "stream",
     "name": "stdout",
     "text": [
      "\t drmt_02\n",
      "D:/data/scp-act/S06/S06_drmt_02.vhdr\n"
     ]
    },
    {
     "output_type": "stream",
     "name": "stderr",
     "text": [
      "c:\\Users\\lukas\\Dokumente\\projects\\scp-act\\data_analysis\\notebooks\\..\\actionpy\\prepro\\prepro.py:24: RuntimeWarning: Online software filter detected. Using software filter settings and ignoring hardware values\n",
      "  raw = mne.io.read_raw_brainvision(pth, preload=True, verbose=verbose)\n",
      "c:\\Users\\lukas\\Dokumente\\projects\\scp-act\\data_analysis\\notebooks\\..\\actionpy\\prepro\\prepro.py:24: RuntimeWarning: Channels contain different highpass filters. Lowest (weakest) filter setting (0.00 Hz) will be stored.\n",
      "  raw = mne.io.read_raw_brainvision(pth, preload=True, verbose=verbose)\n",
      "c:\\Users\\lukas\\Dokumente\\projects\\scp-act\\data_analysis\\notebooks\\..\\actionpy\\prepro\\prepro.py:24: RuntimeWarning: Channels contain different lowpass filters. Highest (weakest) filter setting (500.00 Hz, Nyquist limit) will be stored.\n",
      "  raw = mne.io.read_raw_brainvision(pth, preload=True, verbose=verbose)\n"
     ]
    },
    {
     "output_type": "stream",
     "name": "stdout",
     "text": [
      "Used Annotations descriptions: ['New Segment/', 'Stimulus/S  2', 'Stimulus/S  4', 'Stimulus/S  6']\n"
     ]
    },
    {
     "output_type": "stream",
     "name": "stderr",
     "text": [
      "c:\\Users\\lukas\\Dokumente\\projects\\scp-act\\data_analysis\\notebooks\\..\\actionpy\\prepro\\prepro.py:125: RuntimeWarning: The unit for channel(s) VEOG has changed from C to V.\n",
      "  raw.set_channel_types(mapping)\n"
     ]
    },
    {
     "output_type": "stream",
     "name": "stdout",
     "text": [
      "Not setting metadata\n",
      "Not setting metadata\n",
      "1 matching events found\n",
      "No baseline correction applied\n",
      "0 projection items activated\n",
      "0 bad epochs dropped\n"
     ]
    },
    {
     "output_type": "stream",
     "name": "stderr",
     "text": [
      "[Parallel(n_jobs=8)]: Using backend LokyBackend with 8 concurrent workers.\n"
     ]
    },
    {
     "output_type": "stream",
     "name": "stdout",
     "text": [
      "Creating RawArray with float64 data, n_channels=1, n_times=42000\n",
      "    Range : 0 ... 41999 =      0.000 ...   419.990 secs\n",
      "Ready.\n"
     ]
    },
    {
     "output_type": "stream",
     "name": "stderr",
     "text": [
      "[Parallel(n_jobs=8)]: Done   1 tasks      | elapsed:    3.0s\n",
      "[Parallel(n_jobs=8)]: Done   1 out of   1 | elapsed:    3.0s finished\n",
      "C:\\Users\\lukas\\virtualenvs\\eegenv\\lib\\site-packages\\autoreject\\ransac.py:226: RuntimeWarning: No bad channels to interpolate. Doing nothing...\n",
      "  epochs.interpolate_bads(reset_bads=True)\n",
      "c:\\Users\\lukas\\Dokumente\\projects\\scp-act\\data_analysis\\notebooks\\..\\actionpy\\prepro\\prepro.py:148: DeprecationWarning: Version 0.23 introduced max_iter=\"auto\", setting max_iter=1000 for `fastica` and max_iter=500 for `infomax` and `picard`. The current default of max_iter=200 will be changed to \"auto\" in version 0.24.\n",
      "  ica = mne.preprocessing.ICA(n_components=n_components,\n"
     ]
    },
    {
     "output_type": "stream",
     "name": "stdout",
     "text": [
      "\t vol_01\n",
      "D:/data/scp-act/S06/S06_vol_01.vhdr\n"
     ]
    },
    {
     "output_type": "stream",
     "name": "stderr",
     "text": [
      "c:\\Users\\lukas\\Dokumente\\projects\\scp-act\\data_analysis\\notebooks\\..\\actionpy\\prepro\\prepro.py:24: RuntimeWarning: Online software filter detected. Using software filter settings and ignoring hardware values\n",
      "  raw = mne.io.read_raw_brainvision(pth, preload=True, verbose=verbose)\n",
      "c:\\Users\\lukas\\Dokumente\\projects\\scp-act\\data_analysis\\notebooks\\..\\actionpy\\prepro\\prepro.py:24: RuntimeWarning: Channels contain different highpass filters. Lowest (weakest) filter setting (0.00 Hz) will be stored.\n",
      "  raw = mne.io.read_raw_brainvision(pth, preload=True, verbose=verbose)\n",
      "c:\\Users\\lukas\\Dokumente\\projects\\scp-act\\data_analysis\\notebooks\\..\\actionpy\\prepro\\prepro.py:24: RuntimeWarning: Channels contain different lowpass filters. Highest (weakest) filter setting (500.00 Hz, Nyquist limit) will be stored.\n",
      "  raw = mne.io.read_raw_brainvision(pth, preload=True, verbose=verbose)\n"
     ]
    },
    {
     "output_type": "stream",
     "name": "stdout",
     "text": [
      "Used Annotations descriptions: ['New Segment/', 'Response/R  7', 'Response/R 15', 'Stimulus/S  2', 'Stimulus/S  4']\n"
     ]
    },
    {
     "output_type": "stream",
     "name": "stderr",
     "text": [
      "c:\\Users\\lukas\\Dokumente\\projects\\scp-act\\data_analysis\\notebooks\\..\\actionpy\\prepro\\prepro.py:125: RuntimeWarning: The unit for channel(s) VEOG has changed from C to V.\n",
      "  raw.set_channel_types(mapping)\n"
     ]
    },
    {
     "output_type": "stream",
     "name": "stdout",
     "text": [
      "Not setting metadata\n",
      "Not setting metadata\n",
      "1 matching events found\n",
      "No baseline correction applied\n",
      "0 projection items activated\n",
      "0 bad epochs dropped\n"
     ]
    },
    {
     "output_type": "stream",
     "name": "stderr",
     "text": [
      "[Parallel(n_jobs=8)]: Using backend LokyBackend with 8 concurrent workers.\n"
     ]
    },
    {
     "output_type": "stream",
     "name": "stdout",
     "text": [
      "Creating RawArray with float64 data, n_channels=1, n_times=42100\n",
      "    Range : 0 ... 42099 =      0.000 ...   420.990 secs\n",
      "Ready.\n"
     ]
    },
    {
     "output_type": "stream",
     "name": "stderr",
     "text": [
      "[Parallel(n_jobs=8)]: Done   1 tasks      | elapsed:    2.8s\n",
      "[Parallel(n_jobs=8)]: Done   1 out of   1 | elapsed:    2.8s finished\n",
      "C:\\Users\\lukas\\virtualenvs\\eegenv\\lib\\site-packages\\autoreject\\ransac.py:226: RuntimeWarning: No bad channels to interpolate. Doing nothing...\n",
      "  epochs.interpolate_bads(reset_bads=True)\n",
      "c:\\Users\\lukas\\Dokumente\\projects\\scp-act\\data_analysis\\notebooks\\..\\actionpy\\prepro\\prepro.py:148: DeprecationWarning: Version 0.23 introduced max_iter=\"auto\", setting max_iter=1000 for `fastica` and max_iter=500 for `infomax` and `picard`. The current default of max_iter=200 will be changed to \"auto\" in version 0.24.\n",
      "  ica = mne.preprocessing.ICA(n_components=n_components,\n"
     ]
    },
    {
     "output_type": "stream",
     "name": "stdout",
     "text": [
      "\t vol_02\n",
      "D:/data/scp-act/S06/S06_vol_02.vhdr\n"
     ]
    },
    {
     "output_type": "stream",
     "name": "stderr",
     "text": [
      "c:\\Users\\lukas\\Dokumente\\projects\\scp-act\\data_analysis\\notebooks\\..\\actionpy\\prepro\\prepro.py:24: RuntimeWarning: Online software filter detected. Using software filter settings and ignoring hardware values\n",
      "  raw = mne.io.read_raw_brainvision(pth, preload=True, verbose=verbose)\n",
      "c:\\Users\\lukas\\Dokumente\\projects\\scp-act\\data_analysis\\notebooks\\..\\actionpy\\prepro\\prepro.py:24: RuntimeWarning: Channels contain different highpass filters. Lowest (weakest) filter setting (0.00 Hz) will be stored.\n",
      "  raw = mne.io.read_raw_brainvision(pth, preload=True, verbose=verbose)\n",
      "c:\\Users\\lukas\\Dokumente\\projects\\scp-act\\data_analysis\\notebooks\\..\\actionpy\\prepro\\prepro.py:24: RuntimeWarning: Channels contain different lowpass filters. Highest (weakest) filter setting (500.00 Hz, Nyquist limit) will be stored.\n",
      "  raw = mne.io.read_raw_brainvision(pth, preload=True, verbose=verbose)\n"
     ]
    },
    {
     "output_type": "stream",
     "name": "stdout",
     "text": [
      "Used Annotations descriptions: ['New Segment/', 'Response/R  7', 'Response/R 15', 'Stimulus/S  2', 'Stimulus/S  4']\n"
     ]
    },
    {
     "output_type": "stream",
     "name": "stderr",
     "text": [
      "c:\\Users\\lukas\\Dokumente\\projects\\scp-act\\data_analysis\\notebooks\\..\\actionpy\\prepro\\prepro.py:125: RuntimeWarning: The unit for channel(s) VEOG has changed from C to V.\n",
      "  raw.set_channel_types(mapping)\n"
     ]
    },
    {
     "output_type": "stream",
     "name": "stdout",
     "text": [
      "Not setting metadata\n",
      "Not setting metadata\n",
      "1 matching events found\n",
      "No baseline correction applied\n",
      "0 projection items activated\n",
      "0 bad epochs dropped\n"
     ]
    },
    {
     "output_type": "stream",
     "name": "stderr",
     "text": [
      "[Parallel(n_jobs=8)]: Using backend LokyBackend with 8 concurrent workers.\n"
     ]
    },
    {
     "output_type": "stream",
     "name": "stdout",
     "text": [
      "Creating RawArray with float64 data, n_channels=1, n_times=42101\n",
      "    Range : 0 ... 42100 =      0.000 ...   421.000 secs\n",
      "Ready.\n"
     ]
    },
    {
     "output_type": "stream",
     "name": "stderr",
     "text": [
      "[Parallel(n_jobs=8)]: Done   1 tasks      | elapsed:    2.9s\n",
      "[Parallel(n_jobs=8)]: Done   1 out of   1 | elapsed:    2.9s finished\n",
      "C:\\Users\\lukas\\virtualenvs\\eegenv\\lib\\site-packages\\autoreject\\ransac.py:226: RuntimeWarning: No bad channels to interpolate. Doing nothing...\n",
      "  epochs.interpolate_bads(reset_bads=True)\n",
      "c:\\Users\\lukas\\Dokumente\\projects\\scp-act\\data_analysis\\notebooks\\..\\actionpy\\prepro\\prepro.py:148: DeprecationWarning: Version 0.23 introduced max_iter=\"auto\", setting max_iter=1000 for `fastica` and max_iter=500 for `infomax` and `picard`. The current default of max_iter=200 will be changed to \"auto\" in version 0.24.\n",
      "  ica = mne.preprocessing.ICA(n_components=n_components,\n"
     ]
    }
   ],
   "metadata": {}
  },
  {
   "cell_type": "markdown",
   "source": [
    "# Visualize Raw SCPs\r\n",
    "Lets visualize the global field power of one condition for each participant."
   ],
   "metadata": {}
  },
  {
   "cell_type": "code",
   "execution_count": 3,
   "source": [
    "%matplotlib qt\r\n",
    "# ylim = (-90, 90)\r\n",
    "scale = 1e6\r\n",
    "n = len(data)+1\r\n",
    "cond = 0\r\n",
    "for cond in range(len(files)):\r\n",
    "    plt.figure()\r\n",
    "    sub_data = []\r\n",
    "    for i, sub in enumerate(data):\r\n",
    "        num = n*100 + 11 + i\r\n",
    "        raw = sub[cond]\r\n",
    "        d = np.std(raw.copy().filter(None, 0.5, **filtparams).pick_types(eeg=True)._data, axis=0)*scale\r\n",
    "        sub_data.append(d)\r\n",
    "        plt.subplot(num)\r\n",
    "        plt.plot(raw.times, d)\r\n",
    "        plt.title(f'GFP Subject {subjects[i]}')\r\n",
    "    \r\n",
    "    min_len = min([len(d) for d in sub_data])\r\n",
    "    sub_data = [d[:min_len] for d in sub_data]\r\n",
    "    sub_data = [d-d.mean() for d in sub_data]\r\n",
    "    sub_data = np.stack(sub_data, axis=0)\r\n",
    "    grand_mean = np.median(sub_data, axis=0)\r\n",
    "    sem = sub_data.std() / np.sqrt(sub_data.shape[0])\r\n",
    "    plt.subplot(num+1)\r\n",
    "    plt.plot(raw.times[:min_len], grand_mean, color='blue')\r\n",
    "    plt.fill_between(raw.times[:min_len], grand_mean-sem, grand_mean+sem, alpha=0.3, color='blue')\r\n",
    "    plt.title(f'Grand mean +- SEM')\r\n",
    "    \r\n",
    "    plt.suptitle(f'Cond {files[cond]}')\r\n",
    "    plt.tight_layout()\r\n"
   ],
   "outputs": [
    {
     "output_type": "stream",
     "name": "stderr",
     "text": [
      "C:\\Users\\lukas\\AppData\\Local\\Temp/ipykernel_19428/43605915.py:30: UserWarning: Tight layout not applied. tight_layout cannot make axes height small enough to accommodate all axes decorations\n",
      "  plt.tight_layout()\n",
      "C:\\Users\\lukas\\AppData\\Local\\Temp/ipykernel_19428/43605915.py:30: UserWarning: Tight layout not applied. tight_layout cannot make axes height small enough to accommodate all axes decorations\n",
      "  plt.tight_layout()\n",
      "C:\\Users\\lukas\\AppData\\Local\\Temp/ipykernel_19428/43605915.py:30: UserWarning: Tight layout not applied. tight_layout cannot make axes height small enough to accommodate all axes decorations\n",
      "  plt.tight_layout()\n",
      "C:\\Users\\lukas\\AppData\\Local\\Temp/ipykernel_19428/43605915.py:30: UserWarning: Tight layout not applied. tight_layout cannot make axes height small enough to accommodate all axes decorations\n",
      "  plt.tight_layout()\n",
      "C:\\Users\\lukas\\AppData\\Local\\Temp/ipykernel_19428/43605915.py:30: UserWarning: Tight layout not applied. tight_layout cannot make axes height small enough to accommodate all axes decorations\n",
      "  plt.tight_layout()\n",
      "C:\\Users\\lukas\\AppData\\Local\\Temp/ipykernel_19428/43605915.py:30: UserWarning: Tight layout not applied. tight_layout cannot make axes height small enough to accommodate all axes decorations\n",
      "  plt.tight_layout()\n",
      "C:\\Users\\lukas\\AppData\\Local\\Temp/ipykernel_19428/43605915.py:30: UserWarning: Tight layout not applied. tight_layout cannot make axes height small enough to accommodate all axes decorations\n",
      "  plt.tight_layout()\n"
     ]
    }
   ],
   "metadata": {}
  },
  {
   "cell_type": "markdown",
   "source": [
    "# Global Descriptors\r\n",
    "## Calculation"
   ],
   "metadata": {}
  },
  {
   "cell_type": "code",
   "execution_count": 12,
   "source": [
    "from nolds import sampen\r\n",
    "from actionpy.analysis import run_length_encoding, omega_descriptor, sigma_descriptor, phi_descriptor, average_phase_synchrony\r\n",
    "\r\n",
    "metrics = (omega_descriptor, sigma_descriptor, lambda x: phi_descriptor(x, sfreq=100), average_phase_synchrony)\r\n",
    "metric_names = ('omega', 'sigma', 'phi', 'phase_synchrony')\r\n",
    "condition_names = ['Rest_1', 'Rest_2', 'Expectancy_1', 'Relaxation_1', 'Relaxation_2', 'Volition_1', 'Volition_2']\r\n",
    "\r\n",
    "n = 7\r\n",
    "results_gd = dict()\r\n",
    "for cond, filename in enumerate(condition_names):\r\n",
    "    print(filename)\r\n",
    "    results_gd[filename] = dict()\r\n",
    "    for metric, metric_name in zip(metrics, metric_names):\r\n",
    "        results_gd[filename][metric_name] = []\r\n",
    "        for subject in data:\r\n",
    "            subject_data = subject[cond].copy().filter(None, 0.5, **filtparams).pick_types(eeg=True)._data\r\n",
    "            # if metric_name == 'phi':\r\n",
    "            #     result = np.median( [metric(portion, sfreq=100) for portion in np.array_split(subject_data, n, axis=1)] )\r\n",
    "            # else:\r\n",
    "            result = np.median( [metric(portion) for portion in np.array_split(subject_data, n, axis=1)] )\r\n",
    "            results_gd[filename][metric_name].append(result)\r\n"
   ],
   "outputs": [
    {
     "output_type": "stream",
     "name": "stdout",
     "text": [
      "Rest_1\n",
      "Rest_2\n",
      "Expectancy_1\n",
      "Relaxation_1\n",
      "Relaxation_2\n",
      "Volition_1\n",
      "Volition_2\n"
     ]
    }
   ],
   "metadata": {}
  },
  {
   "cell_type": "markdown",
   "source": [
    "## Visualize Global Descriptors"
   ],
   "metadata": {}
  },
  {
   "cell_type": "code",
   "execution_count": 14,
   "source": [
    "import seaborn as sns\r\n",
    "%matplotlib qt\r\n",
    "condition_names = ['Rest_1', 'Rest_2', 'Expectancy_1', 'Relaxation_1', 'Relaxation_2', 'Volition_1', 'Volition_2']\r\n",
    "metric_names = ('omega', 'sigma', 'phi', 'phase_synchrony')\r\n",
    "\r\n",
    "for metric_name in metric_names:\r\n",
    "    plotvals = [np.real(results_gd[condition_name][metric_name]) for condition_name in condition_names]\r\n",
    "\r\n",
    "    plt.figure(figsize=(13, 7))\r\n",
    "    sns.boxplot(data=plotvals)\r\n",
    "    sns.stripplot(data=plotvals, size=8, color=\".3\", linewidth=1, jitter=False)\r\n",
    "    \r\n",
    "    # for isub in range(len(plotvals[0])):\r\n",
    "    #     vals = [cond[isub] for cond in plotvals]\r\n",
    "    #     plt.plot(np.arange(len(plotvals)), vals, color='k', linewidth=2)\r\n",
    "\r\n",
    "    plt.xticks(ticks=np.arange(len(plotvals)), labels=condition_names)\r\n",
    "    plt.title(metric_name)\r\n",
    "    plt.tight_layout()\r\n",
    "\r\n",
    "# multipage(r'C:\\Users\\lukas\\Dokumente\\projects\\scp-act\\figures\\report_marianne\\global\\global_descriptors.pdf', png=True)"
   ],
   "outputs": [],
   "metadata": {}
  },
  {
   "cell_type": "markdown",
   "source": [
    "# Single Channel Metrics"
   ],
   "metadata": {}
  },
  {
   "cell_type": "code",
   "execution_count": 136,
   "source": [
    "from actionpy.analysis import run_length_encoding, get_acfw, get_ptp_amplitudes, get_ptp_latencies, detrended_std\r\n",
    "from neurokit2 import entropy_multiscale, entropy_sample\r\n",
    "\r\n",
    "metrics = (entropy_sample, entropy_multiscale, run_length_encoding, detrended_std, get_acfw, lambda x: np.median(get_ptp_amplitudes(x)), lambda x: np.median(get_ptp_latencies(x)))\r\n",
    "metric_names = ('Sample_Entropy', 'Multiscale_Sample_Entropy', 'Run_Length_Encoding', 'Detrended_Standard_Deviation', 'ACFW', 'P2P Amplitudes Median', 'P2P Latencies Median')\r\n",
    "\r\n",
    "\r\n",
    "condition_names = ['Rest_1', 'Rest_2', 'Expectancy_1', 'Relaxation_1', 'Relaxation_2', 'Volition_1', 'Volition_2']\r\n",
    "\r\n",
    "ch_name = 'Cz'\r\n",
    "ch_idx = data[0][0].ch_names.index(ch_name)\r\n",
    "\r\n",
    "n = 14\r\n",
    "results_sc = dict()\r\n",
    "for cond, filename in enumerate(condition_names):\r\n",
    "    print(filename)\r\n",
    "    results_sc[filename] = dict()\r\n",
    "    for metric, metric_name in zip(metrics, metric_names):\r\n",
    "        results_sc[filename][metric_name] = []\r\n",
    "        for subject in data:\r\n",
    "            subject_data = subject[cond].copy().pick_types(eeg=True).filter(None, 0.5, **filtparams)._data\r\n",
    "            result = np.median( [metric(portion[ch_idx]) for portion in np.array_split(subject_data, n, axis=1)] )\r\n",
    "            # GFP\r\n",
    "            # result = np.median( [metric(np.std(portion,axis=0)) for portion in np.array_split(subject_data, n, axis=1)] )\r\n",
    "            \r\n",
    "            results_sc[filename][metric_name].append(result)"
   ],
   "outputs": [
    {
     "output_type": "stream",
     "name": "stdout",
     "text": [
      "Rest_1\n"
     ]
    },
    {
     "output_type": "stream",
     "name": "stderr",
     "text": [
      "C:\\Users\\lukas\\virtualenvs\\eegenv\\lib\\site-packages\\numpy\\core\\fromnumeric.py:3440: RuntimeWarning: Mean of empty slice.\n",
      "  return _methods._mean(a, axis=axis, dtype=dtype,\n",
      "C:\\Users\\lukas\\virtualenvs\\eegenv\\lib\\site-packages\\numpy\\core\\_methods.py:189: RuntimeWarning: invalid value encountered in double_scalars\n",
      "  ret = ret.dtype.type(ret / rcount)\n"
     ]
    },
    {
     "output_type": "stream",
     "name": "stdout",
     "text": [
      "Rest_2\n",
      "Expectancy_1\n",
      "Relaxation_1\n",
      "Relaxation_2\n",
      "Volition_1\n",
      "Volition_2\n"
     ]
    },
    {
     "output_type": "stream",
     "name": "stderr",
     "text": [
      "C:\\Users\\lukas\\virtualenvs\\eegenv\\lib\\site-packages\\numpy\\core\\fromnumeric.py:3440: RuntimeWarning: Mean of empty slice.\n",
      "  return _methods._mean(a, axis=axis, dtype=dtype,\n",
      "C:\\Users\\lukas\\virtualenvs\\eegenv\\lib\\site-packages\\numpy\\core\\_methods.py:189: RuntimeWarning: invalid value encountered in double_scalars\n",
      "  ret = ret.dtype.type(ret / rcount)\n"
     ]
    }
   ],
   "metadata": {}
  },
  {
   "cell_type": "code",
   "execution_count": 137,
   "source": [
    "%matplotlib qt\r\n",
    "for metric_name in metric_names:\r\n",
    "    plotvals = [np.real(results_sc[condition_name][metric_name]) for condition_name in condition_names]\r\n",
    "\r\n",
    "    plt.figure(figsize=(13, 7))\r\n",
    "    sns.boxplot(data=plotvals)\r\n",
    "    sns.stripplot(data=plotvals, size=8, color=\".3\", linewidth=1, jitter=True)\r\n",
    "    \r\n",
    "    # for isub in range(len(plotvals[0])):\r\n",
    "    #     vals = [cond[isub] for cond in plotvals]\r\n",
    "    #     plt.plot(np.arange(len(plotvals)), vals, color='k', linewidth=2)\r\n",
    "\r\n",
    "    plt.xticks(ticks=np.arange(len(plotvals)), labels=condition_names)\r\n",
    "    plt.title(metric_name)\r\n",
    "    plt.tight_layout()\r\n",
    "\r\n",
    "# multipage(r'C:\\Users\\lukas\\Dokumente\\projects\\scp-act\\figures\\report_marianne\\single_channel\\Resp\\single_channel_metrics_6subs.pdf', png=False)"
   ],
   "outputs": [],
   "metadata": {}
  },
  {
   "cell_type": "markdown",
   "source": [
    "## Evaluate consistency by computing inter- and intra-condition differences"
   ],
   "metadata": {}
  },
  {
   "cell_type": "markdown",
   "source": [
    "Combine the results dictionaries"
   ],
   "metadata": {}
  },
  {
   "cell_type": "code",
   "execution_count": 32,
   "source": [
    "from copy import deepcopy\r\n",
    "results = deepcopy(results_sc)\r\n",
    "for key, val in results_gd.items():\r\n",
    "    results[key] = {**results_sc[key], **results_gd[key]}\r\n",
    "results[key].keys()\r\n"
   ],
   "outputs": [
    {
     "output_type": "execute_result",
     "data": {
      "text/plain": [
       "dict_keys(['Sample_Entropy', 'Multiscale_Sample_Entropy', 'Run_Length_Encoding', 'Detrended_Standard_Deviation', 'ACFW', 'P2P Amplitudes Median', 'P2P Latencies Median', 'omega', 'sigma', 'phi', 'phase_synchrony'])"
      ]
     },
     "metadata": {},
     "execution_count": 32
    }
   ],
   "metadata": {}
  },
  {
   "cell_type": "code",
   "execution_count": 33,
   "source": [
    "intra_condition_mad = dict()  # mad = mean absolute deviation\r\n",
    "inter_condition_mad = dict()\r\n",
    "\r\n",
    "intra_condition_pairs = [\r\n",
    "    ['Rest_1', 'Rest_2'],\r\n",
    "    ['Relaxation_1', 'Relaxation_2'],\r\n",
    "    ['Volition_1', 'Volition_2']\r\n",
    "]\r\n",
    "\r\n",
    "inter_condition_pairs = [\r\n",
    "    ['Rest_1', 'Relaxation_1'],\r\n",
    "    ['Rest_1', 'Relaxation_2'],\r\n",
    "    ['Rest_1', 'Volition_1'],\r\n",
    "    ['Rest_1', 'Volition_2'],\r\n",
    "\r\n",
    "    ['Rest_2', 'Relaxation_1'],\r\n",
    "    ['Rest_2', 'Relaxation_2'],\r\n",
    "    ['Rest_2', 'Volition_1'],\r\n",
    "    ['Rest_2', 'Volition_2'],\r\n",
    "\r\n",
    "    ['Relaxation_1', 'Volition_1'],\r\n",
    "    ['Relaxation_1', 'Volition_2'],\r\n",
    "    \r\n",
    "    ['Relaxation_2', 'Volition_1'],\r\n",
    "    ['Relaxation_2', 'Volition_2']\r\n",
    "]\r\n",
    "metric_names = list(results['Rest_1'].keys())\r\n",
    "# Intra\r\n",
    "for metric_name in metric_names:\r\n",
    "    intra_condition_mad[metric_name] = []\r\n",
    "    for sub in range(len(subjects)):\r\n",
    "        differences = []\r\n",
    "        for pair in intra_condition_pairs:\r\n",
    "            cond_1, cond_2 = pair\r\n",
    "            differences.append( results[cond_1][metric_name][sub] - results[cond_2][metric_name][sub] )\r\n",
    "        mad = np.mean(np.abs(differences))\r\n",
    "        intra_condition_mad[metric_name].append(mad)\r\n",
    "# Inter\r\n",
    "for metric_name in metric_names:\r\n",
    "    inter_condition_mad[metric_name] = []\r\n",
    "    for sub in range(len(subjects)):\r\n",
    "        differences = []\r\n",
    "        for pair in inter_condition_pairs:\r\n",
    "            cond_1, cond_2 = pair\r\n",
    "            differences.append( results[cond_1][metric_name][sub] - results[cond_2][metric_name][sub] )\r\n",
    "        mad = np.mean(np.abs(differences))\r\n",
    "        inter_condition_mad[metric_name].append(mad)\r\n",
    "\r\n"
   ],
   "outputs": [],
   "metadata": {}
  },
  {
   "cell_type": "markdown",
   "source": [
    "## Transform Consistency data to pandas.DataFrame"
   ],
   "metadata": {}
  },
  {
   "cell_type": "code",
   "execution_count": 34,
   "source": [
    "import pandas as pd\r\n",
    "# Data Frame for Inter-condition differences\r\n",
    "df = pd.DataFrame(inter_condition_mad)\r\n",
    "df['Subject'] = np.arange(len(subjects))\r\n",
    "df['Group'] = ['inter'] * len(subjects)\r\n",
    "# Data Frame for Intra-condition differences\r\n",
    "df_2 = pd.DataFrame(intra_condition_mad)\r\n",
    "df_2['Subject'] = np.arange(len(subjects))\r\n",
    "df_2['Group'] = ['intra'] * len(subjects)\r\n",
    "# Merge\r\n",
    "df = df.append(df_2)\r\n",
    "\r\n",
    "# Normalize Data\r\n",
    "for col in df.columns:\r\n",
    "    if col == 'Group' or col == 'Subject':\r\n",
    "        continue\r\n",
    "    df[col] = (df[col]- df[col].mean()) / df[col].std()\r\n",
    "\r\n",
    "df_melt = df.melt(value_vars=metric_names, id_vars=['Subject', 'Group'], var_name='Metric', value_name='Inconsistency')\r\n",
    "df_melt.head()\r\n"
   ],
   "outputs": [
    {
     "output_type": "execute_result",
     "data": {
      "text/plain": [
       "   Subject  Group          Metric  Inconsistency\n",
       "0        0  inter  Sample_Entropy       2.019826\n",
       "1        1  inter  Sample_Entropy      -0.683708\n",
       "2        2  inter  Sample_Entropy      -0.604058\n",
       "3        3  inter  Sample_Entropy      -0.677959\n",
       "4        4  inter  Sample_Entropy       0.297205"
      ],
      "text/html": [
       "<div>\n",
       "<style scoped>\n",
       "    .dataframe tbody tr th:only-of-type {\n",
       "        vertical-align: middle;\n",
       "    }\n",
       "\n",
       "    .dataframe tbody tr th {\n",
       "        vertical-align: top;\n",
       "    }\n",
       "\n",
       "    .dataframe thead th {\n",
       "        text-align: right;\n",
       "    }\n",
       "</style>\n",
       "<table border=\"1\" class=\"dataframe\">\n",
       "  <thead>\n",
       "    <tr style=\"text-align: right;\">\n",
       "      <th></th>\n",
       "      <th>Subject</th>\n",
       "      <th>Group</th>\n",
       "      <th>Metric</th>\n",
       "      <th>Inconsistency</th>\n",
       "    </tr>\n",
       "  </thead>\n",
       "  <tbody>\n",
       "    <tr>\n",
       "      <th>0</th>\n",
       "      <td>0</td>\n",
       "      <td>inter</td>\n",
       "      <td>Sample_Entropy</td>\n",
       "      <td>2.019826</td>\n",
       "    </tr>\n",
       "    <tr>\n",
       "      <th>1</th>\n",
       "      <td>1</td>\n",
       "      <td>inter</td>\n",
       "      <td>Sample_Entropy</td>\n",
       "      <td>-0.683708</td>\n",
       "    </tr>\n",
       "    <tr>\n",
       "      <th>2</th>\n",
       "      <td>2</td>\n",
       "      <td>inter</td>\n",
       "      <td>Sample_Entropy</td>\n",
       "      <td>-0.604058</td>\n",
       "    </tr>\n",
       "    <tr>\n",
       "      <th>3</th>\n",
       "      <td>3</td>\n",
       "      <td>inter</td>\n",
       "      <td>Sample_Entropy</td>\n",
       "      <td>-0.677959</td>\n",
       "    </tr>\n",
       "    <tr>\n",
       "      <th>4</th>\n",
       "      <td>4</td>\n",
       "      <td>inter</td>\n",
       "      <td>Sample_Entropy</td>\n",
       "      <td>0.297205</td>\n",
       "    </tr>\n",
       "  </tbody>\n",
       "</table>\n",
       "</div>"
      ]
     },
     "metadata": {},
     "execution_count": 34
    }
   ],
   "metadata": {}
  },
  {
   "cell_type": "markdown",
   "source": [
    "## Visualize"
   ],
   "metadata": {}
  },
  {
   "cell_type": "code",
   "execution_count": 36,
   "source": [
    "sns.set(font_scale=1.1)\r\n",
    "plt.figure(figsize=(15, 8))\r\n",
    "sns.boxplot(data=df_melt.loc[df_melt['Subject'] <4], x='Metric', y='Inconsistency', hue='Group')\r\n",
    "# sns.stripplot(data=df_melt.loc[df_melt['Subject'] <4], x='Metric', y='Inconsistency', hue='Group', jitter=True)\r\n"
   ],
   "outputs": [
    {
     "output_type": "execute_result",
     "data": {
      "text/plain": [
       "<AxesSubplot:xlabel='Metric', ylabel='Inconsistency'>"
      ]
     },
     "metadata": {},
     "execution_count": 36
    }
   ],
   "metadata": {}
  },
  {
   "cell_type": "markdown",
   "source": [
    "## Statistics"
   ],
   "metadata": {}
  },
  {
   "cell_type": "code",
   "execution_count": 37,
   "source": [
    "import pingouin as pg\r\n",
    "pg.rm_anova(data=df_melt.loc[df_melt['Subject'] <4], dv='Inconsistency', within='Group', subject='Subject', detailed=True)\r\n",
    "\r\n",
    "# pg.anova(data=df_melt.loc[df_melt['Subject'] <4], dv='Inconsistency', between='Group', detailed=True)"
   ],
   "outputs": [
    {
     "output_type": "execute_result",
     "data": {
      "text/plain": [
       "  Source        SS  DF        MS         F     p-unc       np2  eps\n",
       "0  Group  0.629869   1  0.629869  2.103845  0.242817  0.412208  1.0\n",
       "1  Error  0.898169   3  0.299390       NaN       NaN       NaN  NaN"
      ],
      "text/html": [
       "<div>\n",
       "<style scoped>\n",
       "    .dataframe tbody tr th:only-of-type {\n",
       "        vertical-align: middle;\n",
       "    }\n",
       "\n",
       "    .dataframe tbody tr th {\n",
       "        vertical-align: top;\n",
       "    }\n",
       "\n",
       "    .dataframe thead th {\n",
       "        text-align: right;\n",
       "    }\n",
       "</style>\n",
       "<table border=\"1\" class=\"dataframe\">\n",
       "  <thead>\n",
       "    <tr style=\"text-align: right;\">\n",
       "      <th></th>\n",
       "      <th>Source</th>\n",
       "      <th>SS</th>\n",
       "      <th>DF</th>\n",
       "      <th>MS</th>\n",
       "      <th>F</th>\n",
       "      <th>p-unc</th>\n",
       "      <th>np2</th>\n",
       "      <th>eps</th>\n",
       "    </tr>\n",
       "  </thead>\n",
       "  <tbody>\n",
       "    <tr>\n",
       "      <th>0</th>\n",
       "      <td>Group</td>\n",
       "      <td>0.629869</td>\n",
       "      <td>1</td>\n",
       "      <td>0.629869</td>\n",
       "      <td>2.103845</td>\n",
       "      <td>0.242817</td>\n",
       "      <td>0.412208</td>\n",
       "      <td>1.0</td>\n",
       "    </tr>\n",
       "    <tr>\n",
       "      <th>1</th>\n",
       "      <td>Error</td>\n",
       "      <td>0.898169</td>\n",
       "      <td>3</td>\n",
       "      <td>0.299390</td>\n",
       "      <td>NaN</td>\n",
       "      <td>NaN</td>\n",
       "      <td>NaN</td>\n",
       "      <td>NaN</td>\n",
       "    </tr>\n",
       "  </tbody>\n",
       "</table>\n",
       "</div>"
      ]
     },
     "metadata": {},
     "execution_count": 37
    }
   ],
   "metadata": {}
  },
  {
   "cell_type": "markdown",
   "source": [
    "# Coupling between SCPs and Respiration"
   ],
   "metadata": {}
  },
  {
   "cell_type": "code",
   "execution_count": 123,
   "source": [
    "condition_names = ['Rest_1', 'Rest_2', 'Expectancy_1', 'Relaxation_1', 'Relaxation_2', 'Volition_1', 'Volition_2']\r\n",
    "\r\n",
    "for cond, filename in enumerate(condition_names):\r\n",
    "    print(filename)\r\n",
    "    results[filename]['MI'] = []\r\n",
    "    for subject in data:\r\n",
    "        subject_filt = subject[cond].copy().filter(None, 0.5, **filtparams).resample(10)\r\n",
    "        subject_data = subject_filt._data\r\n",
    "        mi = mutual_info_regression(np.expand_dims(subject_data[ch1], axis=1), subject_data[ch2])[0]\r\n",
    "\r\n",
    "        results[filename]['MI'].append(mi)"
   ],
   "outputs": [
    {
     "output_type": "stream",
     "name": "stdout",
     "text": [
      "Rest_1\n",
      "Rest_2\n",
      "Expectancy_1\n",
      "Relaxation_1\n",
      "Relaxation_2\n",
      "Volition_1\n",
      "Volition_2\n"
     ]
    }
   ],
   "metadata": {}
  },
  {
   "cell_type": "code",
   "execution_count": 124,
   "source": [
    "plotvals = [np.real(results[condition_name]['MI']) for condition_name in condition_names]\r\n",
    "\r\n",
    "plt.figure(figsize=(13, 7))\r\n",
    "sns.boxplot(data=plotvals)\r\n",
    "sns.stripplot(data=plotvals, size=8, color=\".3\", linewidth=1, jitter=True)\r\n",
    "\r\n",
    "plt.xticks(ticks=np.arange(len(plotvals)), labels=condition_names)\r\n",
    "plt.title('Mutual Information')\r\n",
    "plt.tight_layout()"
   ],
   "outputs": [],
   "metadata": {}
  },
  {
   "cell_type": "code",
   "execution_count": 43,
   "source": [
    "from sklearn.metrics import mutual_info_score, mutual_info_regression\r\n",
    "from scipy.stats import pearsonr\r\n",
    "metric_names = ['Correlation', 'Mutual_Information']\r\n",
    "metrics = [lambda x,y: pearsonr(x,y)[0], mutual_info_regression]\r\n",
    "\r\n",
    "raw = data[0][0].copy()\r\n",
    "ch1 = raw.ch_names.index('Cz')\r\n",
    "ch2 = raw.ch_names.index('Resp')\r\n",
    "\r\n",
    "n = 7\r\n",
    "results_coupling = dict()\r\n",
    "\r\n",
    "for cond, filename in enumerate(condition_names):\r\n",
    "    print(filename)\r\n",
    "    results_coupling[filename] = dict()\r\n",
    "    for metric, metric_name in zip(metrics, metric_names):\r\n",
    "        results_coupling[filename][metric_name] = []\r\n",
    "        results_coupling[filename]['Phase_Slope_Index'] = []\r\n",
    "        for subject in data:\r\n",
    "            subject_filt = subject[cond].copy().filter(None, 0.5, **filtparams)\r\n",
    "            subject_data = subject_filt._data\r\n",
    "            result = np.median( [metric(portion[ch1], portion[ch2]) for portion in np.array_split(subject_data, n, axis=1)] )\r\n",
    "            # result = np.median( [metric(np.std(portion, axis=0), portion[ch2]) for portion in np.array_split(subject_data, n, axis=1)] )\r\n",
    "\r\n",
    "            results_coupling[filename][metric_name].append(result)\r\n",
    "\r\n",
    "            psi = np.median(\r\n",
    "                [mne.connectivity.phase_slope_index(\r\n",
    "                np.expand_dims(portion[[ch1,ch2]], axis=0), \r\n",
    "                indices = (np.array([0]), np.array([1])), sfreq=100, fmax=0.5, verbose=0)[0]\r\n",
    "                for portion in np.array_split(subject_data, n, axis=1)]\r\n",
    "            )\r\n",
    "\r\n",
    "            results_coupling[filename]['Phase_Slope_Index'].append(psi)\r\n"
   ],
   "outputs": [
    {
     "output_type": "stream",
     "name": "stdout",
     "text": [
      "Rest_1\n"
     ]
    },
    {
     "output_type": "stream",
     "name": "stderr",
     "text": [
      "C:\\Users\\lukas\\virtualenvs\\eegenv\\lib\\site-packages\\sklearn\\metrics\\cluster\\_supervised.py:58: UserWarning: Clustering metrics expects discrete values but received continuous values for label, and continuous values for target\n",
      "  warnings.warn(msg, UserWarning)\n",
      "C:\\Users\\lukas\\virtualenvs\\eegenv\\lib\\site-packages\\sklearn\\metrics\\cluster\\_supervised.py:58: UserWarning: Clustering metrics expects discrete values but received continuous values for label, and continuous values for target\n",
      "  warnings.warn(msg, UserWarning)\n",
      "C:\\Users\\lukas\\virtualenvs\\eegenv\\lib\\site-packages\\sklearn\\metrics\\cluster\\_supervised.py:58: UserWarning: Clustering metrics expects discrete values but received continuous values for label, and continuous values for target\n",
      "  warnings.warn(msg, UserWarning)\n",
      "C:\\Users\\lukas\\virtualenvs\\eegenv\\lib\\site-packages\\sklearn\\metrics\\cluster\\_supervised.py:58: UserWarning: Clustering metrics expects discrete values but received continuous values for label, and continuous values for target\n",
      "  warnings.warn(msg, UserWarning)\n",
      "C:\\Users\\lukas\\virtualenvs\\eegenv\\lib\\site-packages\\sklearn\\metrics\\cluster\\_supervised.py:58: UserWarning: Clustering metrics expects discrete values but received continuous values for label, and continuous values for target\n",
      "  warnings.warn(msg, UserWarning)\n",
      "C:\\Users\\lukas\\virtualenvs\\eegenv\\lib\\site-packages\\sklearn\\metrics\\cluster\\_supervised.py:58: UserWarning: Clustering metrics expects discrete values but received continuous values for label, and continuous values for target\n",
      "  warnings.warn(msg, UserWarning)\n",
      "C:\\Users\\lukas\\virtualenvs\\eegenv\\lib\\site-packages\\sklearn\\metrics\\cluster\\_supervised.py:58: UserWarning: Clustering metrics expects discrete values but received continuous values for label, and continuous values for target\n",
      "  warnings.warn(msg, UserWarning)\n",
      "C:\\Users\\lukas\\virtualenvs\\eegenv\\lib\\site-packages\\sklearn\\metrics\\cluster\\_supervised.py:58: UserWarning: Clustering metrics expects discrete values but received continuous values for label, and continuous values for target\n",
      "  warnings.warn(msg, UserWarning)\n",
      "C:\\Users\\lukas\\virtualenvs\\eegenv\\lib\\site-packages\\sklearn\\metrics\\cluster\\_supervised.py:58: UserWarning: Clustering metrics expects discrete values but received continuous values for label, and continuous values for target\n",
      "  warnings.warn(msg, UserWarning)\n",
      "C:\\Users\\lukas\\virtualenvs\\eegenv\\lib\\site-packages\\sklearn\\metrics\\cluster\\_supervised.py:58: UserWarning: Clustering metrics expects discrete values but received continuous values for label, and continuous values for target\n",
      "  warnings.warn(msg, UserWarning)\n",
      "C:\\Users\\lukas\\virtualenvs\\eegenv\\lib\\site-packages\\sklearn\\metrics\\cluster\\_supervised.py:58: UserWarning: Clustering metrics expects discrete values but received continuous values for label, and continuous values for target\n",
      "  warnings.warn(msg, UserWarning)\n",
      "C:\\Users\\lukas\\virtualenvs\\eegenv\\lib\\site-packages\\sklearn\\metrics\\cluster\\_supervised.py:58: UserWarning: Clustering metrics expects discrete values but received continuous values for label, and continuous values for target\n",
      "  warnings.warn(msg, UserWarning)\n",
      "C:\\Users\\lukas\\virtualenvs\\eegenv\\lib\\site-packages\\sklearn\\metrics\\cluster\\_supervised.py:58: UserWarning: Clustering metrics expects discrete values but received continuous values for label, and continuous values for target\n",
      "  warnings.warn(msg, UserWarning)\n",
      "C:\\Users\\lukas\\virtualenvs\\eegenv\\lib\\site-packages\\sklearn\\metrics\\cluster\\_supervised.py:58: UserWarning: Clustering metrics expects discrete values but received continuous values for label, and continuous values for target\n",
      "  warnings.warn(msg, UserWarning)\n",
      "C:\\Users\\lukas\\virtualenvs\\eegenv\\lib\\site-packages\\sklearn\\metrics\\cluster\\_supervised.py:58: UserWarning: Clustering metrics expects discrete values but received continuous values for label, and continuous values for target\n",
      "  warnings.warn(msg, UserWarning)\n",
      "C:\\Users\\lukas\\virtualenvs\\eegenv\\lib\\site-packages\\sklearn\\metrics\\cluster\\_supervised.py:58: UserWarning: Clustering metrics expects discrete values but received continuous values for label, and continuous values for target\n",
      "  warnings.warn(msg, UserWarning)\n",
      "C:\\Users\\lukas\\virtualenvs\\eegenv\\lib\\site-packages\\sklearn\\metrics\\cluster\\_supervised.py:58: UserWarning: Clustering metrics expects discrete values but received continuous values for label, and continuous values for target\n",
      "  warnings.warn(msg, UserWarning)\n",
      "C:\\Users\\lukas\\virtualenvs\\eegenv\\lib\\site-packages\\sklearn\\metrics\\cluster\\_supervised.py:58: UserWarning: Clustering metrics expects discrete values but received continuous values for label, and continuous values for target\n",
      "  warnings.warn(msg, UserWarning)\n",
      "C:\\Users\\lukas\\virtualenvs\\eegenv\\lib\\site-packages\\sklearn\\metrics\\cluster\\_supervised.py:58: UserWarning: Clustering metrics expects discrete values but received continuous values for label, and continuous values for target\n",
      "  warnings.warn(msg, UserWarning)\n",
      "C:\\Users\\lukas\\virtualenvs\\eegenv\\lib\\site-packages\\sklearn\\metrics\\cluster\\_supervised.py:58: UserWarning: Clustering metrics expects discrete values but received continuous values for label, and continuous values for target\n",
      "  warnings.warn(msg, UserWarning)\n",
      "C:\\Users\\lukas\\virtualenvs\\eegenv\\lib\\site-packages\\sklearn\\metrics\\cluster\\_supervised.py:58: UserWarning: Clustering metrics expects discrete values but received continuous values for label, and continuous values for target\n",
      "  warnings.warn(msg, UserWarning)\n",
      "C:\\Users\\lukas\\virtualenvs\\eegenv\\lib\\site-packages\\sklearn\\metrics\\cluster\\_supervised.py:58: UserWarning: Clustering metrics expects discrete values but received continuous values for label, and continuous values for target\n",
      "  warnings.warn(msg, UserWarning)\n",
      "C:\\Users\\lukas\\virtualenvs\\eegenv\\lib\\site-packages\\sklearn\\metrics\\cluster\\_supervised.py:58: UserWarning: Clustering metrics expects discrete values but received continuous values for label, and continuous values for target\n",
      "  warnings.warn(msg, UserWarning)\n",
      "C:\\Users\\lukas\\virtualenvs\\eegenv\\lib\\site-packages\\sklearn\\metrics\\cluster\\_supervised.py:58: UserWarning: Clustering metrics expects discrete values but received continuous values for label, and continuous values for target\n",
      "  warnings.warn(msg, UserWarning)\n",
      "C:\\Users\\lukas\\virtualenvs\\eegenv\\lib\\site-packages\\sklearn\\metrics\\cluster\\_supervised.py:58: UserWarning: Clustering metrics expects discrete values but received continuous values for label, and continuous values for target\n",
      "  warnings.warn(msg, UserWarning)\n",
      "C:\\Users\\lukas\\virtualenvs\\eegenv\\lib\\site-packages\\sklearn\\metrics\\cluster\\_supervised.py:58: UserWarning: Clustering metrics expects discrete values but received continuous values for label, and continuous values for target\n",
      "  warnings.warn(msg, UserWarning)\n",
      "C:\\Users\\lukas\\virtualenvs\\eegenv\\lib\\site-packages\\sklearn\\metrics\\cluster\\_supervised.py:58: UserWarning: Clustering metrics expects discrete values but received continuous values for label, and continuous values for target\n",
      "  warnings.warn(msg, UserWarning)\n",
      "C:\\Users\\lukas\\virtualenvs\\eegenv\\lib\\site-packages\\sklearn\\metrics\\cluster\\_supervised.py:58: UserWarning: Clustering metrics expects discrete values but received continuous values for label, and continuous values for target\n",
      "  warnings.warn(msg, UserWarning)\n",
      "C:\\Users\\lukas\\virtualenvs\\eegenv\\lib\\site-packages\\sklearn\\metrics\\cluster\\_supervised.py:58: UserWarning: Clustering metrics expects discrete values but received continuous values for label, and continuous values for target\n",
      "  warnings.warn(msg, UserWarning)\n",
      "C:\\Users\\lukas\\virtualenvs\\eegenv\\lib\\site-packages\\sklearn\\metrics\\cluster\\_supervised.py:58: UserWarning: Clustering metrics expects discrete values but received continuous values for label, and continuous values for target\n",
      "  warnings.warn(msg, UserWarning)\n",
      "C:\\Users\\lukas\\virtualenvs\\eegenv\\lib\\site-packages\\sklearn\\metrics\\cluster\\_supervised.py:58: UserWarning: Clustering metrics expects discrete values but received continuous values for label, and continuous values for target\n",
      "  warnings.warn(msg, UserWarning)\n",
      "C:\\Users\\lukas\\virtualenvs\\eegenv\\lib\\site-packages\\sklearn\\metrics\\cluster\\_supervised.py:58: UserWarning: Clustering metrics expects discrete values but received continuous values for label, and continuous values for target\n",
      "  warnings.warn(msg, UserWarning)\n",
      "C:\\Users\\lukas\\virtualenvs\\eegenv\\lib\\site-packages\\sklearn\\metrics\\cluster\\_supervised.py:58: UserWarning: Clustering metrics expects discrete values but received continuous values for label, and continuous values for target\n",
      "  warnings.warn(msg, UserWarning)\n",
      "C:\\Users\\lukas\\virtualenvs\\eegenv\\lib\\site-packages\\sklearn\\metrics\\cluster\\_supervised.py:58: UserWarning: Clustering metrics expects discrete values but received continuous values for label, and continuous values for target\n",
      "  warnings.warn(msg, UserWarning)\n",
      "C:\\Users\\lukas\\virtualenvs\\eegenv\\lib\\site-packages\\sklearn\\metrics\\cluster\\_supervised.py:58: UserWarning: Clustering metrics expects discrete values but received continuous values for label, and continuous values for target\n",
      "  warnings.warn(msg, UserWarning)\n",
      "C:\\Users\\lukas\\virtualenvs\\eegenv\\lib\\site-packages\\sklearn\\metrics\\cluster\\_supervised.py:58: UserWarning: Clustering metrics expects discrete values but received continuous values for label, and continuous values for target\n",
      "  warnings.warn(msg, UserWarning)\n",
      "C:\\Users\\lukas\\virtualenvs\\eegenv\\lib\\site-packages\\sklearn\\metrics\\cluster\\_supervised.py:58: UserWarning: Clustering metrics expects discrete values but received continuous values for label, and continuous values for target\n",
      "  warnings.warn(msg, UserWarning)\n",
      "C:\\Users\\lukas\\virtualenvs\\eegenv\\lib\\site-packages\\sklearn\\metrics\\cluster\\_supervised.py:58: UserWarning: Clustering metrics expects discrete values but received continuous values for label, and continuous values for target\n",
      "  warnings.warn(msg, UserWarning)\n",
      "C:\\Users\\lukas\\virtualenvs\\eegenv\\lib\\site-packages\\sklearn\\metrics\\cluster\\_supervised.py:58: UserWarning: Clustering metrics expects discrete values but received continuous values for label, and continuous values for target\n",
      "  warnings.warn(msg, UserWarning)\n",
      "C:\\Users\\lukas\\virtualenvs\\eegenv\\lib\\site-packages\\sklearn\\metrics\\cluster\\_supervised.py:58: UserWarning: Clustering metrics expects discrete values but received continuous values for label, and continuous values for target\n",
      "  warnings.warn(msg, UserWarning)\n",
      "C:\\Users\\lukas\\virtualenvs\\eegenv\\lib\\site-packages\\sklearn\\metrics\\cluster\\_supervised.py:58: UserWarning: Clustering metrics expects discrete values but received continuous values for label, and continuous values for target\n",
      "  warnings.warn(msg, UserWarning)\n",
      "C:\\Users\\lukas\\virtualenvs\\eegenv\\lib\\site-packages\\sklearn\\metrics\\cluster\\_supervised.py:58: UserWarning: Clustering metrics expects discrete values but received continuous values for label, and continuous values for target\n",
      "  warnings.warn(msg, UserWarning)\n",
      "C:\\Users\\lukas\\virtualenvs\\eegenv\\lib\\site-packages\\sklearn\\metrics\\cluster\\_supervised.py:58: UserWarning: Clustering metrics expects discrete values but received continuous values for label, and continuous values for target\n",
      "  warnings.warn(msg, UserWarning)\n",
      "C:\\Users\\lukas\\virtualenvs\\eegenv\\lib\\site-packages\\sklearn\\metrics\\cluster\\_supervised.py:58: UserWarning: Clustering metrics expects discrete values but received continuous values for label, and continuous values for target\n",
      "  warnings.warn(msg, UserWarning)\n",
      "C:\\Users\\lukas\\virtualenvs\\eegenv\\lib\\site-packages\\sklearn\\metrics\\cluster\\_supervised.py:58: UserWarning: Clustering metrics expects discrete values but received continuous values for label, and continuous values for target\n",
      "  warnings.warn(msg, UserWarning)\n",
      "C:\\Users\\lukas\\virtualenvs\\eegenv\\lib\\site-packages\\sklearn\\metrics\\cluster\\_supervised.py:58: UserWarning: Clustering metrics expects discrete values but received continuous values for label, and continuous values for target\n",
      "  warnings.warn(msg, UserWarning)\n",
      "C:\\Users\\lukas\\virtualenvs\\eegenv\\lib\\site-packages\\sklearn\\metrics\\cluster\\_supervised.py:58: UserWarning: Clustering metrics expects discrete values but received continuous values for label, and continuous values for target\n",
      "  warnings.warn(msg, UserWarning)\n",
      "C:\\Users\\lukas\\virtualenvs\\eegenv\\lib\\site-packages\\sklearn\\metrics\\cluster\\_supervised.py:58: UserWarning: Clustering metrics expects discrete values but received continuous values for label, and continuous values for target\n",
      "  warnings.warn(msg, UserWarning)\n",
      "C:\\Users\\lukas\\virtualenvs\\eegenv\\lib\\site-packages\\sklearn\\metrics\\cluster\\_supervised.py:58: UserWarning: Clustering metrics expects discrete values but received continuous values for label, and continuous values for target\n",
      "  warnings.warn(msg, UserWarning)\n"
     ]
    },
    {
     "output_type": "stream",
     "name": "stdout",
     "text": [
      "Rest_2\n"
     ]
    },
    {
     "output_type": "stream",
     "name": "stderr",
     "text": [
      "C:\\Users\\lukas\\virtualenvs\\eegenv\\lib\\site-packages\\sklearn\\metrics\\cluster\\_supervised.py:58: UserWarning: Clustering metrics expects discrete values but received continuous values for label, and continuous values for target\n",
      "  warnings.warn(msg, UserWarning)\n",
      "C:\\Users\\lukas\\virtualenvs\\eegenv\\lib\\site-packages\\sklearn\\metrics\\cluster\\_supervised.py:58: UserWarning: Clustering metrics expects discrete values but received continuous values for label, and continuous values for target\n",
      "  warnings.warn(msg, UserWarning)\n",
      "C:\\Users\\lukas\\virtualenvs\\eegenv\\lib\\site-packages\\sklearn\\metrics\\cluster\\_supervised.py:58: UserWarning: Clustering metrics expects discrete values but received continuous values for label, and continuous values for target\n",
      "  warnings.warn(msg, UserWarning)\n",
      "C:\\Users\\lukas\\virtualenvs\\eegenv\\lib\\site-packages\\sklearn\\metrics\\cluster\\_supervised.py:58: UserWarning: Clustering metrics expects discrete values but received continuous values for label, and continuous values for target\n",
      "  warnings.warn(msg, UserWarning)\n",
      "C:\\Users\\lukas\\virtualenvs\\eegenv\\lib\\site-packages\\sklearn\\metrics\\cluster\\_supervised.py:58: UserWarning: Clustering metrics expects discrete values but received continuous values for label, and continuous values for target\n",
      "  warnings.warn(msg, UserWarning)\n",
      "C:\\Users\\lukas\\virtualenvs\\eegenv\\lib\\site-packages\\sklearn\\metrics\\cluster\\_supervised.py:58: UserWarning: Clustering metrics expects discrete values but received continuous values for label, and continuous values for target\n",
      "  warnings.warn(msg, UserWarning)\n",
      "C:\\Users\\lukas\\virtualenvs\\eegenv\\lib\\site-packages\\sklearn\\metrics\\cluster\\_supervised.py:58: UserWarning: Clustering metrics expects discrete values but received continuous values for label, and continuous values for target\n",
      "  warnings.warn(msg, UserWarning)\n",
      "C:\\Users\\lukas\\virtualenvs\\eegenv\\lib\\site-packages\\sklearn\\metrics\\cluster\\_supervised.py:58: UserWarning: Clustering metrics expects discrete values but received continuous values for label, and continuous values for target\n",
      "  warnings.warn(msg, UserWarning)\n",
      "C:\\Users\\lukas\\virtualenvs\\eegenv\\lib\\site-packages\\sklearn\\metrics\\cluster\\_supervised.py:58: UserWarning: Clustering metrics expects discrete values but received continuous values for label, and continuous values for target\n",
      "  warnings.warn(msg, UserWarning)\n",
      "C:\\Users\\lukas\\virtualenvs\\eegenv\\lib\\site-packages\\sklearn\\metrics\\cluster\\_supervised.py:58: UserWarning: Clustering metrics expects discrete values but received continuous values for label, and continuous values for target\n",
      "  warnings.warn(msg, UserWarning)\n",
      "C:\\Users\\lukas\\virtualenvs\\eegenv\\lib\\site-packages\\sklearn\\metrics\\cluster\\_supervised.py:58: UserWarning: Clustering metrics expects discrete values but received continuous values for label, and continuous values for target\n",
      "  warnings.warn(msg, UserWarning)\n",
      "C:\\Users\\lukas\\virtualenvs\\eegenv\\lib\\site-packages\\sklearn\\metrics\\cluster\\_supervised.py:58: UserWarning: Clustering metrics expects discrete values but received continuous values for label, and continuous values for target\n",
      "  warnings.warn(msg, UserWarning)\n",
      "C:\\Users\\lukas\\virtualenvs\\eegenv\\lib\\site-packages\\sklearn\\metrics\\cluster\\_supervised.py:58: UserWarning: Clustering metrics expects discrete values but received continuous values for label, and continuous values for target\n",
      "  warnings.warn(msg, UserWarning)\n",
      "C:\\Users\\lukas\\virtualenvs\\eegenv\\lib\\site-packages\\sklearn\\metrics\\cluster\\_supervised.py:58: UserWarning: Clustering metrics expects discrete values but received continuous values for label, and continuous values for target\n",
      "  warnings.warn(msg, UserWarning)\n",
      "C:\\Users\\lukas\\virtualenvs\\eegenv\\lib\\site-packages\\sklearn\\metrics\\cluster\\_supervised.py:58: UserWarning: Clustering metrics expects discrete values but received continuous values for label, and continuous values for target\n",
      "  warnings.warn(msg, UserWarning)\n",
      "C:\\Users\\lukas\\virtualenvs\\eegenv\\lib\\site-packages\\sklearn\\metrics\\cluster\\_supervised.py:58: UserWarning: Clustering metrics expects discrete values but received continuous values for label, and continuous values for target\n",
      "  warnings.warn(msg, UserWarning)\n",
      "C:\\Users\\lukas\\virtualenvs\\eegenv\\lib\\site-packages\\sklearn\\metrics\\cluster\\_supervised.py:58: UserWarning: Clustering metrics expects discrete values but received continuous values for label, and continuous values for target\n",
      "  warnings.warn(msg, UserWarning)\n",
      "C:\\Users\\lukas\\virtualenvs\\eegenv\\lib\\site-packages\\sklearn\\metrics\\cluster\\_supervised.py:58: UserWarning: Clustering metrics expects discrete values but received continuous values for label, and continuous values for target\n",
      "  warnings.warn(msg, UserWarning)\n",
      "C:\\Users\\lukas\\virtualenvs\\eegenv\\lib\\site-packages\\sklearn\\metrics\\cluster\\_supervised.py:58: UserWarning: Clustering metrics expects discrete values but received continuous values for label, and continuous values for target\n",
      "  warnings.warn(msg, UserWarning)\n",
      "C:\\Users\\lukas\\virtualenvs\\eegenv\\lib\\site-packages\\sklearn\\metrics\\cluster\\_supervised.py:58: UserWarning: Clustering metrics expects discrete values but received continuous values for label, and continuous values for target\n",
      "  warnings.warn(msg, UserWarning)\n",
      "C:\\Users\\lukas\\virtualenvs\\eegenv\\lib\\site-packages\\sklearn\\metrics\\cluster\\_supervised.py:58: UserWarning: Clustering metrics expects discrete values but received continuous values for label, and continuous values for target\n",
      "  warnings.warn(msg, UserWarning)\n",
      "C:\\Users\\lukas\\virtualenvs\\eegenv\\lib\\site-packages\\sklearn\\metrics\\cluster\\_supervised.py:58: UserWarning: Clustering metrics expects discrete values but received continuous values for label, and continuous values for target\n",
      "  warnings.warn(msg, UserWarning)\n",
      "C:\\Users\\lukas\\virtualenvs\\eegenv\\lib\\site-packages\\sklearn\\metrics\\cluster\\_supervised.py:58: UserWarning: Clustering metrics expects discrete values but received continuous values for label, and continuous values for target\n",
      "  warnings.warn(msg, UserWarning)\n",
      "C:\\Users\\lukas\\virtualenvs\\eegenv\\lib\\site-packages\\sklearn\\metrics\\cluster\\_supervised.py:58: UserWarning: Clustering metrics expects discrete values but received continuous values for label, and continuous values for target\n",
      "  warnings.warn(msg, UserWarning)\n",
      "C:\\Users\\lukas\\virtualenvs\\eegenv\\lib\\site-packages\\sklearn\\metrics\\cluster\\_supervised.py:58: UserWarning: Clustering metrics expects discrete values but received continuous values for label, and continuous values for target\n",
      "  warnings.warn(msg, UserWarning)\n",
      "C:\\Users\\lukas\\virtualenvs\\eegenv\\lib\\site-packages\\sklearn\\metrics\\cluster\\_supervised.py:58: UserWarning: Clustering metrics expects discrete values but received continuous values for label, and continuous values for target\n",
      "  warnings.warn(msg, UserWarning)\n",
      "C:\\Users\\lukas\\virtualenvs\\eegenv\\lib\\site-packages\\sklearn\\metrics\\cluster\\_supervised.py:58: UserWarning: Clustering metrics expects discrete values but received continuous values for label, and continuous values for target\n",
      "  warnings.warn(msg, UserWarning)\n",
      "C:\\Users\\lukas\\virtualenvs\\eegenv\\lib\\site-packages\\sklearn\\metrics\\cluster\\_supervised.py:58: UserWarning: Clustering metrics expects discrete values but received continuous values for label, and continuous values for target\n",
      "  warnings.warn(msg, UserWarning)\n",
      "C:\\Users\\lukas\\virtualenvs\\eegenv\\lib\\site-packages\\sklearn\\metrics\\cluster\\_supervised.py:58: UserWarning: Clustering metrics expects discrete values but received continuous values for label, and continuous values for target\n",
      "  warnings.warn(msg, UserWarning)\n",
      "C:\\Users\\lukas\\virtualenvs\\eegenv\\lib\\site-packages\\sklearn\\metrics\\cluster\\_supervised.py:58: UserWarning: Clustering metrics expects discrete values but received continuous values for label, and continuous values for target\n",
      "  warnings.warn(msg, UserWarning)\n",
      "C:\\Users\\lukas\\virtualenvs\\eegenv\\lib\\site-packages\\sklearn\\metrics\\cluster\\_supervised.py:58: UserWarning: Clustering metrics expects discrete values but received continuous values for label, and continuous values for target\n",
      "  warnings.warn(msg, UserWarning)\n",
      "C:\\Users\\lukas\\virtualenvs\\eegenv\\lib\\site-packages\\sklearn\\metrics\\cluster\\_supervised.py:58: UserWarning: Clustering metrics expects discrete values but received continuous values for label, and continuous values for target\n",
      "  warnings.warn(msg, UserWarning)\n",
      "C:\\Users\\lukas\\virtualenvs\\eegenv\\lib\\site-packages\\sklearn\\metrics\\cluster\\_supervised.py:58: UserWarning: Clustering metrics expects discrete values but received continuous values for label, and continuous values for target\n",
      "  warnings.warn(msg, UserWarning)\n",
      "C:\\Users\\lukas\\virtualenvs\\eegenv\\lib\\site-packages\\sklearn\\metrics\\cluster\\_supervised.py:58: UserWarning: Clustering metrics expects discrete values but received continuous values for label, and continuous values for target\n",
      "  warnings.warn(msg, UserWarning)\n",
      "C:\\Users\\lukas\\virtualenvs\\eegenv\\lib\\site-packages\\sklearn\\metrics\\cluster\\_supervised.py:58: UserWarning: Clustering metrics expects discrete values but received continuous values for label, and continuous values for target\n",
      "  warnings.warn(msg, UserWarning)\n",
      "C:\\Users\\lukas\\virtualenvs\\eegenv\\lib\\site-packages\\sklearn\\metrics\\cluster\\_supervised.py:58: UserWarning: Clustering metrics expects discrete values but received continuous values for label, and continuous values for target\n",
      "  warnings.warn(msg, UserWarning)\n",
      "C:\\Users\\lukas\\virtualenvs\\eegenv\\lib\\site-packages\\sklearn\\metrics\\cluster\\_supervised.py:58: UserWarning: Clustering metrics expects discrete values but received continuous values for label, and continuous values for target\n",
      "  warnings.warn(msg, UserWarning)\n",
      "C:\\Users\\lukas\\virtualenvs\\eegenv\\lib\\site-packages\\sklearn\\metrics\\cluster\\_supervised.py:58: UserWarning: Clustering metrics expects discrete values but received continuous values for label, and continuous values for target\n",
      "  warnings.warn(msg, UserWarning)\n",
      "C:\\Users\\lukas\\virtualenvs\\eegenv\\lib\\site-packages\\sklearn\\metrics\\cluster\\_supervised.py:58: UserWarning: Clustering metrics expects discrete values but received continuous values for label, and continuous values for target\n",
      "  warnings.warn(msg, UserWarning)\n",
      "C:\\Users\\lukas\\virtualenvs\\eegenv\\lib\\site-packages\\sklearn\\metrics\\cluster\\_supervised.py:58: UserWarning: Clustering metrics expects discrete values but received continuous values for label, and continuous values for target\n",
      "  warnings.warn(msg, UserWarning)\n",
      "C:\\Users\\lukas\\virtualenvs\\eegenv\\lib\\site-packages\\sklearn\\metrics\\cluster\\_supervised.py:58: UserWarning: Clustering metrics expects discrete values but received continuous values for label, and continuous values for target\n",
      "  warnings.warn(msg, UserWarning)\n",
      "C:\\Users\\lukas\\virtualenvs\\eegenv\\lib\\site-packages\\sklearn\\metrics\\cluster\\_supervised.py:58: UserWarning: Clustering metrics expects discrete values but received continuous values for label, and continuous values for target\n",
      "  warnings.warn(msg, UserWarning)\n",
      "C:\\Users\\lukas\\virtualenvs\\eegenv\\lib\\site-packages\\sklearn\\metrics\\cluster\\_supervised.py:58: UserWarning: Clustering metrics expects discrete values but received continuous values for label, and continuous values for target\n",
      "  warnings.warn(msg, UserWarning)\n",
      "C:\\Users\\lukas\\virtualenvs\\eegenv\\lib\\site-packages\\sklearn\\metrics\\cluster\\_supervised.py:58: UserWarning: Clustering metrics expects discrete values but received continuous values for label, and continuous values for target\n",
      "  warnings.warn(msg, UserWarning)\n",
      "C:\\Users\\lukas\\virtualenvs\\eegenv\\lib\\site-packages\\sklearn\\metrics\\cluster\\_supervised.py:58: UserWarning: Clustering metrics expects discrete values but received continuous values for label, and continuous values for target\n",
      "  warnings.warn(msg, UserWarning)\n",
      "C:\\Users\\lukas\\virtualenvs\\eegenv\\lib\\site-packages\\sklearn\\metrics\\cluster\\_supervised.py:58: UserWarning: Clustering metrics expects discrete values but received continuous values for label, and continuous values for target\n",
      "  warnings.warn(msg, UserWarning)\n",
      "C:\\Users\\lukas\\virtualenvs\\eegenv\\lib\\site-packages\\sklearn\\metrics\\cluster\\_supervised.py:58: UserWarning: Clustering metrics expects discrete values but received continuous values for label, and continuous values for target\n",
      "  warnings.warn(msg, UserWarning)\n",
      "C:\\Users\\lukas\\virtualenvs\\eegenv\\lib\\site-packages\\sklearn\\metrics\\cluster\\_supervised.py:58: UserWarning: Clustering metrics expects discrete values but received continuous values for label, and continuous values for target\n",
      "  warnings.warn(msg, UserWarning)\n",
      "C:\\Users\\lukas\\virtualenvs\\eegenv\\lib\\site-packages\\sklearn\\metrics\\cluster\\_supervised.py:58: UserWarning: Clustering metrics expects discrete values but received continuous values for label, and continuous values for target\n",
      "  warnings.warn(msg, UserWarning)\n"
     ]
    },
    {
     "output_type": "stream",
     "name": "stdout",
     "text": [
      "Expectancy_1\n"
     ]
    },
    {
     "output_type": "stream",
     "name": "stderr",
     "text": [
      "C:\\Users\\lukas\\virtualenvs\\eegenv\\lib\\site-packages\\sklearn\\metrics\\cluster\\_supervised.py:58: UserWarning: Clustering metrics expects discrete values but received continuous values for label, and continuous values for target\n",
      "  warnings.warn(msg, UserWarning)\n",
      "C:\\Users\\lukas\\virtualenvs\\eegenv\\lib\\site-packages\\sklearn\\metrics\\cluster\\_supervised.py:58: UserWarning: Clustering metrics expects discrete values but received continuous values for label, and continuous values for target\n",
      "  warnings.warn(msg, UserWarning)\n",
      "C:\\Users\\lukas\\virtualenvs\\eegenv\\lib\\site-packages\\sklearn\\metrics\\cluster\\_supervised.py:58: UserWarning: Clustering metrics expects discrete values but received continuous values for label, and continuous values for target\n",
      "  warnings.warn(msg, UserWarning)\n",
      "C:\\Users\\lukas\\virtualenvs\\eegenv\\lib\\site-packages\\sklearn\\metrics\\cluster\\_supervised.py:58: UserWarning: Clustering metrics expects discrete values but received continuous values for label, and continuous values for target\n",
      "  warnings.warn(msg, UserWarning)\n",
      "C:\\Users\\lukas\\virtualenvs\\eegenv\\lib\\site-packages\\sklearn\\metrics\\cluster\\_supervised.py:58: UserWarning: Clustering metrics expects discrete values but received continuous values for label, and continuous values for target\n",
      "  warnings.warn(msg, UserWarning)\n",
      "C:\\Users\\lukas\\virtualenvs\\eegenv\\lib\\site-packages\\sklearn\\metrics\\cluster\\_supervised.py:58: UserWarning: Clustering metrics expects discrete values but received continuous values for label, and continuous values for target\n",
      "  warnings.warn(msg, UserWarning)\n",
      "C:\\Users\\lukas\\virtualenvs\\eegenv\\lib\\site-packages\\sklearn\\metrics\\cluster\\_supervised.py:58: UserWarning: Clustering metrics expects discrete values but received continuous values for label, and continuous values for target\n",
      "  warnings.warn(msg, UserWarning)\n",
      "C:\\Users\\lukas\\virtualenvs\\eegenv\\lib\\site-packages\\sklearn\\metrics\\cluster\\_supervised.py:58: UserWarning: Clustering metrics expects discrete values but received continuous values for label, and continuous values for target\n",
      "  warnings.warn(msg, UserWarning)\n",
      "C:\\Users\\lukas\\virtualenvs\\eegenv\\lib\\site-packages\\sklearn\\metrics\\cluster\\_supervised.py:58: UserWarning: Clustering metrics expects discrete values but received continuous values for label, and continuous values for target\n",
      "  warnings.warn(msg, UserWarning)\n",
      "C:\\Users\\lukas\\virtualenvs\\eegenv\\lib\\site-packages\\sklearn\\metrics\\cluster\\_supervised.py:58: UserWarning: Clustering metrics expects discrete values but received continuous values for label, and continuous values for target\n",
      "  warnings.warn(msg, UserWarning)\n",
      "C:\\Users\\lukas\\virtualenvs\\eegenv\\lib\\site-packages\\sklearn\\metrics\\cluster\\_supervised.py:58: UserWarning: Clustering metrics expects discrete values but received continuous values for label, and continuous values for target\n",
      "  warnings.warn(msg, UserWarning)\n",
      "C:\\Users\\lukas\\virtualenvs\\eegenv\\lib\\site-packages\\sklearn\\metrics\\cluster\\_supervised.py:58: UserWarning: Clustering metrics expects discrete values but received continuous values for label, and continuous values for target\n",
      "  warnings.warn(msg, UserWarning)\n",
      "C:\\Users\\lukas\\virtualenvs\\eegenv\\lib\\site-packages\\sklearn\\metrics\\cluster\\_supervised.py:58: UserWarning: Clustering metrics expects discrete values but received continuous values for label, and continuous values for target\n",
      "  warnings.warn(msg, UserWarning)\n",
      "C:\\Users\\lukas\\virtualenvs\\eegenv\\lib\\site-packages\\sklearn\\metrics\\cluster\\_supervised.py:58: UserWarning: Clustering metrics expects discrete values but received continuous values for label, and continuous values for target\n",
      "  warnings.warn(msg, UserWarning)\n",
      "C:\\Users\\lukas\\virtualenvs\\eegenv\\lib\\site-packages\\sklearn\\metrics\\cluster\\_supervised.py:58: UserWarning: Clustering metrics expects discrete values but received continuous values for label, and continuous values for target\n",
      "  warnings.warn(msg, UserWarning)\n",
      "C:\\Users\\lukas\\virtualenvs\\eegenv\\lib\\site-packages\\sklearn\\metrics\\cluster\\_supervised.py:58: UserWarning: Clustering metrics expects discrete values but received continuous values for label, and continuous values for target\n",
      "  warnings.warn(msg, UserWarning)\n",
      "C:\\Users\\lukas\\virtualenvs\\eegenv\\lib\\site-packages\\sklearn\\metrics\\cluster\\_supervised.py:58: UserWarning: Clustering metrics expects discrete values but received continuous values for label, and continuous values for target\n",
      "  warnings.warn(msg, UserWarning)\n",
      "C:\\Users\\lukas\\virtualenvs\\eegenv\\lib\\site-packages\\sklearn\\metrics\\cluster\\_supervised.py:58: UserWarning: Clustering metrics expects discrete values but received continuous values for label, and continuous values for target\n",
      "  warnings.warn(msg, UserWarning)\n",
      "C:\\Users\\lukas\\virtualenvs\\eegenv\\lib\\site-packages\\sklearn\\metrics\\cluster\\_supervised.py:58: UserWarning: Clustering metrics expects discrete values but received continuous values for label, and continuous values for target\n",
      "  warnings.warn(msg, UserWarning)\n",
      "C:\\Users\\lukas\\virtualenvs\\eegenv\\lib\\site-packages\\sklearn\\metrics\\cluster\\_supervised.py:58: UserWarning: Clustering metrics expects discrete values but received continuous values for label, and continuous values for target\n",
      "  warnings.warn(msg, UserWarning)\n",
      "C:\\Users\\lukas\\virtualenvs\\eegenv\\lib\\site-packages\\sklearn\\metrics\\cluster\\_supervised.py:58: UserWarning: Clustering metrics expects discrete values but received continuous values for label, and continuous values for target\n",
      "  warnings.warn(msg, UserWarning)\n",
      "C:\\Users\\lukas\\virtualenvs\\eegenv\\lib\\site-packages\\sklearn\\metrics\\cluster\\_supervised.py:58: UserWarning: Clustering metrics expects discrete values but received continuous values for label, and continuous values for target\n",
      "  warnings.warn(msg, UserWarning)\n",
      "C:\\Users\\lukas\\virtualenvs\\eegenv\\lib\\site-packages\\sklearn\\metrics\\cluster\\_supervised.py:58: UserWarning: Clustering metrics expects discrete values but received continuous values for label, and continuous values for target\n",
      "  warnings.warn(msg, UserWarning)\n",
      "C:\\Users\\lukas\\virtualenvs\\eegenv\\lib\\site-packages\\sklearn\\metrics\\cluster\\_supervised.py:58: UserWarning: Clustering metrics expects discrete values but received continuous values for label, and continuous values for target\n",
      "  warnings.warn(msg, UserWarning)\n",
      "C:\\Users\\lukas\\virtualenvs\\eegenv\\lib\\site-packages\\sklearn\\metrics\\cluster\\_supervised.py:58: UserWarning: Clustering metrics expects discrete values but received continuous values for label, and continuous values for target\n",
      "  warnings.warn(msg, UserWarning)\n",
      "C:\\Users\\lukas\\virtualenvs\\eegenv\\lib\\site-packages\\sklearn\\metrics\\cluster\\_supervised.py:58: UserWarning: Clustering metrics expects discrete values but received continuous values for label, and continuous values for target\n",
      "  warnings.warn(msg, UserWarning)\n",
      "C:\\Users\\lukas\\virtualenvs\\eegenv\\lib\\site-packages\\sklearn\\metrics\\cluster\\_supervised.py:58: UserWarning: Clustering metrics expects discrete values but received continuous values for label, and continuous values for target\n",
      "  warnings.warn(msg, UserWarning)\n",
      "C:\\Users\\lukas\\virtualenvs\\eegenv\\lib\\site-packages\\sklearn\\metrics\\cluster\\_supervised.py:58: UserWarning: Clustering metrics expects discrete values but received continuous values for label, and continuous values for target\n",
      "  warnings.warn(msg, UserWarning)\n",
      "C:\\Users\\lukas\\virtualenvs\\eegenv\\lib\\site-packages\\sklearn\\metrics\\cluster\\_supervised.py:58: UserWarning: Clustering metrics expects discrete values but received continuous values for label, and continuous values for target\n",
      "  warnings.warn(msg, UserWarning)\n",
      "C:\\Users\\lukas\\virtualenvs\\eegenv\\lib\\site-packages\\sklearn\\metrics\\cluster\\_supervised.py:58: UserWarning: Clustering metrics expects discrete values but received continuous values for label, and continuous values for target\n",
      "  warnings.warn(msg, UserWarning)\n",
      "C:\\Users\\lukas\\virtualenvs\\eegenv\\lib\\site-packages\\sklearn\\metrics\\cluster\\_supervised.py:58: UserWarning: Clustering metrics expects discrete values but received continuous values for label, and continuous values for target\n",
      "  warnings.warn(msg, UserWarning)\n",
      "C:\\Users\\lukas\\virtualenvs\\eegenv\\lib\\site-packages\\sklearn\\metrics\\cluster\\_supervised.py:58: UserWarning: Clustering metrics expects discrete values but received continuous values for label, and continuous values for target\n",
      "  warnings.warn(msg, UserWarning)\n",
      "C:\\Users\\lukas\\virtualenvs\\eegenv\\lib\\site-packages\\sklearn\\metrics\\cluster\\_supervised.py:58: UserWarning: Clustering metrics expects discrete values but received continuous values for label, and continuous values for target\n",
      "  warnings.warn(msg, UserWarning)\n",
      "C:\\Users\\lukas\\virtualenvs\\eegenv\\lib\\site-packages\\sklearn\\metrics\\cluster\\_supervised.py:58: UserWarning: Clustering metrics expects discrete values but received continuous values for label, and continuous values for target\n",
      "  warnings.warn(msg, UserWarning)\n",
      "C:\\Users\\lukas\\virtualenvs\\eegenv\\lib\\site-packages\\sklearn\\metrics\\cluster\\_supervised.py:58: UserWarning: Clustering metrics expects discrete values but received continuous values for label, and continuous values for target\n",
      "  warnings.warn(msg, UserWarning)\n",
      "C:\\Users\\lukas\\virtualenvs\\eegenv\\lib\\site-packages\\sklearn\\metrics\\cluster\\_supervised.py:58: UserWarning: Clustering metrics expects discrete values but received continuous values for label, and continuous values for target\n",
      "  warnings.warn(msg, UserWarning)\n",
      "C:\\Users\\lukas\\virtualenvs\\eegenv\\lib\\site-packages\\sklearn\\metrics\\cluster\\_supervised.py:58: UserWarning: Clustering metrics expects discrete values but received continuous values for label, and continuous values for target\n",
      "  warnings.warn(msg, UserWarning)\n",
      "C:\\Users\\lukas\\virtualenvs\\eegenv\\lib\\site-packages\\sklearn\\metrics\\cluster\\_supervised.py:58: UserWarning: Clustering metrics expects discrete values but received continuous values for label, and continuous values for target\n",
      "  warnings.warn(msg, UserWarning)\n",
      "C:\\Users\\lukas\\virtualenvs\\eegenv\\lib\\site-packages\\sklearn\\metrics\\cluster\\_supervised.py:58: UserWarning: Clustering metrics expects discrete values but received continuous values for label, and continuous values for target\n",
      "  warnings.warn(msg, UserWarning)\n",
      "C:\\Users\\lukas\\virtualenvs\\eegenv\\lib\\site-packages\\sklearn\\metrics\\cluster\\_supervised.py:58: UserWarning: Clustering metrics expects discrete values but received continuous values for label, and continuous values for target\n",
      "  warnings.warn(msg, UserWarning)\n",
      "C:\\Users\\lukas\\virtualenvs\\eegenv\\lib\\site-packages\\sklearn\\metrics\\cluster\\_supervised.py:58: UserWarning: Clustering metrics expects discrete values but received continuous values for label, and continuous values for target\n",
      "  warnings.warn(msg, UserWarning)\n",
      "C:\\Users\\lukas\\virtualenvs\\eegenv\\lib\\site-packages\\sklearn\\metrics\\cluster\\_supervised.py:58: UserWarning: Clustering metrics expects discrete values but received continuous values for label, and continuous values for target\n",
      "  warnings.warn(msg, UserWarning)\n",
      "C:\\Users\\lukas\\virtualenvs\\eegenv\\lib\\site-packages\\sklearn\\metrics\\cluster\\_supervised.py:58: UserWarning: Clustering metrics expects discrete values but received continuous values for label, and continuous values for target\n",
      "  warnings.warn(msg, UserWarning)\n",
      "C:\\Users\\lukas\\virtualenvs\\eegenv\\lib\\site-packages\\sklearn\\metrics\\cluster\\_supervised.py:58: UserWarning: Clustering metrics expects discrete values but received continuous values for label, and continuous values for target\n",
      "  warnings.warn(msg, UserWarning)\n",
      "C:\\Users\\lukas\\virtualenvs\\eegenv\\lib\\site-packages\\sklearn\\metrics\\cluster\\_supervised.py:58: UserWarning: Clustering metrics expects discrete values but received continuous values for label, and continuous values for target\n",
      "  warnings.warn(msg, UserWarning)\n",
      "C:\\Users\\lukas\\virtualenvs\\eegenv\\lib\\site-packages\\sklearn\\metrics\\cluster\\_supervised.py:58: UserWarning: Clustering metrics expects discrete values but received continuous values for label, and continuous values for target\n",
      "  warnings.warn(msg, UserWarning)\n",
      "C:\\Users\\lukas\\virtualenvs\\eegenv\\lib\\site-packages\\sklearn\\metrics\\cluster\\_supervised.py:58: UserWarning: Clustering metrics expects discrete values but received continuous values for label, and continuous values for target\n",
      "  warnings.warn(msg, UserWarning)\n",
      "C:\\Users\\lukas\\virtualenvs\\eegenv\\lib\\site-packages\\sklearn\\metrics\\cluster\\_supervised.py:58: UserWarning: Clustering metrics expects discrete values but received continuous values for label, and continuous values for target\n",
      "  warnings.warn(msg, UserWarning)\n",
      "C:\\Users\\lukas\\virtualenvs\\eegenv\\lib\\site-packages\\sklearn\\metrics\\cluster\\_supervised.py:58: UserWarning: Clustering metrics expects discrete values but received continuous values for label, and continuous values for target\n",
      "  warnings.warn(msg, UserWarning)\n"
     ]
    },
    {
     "output_type": "stream",
     "name": "stdout",
     "text": [
      "Relaxation_1\n"
     ]
    },
    {
     "output_type": "stream",
     "name": "stderr",
     "text": [
      "C:\\Users\\lukas\\virtualenvs\\eegenv\\lib\\site-packages\\sklearn\\metrics\\cluster\\_supervised.py:58: UserWarning: Clustering metrics expects discrete values but received continuous values for label, and continuous values for target\n",
      "  warnings.warn(msg, UserWarning)\n",
      "C:\\Users\\lukas\\virtualenvs\\eegenv\\lib\\site-packages\\sklearn\\metrics\\cluster\\_supervised.py:58: UserWarning: Clustering metrics expects discrete values but received continuous values for label, and continuous values for target\n",
      "  warnings.warn(msg, UserWarning)\n",
      "C:\\Users\\lukas\\virtualenvs\\eegenv\\lib\\site-packages\\sklearn\\metrics\\cluster\\_supervised.py:58: UserWarning: Clustering metrics expects discrete values but received continuous values for label, and continuous values for target\n",
      "  warnings.warn(msg, UserWarning)\n",
      "C:\\Users\\lukas\\virtualenvs\\eegenv\\lib\\site-packages\\sklearn\\metrics\\cluster\\_supervised.py:58: UserWarning: Clustering metrics expects discrete values but received continuous values for label, and continuous values for target\n",
      "  warnings.warn(msg, UserWarning)\n",
      "C:\\Users\\lukas\\virtualenvs\\eegenv\\lib\\site-packages\\sklearn\\metrics\\cluster\\_supervised.py:58: UserWarning: Clustering metrics expects discrete values but received continuous values for label, and continuous values for target\n",
      "  warnings.warn(msg, UserWarning)\n",
      "C:\\Users\\lukas\\virtualenvs\\eegenv\\lib\\site-packages\\sklearn\\metrics\\cluster\\_supervised.py:58: UserWarning: Clustering metrics expects discrete values but received continuous values for label, and continuous values for target\n",
      "  warnings.warn(msg, UserWarning)\n",
      "C:\\Users\\lukas\\virtualenvs\\eegenv\\lib\\site-packages\\sklearn\\metrics\\cluster\\_supervised.py:58: UserWarning: Clustering metrics expects discrete values but received continuous values for label, and continuous values for target\n",
      "  warnings.warn(msg, UserWarning)\n",
      "C:\\Users\\lukas\\virtualenvs\\eegenv\\lib\\site-packages\\sklearn\\metrics\\cluster\\_supervised.py:58: UserWarning: Clustering metrics expects discrete values but received continuous values for label, and continuous values for target\n",
      "  warnings.warn(msg, UserWarning)\n",
      "C:\\Users\\lukas\\virtualenvs\\eegenv\\lib\\site-packages\\sklearn\\metrics\\cluster\\_supervised.py:58: UserWarning: Clustering metrics expects discrete values but received continuous values for label, and continuous values for target\n",
      "  warnings.warn(msg, UserWarning)\n",
      "C:\\Users\\lukas\\virtualenvs\\eegenv\\lib\\site-packages\\sklearn\\metrics\\cluster\\_supervised.py:58: UserWarning: Clustering metrics expects discrete values but received continuous values for label, and continuous values for target\n",
      "  warnings.warn(msg, UserWarning)\n",
      "C:\\Users\\lukas\\virtualenvs\\eegenv\\lib\\site-packages\\sklearn\\metrics\\cluster\\_supervised.py:58: UserWarning: Clustering metrics expects discrete values but received continuous values for label, and continuous values for target\n",
      "  warnings.warn(msg, UserWarning)\n",
      "C:\\Users\\lukas\\virtualenvs\\eegenv\\lib\\site-packages\\sklearn\\metrics\\cluster\\_supervised.py:58: UserWarning: Clustering metrics expects discrete values but received continuous values for label, and continuous values for target\n",
      "  warnings.warn(msg, UserWarning)\n",
      "C:\\Users\\lukas\\virtualenvs\\eegenv\\lib\\site-packages\\sklearn\\metrics\\cluster\\_supervised.py:58: UserWarning: Clustering metrics expects discrete values but received continuous values for label, and continuous values for target\n",
      "  warnings.warn(msg, UserWarning)\n",
      "C:\\Users\\lukas\\virtualenvs\\eegenv\\lib\\site-packages\\sklearn\\metrics\\cluster\\_supervised.py:58: UserWarning: Clustering metrics expects discrete values but received continuous values for label, and continuous values for target\n",
      "  warnings.warn(msg, UserWarning)\n",
      "C:\\Users\\lukas\\virtualenvs\\eegenv\\lib\\site-packages\\sklearn\\metrics\\cluster\\_supervised.py:58: UserWarning: Clustering metrics expects discrete values but received continuous values for label, and continuous values for target\n",
      "  warnings.warn(msg, UserWarning)\n",
      "C:\\Users\\lukas\\virtualenvs\\eegenv\\lib\\site-packages\\sklearn\\metrics\\cluster\\_supervised.py:58: UserWarning: Clustering metrics expects discrete values but received continuous values for label, and continuous values for target\n",
      "  warnings.warn(msg, UserWarning)\n",
      "C:\\Users\\lukas\\virtualenvs\\eegenv\\lib\\site-packages\\sklearn\\metrics\\cluster\\_supervised.py:58: UserWarning: Clustering metrics expects discrete values but received continuous values for label, and continuous values for target\n",
      "  warnings.warn(msg, UserWarning)\n",
      "C:\\Users\\lukas\\virtualenvs\\eegenv\\lib\\site-packages\\sklearn\\metrics\\cluster\\_supervised.py:58: UserWarning: Clustering metrics expects discrete values but received continuous values for label, and continuous values for target\n",
      "  warnings.warn(msg, UserWarning)\n",
      "C:\\Users\\lukas\\virtualenvs\\eegenv\\lib\\site-packages\\sklearn\\metrics\\cluster\\_supervised.py:58: UserWarning: Clustering metrics expects discrete values but received continuous values for label, and continuous values for target\n",
      "  warnings.warn(msg, UserWarning)\n",
      "C:\\Users\\lukas\\virtualenvs\\eegenv\\lib\\site-packages\\sklearn\\metrics\\cluster\\_supervised.py:58: UserWarning: Clustering metrics expects discrete values but received continuous values for label, and continuous values for target\n",
      "  warnings.warn(msg, UserWarning)\n",
      "C:\\Users\\lukas\\virtualenvs\\eegenv\\lib\\site-packages\\sklearn\\metrics\\cluster\\_supervised.py:58: UserWarning: Clustering metrics expects discrete values but received continuous values for label, and continuous values for target\n",
      "  warnings.warn(msg, UserWarning)\n",
      "C:\\Users\\lukas\\virtualenvs\\eegenv\\lib\\site-packages\\sklearn\\metrics\\cluster\\_supervised.py:58: UserWarning: Clustering metrics expects discrete values but received continuous values for label, and continuous values for target\n",
      "  warnings.warn(msg, UserWarning)\n",
      "C:\\Users\\lukas\\virtualenvs\\eegenv\\lib\\site-packages\\sklearn\\metrics\\cluster\\_supervised.py:58: UserWarning: Clustering metrics expects discrete values but received continuous values for label, and continuous values for target\n",
      "  warnings.warn(msg, UserWarning)\n",
      "C:\\Users\\lukas\\virtualenvs\\eegenv\\lib\\site-packages\\sklearn\\metrics\\cluster\\_supervised.py:58: UserWarning: Clustering metrics expects discrete values but received continuous values for label, and continuous values for target\n",
      "  warnings.warn(msg, UserWarning)\n",
      "C:\\Users\\lukas\\virtualenvs\\eegenv\\lib\\site-packages\\sklearn\\metrics\\cluster\\_supervised.py:58: UserWarning: Clustering metrics expects discrete values but received continuous values for label, and continuous values for target\n",
      "  warnings.warn(msg, UserWarning)\n",
      "C:\\Users\\lukas\\virtualenvs\\eegenv\\lib\\site-packages\\sklearn\\metrics\\cluster\\_supervised.py:58: UserWarning: Clustering metrics expects discrete values but received continuous values for label, and continuous values for target\n",
      "  warnings.warn(msg, UserWarning)\n",
      "C:\\Users\\lukas\\virtualenvs\\eegenv\\lib\\site-packages\\sklearn\\metrics\\cluster\\_supervised.py:58: UserWarning: Clustering metrics expects discrete values but received continuous values for label, and continuous values for target\n",
      "  warnings.warn(msg, UserWarning)\n",
      "C:\\Users\\lukas\\virtualenvs\\eegenv\\lib\\site-packages\\sklearn\\metrics\\cluster\\_supervised.py:58: UserWarning: Clustering metrics expects discrete values but received continuous values for label, and continuous values for target\n",
      "  warnings.warn(msg, UserWarning)\n",
      "C:\\Users\\lukas\\virtualenvs\\eegenv\\lib\\site-packages\\sklearn\\metrics\\cluster\\_supervised.py:58: UserWarning: Clustering metrics expects discrete values but received continuous values for label, and continuous values for target\n",
      "  warnings.warn(msg, UserWarning)\n",
      "C:\\Users\\lukas\\virtualenvs\\eegenv\\lib\\site-packages\\sklearn\\metrics\\cluster\\_supervised.py:58: UserWarning: Clustering metrics expects discrete values but received continuous values for label, and continuous values for target\n",
      "  warnings.warn(msg, UserWarning)\n",
      "C:\\Users\\lukas\\virtualenvs\\eegenv\\lib\\site-packages\\sklearn\\metrics\\cluster\\_supervised.py:58: UserWarning: Clustering metrics expects discrete values but received continuous values for label, and continuous values for target\n",
      "  warnings.warn(msg, UserWarning)\n",
      "C:\\Users\\lukas\\virtualenvs\\eegenv\\lib\\site-packages\\sklearn\\metrics\\cluster\\_supervised.py:58: UserWarning: Clustering metrics expects discrete values but received continuous values for label, and continuous values for target\n",
      "  warnings.warn(msg, UserWarning)\n",
      "C:\\Users\\lukas\\virtualenvs\\eegenv\\lib\\site-packages\\sklearn\\metrics\\cluster\\_supervised.py:58: UserWarning: Clustering metrics expects discrete values but received continuous values for label, and continuous values for target\n",
      "  warnings.warn(msg, UserWarning)\n",
      "C:\\Users\\lukas\\virtualenvs\\eegenv\\lib\\site-packages\\sklearn\\metrics\\cluster\\_supervised.py:58: UserWarning: Clustering metrics expects discrete values but received continuous values for label, and continuous values for target\n",
      "  warnings.warn(msg, UserWarning)\n",
      "C:\\Users\\lukas\\virtualenvs\\eegenv\\lib\\site-packages\\sklearn\\metrics\\cluster\\_supervised.py:58: UserWarning: Clustering metrics expects discrete values but received continuous values for label, and continuous values for target\n",
      "  warnings.warn(msg, UserWarning)\n",
      "C:\\Users\\lukas\\virtualenvs\\eegenv\\lib\\site-packages\\sklearn\\metrics\\cluster\\_supervised.py:58: UserWarning: Clustering metrics expects discrete values but received continuous values for label, and continuous values for target\n",
      "  warnings.warn(msg, UserWarning)\n",
      "C:\\Users\\lukas\\virtualenvs\\eegenv\\lib\\site-packages\\sklearn\\metrics\\cluster\\_supervised.py:58: UserWarning: Clustering metrics expects discrete values but received continuous values for label, and continuous values for target\n",
      "  warnings.warn(msg, UserWarning)\n",
      "C:\\Users\\lukas\\virtualenvs\\eegenv\\lib\\site-packages\\sklearn\\metrics\\cluster\\_supervised.py:58: UserWarning: Clustering metrics expects discrete values but received continuous values for label, and continuous values for target\n",
      "  warnings.warn(msg, UserWarning)\n",
      "C:\\Users\\lukas\\virtualenvs\\eegenv\\lib\\site-packages\\sklearn\\metrics\\cluster\\_supervised.py:58: UserWarning: Clustering metrics expects discrete values but received continuous values for label, and continuous values for target\n",
      "  warnings.warn(msg, UserWarning)\n",
      "C:\\Users\\lukas\\virtualenvs\\eegenv\\lib\\site-packages\\sklearn\\metrics\\cluster\\_supervised.py:58: UserWarning: Clustering metrics expects discrete values but received continuous values for label, and continuous values for target\n",
      "  warnings.warn(msg, UserWarning)\n",
      "C:\\Users\\lukas\\virtualenvs\\eegenv\\lib\\site-packages\\sklearn\\metrics\\cluster\\_supervised.py:58: UserWarning: Clustering metrics expects discrete values but received continuous values for label, and continuous values for target\n",
      "  warnings.warn(msg, UserWarning)\n",
      "C:\\Users\\lukas\\virtualenvs\\eegenv\\lib\\site-packages\\sklearn\\metrics\\cluster\\_supervised.py:58: UserWarning: Clustering metrics expects discrete values but received continuous values for label, and continuous values for target\n",
      "  warnings.warn(msg, UserWarning)\n",
      "C:\\Users\\lukas\\virtualenvs\\eegenv\\lib\\site-packages\\sklearn\\metrics\\cluster\\_supervised.py:58: UserWarning: Clustering metrics expects discrete values but received continuous values for label, and continuous values for target\n",
      "  warnings.warn(msg, UserWarning)\n",
      "C:\\Users\\lukas\\virtualenvs\\eegenv\\lib\\site-packages\\sklearn\\metrics\\cluster\\_supervised.py:58: UserWarning: Clustering metrics expects discrete values but received continuous values for label, and continuous values for target\n",
      "  warnings.warn(msg, UserWarning)\n",
      "C:\\Users\\lukas\\virtualenvs\\eegenv\\lib\\site-packages\\sklearn\\metrics\\cluster\\_supervised.py:58: UserWarning: Clustering metrics expects discrete values but received continuous values for label, and continuous values for target\n",
      "  warnings.warn(msg, UserWarning)\n",
      "C:\\Users\\lukas\\virtualenvs\\eegenv\\lib\\site-packages\\sklearn\\metrics\\cluster\\_supervised.py:58: UserWarning: Clustering metrics expects discrete values but received continuous values for label, and continuous values for target\n",
      "  warnings.warn(msg, UserWarning)\n",
      "C:\\Users\\lukas\\virtualenvs\\eegenv\\lib\\site-packages\\sklearn\\metrics\\cluster\\_supervised.py:58: UserWarning: Clustering metrics expects discrete values but received continuous values for label, and continuous values for target\n",
      "  warnings.warn(msg, UserWarning)\n",
      "C:\\Users\\lukas\\virtualenvs\\eegenv\\lib\\site-packages\\sklearn\\metrics\\cluster\\_supervised.py:58: UserWarning: Clustering metrics expects discrete values but received continuous values for label, and continuous values for target\n",
      "  warnings.warn(msg, UserWarning)\n",
      "C:\\Users\\lukas\\virtualenvs\\eegenv\\lib\\site-packages\\sklearn\\metrics\\cluster\\_supervised.py:58: UserWarning: Clustering metrics expects discrete values but received continuous values for label, and continuous values for target\n",
      "  warnings.warn(msg, UserWarning)\n"
     ]
    },
    {
     "output_type": "stream",
     "name": "stdout",
     "text": [
      "Relaxation_2\n"
     ]
    },
    {
     "output_type": "stream",
     "name": "stderr",
     "text": [
      "C:\\Users\\lukas\\virtualenvs\\eegenv\\lib\\site-packages\\sklearn\\metrics\\cluster\\_supervised.py:58: UserWarning: Clustering metrics expects discrete values but received continuous values for label, and continuous values for target\n",
      "  warnings.warn(msg, UserWarning)\n",
      "C:\\Users\\lukas\\virtualenvs\\eegenv\\lib\\site-packages\\sklearn\\metrics\\cluster\\_supervised.py:58: UserWarning: Clustering metrics expects discrete values but received continuous values for label, and continuous values for target\n",
      "  warnings.warn(msg, UserWarning)\n",
      "C:\\Users\\lukas\\virtualenvs\\eegenv\\lib\\site-packages\\sklearn\\metrics\\cluster\\_supervised.py:58: UserWarning: Clustering metrics expects discrete values but received continuous values for label, and continuous values for target\n",
      "  warnings.warn(msg, UserWarning)\n",
      "C:\\Users\\lukas\\virtualenvs\\eegenv\\lib\\site-packages\\sklearn\\metrics\\cluster\\_supervised.py:58: UserWarning: Clustering metrics expects discrete values but received continuous values for label, and continuous values for target\n",
      "  warnings.warn(msg, UserWarning)\n",
      "C:\\Users\\lukas\\virtualenvs\\eegenv\\lib\\site-packages\\sklearn\\metrics\\cluster\\_supervised.py:58: UserWarning: Clustering metrics expects discrete values but received continuous values for label, and continuous values for target\n",
      "  warnings.warn(msg, UserWarning)\n",
      "C:\\Users\\lukas\\virtualenvs\\eegenv\\lib\\site-packages\\sklearn\\metrics\\cluster\\_supervised.py:58: UserWarning: Clustering metrics expects discrete values but received continuous values for label, and continuous values for target\n",
      "  warnings.warn(msg, UserWarning)\n",
      "C:\\Users\\lukas\\virtualenvs\\eegenv\\lib\\site-packages\\sklearn\\metrics\\cluster\\_supervised.py:58: UserWarning: Clustering metrics expects discrete values but received continuous values for label, and continuous values for target\n",
      "  warnings.warn(msg, UserWarning)\n",
      "C:\\Users\\lukas\\virtualenvs\\eegenv\\lib\\site-packages\\sklearn\\metrics\\cluster\\_supervised.py:58: UserWarning: Clustering metrics expects discrete values but received continuous values for label, and continuous values for target\n",
      "  warnings.warn(msg, UserWarning)\n",
      "C:\\Users\\lukas\\virtualenvs\\eegenv\\lib\\site-packages\\sklearn\\metrics\\cluster\\_supervised.py:58: UserWarning: Clustering metrics expects discrete values but received continuous values for label, and continuous values for target\n",
      "  warnings.warn(msg, UserWarning)\n",
      "C:\\Users\\lukas\\virtualenvs\\eegenv\\lib\\site-packages\\sklearn\\metrics\\cluster\\_supervised.py:58: UserWarning: Clustering metrics expects discrete values but received continuous values for label, and continuous values for target\n",
      "  warnings.warn(msg, UserWarning)\n",
      "C:\\Users\\lukas\\virtualenvs\\eegenv\\lib\\site-packages\\sklearn\\metrics\\cluster\\_supervised.py:58: UserWarning: Clustering metrics expects discrete values but received continuous values for label, and continuous values for target\n",
      "  warnings.warn(msg, UserWarning)\n",
      "C:\\Users\\lukas\\virtualenvs\\eegenv\\lib\\site-packages\\sklearn\\metrics\\cluster\\_supervised.py:58: UserWarning: Clustering metrics expects discrete values but received continuous values for label, and continuous values for target\n",
      "  warnings.warn(msg, UserWarning)\n",
      "C:\\Users\\lukas\\virtualenvs\\eegenv\\lib\\site-packages\\sklearn\\metrics\\cluster\\_supervised.py:58: UserWarning: Clustering metrics expects discrete values but received continuous values for label, and continuous values for target\n",
      "  warnings.warn(msg, UserWarning)\n",
      "C:\\Users\\lukas\\virtualenvs\\eegenv\\lib\\site-packages\\sklearn\\metrics\\cluster\\_supervised.py:58: UserWarning: Clustering metrics expects discrete values but received continuous values for label, and continuous values for target\n",
      "  warnings.warn(msg, UserWarning)\n",
      "C:\\Users\\lukas\\virtualenvs\\eegenv\\lib\\site-packages\\sklearn\\metrics\\cluster\\_supervised.py:58: UserWarning: Clustering metrics expects discrete values but received continuous values for label, and continuous values for target\n",
      "  warnings.warn(msg, UserWarning)\n",
      "C:\\Users\\lukas\\virtualenvs\\eegenv\\lib\\site-packages\\sklearn\\metrics\\cluster\\_supervised.py:58: UserWarning: Clustering metrics expects discrete values but received continuous values for label, and continuous values for target\n",
      "  warnings.warn(msg, UserWarning)\n",
      "C:\\Users\\lukas\\virtualenvs\\eegenv\\lib\\site-packages\\sklearn\\metrics\\cluster\\_supervised.py:58: UserWarning: Clustering metrics expects discrete values but received continuous values for label, and continuous values for target\n",
      "  warnings.warn(msg, UserWarning)\n",
      "C:\\Users\\lukas\\virtualenvs\\eegenv\\lib\\site-packages\\sklearn\\metrics\\cluster\\_supervised.py:58: UserWarning: Clustering metrics expects discrete values but received continuous values for label, and continuous values for target\n",
      "  warnings.warn(msg, UserWarning)\n",
      "C:\\Users\\lukas\\virtualenvs\\eegenv\\lib\\site-packages\\sklearn\\metrics\\cluster\\_supervised.py:58: UserWarning: Clustering metrics expects discrete values but received continuous values for label, and continuous values for target\n",
      "  warnings.warn(msg, UserWarning)\n",
      "C:\\Users\\lukas\\virtualenvs\\eegenv\\lib\\site-packages\\sklearn\\metrics\\cluster\\_supervised.py:58: UserWarning: Clustering metrics expects discrete values but received continuous values for label, and continuous values for target\n",
      "  warnings.warn(msg, UserWarning)\n",
      "C:\\Users\\lukas\\virtualenvs\\eegenv\\lib\\site-packages\\sklearn\\metrics\\cluster\\_supervised.py:58: UserWarning: Clustering metrics expects discrete values but received continuous values for label, and continuous values for target\n",
      "  warnings.warn(msg, UserWarning)\n",
      "C:\\Users\\lukas\\virtualenvs\\eegenv\\lib\\site-packages\\sklearn\\metrics\\cluster\\_supervised.py:58: UserWarning: Clustering metrics expects discrete values but received continuous values for label, and continuous values for target\n",
      "  warnings.warn(msg, UserWarning)\n",
      "C:\\Users\\lukas\\virtualenvs\\eegenv\\lib\\site-packages\\sklearn\\metrics\\cluster\\_supervised.py:58: UserWarning: Clustering metrics expects discrete values but received continuous values for label, and continuous values for target\n",
      "  warnings.warn(msg, UserWarning)\n",
      "C:\\Users\\lukas\\virtualenvs\\eegenv\\lib\\site-packages\\sklearn\\metrics\\cluster\\_supervised.py:58: UserWarning: Clustering metrics expects discrete values but received continuous values for label, and continuous values for target\n",
      "  warnings.warn(msg, UserWarning)\n",
      "C:\\Users\\lukas\\virtualenvs\\eegenv\\lib\\site-packages\\sklearn\\metrics\\cluster\\_supervised.py:58: UserWarning: Clustering metrics expects discrete values but received continuous values for label, and continuous values for target\n",
      "  warnings.warn(msg, UserWarning)\n",
      "C:\\Users\\lukas\\virtualenvs\\eegenv\\lib\\site-packages\\sklearn\\metrics\\cluster\\_supervised.py:58: UserWarning: Clustering metrics expects discrete values but received continuous values for label, and continuous values for target\n",
      "  warnings.warn(msg, UserWarning)\n",
      "C:\\Users\\lukas\\virtualenvs\\eegenv\\lib\\site-packages\\sklearn\\metrics\\cluster\\_supervised.py:58: UserWarning: Clustering metrics expects discrete values but received continuous values for label, and continuous values for target\n",
      "  warnings.warn(msg, UserWarning)\n",
      "C:\\Users\\lukas\\virtualenvs\\eegenv\\lib\\site-packages\\sklearn\\metrics\\cluster\\_supervised.py:58: UserWarning: Clustering metrics expects discrete values but received continuous values for label, and continuous values for target\n",
      "  warnings.warn(msg, UserWarning)\n",
      "C:\\Users\\lukas\\virtualenvs\\eegenv\\lib\\site-packages\\sklearn\\metrics\\cluster\\_supervised.py:58: UserWarning: Clustering metrics expects discrete values but received continuous values for label, and continuous values for target\n",
      "  warnings.warn(msg, UserWarning)\n",
      "C:\\Users\\lukas\\virtualenvs\\eegenv\\lib\\site-packages\\sklearn\\metrics\\cluster\\_supervised.py:58: UserWarning: Clustering metrics expects discrete values but received continuous values for label, and continuous values for target\n",
      "  warnings.warn(msg, UserWarning)\n",
      "C:\\Users\\lukas\\virtualenvs\\eegenv\\lib\\site-packages\\sklearn\\metrics\\cluster\\_supervised.py:58: UserWarning: Clustering metrics expects discrete values but received continuous values for label, and continuous values for target\n",
      "  warnings.warn(msg, UserWarning)\n",
      "C:\\Users\\lukas\\virtualenvs\\eegenv\\lib\\site-packages\\sklearn\\metrics\\cluster\\_supervised.py:58: UserWarning: Clustering metrics expects discrete values but received continuous values for label, and continuous values for target\n",
      "  warnings.warn(msg, UserWarning)\n",
      "C:\\Users\\lukas\\virtualenvs\\eegenv\\lib\\site-packages\\sklearn\\metrics\\cluster\\_supervised.py:58: UserWarning: Clustering metrics expects discrete values but received continuous values for label, and continuous values for target\n",
      "  warnings.warn(msg, UserWarning)\n",
      "C:\\Users\\lukas\\virtualenvs\\eegenv\\lib\\site-packages\\sklearn\\metrics\\cluster\\_supervised.py:58: UserWarning: Clustering metrics expects discrete values but received continuous values for label, and continuous values for target\n",
      "  warnings.warn(msg, UserWarning)\n",
      "C:\\Users\\lukas\\virtualenvs\\eegenv\\lib\\site-packages\\sklearn\\metrics\\cluster\\_supervised.py:58: UserWarning: Clustering metrics expects discrete values but received continuous values for label, and continuous values for target\n",
      "  warnings.warn(msg, UserWarning)\n",
      "C:\\Users\\lukas\\virtualenvs\\eegenv\\lib\\site-packages\\sklearn\\metrics\\cluster\\_supervised.py:58: UserWarning: Clustering metrics expects discrete values but received continuous values for label, and continuous values for target\n",
      "  warnings.warn(msg, UserWarning)\n",
      "C:\\Users\\lukas\\virtualenvs\\eegenv\\lib\\site-packages\\sklearn\\metrics\\cluster\\_supervised.py:58: UserWarning: Clustering metrics expects discrete values but received continuous values for label, and continuous values for target\n",
      "  warnings.warn(msg, UserWarning)\n",
      "C:\\Users\\lukas\\virtualenvs\\eegenv\\lib\\site-packages\\sklearn\\metrics\\cluster\\_supervised.py:58: UserWarning: Clustering metrics expects discrete values but received continuous values for label, and continuous values for target\n",
      "  warnings.warn(msg, UserWarning)\n",
      "C:\\Users\\lukas\\virtualenvs\\eegenv\\lib\\site-packages\\sklearn\\metrics\\cluster\\_supervised.py:58: UserWarning: Clustering metrics expects discrete values but received continuous values for label, and continuous values for target\n",
      "  warnings.warn(msg, UserWarning)\n",
      "C:\\Users\\lukas\\virtualenvs\\eegenv\\lib\\site-packages\\sklearn\\metrics\\cluster\\_supervised.py:58: UserWarning: Clustering metrics expects discrete values but received continuous values for label, and continuous values for target\n",
      "  warnings.warn(msg, UserWarning)\n",
      "C:\\Users\\lukas\\virtualenvs\\eegenv\\lib\\site-packages\\sklearn\\metrics\\cluster\\_supervised.py:58: UserWarning: Clustering metrics expects discrete values but received continuous values for label, and continuous values for target\n",
      "  warnings.warn(msg, UserWarning)\n",
      "C:\\Users\\lukas\\virtualenvs\\eegenv\\lib\\site-packages\\sklearn\\metrics\\cluster\\_supervised.py:58: UserWarning: Clustering metrics expects discrete values but received continuous values for label, and continuous values for target\n",
      "  warnings.warn(msg, UserWarning)\n",
      "C:\\Users\\lukas\\virtualenvs\\eegenv\\lib\\site-packages\\sklearn\\metrics\\cluster\\_supervised.py:58: UserWarning: Clustering metrics expects discrete values but received continuous values for label, and continuous values for target\n",
      "  warnings.warn(msg, UserWarning)\n",
      "C:\\Users\\lukas\\virtualenvs\\eegenv\\lib\\site-packages\\sklearn\\metrics\\cluster\\_supervised.py:58: UserWarning: Clustering metrics expects discrete values but received continuous values for label, and continuous values for target\n",
      "  warnings.warn(msg, UserWarning)\n",
      "C:\\Users\\lukas\\virtualenvs\\eegenv\\lib\\site-packages\\sklearn\\metrics\\cluster\\_supervised.py:58: UserWarning: Clustering metrics expects discrete values but received continuous values for label, and continuous values for target\n",
      "  warnings.warn(msg, UserWarning)\n",
      "C:\\Users\\lukas\\virtualenvs\\eegenv\\lib\\site-packages\\sklearn\\metrics\\cluster\\_supervised.py:58: UserWarning: Clustering metrics expects discrete values but received continuous values for label, and continuous values for target\n",
      "  warnings.warn(msg, UserWarning)\n",
      "C:\\Users\\lukas\\virtualenvs\\eegenv\\lib\\site-packages\\sklearn\\metrics\\cluster\\_supervised.py:58: UserWarning: Clustering metrics expects discrete values but received continuous values for label, and continuous values for target\n",
      "  warnings.warn(msg, UserWarning)\n",
      "C:\\Users\\lukas\\virtualenvs\\eegenv\\lib\\site-packages\\sklearn\\metrics\\cluster\\_supervised.py:58: UserWarning: Clustering metrics expects discrete values but received continuous values for label, and continuous values for target\n",
      "  warnings.warn(msg, UserWarning)\n",
      "C:\\Users\\lukas\\virtualenvs\\eegenv\\lib\\site-packages\\sklearn\\metrics\\cluster\\_supervised.py:58: UserWarning: Clustering metrics expects discrete values but received continuous values for label, and continuous values for target\n",
      "  warnings.warn(msg, UserWarning)\n"
     ]
    },
    {
     "output_type": "stream",
     "name": "stdout",
     "text": [
      "Volition_1\n"
     ]
    },
    {
     "output_type": "stream",
     "name": "stderr",
     "text": [
      "C:\\Users\\lukas\\virtualenvs\\eegenv\\lib\\site-packages\\sklearn\\metrics\\cluster\\_supervised.py:58: UserWarning: Clustering metrics expects discrete values but received continuous values for label, and continuous values for target\n",
      "  warnings.warn(msg, UserWarning)\n",
      "C:\\Users\\lukas\\virtualenvs\\eegenv\\lib\\site-packages\\sklearn\\metrics\\cluster\\_supervised.py:58: UserWarning: Clustering metrics expects discrete values but received continuous values for label, and continuous values for target\n",
      "  warnings.warn(msg, UserWarning)\n",
      "C:\\Users\\lukas\\virtualenvs\\eegenv\\lib\\site-packages\\sklearn\\metrics\\cluster\\_supervised.py:58: UserWarning: Clustering metrics expects discrete values but received continuous values for label, and continuous values for target\n",
      "  warnings.warn(msg, UserWarning)\n",
      "C:\\Users\\lukas\\virtualenvs\\eegenv\\lib\\site-packages\\sklearn\\metrics\\cluster\\_supervised.py:58: UserWarning: Clustering metrics expects discrete values but received continuous values for label, and continuous values for target\n",
      "  warnings.warn(msg, UserWarning)\n",
      "C:\\Users\\lukas\\virtualenvs\\eegenv\\lib\\site-packages\\sklearn\\metrics\\cluster\\_supervised.py:58: UserWarning: Clustering metrics expects discrete values but received continuous values for label, and continuous values for target\n",
      "  warnings.warn(msg, UserWarning)\n",
      "C:\\Users\\lukas\\virtualenvs\\eegenv\\lib\\site-packages\\sklearn\\metrics\\cluster\\_supervised.py:58: UserWarning: Clustering metrics expects discrete values but received continuous values for label, and continuous values for target\n",
      "  warnings.warn(msg, UserWarning)\n",
      "C:\\Users\\lukas\\virtualenvs\\eegenv\\lib\\site-packages\\sklearn\\metrics\\cluster\\_supervised.py:58: UserWarning: Clustering metrics expects discrete values but received continuous values for label, and continuous values for target\n",
      "  warnings.warn(msg, UserWarning)\n",
      "C:\\Users\\lukas\\virtualenvs\\eegenv\\lib\\site-packages\\sklearn\\metrics\\cluster\\_supervised.py:58: UserWarning: Clustering metrics expects discrete values but received continuous values for label, and continuous values for target\n",
      "  warnings.warn(msg, UserWarning)\n",
      "C:\\Users\\lukas\\virtualenvs\\eegenv\\lib\\site-packages\\sklearn\\metrics\\cluster\\_supervised.py:58: UserWarning: Clustering metrics expects discrete values but received continuous values for label, and continuous values for target\n",
      "  warnings.warn(msg, UserWarning)\n",
      "C:\\Users\\lukas\\virtualenvs\\eegenv\\lib\\site-packages\\sklearn\\metrics\\cluster\\_supervised.py:58: UserWarning: Clustering metrics expects discrete values but received continuous values for label, and continuous values for target\n",
      "  warnings.warn(msg, UserWarning)\n",
      "C:\\Users\\lukas\\virtualenvs\\eegenv\\lib\\site-packages\\sklearn\\metrics\\cluster\\_supervised.py:58: UserWarning: Clustering metrics expects discrete values but received continuous values for label, and continuous values for target\n",
      "  warnings.warn(msg, UserWarning)\n",
      "C:\\Users\\lukas\\virtualenvs\\eegenv\\lib\\site-packages\\sklearn\\metrics\\cluster\\_supervised.py:58: UserWarning: Clustering metrics expects discrete values but received continuous values for label, and continuous values for target\n",
      "  warnings.warn(msg, UserWarning)\n",
      "C:\\Users\\lukas\\virtualenvs\\eegenv\\lib\\site-packages\\sklearn\\metrics\\cluster\\_supervised.py:58: UserWarning: Clustering metrics expects discrete values but received continuous values for label, and continuous values for target\n",
      "  warnings.warn(msg, UserWarning)\n",
      "C:\\Users\\lukas\\virtualenvs\\eegenv\\lib\\site-packages\\sklearn\\metrics\\cluster\\_supervised.py:58: UserWarning: Clustering metrics expects discrete values but received continuous values for label, and continuous values for target\n",
      "  warnings.warn(msg, UserWarning)\n",
      "C:\\Users\\lukas\\virtualenvs\\eegenv\\lib\\site-packages\\sklearn\\metrics\\cluster\\_supervised.py:58: UserWarning: Clustering metrics expects discrete values but received continuous values for label, and continuous values for target\n",
      "  warnings.warn(msg, UserWarning)\n",
      "C:\\Users\\lukas\\virtualenvs\\eegenv\\lib\\site-packages\\sklearn\\metrics\\cluster\\_supervised.py:58: UserWarning: Clustering metrics expects discrete values but received continuous values for label, and continuous values for target\n",
      "  warnings.warn(msg, UserWarning)\n",
      "C:\\Users\\lukas\\virtualenvs\\eegenv\\lib\\site-packages\\sklearn\\metrics\\cluster\\_supervised.py:58: UserWarning: Clustering metrics expects discrete values but received continuous values for label, and continuous values for target\n",
      "  warnings.warn(msg, UserWarning)\n",
      "C:\\Users\\lukas\\virtualenvs\\eegenv\\lib\\site-packages\\sklearn\\metrics\\cluster\\_supervised.py:58: UserWarning: Clustering metrics expects discrete values but received continuous values for label, and continuous values for target\n",
      "  warnings.warn(msg, UserWarning)\n",
      "C:\\Users\\lukas\\virtualenvs\\eegenv\\lib\\site-packages\\sklearn\\metrics\\cluster\\_supervised.py:58: UserWarning: Clustering metrics expects discrete values but received continuous values for label, and continuous values for target\n",
      "  warnings.warn(msg, UserWarning)\n",
      "C:\\Users\\lukas\\virtualenvs\\eegenv\\lib\\site-packages\\sklearn\\metrics\\cluster\\_supervised.py:58: UserWarning: Clustering metrics expects discrete values but received continuous values for label, and continuous values for target\n",
      "  warnings.warn(msg, UserWarning)\n",
      "C:\\Users\\lukas\\virtualenvs\\eegenv\\lib\\site-packages\\sklearn\\metrics\\cluster\\_supervised.py:58: UserWarning: Clustering metrics expects discrete values but received continuous values for label, and continuous values for target\n",
      "  warnings.warn(msg, UserWarning)\n",
      "C:\\Users\\lukas\\virtualenvs\\eegenv\\lib\\site-packages\\sklearn\\metrics\\cluster\\_supervised.py:58: UserWarning: Clustering metrics expects discrete values but received continuous values for label, and continuous values for target\n",
      "  warnings.warn(msg, UserWarning)\n",
      "C:\\Users\\lukas\\virtualenvs\\eegenv\\lib\\site-packages\\sklearn\\metrics\\cluster\\_supervised.py:58: UserWarning: Clustering metrics expects discrete values but received continuous values for label, and continuous values for target\n",
      "  warnings.warn(msg, UserWarning)\n",
      "C:\\Users\\lukas\\virtualenvs\\eegenv\\lib\\site-packages\\sklearn\\metrics\\cluster\\_supervised.py:58: UserWarning: Clustering metrics expects discrete values but received continuous values for label, and continuous values for target\n",
      "  warnings.warn(msg, UserWarning)\n",
      "C:\\Users\\lukas\\virtualenvs\\eegenv\\lib\\site-packages\\sklearn\\metrics\\cluster\\_supervised.py:58: UserWarning: Clustering metrics expects discrete values but received continuous values for label, and continuous values for target\n",
      "  warnings.warn(msg, UserWarning)\n",
      "C:\\Users\\lukas\\virtualenvs\\eegenv\\lib\\site-packages\\sklearn\\metrics\\cluster\\_supervised.py:58: UserWarning: Clustering metrics expects discrete values but received continuous values for label, and continuous values for target\n",
      "  warnings.warn(msg, UserWarning)\n",
      "C:\\Users\\lukas\\virtualenvs\\eegenv\\lib\\site-packages\\sklearn\\metrics\\cluster\\_supervised.py:58: UserWarning: Clustering metrics expects discrete values but received continuous values for label, and continuous values for target\n",
      "  warnings.warn(msg, UserWarning)\n",
      "C:\\Users\\lukas\\virtualenvs\\eegenv\\lib\\site-packages\\sklearn\\metrics\\cluster\\_supervised.py:58: UserWarning: Clustering metrics expects discrete values but received continuous values for label, and continuous values for target\n",
      "  warnings.warn(msg, UserWarning)\n",
      "C:\\Users\\lukas\\virtualenvs\\eegenv\\lib\\site-packages\\sklearn\\metrics\\cluster\\_supervised.py:58: UserWarning: Clustering metrics expects discrete values but received continuous values for label, and continuous values for target\n",
      "  warnings.warn(msg, UserWarning)\n",
      "C:\\Users\\lukas\\virtualenvs\\eegenv\\lib\\site-packages\\sklearn\\metrics\\cluster\\_supervised.py:58: UserWarning: Clustering metrics expects discrete values but received continuous values for label, and continuous values for target\n",
      "  warnings.warn(msg, UserWarning)\n",
      "C:\\Users\\lukas\\virtualenvs\\eegenv\\lib\\site-packages\\sklearn\\metrics\\cluster\\_supervised.py:58: UserWarning: Clustering metrics expects discrete values but received continuous values for label, and continuous values for target\n",
      "  warnings.warn(msg, UserWarning)\n",
      "C:\\Users\\lukas\\virtualenvs\\eegenv\\lib\\site-packages\\sklearn\\metrics\\cluster\\_supervised.py:58: UserWarning: Clustering metrics expects discrete values but received continuous values for label, and continuous values for target\n",
      "  warnings.warn(msg, UserWarning)\n",
      "C:\\Users\\lukas\\virtualenvs\\eegenv\\lib\\site-packages\\sklearn\\metrics\\cluster\\_supervised.py:58: UserWarning: Clustering metrics expects discrete values but received continuous values for label, and continuous values for target\n",
      "  warnings.warn(msg, UserWarning)\n",
      "C:\\Users\\lukas\\virtualenvs\\eegenv\\lib\\site-packages\\sklearn\\metrics\\cluster\\_supervised.py:58: UserWarning: Clustering metrics expects discrete values but received continuous values for label, and continuous values for target\n",
      "  warnings.warn(msg, UserWarning)\n",
      "C:\\Users\\lukas\\virtualenvs\\eegenv\\lib\\site-packages\\sklearn\\metrics\\cluster\\_supervised.py:58: UserWarning: Clustering metrics expects discrete values but received continuous values for label, and continuous values for target\n",
      "  warnings.warn(msg, UserWarning)\n",
      "C:\\Users\\lukas\\virtualenvs\\eegenv\\lib\\site-packages\\sklearn\\metrics\\cluster\\_supervised.py:58: UserWarning: Clustering metrics expects discrete values but received continuous values for label, and continuous values for target\n",
      "  warnings.warn(msg, UserWarning)\n",
      "C:\\Users\\lukas\\virtualenvs\\eegenv\\lib\\site-packages\\sklearn\\metrics\\cluster\\_supervised.py:58: UserWarning: Clustering metrics expects discrete values but received continuous values for label, and continuous values for target\n",
      "  warnings.warn(msg, UserWarning)\n",
      "C:\\Users\\lukas\\virtualenvs\\eegenv\\lib\\site-packages\\sklearn\\metrics\\cluster\\_supervised.py:58: UserWarning: Clustering metrics expects discrete values but received continuous values for label, and continuous values for target\n",
      "  warnings.warn(msg, UserWarning)\n",
      "C:\\Users\\lukas\\virtualenvs\\eegenv\\lib\\site-packages\\sklearn\\metrics\\cluster\\_supervised.py:58: UserWarning: Clustering metrics expects discrete values but received continuous values for label, and continuous values for target\n",
      "  warnings.warn(msg, UserWarning)\n",
      "C:\\Users\\lukas\\virtualenvs\\eegenv\\lib\\site-packages\\sklearn\\metrics\\cluster\\_supervised.py:58: UserWarning: Clustering metrics expects discrete values but received continuous values for label, and continuous values for target\n",
      "  warnings.warn(msg, UserWarning)\n",
      "C:\\Users\\lukas\\virtualenvs\\eegenv\\lib\\site-packages\\sklearn\\metrics\\cluster\\_supervised.py:58: UserWarning: Clustering metrics expects discrete values but received continuous values for label, and continuous values for target\n",
      "  warnings.warn(msg, UserWarning)\n",
      "C:\\Users\\lukas\\virtualenvs\\eegenv\\lib\\site-packages\\sklearn\\metrics\\cluster\\_supervised.py:58: UserWarning: Clustering metrics expects discrete values but received continuous values for label, and continuous values for target\n",
      "  warnings.warn(msg, UserWarning)\n",
      "C:\\Users\\lukas\\virtualenvs\\eegenv\\lib\\site-packages\\sklearn\\metrics\\cluster\\_supervised.py:58: UserWarning: Clustering metrics expects discrete values but received continuous values for label, and continuous values for target\n",
      "  warnings.warn(msg, UserWarning)\n",
      "C:\\Users\\lukas\\virtualenvs\\eegenv\\lib\\site-packages\\sklearn\\metrics\\cluster\\_supervised.py:58: UserWarning: Clustering metrics expects discrete values but received continuous values for label, and continuous values for target\n",
      "  warnings.warn(msg, UserWarning)\n",
      "C:\\Users\\lukas\\virtualenvs\\eegenv\\lib\\site-packages\\sklearn\\metrics\\cluster\\_supervised.py:58: UserWarning: Clustering metrics expects discrete values but received continuous values for label, and continuous values for target\n",
      "  warnings.warn(msg, UserWarning)\n",
      "C:\\Users\\lukas\\virtualenvs\\eegenv\\lib\\site-packages\\sklearn\\metrics\\cluster\\_supervised.py:58: UserWarning: Clustering metrics expects discrete values but received continuous values for label, and continuous values for target\n",
      "  warnings.warn(msg, UserWarning)\n",
      "C:\\Users\\lukas\\virtualenvs\\eegenv\\lib\\site-packages\\sklearn\\metrics\\cluster\\_supervised.py:58: UserWarning: Clustering metrics expects discrete values but received continuous values for label, and continuous values for target\n",
      "  warnings.warn(msg, UserWarning)\n",
      "C:\\Users\\lukas\\virtualenvs\\eegenv\\lib\\site-packages\\sklearn\\metrics\\cluster\\_supervised.py:58: UserWarning: Clustering metrics expects discrete values but received continuous values for label, and continuous values for target\n",
      "  warnings.warn(msg, UserWarning)\n",
      "C:\\Users\\lukas\\virtualenvs\\eegenv\\lib\\site-packages\\sklearn\\metrics\\cluster\\_supervised.py:58: UserWarning: Clustering metrics expects discrete values but received continuous values for label, and continuous values for target\n",
      "  warnings.warn(msg, UserWarning)\n"
     ]
    },
    {
     "output_type": "stream",
     "name": "stdout",
     "text": [
      "Volition_2\n"
     ]
    },
    {
     "output_type": "stream",
     "name": "stderr",
     "text": [
      "C:\\Users\\lukas\\virtualenvs\\eegenv\\lib\\site-packages\\sklearn\\metrics\\cluster\\_supervised.py:58: UserWarning: Clustering metrics expects discrete values but received continuous values for label, and continuous values for target\n",
      "  warnings.warn(msg, UserWarning)\n",
      "C:\\Users\\lukas\\virtualenvs\\eegenv\\lib\\site-packages\\sklearn\\metrics\\cluster\\_supervised.py:58: UserWarning: Clustering metrics expects discrete values but received continuous values for label, and continuous values for target\n",
      "  warnings.warn(msg, UserWarning)\n",
      "C:\\Users\\lukas\\virtualenvs\\eegenv\\lib\\site-packages\\sklearn\\metrics\\cluster\\_supervised.py:58: UserWarning: Clustering metrics expects discrete values but received continuous values for label, and continuous values for target\n",
      "  warnings.warn(msg, UserWarning)\n",
      "C:\\Users\\lukas\\virtualenvs\\eegenv\\lib\\site-packages\\sklearn\\metrics\\cluster\\_supervised.py:58: UserWarning: Clustering metrics expects discrete values but received continuous values for label, and continuous values for target\n",
      "  warnings.warn(msg, UserWarning)\n",
      "C:\\Users\\lukas\\virtualenvs\\eegenv\\lib\\site-packages\\sklearn\\metrics\\cluster\\_supervised.py:58: UserWarning: Clustering metrics expects discrete values but received continuous values for label, and continuous values for target\n",
      "  warnings.warn(msg, UserWarning)\n",
      "C:\\Users\\lukas\\virtualenvs\\eegenv\\lib\\site-packages\\sklearn\\metrics\\cluster\\_supervised.py:58: UserWarning: Clustering metrics expects discrete values but received continuous values for label, and continuous values for target\n",
      "  warnings.warn(msg, UserWarning)\n",
      "C:\\Users\\lukas\\virtualenvs\\eegenv\\lib\\site-packages\\sklearn\\metrics\\cluster\\_supervised.py:58: UserWarning: Clustering metrics expects discrete values but received continuous values for label, and continuous values for target\n",
      "  warnings.warn(msg, UserWarning)\n",
      "C:\\Users\\lukas\\virtualenvs\\eegenv\\lib\\site-packages\\sklearn\\metrics\\cluster\\_supervised.py:58: UserWarning: Clustering metrics expects discrete values but received continuous values for label, and continuous values for target\n",
      "  warnings.warn(msg, UserWarning)\n",
      "C:\\Users\\lukas\\virtualenvs\\eegenv\\lib\\site-packages\\sklearn\\metrics\\cluster\\_supervised.py:58: UserWarning: Clustering metrics expects discrete values but received continuous values for label, and continuous values for target\n",
      "  warnings.warn(msg, UserWarning)\n",
      "C:\\Users\\lukas\\virtualenvs\\eegenv\\lib\\site-packages\\sklearn\\metrics\\cluster\\_supervised.py:58: UserWarning: Clustering metrics expects discrete values but received continuous values for label, and continuous values for target\n",
      "  warnings.warn(msg, UserWarning)\n",
      "C:\\Users\\lukas\\virtualenvs\\eegenv\\lib\\site-packages\\sklearn\\metrics\\cluster\\_supervised.py:58: UserWarning: Clustering metrics expects discrete values but received continuous values for label, and continuous values for target\n",
      "  warnings.warn(msg, UserWarning)\n",
      "C:\\Users\\lukas\\virtualenvs\\eegenv\\lib\\site-packages\\sklearn\\metrics\\cluster\\_supervised.py:58: UserWarning: Clustering metrics expects discrete values but received continuous values for label, and continuous values for target\n",
      "  warnings.warn(msg, UserWarning)\n",
      "C:\\Users\\lukas\\virtualenvs\\eegenv\\lib\\site-packages\\sklearn\\metrics\\cluster\\_supervised.py:58: UserWarning: Clustering metrics expects discrete values but received continuous values for label, and continuous values for target\n",
      "  warnings.warn(msg, UserWarning)\n",
      "C:\\Users\\lukas\\virtualenvs\\eegenv\\lib\\site-packages\\sklearn\\metrics\\cluster\\_supervised.py:58: UserWarning: Clustering metrics expects discrete values but received continuous values for label, and continuous values for target\n",
      "  warnings.warn(msg, UserWarning)\n",
      "C:\\Users\\lukas\\virtualenvs\\eegenv\\lib\\site-packages\\sklearn\\metrics\\cluster\\_supervised.py:58: UserWarning: Clustering metrics expects discrete values but received continuous values for label, and continuous values for target\n",
      "  warnings.warn(msg, UserWarning)\n",
      "C:\\Users\\lukas\\virtualenvs\\eegenv\\lib\\site-packages\\sklearn\\metrics\\cluster\\_supervised.py:58: UserWarning: Clustering metrics expects discrete values but received continuous values for label, and continuous values for target\n",
      "  warnings.warn(msg, UserWarning)\n",
      "C:\\Users\\lukas\\virtualenvs\\eegenv\\lib\\site-packages\\sklearn\\metrics\\cluster\\_supervised.py:58: UserWarning: Clustering metrics expects discrete values but received continuous values for label, and continuous values for target\n",
      "  warnings.warn(msg, UserWarning)\n",
      "C:\\Users\\lukas\\virtualenvs\\eegenv\\lib\\site-packages\\sklearn\\metrics\\cluster\\_supervised.py:58: UserWarning: Clustering metrics expects discrete values but received continuous values for label, and continuous values for target\n",
      "  warnings.warn(msg, UserWarning)\n",
      "C:\\Users\\lukas\\virtualenvs\\eegenv\\lib\\site-packages\\sklearn\\metrics\\cluster\\_supervised.py:58: UserWarning: Clustering metrics expects discrete values but received continuous values for label, and continuous values for target\n",
      "  warnings.warn(msg, UserWarning)\n",
      "C:\\Users\\lukas\\virtualenvs\\eegenv\\lib\\site-packages\\sklearn\\metrics\\cluster\\_supervised.py:58: UserWarning: Clustering metrics expects discrete values but received continuous values for label, and continuous values for target\n",
      "  warnings.warn(msg, UserWarning)\n",
      "C:\\Users\\lukas\\virtualenvs\\eegenv\\lib\\site-packages\\sklearn\\metrics\\cluster\\_supervised.py:58: UserWarning: Clustering metrics expects discrete values but received continuous values for label, and continuous values for target\n",
      "  warnings.warn(msg, UserWarning)\n",
      "C:\\Users\\lukas\\virtualenvs\\eegenv\\lib\\site-packages\\sklearn\\metrics\\cluster\\_supervised.py:58: UserWarning: Clustering metrics expects discrete values but received continuous values for label, and continuous values for target\n",
      "  warnings.warn(msg, UserWarning)\n",
      "C:\\Users\\lukas\\virtualenvs\\eegenv\\lib\\site-packages\\sklearn\\metrics\\cluster\\_supervised.py:58: UserWarning: Clustering metrics expects discrete values but received continuous values for label, and continuous values for target\n",
      "  warnings.warn(msg, UserWarning)\n",
      "C:\\Users\\lukas\\virtualenvs\\eegenv\\lib\\site-packages\\sklearn\\metrics\\cluster\\_supervised.py:58: UserWarning: Clustering metrics expects discrete values but received continuous values for label, and continuous values for target\n",
      "  warnings.warn(msg, UserWarning)\n",
      "C:\\Users\\lukas\\virtualenvs\\eegenv\\lib\\site-packages\\sklearn\\metrics\\cluster\\_supervised.py:58: UserWarning: Clustering metrics expects discrete values but received continuous values for label, and continuous values for target\n",
      "  warnings.warn(msg, UserWarning)\n",
      "C:\\Users\\lukas\\virtualenvs\\eegenv\\lib\\site-packages\\sklearn\\metrics\\cluster\\_supervised.py:58: UserWarning: Clustering metrics expects discrete values but received continuous values for label, and continuous values for target\n",
      "  warnings.warn(msg, UserWarning)\n",
      "C:\\Users\\lukas\\virtualenvs\\eegenv\\lib\\site-packages\\sklearn\\metrics\\cluster\\_supervised.py:58: UserWarning: Clustering metrics expects discrete values but received continuous values for label, and continuous values for target\n",
      "  warnings.warn(msg, UserWarning)\n",
      "C:\\Users\\lukas\\virtualenvs\\eegenv\\lib\\site-packages\\sklearn\\metrics\\cluster\\_supervised.py:58: UserWarning: Clustering metrics expects discrete values but received continuous values for label, and continuous values for target\n",
      "  warnings.warn(msg, UserWarning)\n",
      "C:\\Users\\lukas\\virtualenvs\\eegenv\\lib\\site-packages\\sklearn\\metrics\\cluster\\_supervised.py:58: UserWarning: Clustering metrics expects discrete values but received continuous values for label, and continuous values for target\n",
      "  warnings.warn(msg, UserWarning)\n",
      "C:\\Users\\lukas\\virtualenvs\\eegenv\\lib\\site-packages\\sklearn\\metrics\\cluster\\_supervised.py:58: UserWarning: Clustering metrics expects discrete values but received continuous values for label, and continuous values for target\n",
      "  warnings.warn(msg, UserWarning)\n",
      "C:\\Users\\lukas\\virtualenvs\\eegenv\\lib\\site-packages\\sklearn\\metrics\\cluster\\_supervised.py:58: UserWarning: Clustering metrics expects discrete values but received continuous values for label, and continuous values for target\n",
      "  warnings.warn(msg, UserWarning)\n",
      "C:\\Users\\lukas\\virtualenvs\\eegenv\\lib\\site-packages\\sklearn\\metrics\\cluster\\_supervised.py:58: UserWarning: Clustering metrics expects discrete values but received continuous values for label, and continuous values for target\n",
      "  warnings.warn(msg, UserWarning)\n",
      "C:\\Users\\lukas\\virtualenvs\\eegenv\\lib\\site-packages\\sklearn\\metrics\\cluster\\_supervised.py:58: UserWarning: Clustering metrics expects discrete values but received continuous values for label, and continuous values for target\n",
      "  warnings.warn(msg, UserWarning)\n",
      "C:\\Users\\lukas\\virtualenvs\\eegenv\\lib\\site-packages\\sklearn\\metrics\\cluster\\_supervised.py:58: UserWarning: Clustering metrics expects discrete values but received continuous values for label, and continuous values for target\n",
      "  warnings.warn(msg, UserWarning)\n",
      "C:\\Users\\lukas\\virtualenvs\\eegenv\\lib\\site-packages\\sklearn\\metrics\\cluster\\_supervised.py:58: UserWarning: Clustering metrics expects discrete values but received continuous values for label, and continuous values for target\n",
      "  warnings.warn(msg, UserWarning)\n",
      "C:\\Users\\lukas\\virtualenvs\\eegenv\\lib\\site-packages\\sklearn\\metrics\\cluster\\_supervised.py:58: UserWarning: Clustering metrics expects discrete values but received continuous values for label, and continuous values for target\n",
      "  warnings.warn(msg, UserWarning)\n",
      "C:\\Users\\lukas\\virtualenvs\\eegenv\\lib\\site-packages\\sklearn\\metrics\\cluster\\_supervised.py:58: UserWarning: Clustering metrics expects discrete values but received continuous values for label, and continuous values for target\n",
      "  warnings.warn(msg, UserWarning)\n",
      "C:\\Users\\lukas\\virtualenvs\\eegenv\\lib\\site-packages\\sklearn\\metrics\\cluster\\_supervised.py:58: UserWarning: Clustering metrics expects discrete values but received continuous values for label, and continuous values for target\n",
      "  warnings.warn(msg, UserWarning)\n",
      "C:\\Users\\lukas\\virtualenvs\\eegenv\\lib\\site-packages\\sklearn\\metrics\\cluster\\_supervised.py:58: UserWarning: Clustering metrics expects discrete values but received continuous values for label, and continuous values for target\n",
      "  warnings.warn(msg, UserWarning)\n",
      "C:\\Users\\lukas\\virtualenvs\\eegenv\\lib\\site-packages\\sklearn\\metrics\\cluster\\_supervised.py:58: UserWarning: Clustering metrics expects discrete values but received continuous values for label, and continuous values for target\n",
      "  warnings.warn(msg, UserWarning)\n",
      "C:\\Users\\lukas\\virtualenvs\\eegenv\\lib\\site-packages\\sklearn\\metrics\\cluster\\_supervised.py:58: UserWarning: Clustering metrics expects discrete values but received continuous values for label, and continuous values for target\n",
      "  warnings.warn(msg, UserWarning)\n",
      "C:\\Users\\lukas\\virtualenvs\\eegenv\\lib\\site-packages\\sklearn\\metrics\\cluster\\_supervised.py:58: UserWarning: Clustering metrics expects discrete values but received continuous values for label, and continuous values for target\n",
      "  warnings.warn(msg, UserWarning)\n",
      "C:\\Users\\lukas\\virtualenvs\\eegenv\\lib\\site-packages\\sklearn\\metrics\\cluster\\_supervised.py:58: UserWarning: Clustering metrics expects discrete values but received continuous values for label, and continuous values for target\n",
      "  warnings.warn(msg, UserWarning)\n",
      "C:\\Users\\lukas\\virtualenvs\\eegenv\\lib\\site-packages\\sklearn\\metrics\\cluster\\_supervised.py:58: UserWarning: Clustering metrics expects discrete values but received continuous values for label, and continuous values for target\n",
      "  warnings.warn(msg, UserWarning)\n",
      "C:\\Users\\lukas\\virtualenvs\\eegenv\\lib\\site-packages\\sklearn\\metrics\\cluster\\_supervised.py:58: UserWarning: Clustering metrics expects discrete values but received continuous values for label, and continuous values for target\n",
      "  warnings.warn(msg, UserWarning)\n",
      "C:\\Users\\lukas\\virtualenvs\\eegenv\\lib\\site-packages\\sklearn\\metrics\\cluster\\_supervised.py:58: UserWarning: Clustering metrics expects discrete values but received continuous values for label, and continuous values for target\n",
      "  warnings.warn(msg, UserWarning)\n",
      "C:\\Users\\lukas\\virtualenvs\\eegenv\\lib\\site-packages\\sklearn\\metrics\\cluster\\_supervised.py:58: UserWarning: Clustering metrics expects discrete values but received continuous values for label, and continuous values for target\n",
      "  warnings.warn(msg, UserWarning)\n",
      "C:\\Users\\lukas\\virtualenvs\\eegenv\\lib\\site-packages\\sklearn\\metrics\\cluster\\_supervised.py:58: UserWarning: Clustering metrics expects discrete values but received continuous values for label, and continuous values for target\n",
      "  warnings.warn(msg, UserWarning)\n",
      "C:\\Users\\lukas\\virtualenvs\\eegenv\\lib\\site-packages\\sklearn\\metrics\\cluster\\_supervised.py:58: UserWarning: Clustering metrics expects discrete values but received continuous values for label, and continuous values for target\n",
      "  warnings.warn(msg, UserWarning)\n"
     ]
    }
   ],
   "metadata": {}
  },
  {
   "cell_type": "markdown",
   "source": [
    "## Visualize"
   ],
   "metadata": {}
  },
  {
   "cell_type": "code",
   "execution_count": 71,
   "source": [
    "%matplotlib qt\r\n",
    "for metric_name in results_coupling['Rest_1'].keys():\r\n",
    "    plotvals = [np.real(results_coupling[condition_name][metric_name]) for condition_name in condition_names]\r\n",
    "\r\n",
    "    plt.figure(figsize=(13, 7))\r\n",
    "    sns.boxplot(data=plotvals)\r\n",
    "    sns.stripplot(data=plotvals, size=8, color=\".3\", linewidth=1, jitter=True)\r\n",
    "    \r\n",
    "    # for isub in range(len(plotvals[0])):\r\n",
    "    #     vals = [cond[isub] for cond in plotvals]\r\n",
    "    #     plt.plot(np.arange(len(plotvals)), vals, color='k', linewidth=2)\r\n",
    "\r\n",
    "    plt.xticks(ticks=np.arange(len(plotvals)), labels=condition_names)\r\n",
    "    plt.title(metric_name)\r\n",
    "    plt.tight_layout()\r\n",
    "\r\n",
    "# multipage(r'C:\\Users\\lukas\\Dokumente\\projects\\scp-act\\figures\\report_marianne\\single_channel\\Resp\\single_channel_metrics_6subs.pdf', png=False)"
   ],
   "outputs": [],
   "metadata": {}
  },
  {
   "cell_type": "code",
   "execution_count": null,
   "source": [],
   "outputs": [],
   "metadata": {}
  }
 ],
 "metadata": {
  "orig_nbformat": 4,
  "language_info": {
   "name": "python",
   "version": "3.8.10",
   "mimetype": "text/x-python",
   "codemirror_mode": {
    "name": "ipython",
    "version": 3
   },
   "pygments_lexer": "ipython3",
   "nbconvert_exporter": "python",
   "file_extension": ".py"
  },
  "kernelspec": {
   "name": "python3",
   "display_name": "Python 3.8.10 64-bit ('eegenv': virtualenv)"
  },
  "interpreter": {
   "hash": "b3ab6a524f8fdefa2fba1a0ab7407e8dbd386bc97b991bfb50d01a11f6cd0d5f"
  }
 },
 "nbformat": 4,
 "nbformat_minor": 2
}