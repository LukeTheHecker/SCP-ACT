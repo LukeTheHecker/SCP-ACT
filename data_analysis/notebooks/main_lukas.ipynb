{
 "cells": [
  {
   "cell_type": "code",
   "execution_count": 1,
   "source": [
    "import sys; sys.path.insert(1, '../')\r\n",
    "import numpy as np\r\n",
    "import mne\r\n",
    "import matplotlib.pyplot as plt\r\n",
    "import seaborn as sns\r\n",
    "from actionpy.prepro import get_data, preprocessing\r\n",
    "from actionpy.util import multipage\r\n",
    "sns.set(font_scale=1.25, font='georgia', style='whitegrid')\r\n",
    "\r\n",
    "%load_ext autoreload\r\n",
    "%autoreload 2"
   ],
   "outputs": [],
   "metadata": {}
  },
  {
   "cell_type": "markdown",
   "source": [
    "# Preprocessing"
   ],
   "metadata": {}
  },
  {
   "cell_type": "code",
   "execution_count": 2,
   "source": [
    "subjects = ['S00', 'S01', 'S02']\r\n",
    "\r\n",
    "files = ['rest_01', 'rest_02', 'exp_01', 'drmt_01', 'drmt_02', 'vol_01', 'vol_02']\r\n",
    "ending = '.vhdr'\r\n",
    "\r\n",
    "data = []\r\n",
    "for subject in subjects:\r\n",
    "    print(subject)\r\n",
    "    raws = []\r\n",
    "    base_path = 'D:/data/scp-act' + '/' + subject + '/' + subject + '_'\r\n",
    "    for file in files:\r\n",
    "        print('\\t', file)\r\n",
    "        pth_raw = base_path + file + ending\r\n",
    "        print(pth_raw)\r\n",
    "        raws.append( preprocessing(pth_raw) )\r\n",
    "    data.append(raws)"
   ],
   "outputs": [
    {
     "output_type": "stream",
     "name": "stdout",
     "text": [
      "S00\n",
      "\t rest_01\n",
      "D:/data/scp-act/S00/S00_rest_01.vhdr\n",
      "Used Annotations descriptions: ['New Segment/', 'Stimulus/S  2', 'Stimulus/S  4']\n"
     ]
    },
    {
     "output_type": "stream",
     "name": "stderr",
     "text": [
      "c:\\Users\\lukas\\Dokumente\\projects\\scp-act\\daten_analyse\\notebooks\\..\\actionpy\\prepro\\prepro.py:23: RuntimeWarning: Online software filter detected. Using software filter settings and ignoring hardware values\n",
      "  raw = mne.io.read_raw_brainvision(pth, preload=True, verbose=verbose)\n",
      "c:\\Users\\lukas\\Dokumente\\projects\\scp-act\\daten_analyse\\notebooks\\..\\actionpy\\prepro\\prepro.py:23: RuntimeWarning: Channels contain different highpass filters. Lowest (weakest) filter setting (0.00 Hz) will be stored.\n",
      "  raw = mne.io.read_raw_brainvision(pth, preload=True, verbose=verbose)\n",
      "c:\\Users\\lukas\\Dokumente\\projects\\scp-act\\daten_analyse\\notebooks\\..\\actionpy\\prepro\\prepro.py:23: RuntimeWarning: Channels contain different lowpass filters. Highest (weakest) filter setting (500.00 Hz, Nyquist limit) will be stored.\n",
      "  raw = mne.io.read_raw_brainvision(pth, preload=True, verbose=verbose)\n",
      "c:\\Users\\lukas\\Dokumente\\projects\\scp-act\\daten_analyse\\notebooks\\..\\actionpy\\prepro\\prepro.py:124: RuntimeWarning: The unit for channel(s) VEOG has changed from C to V.\n",
      "  raw.set_channel_types(mapping)\n",
      "c:\\Users\\lukas\\Dokumente\\projects\\scp-act\\daten_analyse\\notebooks\\..\\actionpy\\prepro\\prepro.py:39: RuntimeWarning: filter_length (660001) is longer than the signal (421000), distortion is likely. Reduce filter length or filter a longer signal.\n",
      "  raw.filter(0.005, 45, n_jobs=-1, verbose=verbose)\n"
     ]
    },
    {
     "output_type": "stream",
     "name": "stdout",
     "text": [
      "Not setting metadata\n",
      "Not setting metadata\n",
      "1 matching events found\n",
      "No baseline correction applied\n",
      "0 projection items activated\n",
      "0 bad epochs dropped\n"
     ]
    },
    {
     "output_type": "stream",
     "name": "stderr",
     "text": [
      "[Parallel(n_jobs=8)]: Using backend LokyBackend with 8 concurrent workers.\n"
     ]
    },
    {
     "output_type": "stream",
     "name": "stdout",
     "text": [
      "Interpolating bad channels\n",
      "    Automatic origin fit: head of radius 92.0 mm\n",
      "Computing interpolation matrix from 30 sensor positions\n",
      "Interpolating 1 sensors\n",
      "Creating RawArray with float64 data, n_channels=1, n_times=42100\n"
     ]
    },
    {
     "output_type": "stream",
     "name": "stderr",
     "text": [
      "[Parallel(n_jobs=8)]: Done   1 tasks      | elapsed:    1.9s\n",
      "[Parallel(n_jobs=8)]: Done   1 out of   1 | elapsed:    1.9s finished\n"
     ]
    },
    {
     "output_type": "stream",
     "name": "stdout",
     "text": [
      "    Range : 0 ... 42099 =      0.000 ...   420.990 secs\n",
      "Ready.\n"
     ]
    },
    {
     "output_type": "stream",
     "name": "stderr",
     "text": [
      "c:\\Users\\lukas\\Dokumente\\projects\\scp-act\\daten_analyse\\notebooks\\..\\actionpy\\prepro\\prepro.py:147: DeprecationWarning: Version 0.23 introduced max_iter=\"auto\", setting max_iter=1000 for `fastica` and max_iter=500 for `infomax` and `picard`. The current default of max_iter=200 will be changed to \"auto\" in version 0.24.\n",
      "  ica = mne.preprocessing.ICA(n_components=n_components,\n"
     ]
    },
    {
     "output_type": "stream",
     "name": "stdout",
     "text": [
      "\t rest_02\n",
      "D:/data/scp-act/S00/S00_rest_02.vhdr\n",
      "Used Annotations descriptions: ['New Segment/', 'Stimulus/S  2', 'Stimulus/S  4', 'Stimulus/S 14']\n"
     ]
    },
    {
     "output_type": "stream",
     "name": "stderr",
     "text": [
      "c:\\Users\\lukas\\Dokumente\\projects\\scp-act\\daten_analyse\\notebooks\\..\\actionpy\\prepro\\prepro.py:23: RuntimeWarning: Online software filter detected. Using software filter settings and ignoring hardware values\n",
      "  raw = mne.io.read_raw_brainvision(pth, preload=True, verbose=verbose)\n",
      "c:\\Users\\lukas\\Dokumente\\projects\\scp-act\\daten_analyse\\notebooks\\..\\actionpy\\prepro\\prepro.py:23: RuntimeWarning: Channels contain different highpass filters. Lowest (weakest) filter setting (0.00 Hz) will be stored.\n",
      "  raw = mne.io.read_raw_brainvision(pth, preload=True, verbose=verbose)\n",
      "c:\\Users\\lukas\\Dokumente\\projects\\scp-act\\daten_analyse\\notebooks\\..\\actionpy\\prepro\\prepro.py:23: RuntimeWarning: Channels contain different lowpass filters. Highest (weakest) filter setting (500.00 Hz, Nyquist limit) will be stored.\n",
      "  raw = mne.io.read_raw_brainvision(pth, preload=True, verbose=verbose)\n",
      "c:\\Users\\lukas\\Dokumente\\projects\\scp-act\\daten_analyse\\notebooks\\..\\actionpy\\prepro\\prepro.py:124: RuntimeWarning: The unit for channel(s) VEOG has changed from C to V.\n",
      "  raw.set_channel_types(mapping)\n",
      "c:\\Users\\lukas\\Dokumente\\projects\\scp-act\\daten_analyse\\notebooks\\..\\actionpy\\prepro\\prepro.py:39: RuntimeWarning: filter_length (660001) is longer than the signal (421003), distortion is likely. Reduce filter length or filter a longer signal.\n",
      "  raw.filter(0.005, 45, n_jobs=-1, verbose=verbose)\n"
     ]
    },
    {
     "output_type": "stream",
     "name": "stdout",
     "text": [
      "Not setting metadata\n",
      "Not setting metadata\n",
      "1 matching events found\n",
      "No baseline correction applied\n",
      "0 projection items activated\n",
      "0 bad epochs dropped\n"
     ]
    },
    {
     "output_type": "stream",
     "name": "stderr",
     "text": [
      "[Parallel(n_jobs=8)]: Using backend LokyBackend with 8 concurrent workers.\n"
     ]
    },
    {
     "output_type": "stream",
     "name": "stdout",
     "text": [
      "Interpolating bad channels\n",
      "    Automatic origin fit: head of radius 92.0 mm\n",
      "Computing interpolation matrix from 30 sensor positions\n",
      "Interpolating 1 sensors\n"
     ]
    },
    {
     "output_type": "stream",
     "name": "stderr",
     "text": [
      "[Parallel(n_jobs=8)]: Done   1 tasks      | elapsed:    1.9s\n",
      "[Parallel(n_jobs=8)]: Done   1 out of   1 | elapsed:    1.9s finished\n"
     ]
    },
    {
     "output_type": "stream",
     "name": "stdout",
     "text": [
      "Creating RawArray with float64 data, n_channels=1, n_times=42100\n",
      "    Range : 0 ... 42099 =      0.000 ...   420.990 secs\n",
      "Ready.\n"
     ]
    },
    {
     "output_type": "stream",
     "name": "stderr",
     "text": [
      "c:\\Users\\lukas\\Dokumente\\projects\\scp-act\\daten_analyse\\notebooks\\..\\actionpy\\prepro\\prepro.py:147: DeprecationWarning: Version 0.23 introduced max_iter=\"auto\", setting max_iter=1000 for `fastica` and max_iter=500 for `infomax` and `picard`. The current default of max_iter=200 will be changed to \"auto\" in version 0.24.\n",
      "  ica = mne.preprocessing.ICA(n_components=n_components,\n"
     ]
    },
    {
     "output_type": "stream",
     "name": "stdout",
     "text": [
      "\t exp_01\n",
      "D:/data/scp-act/S00/S00_exp_01.vhdr\n",
      "Used Annotations descriptions: ['New Segment/', 'Response/R  7', 'Response/R 15', 'Stimulus/S  2', 'Stimulus/S  4', 'Stimulus/S  6', 'Stimulus/S 14']\n"
     ]
    },
    {
     "output_type": "stream",
     "name": "stderr",
     "text": [
      "c:\\Users\\lukas\\Dokumente\\projects\\scp-act\\daten_analyse\\notebooks\\..\\actionpy\\prepro\\prepro.py:23: RuntimeWarning: Online software filter detected. Using software filter settings and ignoring hardware values\n",
      "  raw = mne.io.read_raw_brainvision(pth, preload=True, verbose=verbose)\n",
      "c:\\Users\\lukas\\Dokumente\\projects\\scp-act\\daten_analyse\\notebooks\\..\\actionpy\\prepro\\prepro.py:23: RuntimeWarning: Channels contain different highpass filters. Lowest (weakest) filter setting (0.00 Hz) will be stored.\n",
      "  raw = mne.io.read_raw_brainvision(pth, preload=True, verbose=verbose)\n",
      "c:\\Users\\lukas\\Dokumente\\projects\\scp-act\\daten_analyse\\notebooks\\..\\actionpy\\prepro\\prepro.py:23: RuntimeWarning: Channels contain different lowpass filters. Highest (weakest) filter setting (500.00 Hz, Nyquist limit) will be stored.\n",
      "  raw = mne.io.read_raw_brainvision(pth, preload=True, verbose=verbose)\n",
      "c:\\Users\\lukas\\Dokumente\\projects\\scp-act\\daten_analyse\\notebooks\\..\\actionpy\\prepro\\prepro.py:124: RuntimeWarning: The unit for channel(s) VEOG has changed from C to V.\n",
      "  raw.set_channel_types(mapping)\n",
      "c:\\Users\\lukas\\Dokumente\\projects\\scp-act\\daten_analyse\\notebooks\\..\\actionpy\\prepro\\prepro.py:39: RuntimeWarning: filter_length (660001) is longer than the signal (421013), distortion is likely. Reduce filter length or filter a longer signal.\n",
      "  raw.filter(0.005, 45, n_jobs=-1, verbose=verbose)\n"
     ]
    },
    {
     "output_type": "stream",
     "name": "stdout",
     "text": [
      "Not setting metadata\n",
      "Not setting metadata\n",
      "1 matching events found\n",
      "No baseline correction applied\n",
      "0 projection items activated\n",
      "0 bad epochs dropped\n"
     ]
    },
    {
     "output_type": "stream",
     "name": "stderr",
     "text": [
      "[Parallel(n_jobs=8)]: Using backend LokyBackend with 8 concurrent workers.\n"
     ]
    },
    {
     "output_type": "stream",
     "name": "stdout",
     "text": [
      "Interpolating bad channels\n",
      "    Automatic origin fit: head of radius 92.0 mm\n",
      "Computing interpolation matrix from 27 sensor positions\n",
      "Interpolating 4 sensors\n",
      "Creating RawArray with float64 data, n_channels=1, n_times=42101\n"
     ]
    },
    {
     "output_type": "stream",
     "name": "stderr",
     "text": [
      "[Parallel(n_jobs=8)]: Done   1 tasks      | elapsed:    2.0s\n",
      "[Parallel(n_jobs=8)]: Done   1 out of   1 | elapsed:    2.0s finished\n"
     ]
    },
    {
     "output_type": "stream",
     "name": "stdout",
     "text": [
      "    Range : 0 ... 42100 =      0.000 ...   421.000 secs\n",
      "Ready.\n"
     ]
    },
    {
     "output_type": "stream",
     "name": "stderr",
     "text": [
      "c:\\Users\\lukas\\Dokumente\\projects\\scp-act\\daten_analyse\\notebooks\\..\\actionpy\\prepro\\prepro.py:147: DeprecationWarning: Version 0.23 introduced max_iter=\"auto\", setting max_iter=1000 for `fastica` and max_iter=500 for `infomax` and `picard`. The current default of max_iter=200 will be changed to \"auto\" in version 0.24.\n",
      "  ica = mne.preprocessing.ICA(n_components=n_components,\n"
     ]
    },
    {
     "output_type": "stream",
     "name": "stdout",
     "text": [
      "\t drmt_01\n",
      "D:/data/scp-act/S00/S00_drmt_01.vhdr\n"
     ]
    },
    {
     "output_type": "stream",
     "name": "stderr",
     "text": [
      "c:\\Users\\lukas\\Dokumente\\projects\\scp-act\\daten_analyse\\notebooks\\..\\actionpy\\prepro\\prepro.py:23: RuntimeWarning: Online software filter detected. Using software filter settings and ignoring hardware values\n",
      "  raw = mne.io.read_raw_brainvision(pth, preload=True, verbose=verbose)\n",
      "c:\\Users\\lukas\\Dokumente\\projects\\scp-act\\daten_analyse\\notebooks\\..\\actionpy\\prepro\\prepro.py:23: RuntimeWarning: Channels contain different highpass filters. Lowest (weakest) filter setting (0.00 Hz) will be stored.\n",
      "  raw = mne.io.read_raw_brainvision(pth, preload=True, verbose=verbose)\n",
      "c:\\Users\\lukas\\Dokumente\\projects\\scp-act\\daten_analyse\\notebooks\\..\\actionpy\\prepro\\prepro.py:23: RuntimeWarning: Channels contain different lowpass filters. Highest (weakest) filter setting (500.00 Hz, Nyquist limit) will be stored.\n",
      "  raw = mne.io.read_raw_brainvision(pth, preload=True, verbose=verbose)\n"
     ]
    },
    {
     "output_type": "stream",
     "name": "stdout",
     "text": [
      "Used Annotations descriptions: ['New Segment/', 'Stimulus/S  2', 'Stimulus/S  4', 'Stimulus/S  6', 'Stimulus/S 14']\n"
     ]
    },
    {
     "output_type": "stream",
     "name": "stderr",
     "text": [
      "c:\\Users\\lukas\\Dokumente\\projects\\scp-act\\daten_analyse\\notebooks\\..\\actionpy\\prepro\\prepro.py:124: RuntimeWarning: The unit for channel(s) VEOG has changed from C to V.\n",
      "  raw.set_channel_types(mapping)\n",
      "c:\\Users\\lukas\\Dokumente\\projects\\scp-act\\daten_analyse\\notebooks\\..\\actionpy\\prepro\\prepro.py:39: RuntimeWarning: filter_length (660001) is longer than the signal (420000), distortion is likely. Reduce filter length or filter a longer signal.\n",
      "  raw.filter(0.005, 45, n_jobs=-1, verbose=verbose)\n"
     ]
    },
    {
     "output_type": "stream",
     "name": "stdout",
     "text": [
      "Not setting metadata\n",
      "Not setting metadata\n",
      "1 matching events found\n",
      "No baseline correction applied\n",
      "0 projection items activated\n",
      "0 bad epochs dropped\n"
     ]
    },
    {
     "output_type": "stream",
     "name": "stderr",
     "text": [
      "[Parallel(n_jobs=8)]: Using backend LokyBackend with 8 concurrent workers.\n"
     ]
    },
    {
     "output_type": "stream",
     "name": "stdout",
     "text": [
      "Interpolating bad channels\n",
      "    Automatic origin fit: head of radius 92.0 mm\n",
      "Computing interpolation matrix from 28 sensor positions\n",
      "Interpolating 3 sensors\n"
     ]
    },
    {
     "output_type": "stream",
     "name": "stderr",
     "text": [
      "[Parallel(n_jobs=8)]: Done   1 tasks      | elapsed:    1.9s\n",
      "[Parallel(n_jobs=8)]: Done   1 out of   1 | elapsed:    1.9s finished\n"
     ]
    },
    {
     "output_type": "stream",
     "name": "stdout",
     "text": [
      "Creating RawArray with float64 data, n_channels=1, n_times=42000\n",
      "    Range : 0 ... 41999 =      0.000 ...   419.990 secs\n",
      "Ready.\n"
     ]
    },
    {
     "output_type": "stream",
     "name": "stderr",
     "text": [
      "c:\\Users\\lukas\\Dokumente\\projects\\scp-act\\daten_analyse\\notebooks\\..\\actionpy\\prepro\\prepro.py:147: DeprecationWarning: Version 0.23 introduced max_iter=\"auto\", setting max_iter=1000 for `fastica` and max_iter=500 for `infomax` and `picard`. The current default of max_iter=200 will be changed to \"auto\" in version 0.24.\n",
      "  ica = mne.preprocessing.ICA(n_components=n_components,\n"
     ]
    },
    {
     "output_type": "stream",
     "name": "stdout",
     "text": [
      "\t drmt_02\n",
      "D:/data/scp-act/S00/S00_drmt_02.vhdr\n"
     ]
    },
    {
     "output_type": "stream",
     "name": "stderr",
     "text": [
      "c:\\Users\\lukas\\Dokumente\\projects\\scp-act\\daten_analyse\\notebooks\\..\\actionpy\\prepro\\prepro.py:23: RuntimeWarning: Online software filter detected. Using software filter settings and ignoring hardware values\n",
      "  raw = mne.io.read_raw_brainvision(pth, preload=True, verbose=verbose)\n",
      "c:\\Users\\lukas\\Dokumente\\projects\\scp-act\\daten_analyse\\notebooks\\..\\actionpy\\prepro\\prepro.py:23: RuntimeWarning: Channels contain different highpass filters. Lowest (weakest) filter setting (0.00 Hz) will be stored.\n",
      "  raw = mne.io.read_raw_brainvision(pth, preload=True, verbose=verbose)\n",
      "c:\\Users\\lukas\\Dokumente\\projects\\scp-act\\daten_analyse\\notebooks\\..\\actionpy\\prepro\\prepro.py:23: RuntimeWarning: Channels contain different lowpass filters. Highest (weakest) filter setting (500.00 Hz, Nyquist limit) will be stored.\n",
      "  raw = mne.io.read_raw_brainvision(pth, preload=True, verbose=verbose)\n"
     ]
    },
    {
     "output_type": "stream",
     "name": "stdout",
     "text": [
      "Used Annotations descriptions: ['New Segment/', 'Stimulus/S  2', 'Stimulus/S 14']\n"
     ]
    },
    {
     "output_type": "stream",
     "name": "stderr",
     "text": [
      "c:\\Users\\lukas\\Dokumente\\projects\\scp-act\\daten_analyse\\notebooks\\..\\actionpy\\prepro\\prepro.py:124: RuntimeWarning: The unit for channel(s) VEOG has changed from C to V.\n",
      "  raw.set_channel_types(mapping)\n",
      "c:\\Users\\lukas\\Dokumente\\projects\\scp-act\\daten_analyse\\notebooks\\..\\actionpy\\prepro\\prepro.py:39: RuntimeWarning: filter_length (660001) is longer than the signal (420000), distortion is likely. Reduce filter length or filter a longer signal.\n",
      "  raw.filter(0.005, 45, n_jobs=-1, verbose=verbose)\n"
     ]
    },
    {
     "output_type": "stream",
     "name": "stdout",
     "text": [
      "Not setting metadata\n",
      "Not setting metadata\n",
      "1 matching events found\n",
      "No baseline correction applied\n",
      "0 projection items activated\n",
      "0 bad epochs dropped\n"
     ]
    },
    {
     "output_type": "stream",
     "name": "stderr",
     "text": [
      "[Parallel(n_jobs=8)]: Using backend LokyBackend with 8 concurrent workers.\n"
     ]
    },
    {
     "output_type": "stream",
     "name": "stdout",
     "text": [
      "Interpolating bad channels\n",
      "    Automatic origin fit: head of radius 92.0 mm\n",
      "Computing interpolation matrix from 27 sensor positions\n",
      "Interpolating 4 sensors\n"
     ]
    },
    {
     "output_type": "stream",
     "name": "stderr",
     "text": [
      "[Parallel(n_jobs=8)]: Done   1 tasks      | elapsed:    1.8s\n",
      "[Parallel(n_jobs=8)]: Done   1 out of   1 | elapsed:    1.9s finished\n"
     ]
    },
    {
     "output_type": "stream",
     "name": "stdout",
     "text": [
      "Creating RawArray with float64 data, n_channels=1, n_times=42000\n",
      "    Range : 0 ... 41999 =      0.000 ...   419.990 secs\n",
      "Ready.\n"
     ]
    },
    {
     "output_type": "stream",
     "name": "stderr",
     "text": [
      "c:\\Users\\lukas\\Dokumente\\projects\\scp-act\\daten_analyse\\notebooks\\..\\actionpy\\prepro\\prepro.py:147: DeprecationWarning: Version 0.23 introduced max_iter=\"auto\", setting max_iter=1000 for `fastica` and max_iter=500 for `infomax` and `picard`. The current default of max_iter=200 will be changed to \"auto\" in version 0.24.\n",
      "  ica = mne.preprocessing.ICA(n_components=n_components,\n"
     ]
    },
    {
     "output_type": "stream",
     "name": "stdout",
     "text": [
      "\t vol_01\n",
      "D:/data/scp-act/S00/S00_vol_01.vhdr\n",
      "Used Annotations descriptions: ['New Segment/', 'Response/R  7', 'Response/R 15', 'Stimulus/S  2', 'Stimulus/S  4']\n"
     ]
    },
    {
     "output_type": "stream",
     "name": "stderr",
     "text": [
      "c:\\Users\\lukas\\Dokumente\\projects\\scp-act\\daten_analyse\\notebooks\\..\\actionpy\\prepro\\prepro.py:23: RuntimeWarning: Online software filter detected. Using software filter settings and ignoring hardware values\n",
      "  raw = mne.io.read_raw_brainvision(pth, preload=True, verbose=verbose)\n",
      "c:\\Users\\lukas\\Dokumente\\projects\\scp-act\\daten_analyse\\notebooks\\..\\actionpy\\prepro\\prepro.py:23: RuntimeWarning: Channels contain different highpass filters. Lowest (weakest) filter setting (0.00 Hz) will be stored.\n",
      "  raw = mne.io.read_raw_brainvision(pth, preload=True, verbose=verbose)\n",
      "c:\\Users\\lukas\\Dokumente\\projects\\scp-act\\daten_analyse\\notebooks\\..\\actionpy\\prepro\\prepro.py:23: RuntimeWarning: Channels contain different lowpass filters. Highest (weakest) filter setting (500.00 Hz, Nyquist limit) will be stored.\n",
      "  raw = mne.io.read_raw_brainvision(pth, preload=True, verbose=verbose)\n",
      "c:\\Users\\lukas\\Dokumente\\projects\\scp-act\\daten_analyse\\notebooks\\..\\actionpy\\prepro\\prepro.py:124: RuntimeWarning: The unit for channel(s) VEOG has changed from C to V.\n",
      "  raw.set_channel_types(mapping)\n",
      "c:\\Users\\lukas\\Dokumente\\projects\\scp-act\\daten_analyse\\notebooks\\..\\actionpy\\prepro\\prepro.py:39: RuntimeWarning: filter_length (660001) is longer than the signal (421002), distortion is likely. Reduce filter length or filter a longer signal.\n",
      "  raw.filter(0.005, 45, n_jobs=-1, verbose=verbose)\n"
     ]
    },
    {
     "output_type": "stream",
     "name": "stdout",
     "text": [
      "Not setting metadata\n",
      "Not setting metadata\n",
      "1 matching events found\n",
      "No baseline correction applied\n",
      "0 projection items activated\n",
      "0 bad epochs dropped\n"
     ]
    },
    {
     "output_type": "stream",
     "name": "stderr",
     "text": [
      "[Parallel(n_jobs=8)]: Using backend LokyBackend with 8 concurrent workers.\n"
     ]
    },
    {
     "output_type": "stream",
     "name": "stdout",
     "text": [
      "Interpolating bad channels\n",
      "    Automatic origin fit: head of radius 92.0 mm\n",
      "Computing interpolation matrix from 30 sensor positions\n",
      "Interpolating 1 sensors\n",
      "Creating RawArray with float64 data, n_channels=1, n_times=42100\n"
     ]
    },
    {
     "output_type": "stream",
     "name": "stderr",
     "text": [
      "[Parallel(n_jobs=8)]: Done   1 tasks      | elapsed:    1.8s\n",
      "[Parallel(n_jobs=8)]: Done   1 out of   1 | elapsed:    1.8s finished\n"
     ]
    },
    {
     "output_type": "stream",
     "name": "stdout",
     "text": [
      "    Range : 0 ... 42099 =      0.000 ...   420.990 secs\n",
      "Ready.\n"
     ]
    },
    {
     "output_type": "stream",
     "name": "stderr",
     "text": [
      "c:\\Users\\lukas\\Dokumente\\projects\\scp-act\\daten_analyse\\notebooks\\..\\actionpy\\prepro\\prepro.py:147: DeprecationWarning: Version 0.23 introduced max_iter=\"auto\", setting max_iter=1000 for `fastica` and max_iter=500 for `infomax` and `picard`. The current default of max_iter=200 will be changed to \"auto\" in version 0.24.\n",
      "  ica = mne.preprocessing.ICA(n_components=n_components,\n"
     ]
    },
    {
     "output_type": "stream",
     "name": "stdout",
     "text": [
      "\t vol_02\n",
      "D:/data/scp-act/S00/S00_vol_02.vhdr\n",
      "Used Annotations descriptions: ['New Segment/', 'Response/R  7', 'Response/R 15', 'Stimulus/S  2', 'Stimulus/S  4']\n"
     ]
    },
    {
     "output_type": "stream",
     "name": "stderr",
     "text": [
      "c:\\Users\\lukas\\Dokumente\\projects\\scp-act\\daten_analyse\\notebooks\\..\\actionpy\\prepro\\prepro.py:23: RuntimeWarning: Online software filter detected. Using software filter settings and ignoring hardware values\n",
      "  raw = mne.io.read_raw_brainvision(pth, preload=True, verbose=verbose)\n",
      "c:\\Users\\lukas\\Dokumente\\projects\\scp-act\\daten_analyse\\notebooks\\..\\actionpy\\prepro\\prepro.py:23: RuntimeWarning: Channels contain different highpass filters. Lowest (weakest) filter setting (0.00 Hz) will be stored.\n",
      "  raw = mne.io.read_raw_brainvision(pth, preload=True, verbose=verbose)\n",
      "c:\\Users\\lukas\\Dokumente\\projects\\scp-act\\daten_analyse\\notebooks\\..\\actionpy\\prepro\\prepro.py:23: RuntimeWarning: Channels contain different lowpass filters. Highest (weakest) filter setting (500.00 Hz, Nyquist limit) will be stored.\n",
      "  raw = mne.io.read_raw_brainvision(pth, preload=True, verbose=verbose)\n",
      "c:\\Users\\lukas\\Dokumente\\projects\\scp-act\\daten_analyse\\notebooks\\..\\actionpy\\prepro\\prepro.py:124: RuntimeWarning: The unit for channel(s) VEOG has changed from C to V.\n",
      "  raw.set_channel_types(mapping)\n",
      "c:\\Users\\lukas\\Dokumente\\projects\\scp-act\\daten_analyse\\notebooks\\..\\actionpy\\prepro\\prepro.py:39: RuntimeWarning: filter_length (660001) is longer than the signal (421002), distortion is likely. Reduce filter length or filter a longer signal.\n",
      "  raw.filter(0.005, 45, n_jobs=-1, verbose=verbose)\n"
     ]
    },
    {
     "output_type": "stream",
     "name": "stdout",
     "text": [
      "Not setting metadata\n",
      "Not setting metadata\n",
      "1 matching events found\n",
      "No baseline correction applied\n",
      "0 projection items activated\n",
      "0 bad epochs dropped\n"
     ]
    },
    {
     "output_type": "stream",
     "name": "stderr",
     "text": [
      "[Parallel(n_jobs=8)]: Using backend LokyBackend with 8 concurrent workers.\n"
     ]
    },
    {
     "output_type": "stream",
     "name": "stdout",
     "text": [
      "Interpolating bad channels\n",
      "    Automatic origin fit: head of radius 92.0 mm\n",
      "Computing interpolation matrix from 30 sensor positions\n",
      "Interpolating 1 sensors\n",
      "Creating RawArray with float64 data, n_channels=1, n_times=42100\n"
     ]
    },
    {
     "output_type": "stream",
     "name": "stderr",
     "text": [
      "[Parallel(n_jobs=8)]: Done   1 tasks      | elapsed:    1.8s\n",
      "[Parallel(n_jobs=8)]: Done   1 out of   1 | elapsed:    1.8s finished\n"
     ]
    },
    {
     "output_type": "stream",
     "name": "stdout",
     "text": [
      "    Range : 0 ... 42099 =      0.000 ...   420.990 secs\n",
      "Ready.\n"
     ]
    },
    {
     "output_type": "stream",
     "name": "stderr",
     "text": [
      "c:\\Users\\lukas\\Dokumente\\projects\\scp-act\\daten_analyse\\notebooks\\..\\actionpy\\prepro\\prepro.py:147: DeprecationWarning: Version 0.23 introduced max_iter=\"auto\", setting max_iter=1000 for `fastica` and max_iter=500 for `infomax` and `picard`. The current default of max_iter=200 will be changed to \"auto\" in version 0.24.\n",
      "  ica = mne.preprocessing.ICA(n_components=n_components,\n"
     ]
    },
    {
     "output_type": "stream",
     "name": "stdout",
     "text": [
      "S01\n",
      "\t rest_01\n",
      "D:/data/scp-act/S01/S01_rest_01.vhdr\n",
      "Used Annotations descriptions: ['New Segment/', 'Stimulus/S  2', 'Stimulus/S  4']\n"
     ]
    },
    {
     "output_type": "stream",
     "name": "stderr",
     "text": [
      "c:\\Users\\lukas\\Dokumente\\projects\\scp-act\\daten_analyse\\notebooks\\..\\actionpy\\prepro\\prepro.py:23: RuntimeWarning: Online software filter detected. Using software filter settings and ignoring hardware values\n",
      "  raw = mne.io.read_raw_brainvision(pth, preload=True, verbose=verbose)\n",
      "c:\\Users\\lukas\\Dokumente\\projects\\scp-act\\daten_analyse\\notebooks\\..\\actionpy\\prepro\\prepro.py:23: RuntimeWarning: Channels contain different highpass filters. Lowest (weakest) filter setting (0.00 Hz) will be stored.\n",
      "  raw = mne.io.read_raw_brainvision(pth, preload=True, verbose=verbose)\n",
      "c:\\Users\\lukas\\Dokumente\\projects\\scp-act\\daten_analyse\\notebooks\\..\\actionpy\\prepro\\prepro.py:23: RuntimeWarning: Channels contain different lowpass filters. Highest (weakest) filter setting (500.00 Hz, Nyquist limit) will be stored.\n",
      "  raw = mne.io.read_raw_brainvision(pth, preload=True, verbose=verbose)\n",
      "c:\\Users\\lukas\\Dokumente\\projects\\scp-act\\daten_analyse\\notebooks\\..\\actionpy\\prepro\\prepro.py:124: RuntimeWarning: The unit for channel(s) VEOG has changed from C to V.\n",
      "  raw.set_channel_types(mapping)\n",
      "c:\\Users\\lukas\\Dokumente\\projects\\scp-act\\daten_analyse\\notebooks\\..\\actionpy\\prepro\\prepro.py:39: RuntimeWarning: filter_length (660001) is longer than the signal (421001), distortion is likely. Reduce filter length or filter a longer signal.\n",
      "  raw.filter(0.005, 45, n_jobs=-1, verbose=verbose)\n"
     ]
    },
    {
     "output_type": "stream",
     "name": "stdout",
     "text": [
      "Not setting metadata\n",
      "Not setting metadata\n",
      "1 matching events found\n",
      "No baseline correction applied\n",
      "0 projection items activated\n",
      "0 bad epochs dropped\n"
     ]
    },
    {
     "output_type": "stream",
     "name": "stderr",
     "text": [
      "[Parallel(n_jobs=8)]: Using backend LokyBackend with 8 concurrent workers.\n"
     ]
    },
    {
     "output_type": "stream",
     "name": "stdout",
     "text": [
      "Interpolating bad channels\n",
      "    Automatic origin fit: head of radius 92.0 mm\n",
      "Computing interpolation matrix from 29 sensor positions\n",
      "Interpolating 2 sensors\n",
      "Creating RawArray with float64 data, n_channels=1, n_times=42100\n",
      "    Range : 0 ... 42099 =      0.000 ...   420.990 secs\n",
      "Ready.\n"
     ]
    },
    {
     "output_type": "stream",
     "name": "stderr",
     "text": [
      "[Parallel(n_jobs=8)]: Done   1 tasks      | elapsed:    1.8s\n",
      "[Parallel(n_jobs=8)]: Done   1 out of   1 | elapsed:    1.8s finished\n",
      "c:\\Users\\lukas\\Dokumente\\projects\\scp-act\\daten_analyse\\notebooks\\..\\actionpy\\prepro\\prepro.py:147: DeprecationWarning: Version 0.23 introduced max_iter=\"auto\", setting max_iter=1000 for `fastica` and max_iter=500 for `infomax` and `picard`. The current default of max_iter=200 will be changed to \"auto\" in version 0.24.\n",
      "  ica = mne.preprocessing.ICA(n_components=n_components,\n"
     ]
    },
    {
     "output_type": "stream",
     "name": "stdout",
     "text": [
      "\t rest_02\n",
      "D:/data/scp-act/S01/S01_rest_02.vhdr\n",
      "Used Annotations descriptions: ['New Segment/', 'Stimulus/S  2', 'Stimulus/S  4']\n"
     ]
    },
    {
     "output_type": "stream",
     "name": "stderr",
     "text": [
      "c:\\Users\\lukas\\Dokumente\\projects\\scp-act\\daten_analyse\\notebooks\\..\\actionpy\\prepro\\prepro.py:23: RuntimeWarning: Online software filter detected. Using software filter settings and ignoring hardware values\n",
      "  raw = mne.io.read_raw_brainvision(pth, preload=True, verbose=verbose)\n",
      "c:\\Users\\lukas\\Dokumente\\projects\\scp-act\\daten_analyse\\notebooks\\..\\actionpy\\prepro\\prepro.py:23: RuntimeWarning: Channels contain different highpass filters. Lowest (weakest) filter setting (0.00 Hz) will be stored.\n",
      "  raw = mne.io.read_raw_brainvision(pth, preload=True, verbose=verbose)\n",
      "c:\\Users\\lukas\\Dokumente\\projects\\scp-act\\daten_analyse\\notebooks\\..\\actionpy\\prepro\\prepro.py:23: RuntimeWarning: Channels contain different lowpass filters. Highest (weakest) filter setting (500.00 Hz, Nyquist limit) will be stored.\n",
      "  raw = mne.io.read_raw_brainvision(pth, preload=True, verbose=verbose)\n",
      "c:\\Users\\lukas\\Dokumente\\projects\\scp-act\\daten_analyse\\notebooks\\..\\actionpy\\prepro\\prepro.py:124: RuntimeWarning: The unit for channel(s) VEOG has changed from C to V.\n",
      "  raw.set_channel_types(mapping)\n",
      "c:\\Users\\lukas\\Dokumente\\projects\\scp-act\\daten_analyse\\notebooks\\..\\actionpy\\prepro\\prepro.py:39: RuntimeWarning: filter_length (660001) is longer than the signal (421005), distortion is likely. Reduce filter length or filter a longer signal.\n",
      "  raw.filter(0.005, 45, n_jobs=-1, verbose=verbose)\n"
     ]
    },
    {
     "output_type": "stream",
     "name": "stdout",
     "text": [
      "Not setting metadata\n",
      "Not setting metadata\n",
      "1 matching events found\n",
      "No baseline correction applied\n",
      "0 projection items activated\n",
      "0 bad epochs dropped\n"
     ]
    },
    {
     "output_type": "stream",
     "name": "stderr",
     "text": [
      "[Parallel(n_jobs=8)]: Using backend LokyBackend with 8 concurrent workers.\n"
     ]
    },
    {
     "output_type": "stream",
     "name": "stdout",
     "text": [
      "Interpolating bad channels\n",
      "    Automatic origin fit: head of radius 92.0 mm\n",
      "Computing interpolation matrix from 29 sensor positions\n",
      "Interpolating 2 sensors\n"
     ]
    },
    {
     "output_type": "stream",
     "name": "stderr",
     "text": [
      "[Parallel(n_jobs=8)]: Done   1 tasks      | elapsed:    2.0s\n",
      "[Parallel(n_jobs=8)]: Done   1 out of   1 | elapsed:    2.0s finished\n"
     ]
    },
    {
     "output_type": "stream",
     "name": "stdout",
     "text": [
      "Creating RawArray with float64 data, n_channels=1, n_times=42100\n",
      "    Range : 0 ... 42099 =      0.000 ...   420.990 secs\n",
      "Ready.\n"
     ]
    },
    {
     "output_type": "stream",
     "name": "stderr",
     "text": [
      "c:\\Users\\lukas\\Dokumente\\projects\\scp-act\\daten_analyse\\notebooks\\..\\actionpy\\prepro\\prepro.py:147: DeprecationWarning: Version 0.23 introduced max_iter=\"auto\", setting max_iter=1000 for `fastica` and max_iter=500 for `infomax` and `picard`. The current default of max_iter=200 will be changed to \"auto\" in version 0.24.\n",
      "  ica = mne.preprocessing.ICA(n_components=n_components,\n"
     ]
    },
    {
     "output_type": "stream",
     "name": "stdout",
     "text": [
      "\t exp_01\n",
      "D:/data/scp-act/S01/S01_exp_01.vhdr\n",
      "Used Annotations descriptions: ['New Segment/', 'Response/R  7', 'Response/R 15', 'Stimulus/S  2', 'Stimulus/S  4', 'Stimulus/S  6', 'Stimulus/S 14']\n"
     ]
    },
    {
     "output_type": "stream",
     "name": "stderr",
     "text": [
      "c:\\Users\\lukas\\Dokumente\\projects\\scp-act\\daten_analyse\\notebooks\\..\\actionpy\\prepro\\prepro.py:23: RuntimeWarning: Online software filter detected. Using software filter settings and ignoring hardware values\n",
      "  raw = mne.io.read_raw_brainvision(pth, preload=True, verbose=verbose)\n",
      "c:\\Users\\lukas\\Dokumente\\projects\\scp-act\\daten_analyse\\notebooks\\..\\actionpy\\prepro\\prepro.py:23: RuntimeWarning: Channels contain different highpass filters. Lowest (weakest) filter setting (0.00 Hz) will be stored.\n",
      "  raw = mne.io.read_raw_brainvision(pth, preload=True, verbose=verbose)\n",
      "c:\\Users\\lukas\\Dokumente\\projects\\scp-act\\daten_analyse\\notebooks\\..\\actionpy\\prepro\\prepro.py:23: RuntimeWarning: Channels contain different lowpass filters. Highest (weakest) filter setting (500.00 Hz, Nyquist limit) will be stored.\n",
      "  raw = mne.io.read_raw_brainvision(pth, preload=True, verbose=verbose)\n",
      "c:\\Users\\lukas\\Dokumente\\projects\\scp-act\\daten_analyse\\notebooks\\..\\actionpy\\prepro\\prepro.py:124: RuntimeWarning: The unit for channel(s) VEOG has changed from C to V.\n",
      "  raw.set_channel_types(mapping)\n",
      "c:\\Users\\lukas\\Dokumente\\projects\\scp-act\\daten_analyse\\notebooks\\..\\actionpy\\prepro\\prepro.py:39: RuntimeWarning: filter_length (660001) is longer than the signal (421020), distortion is likely. Reduce filter length or filter a longer signal.\n",
      "  raw.filter(0.005, 45, n_jobs=-1, verbose=verbose)\n"
     ]
    },
    {
     "output_type": "stream",
     "name": "stdout",
     "text": [
      "Not setting metadata\n",
      "Not setting metadata\n",
      "1 matching events found\n",
      "No baseline correction applied\n",
      "0 projection items activated\n",
      "0 bad epochs dropped\n"
     ]
    },
    {
     "output_type": "stream",
     "name": "stderr",
     "text": [
      "[Parallel(n_jobs=8)]: Using backend LokyBackend with 8 concurrent workers.\n"
     ]
    },
    {
     "output_type": "stream",
     "name": "stdout",
     "text": [
      "Interpolating bad channels\n",
      "    Automatic origin fit: head of radius 92.0 mm\n",
      "Computing interpolation matrix from 30 sensor positions\n",
      "Interpolating 1 sensors\n",
      "Creating RawArray with float64 data, n_channels=1, n_times=42102\n"
     ]
    },
    {
     "output_type": "stream",
     "name": "stderr",
     "text": [
      "[Parallel(n_jobs=8)]: Done   1 tasks      | elapsed:    1.9s\n",
      "[Parallel(n_jobs=8)]: Done   1 out of   1 | elapsed:    1.9s finished\n"
     ]
    },
    {
     "output_type": "stream",
     "name": "stdout",
     "text": [
      "    Range : 0 ... 42101 =      0.000 ...   421.010 secs\n",
      "Ready.\n"
     ]
    },
    {
     "output_type": "stream",
     "name": "stderr",
     "text": [
      "c:\\Users\\lukas\\Dokumente\\projects\\scp-act\\daten_analyse\\notebooks\\..\\actionpy\\prepro\\prepro.py:147: DeprecationWarning: Version 0.23 introduced max_iter=\"auto\", setting max_iter=1000 for `fastica` and max_iter=500 for `infomax` and `picard`. The current default of max_iter=200 will be changed to \"auto\" in version 0.24.\n",
      "  ica = mne.preprocessing.ICA(n_components=n_components,\n"
     ]
    },
    {
     "output_type": "stream",
     "name": "stdout",
     "text": [
      "\t drmt_01\n",
      "D:/data/scp-act/S01/S01_drmt_01.vhdr\n"
     ]
    },
    {
     "output_type": "stream",
     "name": "stderr",
     "text": [
      "c:\\Users\\lukas\\Dokumente\\projects\\scp-act\\daten_analyse\\notebooks\\..\\actionpy\\prepro\\prepro.py:23: RuntimeWarning: Online software filter detected. Using software filter settings and ignoring hardware values\n",
      "  raw = mne.io.read_raw_brainvision(pth, preload=True, verbose=verbose)\n",
      "c:\\Users\\lukas\\Dokumente\\projects\\scp-act\\daten_analyse\\notebooks\\..\\actionpy\\prepro\\prepro.py:23: RuntimeWarning: Channels contain different highpass filters. Lowest (weakest) filter setting (0.00 Hz) will be stored.\n",
      "  raw = mne.io.read_raw_brainvision(pth, preload=True, verbose=verbose)\n",
      "c:\\Users\\lukas\\Dokumente\\projects\\scp-act\\daten_analyse\\notebooks\\..\\actionpy\\prepro\\prepro.py:23: RuntimeWarning: Channels contain different lowpass filters. Highest (weakest) filter setting (500.00 Hz, Nyquist limit) will be stored.\n",
      "  raw = mne.io.read_raw_brainvision(pth, preload=True, verbose=verbose)\n"
     ]
    },
    {
     "output_type": "stream",
     "name": "stdout",
     "text": [
      "Used Annotations descriptions: ['New Segment/', 'Stimulus/S  2', 'Stimulus/S  4', 'Stimulus/S  6']\n"
     ]
    },
    {
     "output_type": "stream",
     "name": "stderr",
     "text": [
      "c:\\Users\\lukas\\Dokumente\\projects\\scp-act\\daten_analyse\\notebooks\\..\\actionpy\\prepro\\prepro.py:124: RuntimeWarning: The unit for channel(s) VEOG has changed from C to V.\n",
      "  raw.set_channel_types(mapping)\n",
      "c:\\Users\\lukas\\Dokumente\\projects\\scp-act\\daten_analyse\\notebooks\\..\\actionpy\\prepro\\prepro.py:39: RuntimeWarning: filter_length (660001) is longer than the signal (420000), distortion is likely. Reduce filter length or filter a longer signal.\n",
      "  raw.filter(0.005, 45, n_jobs=-1, verbose=verbose)\n"
     ]
    },
    {
     "output_type": "stream",
     "name": "stdout",
     "text": [
      "Not setting metadata\n",
      "Not setting metadata\n",
      "1 matching events found\n",
      "No baseline correction applied\n",
      "0 projection items activated\n",
      "0 bad epochs dropped\n"
     ]
    },
    {
     "output_type": "stream",
     "name": "stderr",
     "text": [
      "[Parallel(n_jobs=8)]: Using backend LokyBackend with 8 concurrent workers.\n"
     ]
    },
    {
     "output_type": "stream",
     "name": "stdout",
     "text": [
      "Interpolating bad channels\n",
      "    Automatic origin fit: head of radius 92.0 mm\n",
      "Computing interpolation matrix from 30 sensor positions\n",
      "Interpolating 1 sensors\n",
      "Creating RawArray with float64 data, n_channels=1, n_times=42000\n"
     ]
    },
    {
     "output_type": "stream",
     "name": "stderr",
     "text": [
      "[Parallel(n_jobs=8)]: Done   1 tasks      | elapsed:    1.9s\n",
      "[Parallel(n_jobs=8)]: Done   1 out of   1 | elapsed:    1.9s finished\n"
     ]
    },
    {
     "output_type": "stream",
     "name": "stdout",
     "text": [
      "    Range : 0 ... 41999 =      0.000 ...   419.990 secs\n",
      "Ready.\n"
     ]
    },
    {
     "output_type": "stream",
     "name": "stderr",
     "text": [
      "c:\\Users\\lukas\\Dokumente\\projects\\scp-act\\daten_analyse\\notebooks\\..\\actionpy\\prepro\\prepro.py:147: DeprecationWarning: Version 0.23 introduced max_iter=\"auto\", setting max_iter=1000 for `fastica` and max_iter=500 for `infomax` and `picard`. The current default of max_iter=200 will be changed to \"auto\" in version 0.24.\n",
      "  ica = mne.preprocessing.ICA(n_components=n_components,\n"
     ]
    },
    {
     "output_type": "stream",
     "name": "stdout",
     "text": [
      "\t drmt_02\n",
      "D:/data/scp-act/S01/S01_drmt_02.vhdr\n"
     ]
    },
    {
     "output_type": "stream",
     "name": "stderr",
     "text": [
      "c:\\Users\\lukas\\Dokumente\\projects\\scp-act\\daten_analyse\\notebooks\\..\\actionpy\\prepro\\prepro.py:23: RuntimeWarning: Online software filter detected. Using software filter settings and ignoring hardware values\n",
      "  raw = mne.io.read_raw_brainvision(pth, preload=True, verbose=verbose)\n",
      "c:\\Users\\lukas\\Dokumente\\projects\\scp-act\\daten_analyse\\notebooks\\..\\actionpy\\prepro\\prepro.py:23: RuntimeWarning: Channels contain different highpass filters. Lowest (weakest) filter setting (0.00 Hz) will be stored.\n",
      "  raw = mne.io.read_raw_brainvision(pth, preload=True, verbose=verbose)\n",
      "c:\\Users\\lukas\\Dokumente\\projects\\scp-act\\daten_analyse\\notebooks\\..\\actionpy\\prepro\\prepro.py:23: RuntimeWarning: Channels contain different lowpass filters. Highest (weakest) filter setting (500.00 Hz, Nyquist limit) will be stored.\n",
      "  raw = mne.io.read_raw_brainvision(pth, preload=True, verbose=verbose)\n"
     ]
    },
    {
     "output_type": "stream",
     "name": "stdout",
     "text": [
      "Used Annotations descriptions: ['New Segment/', 'Stimulus/S  2', 'Stimulus/S  4', 'Stimulus/S  6']\n"
     ]
    },
    {
     "output_type": "stream",
     "name": "stderr",
     "text": [
      "c:\\Users\\lukas\\Dokumente\\projects\\scp-act\\daten_analyse\\notebooks\\..\\actionpy\\prepro\\prepro.py:124: RuntimeWarning: The unit for channel(s) VEOG has changed from C to V.\n",
      "  raw.set_channel_types(mapping)\n",
      "c:\\Users\\lukas\\Dokumente\\projects\\scp-act\\daten_analyse\\notebooks\\..\\actionpy\\prepro\\prepro.py:39: RuntimeWarning: filter_length (660001) is longer than the signal (420000), distortion is likely. Reduce filter length or filter a longer signal.\n",
      "  raw.filter(0.005, 45, n_jobs=-1, verbose=verbose)\n"
     ]
    },
    {
     "output_type": "stream",
     "name": "stdout",
     "text": [
      "Not setting metadata\n",
      "Not setting metadata\n",
      "1 matching events found\n",
      "No baseline correction applied\n",
      "0 projection items activated\n",
      "0 bad epochs dropped\n"
     ]
    },
    {
     "output_type": "stream",
     "name": "stderr",
     "text": [
      "[Parallel(n_jobs=8)]: Using backend LokyBackend with 8 concurrent workers.\n"
     ]
    },
    {
     "output_type": "stream",
     "name": "stdout",
     "text": [
      "Creating RawArray with float64 data, n_channels=1, n_times=42000\n",
      "    Range : 0 ... 41999 =      0.000 ...   419.990 secs\n",
      "Ready.\n"
     ]
    },
    {
     "output_type": "stream",
     "name": "stderr",
     "text": [
      "[Parallel(n_jobs=8)]: Done   1 tasks      | elapsed:    1.9s\n",
      "[Parallel(n_jobs=8)]: Done   1 out of   1 | elapsed:    1.9s finished\n",
      "C:\\Users\\lukas\\virtualenvs\\eegenv\\lib\\site-packages\\autoreject\\ransac.py:226: RuntimeWarning: No bad channels to interpolate. Doing nothing...\n",
      "  epochs.interpolate_bads(reset_bads=True)\n",
      "c:\\Users\\lukas\\Dokumente\\projects\\scp-act\\daten_analyse\\notebooks\\..\\actionpy\\prepro\\prepro.py:147: DeprecationWarning: Version 0.23 introduced max_iter=\"auto\", setting max_iter=1000 for `fastica` and max_iter=500 for `infomax` and `picard`. The current default of max_iter=200 will be changed to \"auto\" in version 0.24.\n",
      "  ica = mne.preprocessing.ICA(n_components=n_components,\n"
     ]
    },
    {
     "output_type": "stream",
     "name": "stdout",
     "text": [
      "\t vol_01\n",
      "D:/data/scp-act/S01/S01_vol_01.vhdr\n",
      "Used Annotations descriptions: ['New Segment/', 'Response/R  7', 'Response/R 15', 'Stimulus/S  2', 'Stimulus/S  4']\n"
     ]
    },
    {
     "output_type": "stream",
     "name": "stderr",
     "text": [
      "c:\\Users\\lukas\\Dokumente\\projects\\scp-act\\daten_analyse\\notebooks\\..\\actionpy\\prepro\\prepro.py:23: RuntimeWarning: Online software filter detected. Using software filter settings and ignoring hardware values\n",
      "  raw = mne.io.read_raw_brainvision(pth, preload=True, verbose=verbose)\n",
      "c:\\Users\\lukas\\Dokumente\\projects\\scp-act\\daten_analyse\\notebooks\\..\\actionpy\\prepro\\prepro.py:23: RuntimeWarning: Channels contain different highpass filters. Lowest (weakest) filter setting (0.00 Hz) will be stored.\n",
      "  raw = mne.io.read_raw_brainvision(pth, preload=True, verbose=verbose)\n",
      "c:\\Users\\lukas\\Dokumente\\projects\\scp-act\\daten_analyse\\notebooks\\..\\actionpy\\prepro\\prepro.py:23: RuntimeWarning: Channels contain different lowpass filters. Highest (weakest) filter setting (500.00 Hz, Nyquist limit) will be stored.\n",
      "  raw = mne.io.read_raw_brainvision(pth, preload=True, verbose=verbose)\n",
      "c:\\Users\\lukas\\Dokumente\\projects\\scp-act\\daten_analyse\\notebooks\\..\\actionpy\\prepro\\prepro.py:124: RuntimeWarning: The unit for channel(s) VEOG has changed from C to V.\n",
      "  raw.set_channel_types(mapping)\n",
      "c:\\Users\\lukas\\Dokumente\\projects\\scp-act\\daten_analyse\\notebooks\\..\\actionpy\\prepro\\prepro.py:39: RuntimeWarning: filter_length (660001) is longer than the signal (421005), distortion is likely. Reduce filter length or filter a longer signal.\n",
      "  raw.filter(0.005, 45, n_jobs=-1, verbose=verbose)\n"
     ]
    },
    {
     "output_type": "stream",
     "name": "stdout",
     "text": [
      "Not setting metadata\n",
      "Not setting metadata\n",
      "1 matching events found\n",
      "No baseline correction applied\n",
      "0 projection items activated\n",
      "0 bad epochs dropped\n"
     ]
    },
    {
     "output_type": "stream",
     "name": "stderr",
     "text": [
      "[Parallel(n_jobs=8)]: Using backend LokyBackend with 8 concurrent workers.\n"
     ]
    },
    {
     "output_type": "stream",
     "name": "stdout",
     "text": [
      "Interpolating bad channels\n",
      "    Automatic origin fit: head of radius 92.0 mm\n",
      "Computing interpolation matrix from 27 sensor positions\n",
      "Interpolating 4 sensors\n",
      "Creating RawArray with float64 data, n_channels=1, n_times=42100\n",
      "    Range : 0 ... 42099 =      0.000 ...   420.990 secs\n",
      "Ready.\n"
     ]
    },
    {
     "output_type": "stream",
     "name": "stderr",
     "text": [
      "[Parallel(n_jobs=8)]: Done   1 tasks      | elapsed:    1.9s\n",
      "[Parallel(n_jobs=8)]: Done   1 out of   1 | elapsed:    1.9s finished\n",
      "c:\\Users\\lukas\\Dokumente\\projects\\scp-act\\daten_analyse\\notebooks\\..\\actionpy\\prepro\\prepro.py:147: DeprecationWarning: Version 0.23 introduced max_iter=\"auto\", setting max_iter=1000 for `fastica` and max_iter=500 for `infomax` and `picard`. The current default of max_iter=200 will be changed to \"auto\" in version 0.24.\n",
      "  ica = mne.preprocessing.ICA(n_components=n_components,\n"
     ]
    },
    {
     "output_type": "stream",
     "name": "stdout",
     "text": [
      "\t vol_02\n",
      "D:/data/scp-act/S01/S01_vol_02.vhdr\n",
      "Used Annotations descriptions: ['New Segment/', 'Response/R  7', 'Response/R 15', 'Stimulus/S  2', 'Stimulus/S  4']\n"
     ]
    },
    {
     "output_type": "stream",
     "name": "stderr",
     "text": [
      "c:\\Users\\lukas\\Dokumente\\projects\\scp-act\\daten_analyse\\notebooks\\..\\actionpy\\prepro\\prepro.py:23: RuntimeWarning: Online software filter detected. Using software filter settings and ignoring hardware values\n",
      "  raw = mne.io.read_raw_brainvision(pth, preload=True, verbose=verbose)\n",
      "c:\\Users\\lukas\\Dokumente\\projects\\scp-act\\daten_analyse\\notebooks\\..\\actionpy\\prepro\\prepro.py:23: RuntimeWarning: Channels contain different highpass filters. Lowest (weakest) filter setting (0.00 Hz) will be stored.\n",
      "  raw = mne.io.read_raw_brainvision(pth, preload=True, verbose=verbose)\n",
      "c:\\Users\\lukas\\Dokumente\\projects\\scp-act\\daten_analyse\\notebooks\\..\\actionpy\\prepro\\prepro.py:23: RuntimeWarning: Channels contain different lowpass filters. Highest (weakest) filter setting (500.00 Hz, Nyquist limit) will be stored.\n",
      "  raw = mne.io.read_raw_brainvision(pth, preload=True, verbose=verbose)\n",
      "c:\\Users\\lukas\\Dokumente\\projects\\scp-act\\daten_analyse\\notebooks\\..\\actionpy\\prepro\\prepro.py:124: RuntimeWarning: The unit for channel(s) VEOG has changed from C to V.\n",
      "  raw.set_channel_types(mapping)\n",
      "c:\\Users\\lukas\\Dokumente\\projects\\scp-act\\daten_analyse\\notebooks\\..\\actionpy\\prepro\\prepro.py:39: RuntimeWarning: filter_length (660001) is longer than the signal (421007), distortion is likely. Reduce filter length or filter a longer signal.\n",
      "  raw.filter(0.005, 45, n_jobs=-1, verbose=verbose)\n"
     ]
    },
    {
     "output_type": "stream",
     "name": "stdout",
     "text": [
      "Not setting metadata\n",
      "Not setting metadata\n",
      "1 matching events found\n",
      "No baseline correction applied\n",
      "0 projection items activated\n",
      "0 bad epochs dropped\n"
     ]
    },
    {
     "output_type": "stream",
     "name": "stderr",
     "text": [
      "[Parallel(n_jobs=8)]: Using backend LokyBackend with 8 concurrent workers.\n"
     ]
    },
    {
     "output_type": "stream",
     "name": "stdout",
     "text": [
      "Interpolating bad channels\n",
      "    Automatic origin fit: head of radius 92.0 mm\n",
      "Computing interpolation matrix from 30 sensor positions\n",
      "Interpolating 1 sensors\n",
      "Creating RawArray with float64 data, n_channels=1, n_times=42101\n"
     ]
    },
    {
     "output_type": "stream",
     "name": "stderr",
     "text": [
      "[Parallel(n_jobs=8)]: Done   1 tasks      | elapsed:    1.9s\n",
      "[Parallel(n_jobs=8)]: Done   1 out of   1 | elapsed:    1.9s finished\n"
     ]
    },
    {
     "output_type": "stream",
     "name": "stdout",
     "text": [
      "    Range : 0 ... 42100 =      0.000 ...   421.000 secs\n",
      "Ready.\n"
     ]
    },
    {
     "output_type": "stream",
     "name": "stderr",
     "text": [
      "c:\\Users\\lukas\\Dokumente\\projects\\scp-act\\daten_analyse\\notebooks\\..\\actionpy\\prepro\\prepro.py:147: DeprecationWarning: Version 0.23 introduced max_iter=\"auto\", setting max_iter=1000 for `fastica` and max_iter=500 for `infomax` and `picard`. The current default of max_iter=200 will be changed to \"auto\" in version 0.24.\n",
      "  ica = mne.preprocessing.ICA(n_components=n_components,\n"
     ]
    },
    {
     "output_type": "stream",
     "name": "stdout",
     "text": [
      "S02\n",
      "\t rest_01\n",
      "D:/data/scp-act/S02/S02_rest_01.vhdr\n",
      "Used Annotations descriptions: ['New Segment/', 'Stimulus/S  2', 'Stimulus/S  4']\n"
     ]
    },
    {
     "output_type": "stream",
     "name": "stderr",
     "text": [
      "c:\\Users\\lukas\\Dokumente\\projects\\scp-act\\daten_analyse\\notebooks\\..\\actionpy\\prepro\\prepro.py:23: RuntimeWarning: Online software filter detected. Using software filter settings and ignoring hardware values\n",
      "  raw = mne.io.read_raw_brainvision(pth, preload=True, verbose=verbose)\n",
      "c:\\Users\\lukas\\Dokumente\\projects\\scp-act\\daten_analyse\\notebooks\\..\\actionpy\\prepro\\prepro.py:23: RuntimeWarning: Channels contain different highpass filters. Lowest (weakest) filter setting (0.00 Hz) will be stored.\n",
      "  raw = mne.io.read_raw_brainvision(pth, preload=True, verbose=verbose)\n",
      "c:\\Users\\lukas\\Dokumente\\projects\\scp-act\\daten_analyse\\notebooks\\..\\actionpy\\prepro\\prepro.py:23: RuntimeWarning: Channels contain different lowpass filters. Highest (weakest) filter setting (500.00 Hz, Nyquist limit) will be stored.\n",
      "  raw = mne.io.read_raw_brainvision(pth, preload=True, verbose=verbose)\n",
      "c:\\Users\\lukas\\Dokumente\\projects\\scp-act\\daten_analyse\\notebooks\\..\\actionpy\\prepro\\prepro.py:124: RuntimeWarning: The unit for channel(s) VEOG has changed from C to V.\n",
      "  raw.set_channel_types(mapping)\n",
      "c:\\Users\\lukas\\Dokumente\\projects\\scp-act\\daten_analyse\\notebooks\\..\\actionpy\\prepro\\prepro.py:39: RuntimeWarning: filter_length (660001) is longer than the signal (421008), distortion is likely. Reduce filter length or filter a longer signal.\n",
      "  raw.filter(0.005, 45, n_jobs=-1, verbose=verbose)\n"
     ]
    },
    {
     "output_type": "stream",
     "name": "stdout",
     "text": [
      "Not setting metadata\n",
      "Not setting metadata\n",
      "1 matching events found\n",
      "No baseline correction applied\n",
      "0 projection items activated\n",
      "0 bad epochs dropped\n"
     ]
    },
    {
     "output_type": "stream",
     "name": "stderr",
     "text": [
      "[Parallel(n_jobs=8)]: Using backend LokyBackend with 8 concurrent workers.\n"
     ]
    },
    {
     "output_type": "stream",
     "name": "stdout",
     "text": [
      "Interpolating bad channels\n",
      "    Automatic origin fit: head of radius 92.0 mm\n",
      "Computing interpolation matrix from 29 sensor positions\n",
      "Interpolating 2 sensors\n",
      "Creating RawArray with float64 data, n_channels=1, n_times=42101\n"
     ]
    },
    {
     "output_type": "stream",
     "name": "stderr",
     "text": [
      "[Parallel(n_jobs=8)]: Done   1 tasks      | elapsed:    2.0s\n",
      "[Parallel(n_jobs=8)]: Done   1 out of   1 | elapsed:    2.0s finished\n"
     ]
    },
    {
     "output_type": "stream",
     "name": "stdout",
     "text": [
      "    Range : 0 ... 42100 =      0.000 ...   421.000 secs\n",
      "Ready.\n"
     ]
    },
    {
     "output_type": "stream",
     "name": "stderr",
     "text": [
      "c:\\Users\\lukas\\Dokumente\\projects\\scp-act\\daten_analyse\\notebooks\\..\\actionpy\\prepro\\prepro.py:147: DeprecationWarning: Version 0.23 introduced max_iter=\"auto\", setting max_iter=1000 for `fastica` and max_iter=500 for `infomax` and `picard`. The current default of max_iter=200 will be changed to \"auto\" in version 0.24.\n",
      "  ica = mne.preprocessing.ICA(n_components=n_components,\n"
     ]
    },
    {
     "output_type": "stream",
     "name": "stdout",
     "text": [
      "\t rest_02\n",
      "D:/data/scp-act/S02/S02_rest_02.vhdr\n",
      "Used Annotations descriptions: ['New Segment/', 'Stimulus/S  2', 'Stimulus/S  4']\n"
     ]
    },
    {
     "output_type": "stream",
     "name": "stderr",
     "text": [
      "c:\\Users\\lukas\\Dokumente\\projects\\scp-act\\daten_analyse\\notebooks\\..\\actionpy\\prepro\\prepro.py:23: RuntimeWarning: Online software filter detected. Using software filter settings and ignoring hardware values\n",
      "  raw = mne.io.read_raw_brainvision(pth, preload=True, verbose=verbose)\n",
      "c:\\Users\\lukas\\Dokumente\\projects\\scp-act\\daten_analyse\\notebooks\\..\\actionpy\\prepro\\prepro.py:23: RuntimeWarning: Channels contain different highpass filters. Lowest (weakest) filter setting (0.00 Hz) will be stored.\n",
      "  raw = mne.io.read_raw_brainvision(pth, preload=True, verbose=verbose)\n",
      "c:\\Users\\lukas\\Dokumente\\projects\\scp-act\\daten_analyse\\notebooks\\..\\actionpy\\prepro\\prepro.py:23: RuntimeWarning: Channels contain different lowpass filters. Highest (weakest) filter setting (500.00 Hz, Nyquist limit) will be stored.\n",
      "  raw = mne.io.read_raw_brainvision(pth, preload=True, verbose=verbose)\n",
      "c:\\Users\\lukas\\Dokumente\\projects\\scp-act\\daten_analyse\\notebooks\\..\\actionpy\\prepro\\prepro.py:124: RuntimeWarning: The unit for channel(s) VEOG has changed from C to V.\n",
      "  raw.set_channel_types(mapping)\n",
      "c:\\Users\\lukas\\Dokumente\\projects\\scp-act\\daten_analyse\\notebooks\\..\\actionpy\\prepro\\prepro.py:39: RuntimeWarning: filter_length (660001) is longer than the signal (420999), distortion is likely. Reduce filter length or filter a longer signal.\n",
      "  raw.filter(0.005, 45, n_jobs=-1, verbose=verbose)\n"
     ]
    },
    {
     "output_type": "stream",
     "name": "stdout",
     "text": [
      "Not setting metadata\n",
      "Not setting metadata\n",
      "1 matching events found\n",
      "No baseline correction applied\n",
      "0 projection items activated\n",
      "0 bad epochs dropped\n"
     ]
    },
    {
     "output_type": "stream",
     "name": "stderr",
     "text": [
      "[Parallel(n_jobs=8)]: Using backend LokyBackend with 8 concurrent workers.\n"
     ]
    },
    {
     "output_type": "stream",
     "name": "stdout",
     "text": [
      "Interpolating bad channels\n",
      "    Automatic origin fit: head of radius 92.0 mm\n",
      "Computing interpolation matrix from 30 sensor positions\n",
      "Interpolating 1 sensors\n",
      "Creating RawArray with float64 data, n_channels=1, n_times=42100\n"
     ]
    },
    {
     "output_type": "stream",
     "name": "stderr",
     "text": [
      "[Parallel(n_jobs=8)]: Done   1 tasks      | elapsed:    2.0s\n",
      "[Parallel(n_jobs=8)]: Done   1 out of   1 | elapsed:    2.0s finished\n"
     ]
    },
    {
     "output_type": "stream",
     "name": "stdout",
     "text": [
      "    Range : 0 ... 42099 =      0.000 ...   420.990 secs\n",
      "Ready.\n"
     ]
    },
    {
     "output_type": "stream",
     "name": "stderr",
     "text": [
      "c:\\Users\\lukas\\Dokumente\\projects\\scp-act\\daten_analyse\\notebooks\\..\\actionpy\\prepro\\prepro.py:147: DeprecationWarning: Version 0.23 introduced max_iter=\"auto\", setting max_iter=1000 for `fastica` and max_iter=500 for `infomax` and `picard`. The current default of max_iter=200 will be changed to \"auto\" in version 0.24.\n",
      "  ica = mne.preprocessing.ICA(n_components=n_components,\n"
     ]
    },
    {
     "output_type": "stream",
     "name": "stdout",
     "text": [
      "\t exp_01\n",
      "D:/data/scp-act/S02/S02_exp_01.vhdr\n",
      "Used Annotations descriptions: ['New Segment/', 'Response/R  7', 'Response/R 15', 'Stimulus/S  2', 'Stimulus/S  4', 'Stimulus/S  6']\n"
     ]
    },
    {
     "output_type": "stream",
     "name": "stderr",
     "text": [
      "c:\\Users\\lukas\\Dokumente\\projects\\scp-act\\daten_analyse\\notebooks\\..\\actionpy\\prepro\\prepro.py:23: RuntimeWarning: Online software filter detected. Using software filter settings and ignoring hardware values\n",
      "  raw = mne.io.read_raw_brainvision(pth, preload=True, verbose=verbose)\n",
      "c:\\Users\\lukas\\Dokumente\\projects\\scp-act\\daten_analyse\\notebooks\\..\\actionpy\\prepro\\prepro.py:23: RuntimeWarning: Channels contain different highpass filters. Lowest (weakest) filter setting (0.00 Hz) will be stored.\n",
      "  raw = mne.io.read_raw_brainvision(pth, preload=True, verbose=verbose)\n",
      "c:\\Users\\lukas\\Dokumente\\projects\\scp-act\\daten_analyse\\notebooks\\..\\actionpy\\prepro\\prepro.py:23: RuntimeWarning: Channels contain different lowpass filters. Highest (weakest) filter setting (500.00 Hz, Nyquist limit) will be stored.\n",
      "  raw = mne.io.read_raw_brainvision(pth, preload=True, verbose=verbose)\n",
      "c:\\Users\\lukas\\Dokumente\\projects\\scp-act\\daten_analyse\\notebooks\\..\\actionpy\\prepro\\prepro.py:124: RuntimeWarning: The unit for channel(s) VEOG has changed from C to V.\n",
      "  raw.set_channel_types(mapping)\n",
      "c:\\Users\\lukas\\Dokumente\\projects\\scp-act\\daten_analyse\\notebooks\\..\\actionpy\\prepro\\prepro.py:39: RuntimeWarning: filter_length (660001) is longer than the signal (421009), distortion is likely. Reduce filter length or filter a longer signal.\n",
      "  raw.filter(0.005, 45, n_jobs=-1, verbose=verbose)\n"
     ]
    },
    {
     "output_type": "stream",
     "name": "stdout",
     "text": [
      "Not setting metadata\n",
      "Not setting metadata\n",
      "1 matching events found\n",
      "No baseline correction applied\n",
      "0 projection items activated\n",
      "0 bad epochs dropped\n"
     ]
    },
    {
     "output_type": "stream",
     "name": "stderr",
     "text": [
      "[Parallel(n_jobs=8)]: Using backend LokyBackend with 8 concurrent workers.\n"
     ]
    },
    {
     "output_type": "stream",
     "name": "stdout",
     "text": [
      "Interpolating bad channels\n",
      "    Automatic origin fit: head of radius 92.0 mm\n",
      "Computing interpolation matrix from 27 sensor positions\n",
      "Interpolating 4 sensors\n",
      "Creating RawArray with float64 data, n_channels=1, n_times=42101\n"
     ]
    },
    {
     "output_type": "stream",
     "name": "stderr",
     "text": [
      "[Parallel(n_jobs=8)]: Done   1 tasks      | elapsed:    2.0s\n",
      "[Parallel(n_jobs=8)]: Done   1 out of   1 | elapsed:    2.0s finished\n"
     ]
    },
    {
     "output_type": "stream",
     "name": "stdout",
     "text": [
      "    Range : 0 ... 42100 =      0.000 ...   421.000 secs\n",
      "Ready.\n"
     ]
    },
    {
     "output_type": "stream",
     "name": "stderr",
     "text": [
      "c:\\Users\\lukas\\Dokumente\\projects\\scp-act\\daten_analyse\\notebooks\\..\\actionpy\\prepro\\prepro.py:147: DeprecationWarning: Version 0.23 introduced max_iter=\"auto\", setting max_iter=1000 for `fastica` and max_iter=500 for `infomax` and `picard`. The current default of max_iter=200 will be changed to \"auto\" in version 0.24.\n",
      "  ica = mne.preprocessing.ICA(n_components=n_components,\n"
     ]
    },
    {
     "output_type": "stream",
     "name": "stdout",
     "text": [
      "\t drmt_01\n",
      "D:/data/scp-act/S02/S02_drmt_01.vhdr\n"
     ]
    },
    {
     "output_type": "stream",
     "name": "stderr",
     "text": [
      "c:\\Users\\lukas\\Dokumente\\projects\\scp-act\\daten_analyse\\notebooks\\..\\actionpy\\prepro\\prepro.py:23: RuntimeWarning: Online software filter detected. Using software filter settings and ignoring hardware values\n",
      "  raw = mne.io.read_raw_brainvision(pth, preload=True, verbose=verbose)\n",
      "c:\\Users\\lukas\\Dokumente\\projects\\scp-act\\daten_analyse\\notebooks\\..\\actionpy\\prepro\\prepro.py:23: RuntimeWarning: Channels contain different highpass filters. Lowest (weakest) filter setting (0.00 Hz) will be stored.\n",
      "  raw = mne.io.read_raw_brainvision(pth, preload=True, verbose=verbose)\n",
      "c:\\Users\\lukas\\Dokumente\\projects\\scp-act\\daten_analyse\\notebooks\\..\\actionpy\\prepro\\prepro.py:23: RuntimeWarning: Channels contain different lowpass filters. Highest (weakest) filter setting (500.00 Hz, Nyquist limit) will be stored.\n",
      "  raw = mne.io.read_raw_brainvision(pth, preload=True, verbose=verbose)\n"
     ]
    },
    {
     "output_type": "stream",
     "name": "stdout",
     "text": [
      "Used Annotations descriptions: ['New Segment/', 'Stimulus/S  2', 'Stimulus/S  4']\n"
     ]
    },
    {
     "output_type": "stream",
     "name": "stderr",
     "text": [
      "c:\\Users\\lukas\\Dokumente\\projects\\scp-act\\daten_analyse\\notebooks\\..\\actionpy\\prepro\\prepro.py:124: RuntimeWarning: The unit for channel(s) VEOG has changed from C to V.\n",
      "  raw.set_channel_types(mapping)\n",
      "c:\\Users\\lukas\\Dokumente\\projects\\scp-act\\daten_analyse\\notebooks\\..\\actionpy\\prepro\\prepro.py:39: RuntimeWarning: filter_length (660001) is longer than the signal (420000), distortion is likely. Reduce filter length or filter a longer signal.\n",
      "  raw.filter(0.005, 45, n_jobs=-1, verbose=verbose)\n"
     ]
    },
    {
     "output_type": "stream",
     "name": "stdout",
     "text": [
      "Not setting metadata\n",
      "Not setting metadata\n",
      "1 matching events found\n",
      "No baseline correction applied\n",
      "0 projection items activated\n",
      "0 bad epochs dropped\n"
     ]
    },
    {
     "output_type": "stream",
     "name": "stderr",
     "text": [
      "[Parallel(n_jobs=8)]: Using backend LokyBackend with 8 concurrent workers.\n"
     ]
    },
    {
     "output_type": "stream",
     "name": "stdout",
     "text": [
      "Interpolating bad channels\n",
      "    Automatic origin fit: head of radius 92.0 mm\n",
      "Computing interpolation matrix from 30 sensor positions\n",
      "Interpolating 1 sensors\n",
      "Creating RawArray with float64 data, n_channels=1, n_times=42000\n"
     ]
    },
    {
     "output_type": "stream",
     "name": "stderr",
     "text": [
      "[Parallel(n_jobs=8)]: Done   1 tasks      | elapsed:    2.2s\n",
      "[Parallel(n_jobs=8)]: Done   1 out of   1 | elapsed:    2.2s finished\n"
     ]
    },
    {
     "output_type": "stream",
     "name": "stdout",
     "text": [
      "    Range : 0 ... 41999 =      0.000 ...   419.990 secs\n",
      "Ready.\n"
     ]
    },
    {
     "output_type": "stream",
     "name": "stderr",
     "text": [
      "c:\\Users\\lukas\\Dokumente\\projects\\scp-act\\daten_analyse\\notebooks\\..\\actionpy\\prepro\\prepro.py:147: DeprecationWarning: Version 0.23 introduced max_iter=\"auto\", setting max_iter=1000 for `fastica` and max_iter=500 for `infomax` and `picard`. The current default of max_iter=200 will be changed to \"auto\" in version 0.24.\n",
      "  ica = mne.preprocessing.ICA(n_components=n_components,\n"
     ]
    },
    {
     "output_type": "stream",
     "name": "stdout",
     "text": [
      "\t drmt_02\n",
      "D:/data/scp-act/S02/S02_drmt_02.vhdr\n"
     ]
    },
    {
     "output_type": "stream",
     "name": "stderr",
     "text": [
      "c:\\Users\\lukas\\Dokumente\\projects\\scp-act\\daten_analyse\\notebooks\\..\\actionpy\\prepro\\prepro.py:23: RuntimeWarning: Online software filter detected. Using software filter settings and ignoring hardware values\n",
      "  raw = mne.io.read_raw_brainvision(pth, preload=True, verbose=verbose)\n",
      "c:\\Users\\lukas\\Dokumente\\projects\\scp-act\\daten_analyse\\notebooks\\..\\actionpy\\prepro\\prepro.py:23: RuntimeWarning: Channels contain different highpass filters. Lowest (weakest) filter setting (0.00 Hz) will be stored.\n",
      "  raw = mne.io.read_raw_brainvision(pth, preload=True, verbose=verbose)\n",
      "c:\\Users\\lukas\\Dokumente\\projects\\scp-act\\daten_analyse\\notebooks\\..\\actionpy\\prepro\\prepro.py:23: RuntimeWarning: Channels contain different lowpass filters. Highest (weakest) filter setting (500.00 Hz, Nyquist limit) will be stored.\n",
      "  raw = mne.io.read_raw_brainvision(pth, preload=True, verbose=verbose)\n"
     ]
    },
    {
     "output_type": "stream",
     "name": "stdout",
     "text": [
      "Used Annotations descriptions: ['New Segment/', 'Stimulus/S  2', 'Stimulus/S  4']\n"
     ]
    },
    {
     "output_type": "stream",
     "name": "stderr",
     "text": [
      "c:\\Users\\lukas\\Dokumente\\projects\\scp-act\\daten_analyse\\notebooks\\..\\actionpy\\prepro\\prepro.py:124: RuntimeWarning: The unit for channel(s) VEOG has changed from C to V.\n",
      "  raw.set_channel_types(mapping)\n",
      "c:\\Users\\lukas\\Dokumente\\projects\\scp-act\\daten_analyse\\notebooks\\..\\actionpy\\prepro\\prepro.py:39: RuntimeWarning: filter_length (660001) is longer than the signal (420000), distortion is likely. Reduce filter length or filter a longer signal.\n",
      "  raw.filter(0.005, 45, n_jobs=-1, verbose=verbose)\n"
     ]
    },
    {
     "output_type": "stream",
     "name": "stdout",
     "text": [
      "Not setting metadata\n",
      "Not setting metadata\n",
      "1 matching events found\n",
      "No baseline correction applied\n",
      "0 projection items activated\n",
      "0 bad epochs dropped\n"
     ]
    },
    {
     "output_type": "stream",
     "name": "stderr",
     "text": [
      "[Parallel(n_jobs=8)]: Using backend LokyBackend with 8 concurrent workers.\n"
     ]
    },
    {
     "output_type": "stream",
     "name": "stdout",
     "text": [
      "Creating RawArray with float64 data, n_channels=1, n_times=42000\n",
      "    Range : 0 ... 41999 =      0.000 ...   419.990 secs\n",
      "Ready.\n"
     ]
    },
    {
     "output_type": "stream",
     "name": "stderr",
     "text": [
      "[Parallel(n_jobs=8)]: Done   1 tasks      | elapsed:    1.9s\n",
      "[Parallel(n_jobs=8)]: Done   1 out of   1 | elapsed:    1.9s finished\n",
      "C:\\Users\\lukas\\virtualenvs\\eegenv\\lib\\site-packages\\autoreject\\ransac.py:226: RuntimeWarning: No bad channels to interpolate. Doing nothing...\n",
      "  epochs.interpolate_bads(reset_bads=True)\n",
      "c:\\Users\\lukas\\Dokumente\\projects\\scp-act\\daten_analyse\\notebooks\\..\\actionpy\\prepro\\prepro.py:147: DeprecationWarning: Version 0.23 introduced max_iter=\"auto\", setting max_iter=1000 for `fastica` and max_iter=500 for `infomax` and `picard`. The current default of max_iter=200 will be changed to \"auto\" in version 0.24.\n",
      "  ica = mne.preprocessing.ICA(n_components=n_components,\n"
     ]
    },
    {
     "output_type": "stream",
     "name": "stdout",
     "text": [
      "\t vol_01\n",
      "D:/data/scp-act/S02/S02_vol_01.vhdr\n",
      "Used Annotations descriptions: ['New Segment/', 'Response/R  7', 'Response/R 15', 'Stimulus/S  2', 'Stimulus/S  4']\n"
     ]
    },
    {
     "output_type": "stream",
     "name": "stderr",
     "text": [
      "c:\\Users\\lukas\\Dokumente\\projects\\scp-act\\daten_analyse\\notebooks\\..\\actionpy\\prepro\\prepro.py:23: RuntimeWarning: Online software filter detected. Using software filter settings and ignoring hardware values\n",
      "  raw = mne.io.read_raw_brainvision(pth, preload=True, verbose=verbose)\n",
      "c:\\Users\\lukas\\Dokumente\\projects\\scp-act\\daten_analyse\\notebooks\\..\\actionpy\\prepro\\prepro.py:23: RuntimeWarning: Channels contain different highpass filters. Lowest (weakest) filter setting (0.00 Hz) will be stored.\n",
      "  raw = mne.io.read_raw_brainvision(pth, preload=True, verbose=verbose)\n",
      "c:\\Users\\lukas\\Dokumente\\projects\\scp-act\\daten_analyse\\notebooks\\..\\actionpy\\prepro\\prepro.py:23: RuntimeWarning: Channels contain different lowpass filters. Highest (weakest) filter setting (500.00 Hz, Nyquist limit) will be stored.\n",
      "  raw = mne.io.read_raw_brainvision(pth, preload=True, verbose=verbose)\n",
      "c:\\Users\\lukas\\Dokumente\\projects\\scp-act\\daten_analyse\\notebooks\\..\\actionpy\\prepro\\prepro.py:124: RuntimeWarning: The unit for channel(s) VEOG has changed from C to V.\n",
      "  raw.set_channel_types(mapping)\n",
      "c:\\Users\\lukas\\Dokumente\\projects\\scp-act\\daten_analyse\\notebooks\\..\\actionpy\\prepro\\prepro.py:39: RuntimeWarning: filter_length (660001) is longer than the signal (420999), distortion is likely. Reduce filter length or filter a longer signal.\n",
      "  raw.filter(0.005, 45, n_jobs=-1, verbose=verbose)\n"
     ]
    },
    {
     "output_type": "stream",
     "name": "stdout",
     "text": [
      "Not setting metadata\n",
      "Not setting metadata\n",
      "1 matching events found\n",
      "No baseline correction applied\n",
      "0 projection items activated\n",
      "0 bad epochs dropped\n"
     ]
    },
    {
     "output_type": "stream",
     "name": "stderr",
     "text": [
      "[Parallel(n_jobs=8)]: Using backend LokyBackend with 8 concurrent workers.\n"
     ]
    },
    {
     "output_type": "stream",
     "name": "stdout",
     "text": [
      "Interpolating bad channels\n",
      "    Automatic origin fit: head of radius 92.0 mm\n",
      "Computing interpolation matrix from 30 sensor positions\n",
      "Interpolating 1 sensors\n",
      "Creating RawArray with float64 data, n_channels=1, n_times=42100\n"
     ]
    },
    {
     "output_type": "stream",
     "name": "stderr",
     "text": [
      "[Parallel(n_jobs=8)]: Done   1 tasks      | elapsed:    1.9s\n",
      "[Parallel(n_jobs=8)]: Done   1 out of   1 | elapsed:    1.9s finished\n"
     ]
    },
    {
     "output_type": "stream",
     "name": "stdout",
     "text": [
      "    Range : 0 ... 42099 =      0.000 ...   420.990 secs\n",
      "Ready.\n"
     ]
    },
    {
     "output_type": "stream",
     "name": "stderr",
     "text": [
      "c:\\Users\\lukas\\Dokumente\\projects\\scp-act\\daten_analyse\\notebooks\\..\\actionpy\\prepro\\prepro.py:147: DeprecationWarning: Version 0.23 introduced max_iter=\"auto\", setting max_iter=1000 for `fastica` and max_iter=500 for `infomax` and `picard`. The current default of max_iter=200 will be changed to \"auto\" in version 0.24.\n",
      "  ica = mne.preprocessing.ICA(n_components=n_components,\n"
     ]
    },
    {
     "output_type": "stream",
     "name": "stdout",
     "text": [
      "\t vol_02\n",
      "D:/data/scp-act/S02/S02_vol_02.vhdr\n",
      "Used Annotations descriptions: ['New Segment/', 'Response/R  7', 'Response/R 15', 'Stimulus/S  2', 'Stimulus/S  4']\n"
     ]
    },
    {
     "output_type": "stream",
     "name": "stderr",
     "text": [
      "c:\\Users\\lukas\\Dokumente\\projects\\scp-act\\daten_analyse\\notebooks\\..\\actionpy\\prepro\\prepro.py:23: RuntimeWarning: Online software filter detected. Using software filter settings and ignoring hardware values\n",
      "  raw = mne.io.read_raw_brainvision(pth, preload=True, verbose=verbose)\n",
      "c:\\Users\\lukas\\Dokumente\\projects\\scp-act\\daten_analyse\\notebooks\\..\\actionpy\\prepro\\prepro.py:23: RuntimeWarning: Channels contain different highpass filters. Lowest (weakest) filter setting (0.00 Hz) will be stored.\n",
      "  raw = mne.io.read_raw_brainvision(pth, preload=True, verbose=verbose)\n",
      "c:\\Users\\lukas\\Dokumente\\projects\\scp-act\\daten_analyse\\notebooks\\..\\actionpy\\prepro\\prepro.py:23: RuntimeWarning: Channels contain different lowpass filters. Highest (weakest) filter setting (500.00 Hz, Nyquist limit) will be stored.\n",
      "  raw = mne.io.read_raw_brainvision(pth, preload=True, verbose=verbose)\n",
      "c:\\Users\\lukas\\Dokumente\\projects\\scp-act\\daten_analyse\\notebooks\\..\\actionpy\\prepro\\prepro.py:124: RuntimeWarning: The unit for channel(s) VEOG has changed from C to V.\n",
      "  raw.set_channel_types(mapping)\n",
      "c:\\Users\\lukas\\Dokumente\\projects\\scp-act\\daten_analyse\\notebooks\\..\\actionpy\\prepro\\prepro.py:39: RuntimeWarning: filter_length (660001) is longer than the signal (421008), distortion is likely. Reduce filter length or filter a longer signal.\n",
      "  raw.filter(0.005, 45, n_jobs=-1, verbose=verbose)\n"
     ]
    },
    {
     "output_type": "stream",
     "name": "stdout",
     "text": [
      "Not setting metadata\n",
      "Not setting metadata\n",
      "1 matching events found\n",
      "No baseline correction applied\n",
      "0 projection items activated\n",
      "0 bad epochs dropped\n"
     ]
    },
    {
     "output_type": "stream",
     "name": "stderr",
     "text": [
      "[Parallel(n_jobs=8)]: Using backend LokyBackend with 8 concurrent workers.\n"
     ]
    },
    {
     "output_type": "stream",
     "name": "stdout",
     "text": [
      "Interpolating bad channels\n",
      "    Automatic origin fit: head of radius 92.0 mm\n",
      "Computing interpolation matrix from 28 sensor positions\n",
      "Interpolating 3 sensors\n",
      "Creating RawArray with float64 data, n_channels=1, n_times=42101\n"
     ]
    },
    {
     "output_type": "stream",
     "name": "stderr",
     "text": [
      "[Parallel(n_jobs=8)]: Done   1 tasks      | elapsed:    1.9s\n",
      "[Parallel(n_jobs=8)]: Done   1 out of   1 | elapsed:    1.9s finished\n"
     ]
    },
    {
     "output_type": "stream",
     "name": "stdout",
     "text": [
      "    Range : 0 ... 42100 =      0.000 ...   421.000 secs\n",
      "Ready.\n"
     ]
    },
    {
     "output_type": "stream",
     "name": "stderr",
     "text": [
      "c:\\Users\\lukas\\Dokumente\\projects\\scp-act\\daten_analyse\\notebooks\\..\\actionpy\\prepro\\prepro.py:147: DeprecationWarning: Version 0.23 introduced max_iter=\"auto\", setting max_iter=1000 for `fastica` and max_iter=500 for `infomax` and `picard`. The current default of max_iter=200 will be changed to \"auto\" in version 0.24.\n",
      "  ica = mne.preprocessing.ICA(n_components=n_components,\n"
     ]
    }
   ],
   "metadata": {}
  },
  {
   "cell_type": "markdown",
   "source": [
    "# Visualize Raw SCPs\r\n",
    "Lets visualize the global field power of one condition for each participant."
   ],
   "metadata": {}
  },
  {
   "cell_type": "code",
   "execution_count": 25,
   "source": [
    "%matplotlib qt\r\n",
    "plt.figure()\r\n",
    "# ylim = (-90, 90)\r\n",
    "scale = 1e6\r\n",
    "n = len(data)\r\n",
    "for i, sub in enumerate(data):\r\n",
    "    num = n*100 + 11 + i\r\n",
    "    raw = sub[2]\r\n",
    "    plt.subplot(num)\r\n",
    "    plt.plot(raw.times, np.std(raw.copy().filter(None, 0.01).pick_types(eeg=True)._data, axis=0)*scale)\r\n",
    "plt.tight_layout()\r\n"
   ],
   "outputs": [],
   "metadata": {}
  },
  {
   "cell_type": "markdown",
   "source": [
    "# Global Descriptors\r\n",
    "## Calculation"
   ],
   "metadata": {}
  },
  {
   "cell_type": "code",
   "execution_count": 17,
   "source": [
    "from nolds import sampen\r\n",
    "from actionpy.analysis import run_length_encoding, omega_descriptor, sigma_descriptor, phi_descriptor, average_phase_synchrony\r\n",
    "\r\n",
    "metrics = (omega_descriptor, sigma_descriptor, phi_descriptor, average_phase_synchrony)\r\n",
    "metric_names = ('omega', 'sigma', 'phi', 'phase_synchrony')\r\n",
    "condition_names = ['Rest_1', 'Rest_2', 'Expectancy_1', 'Relaxation_1', 'Relaxation_2', 'Volition_1', 'Volition_2']\r\n",
    "\r\n",
    "n = 14\r\n",
    "results_gd = dict()\r\n",
    "for cond, filename in enumerate(condition_names):\r\n",
    "    print(filename)\r\n",
    "    results_gd[filename] = dict()\r\n",
    "    for metric, metric_name in zip(metrics, metric_names):\r\n",
    "        results_gd[filename][metric_name] = []\r\n",
    "        for subject in data:\r\n",
    "            subject_data = subject[cond].copy().filter(None, 0.5).pick_types(eeg=True)._data\r\n",
    "            if metric_name == 'phi':\r\n",
    "                result = np.median( [metric(portion, sfreq=100) for portion in np.array_split(subject_data, n, axis=1)] )\r\n",
    "            else:\r\n",
    "                result = np.median( [metric(portion) for portion in np.array_split(subject_data, n, axis=1)] )\r\n",
    "            results_gd[filename][metric_name].append(result)\r\n"
   ],
   "outputs": [
    {
     "output_type": "stream",
     "name": "stdout",
     "text": [
      "Rest_1\n",
      "Rest_2\n",
      "Expectancy_1\n",
      "Relaxation_1\n",
      "Relaxation_2\n",
      "Volition_1\n",
      "Volition_2\n"
     ]
    }
   ],
   "metadata": {}
  },
  {
   "cell_type": "markdown",
   "source": [
    "## Visualize Global Descriptors"
   ],
   "metadata": {}
  },
  {
   "cell_type": "code",
   "execution_count": 19,
   "source": [
    "import seaborn as sns\r\n",
    "condition_names = ['Rest_1', 'Rest_2', 'Expectancy_1', 'Relaxation_1', 'Relaxation_2', 'Volition_1', 'Volition_2']\r\n",
    "metric_names = ('omega', 'sigma', 'phi', 'phase_synchrony')\r\n",
    "\r\n",
    "for metric_name in metric_names:\r\n",
    "    plotvals = [np.real(results_gd[condition_name][metric_name]) for condition_name in condition_names]\r\n",
    "\r\n",
    "    plt.figure(figsize=(13, 7))\r\n",
    "    sns.boxplot(data=plotvals)\r\n",
    "    sns.stripplot(data=plotvals, size=8, color=\".3\", linewidth=1)\r\n",
    "\r\n",
    "    plt.xticks(ticks=np.arange(len(plotvals)), labels=condition_names)\r\n",
    "    plt.title(metric_name)\r\n",
    "    plt.tight_layout()\r\n",
    "\r\n",
    "multipage(r'C:\\Users\\lukas\\Dokumente\\projects\\scp-act\\figures\\report_marianne\\global\\global_descriptors.pdf', png=True)"
   ],
   "outputs": [
    {
     "output_type": "stream",
     "name": "stdout",
     "text": [
      "saving fig Figure(1300x700)\n",
      "\n",
      "saving fig Figure(1300x700)\n",
      "\n",
      "saving fig Figure(1300x700)\n",
      "\n",
      "saving fig Figure(1300x700)\n",
      "\n"
     ]
    }
   ],
   "metadata": {}
  },
  {
   "cell_type": "markdown",
   "source": [
    "## Single Channel Metrics"
   ],
   "metadata": {}
  },
  {
   "cell_type": "code",
   "execution_count": 21,
   "source": [
    "from nolds import sampen\r\n",
    "from actionpy.analysis import run_length_encoding, get_acfw, get_ptp_amplitudes, get_ptp_latencies\r\n",
    "\r\n",
    "metrics = (sampen, run_length_encoding, np.std, get_acfw, lambda x: np.median(get_ptp_amplitudes(x)), lambda x: np.median(get_ptp_latencies(x)))\r\n",
    "metric_names = ('Sample_Entropy', 'Run_Length_Encoding', 'Standard_Deviation', 'ACFW', 'P2P Amplitudes Median', 'P2P Latencies Median')\r\n",
    "\r\n",
    "condition_names = ['Rest_1', 'Rest_2', 'Expectancy_1', 'Relaxation_1', 'Relaxation_2', 'Volition_1', 'Volition_2']\r\n",
    "\r\n",
    "ch_name = 'Resp'\r\n",
    "ch_idx = data[0][0].ch_names.index(ch_name)\r\n",
    "\r\n",
    "n = 14\r\n",
    "results_sc = dict()\r\n",
    "for cond, filename in enumerate(condition_names):\r\n",
    "    print(filename)\r\n",
    "    results_sc[filename] = dict()\r\n",
    "    for metric, metric_name in zip(metrics, metric_names):\r\n",
    "        results_sc[filename][metric_name] = []\r\n",
    "        for subject in data:\r\n",
    "            subject_data = subject[cond].copy().filter(None, 0.5)._data\r\n",
    "            result = np.median( [metric(portion[ch_idx]) for portion in np.array_split(subject_data, n, axis=1)] )\r\n",
    "            results_sc[filename][metric_name].append(result)"
   ],
   "outputs": [
    {
     "output_type": "stream",
     "name": "stdout",
     "text": [
      "Rest_1\n",
      "Rest_2\n",
      "Expectancy_1\n",
      "Relaxation_1\n",
      "Relaxation_2\n",
      "Volition_1\n",
      "Volition_2\n"
     ]
    }
   ],
   "metadata": {}
  },
  {
   "cell_type": "markdown",
   "source": [
    "# Visualize Single-Channel Metrics"
   ],
   "metadata": {}
  },
  {
   "cell_type": "code",
   "execution_count": 24,
   "source": [
    "for metric_name in metric_names:\r\n",
    "    plotvals = [np.real(results_sc[condition_name][metric_name]) for condition_name in condition_names]\r\n",
    "\r\n",
    "    plt.figure(figsize=(13, 7))\r\n",
    "    sns.boxplot(data=plotvals)\r\n",
    "    sns.stripplot(data=plotvals, size=8, color=\".3\", linewidth=1)\r\n",
    "\r\n",
    "    plt.xticks(ticks=np.arange(len(plotvals)), labels=condition_names)\r\n",
    "    plt.title(metric_name)\r\n",
    "    plt.tight_layout()\r\n",
    "\r\n",
    "multipage(r'C:\\Users\\lukas\\Dokumente\\projects\\scp-act\\figures\\report_marianne\\single_channel\\Resp\\single_channel_metrics.pdf', png=True)"
   ],
   "outputs": [
    {
     "output_type": "stream",
     "name": "stdout",
     "text": [
      "saving fig Figure(1300x700)\n",
      "\n",
      "saving fig Figure(1300x700)\n",
      "\n",
      "saving fig Figure(1300x700)\n",
      "\n",
      "saving fig Figure(1300x700)\n",
      "\n",
      "saving fig Figure(1300x700)\n",
      "\n",
      "saving fig Figure(1300x700)\n",
      "\n",
      "saving fig Figure(1300x700)\n",
      "\n",
      "saving fig Figure(1300x700)\n",
      "\n",
      "saving fig Figure(1300x700)\n",
      "\n",
      "saving fig Figure(1300x700)\n",
      "\n",
      "saving fig Figure(1300x700)\n",
      "\n",
      "saving fig Figure(1300x700)\n",
      "\n"
     ]
    }
   ],
   "metadata": {}
  },
  {
   "cell_type": "code",
   "execution_count": null,
   "source": [
    "import seaborn as sns\r\n",
    "\r\n",
    "for channel_name in ch_names:\r\n",
    "    for metric_name in metric_names:\r\n",
    "        plt.figure()\r\n",
    "        sns.boxplot(data=results[channel_name][metric_name])\r\n",
    "        plt.xticks(ticks=np.arange(len(files)), labels=files)\r\n",
    "        plt.title(f'{metric_name} {channel_name}')\r\n",
    "        "
   ],
   "outputs": [],
   "metadata": {}
  },
  {
   "cell_type": "code",
   "execution_count": null,
   "source": [
    "from scipy.stats import pearsonr\r\n",
    "from sklearn.metrics import mutual_info_score\r\n",
    "\r\n",
    "\r\n",
    "ch1 = raw.ch_names.index('Cz')\r\n",
    "ch2 = raw.ch_names.index('Resp')\r\n",
    "mutual_information_scores = []\r\n",
    "correlation_scores = []\r\n",
    "for cnd in range(4):\r\n",
    "    mi = mutual_info_score(datas[cnd][ch1], datas[cnd][ch2])\r\n",
    "    r = pearsonr(datas[cnd][ch1], datas[cnd][ch2])\r\n",
    "    print(cnd, mi)\r\n",
    "    mutual_information_scores.append(mi)\r\n",
    "    correlation_scores.append(r[0])\r\n",
    "\r\n",
    "plt.figure()\r\n",
    "plt.bar(files, mutual_information_scores)\r\n",
    "plt.ylim(min(mutual_information_scores)*0.99, max(mutual_information_scores)*1.01)\r\n",
    "\r\n",
    "plt.figure()\r\n",
    "plt.bar(files, correlation_scores)\r\n"
   ],
   "outputs": [],
   "metadata": {}
  },
  {
   "cell_type": "markdown",
   "source": [
    "# Coupling between SCP and Respiration"
   ],
   "metadata": {}
  },
  {
   "cell_type": "code",
   "execution_count": null,
   "source": [
    "np.array_split(data, n, axis=1)[0].shape"
   ],
   "outputs": [],
   "metadata": {}
  },
  {
   "cell_type": "code",
   "execution_count": null,
   "source": [
    "corrs = []\r\n",
    "psis = []\r\n",
    "n = 14\r\n",
    "for raw in raws:\r\n",
    "    data = raw.copy().filter(None, 0.5, n_jobs=-1).pick(['Cz', 'Resp'])._data\r\n",
    "    corr = [mne.connectivity.envelope_correlation(np.expand_dims(portion, axis=0))[0,1] for portion in np.array_split(data, n, axis=1)]\r\n",
    "    corrs.append( corr )\r\n",
    "    \r\n",
    "    \r\n",
    "    indices = (np.array([0]), np.array([1]))\r\n",
    "    psi = [np.squeeze(mne.connectivity.phase_slope_index(np.expand_dims(portion, axis=0), indices=indices)[0]) for portion in np.array_split(data, n, axis=1)]\r\n",
    "    psis.append(psi)\r\n",
    "\r\n",
    "results['coupling'] = corrs\r\n",
    "results['direction'] = psis\r\n"
   ],
   "outputs": [],
   "metadata": {}
  },
  {
   "cell_type": "code",
   "execution_count": null,
   "source": [
    "%matplotlib qt\r\n",
    "\r\n",
    "plt.figure()\r\n",
    "plt.subplot(211)\r\n",
    "sns.boxplot(data=results['coupling'])\r\n",
    "plt.title(f'Envelope Correlation')\r\n",
    "\r\n",
    "plt.subplot(212)\r\n",
    "sns.boxplot(data=results['direction'])\r\n",
    "plt.title(f'Phase Slope Index')\r\n",
    "\r\n",
    "plt.tight_layout()\r\n"
   ],
   "outputs": [],
   "metadata": {}
  },
  {
   "cell_type": "code",
   "execution_count": 172,
   "source": [
    "from scipy.signal import find_peaks\r\n",
    "raw = data[0][0]\r\n",
    "arr = raw.copy().filter(None, 0.5).pick(['Cz'])._data[0]\r\n",
    "\r\n",
    "\r\n",
    "\r\n",
    "amps = get_ptp_amplitudes(arr)\r\n",
    "print(amps)"
   ],
   "outputs": [],
   "metadata": {}
  },
  {
   "cell_type": "code",
   "execution_count": 175,
   "source": [
    "amps = get_ptp_amplitudes(arr)"
   ],
   "outputs": [
    {
     "output_type": "execute_result",
     "data": {
      "text/plain": [
       "array([1.00895385e-05, 1.35358625e-05, 8.62183332e-06, 2.72146272e-05,\n",
       "       3.24071482e-07, 1.84678090e-05, 1.62310312e-05, 1.88398698e-05,\n",
       "       1.40142593e-05, 3.59547509e-06, 2.86531200e-05, 1.26917550e-06,\n",
       "       2.71139110e-05, 7.14943018e-06, 3.30785407e-06, 2.02380506e-05,\n",
       "       2.23137867e-05, 2.24088621e-05, 1.63538039e-05, 1.59946010e-05,\n",
       "       2.92357402e-05, 9.41596368e-06, 1.18291384e-05, 2.88924150e-06,\n",
       "       2.07938672e-05, 2.96949382e-05, 3.03009923e-05, 2.60861390e-06,\n",
       "       2.00260243e-05, 2.01928814e-05, 1.39104537e-05, 3.03065156e-05,\n",
       "       1.18884440e-05, 7.84882095e-06, 1.36633549e-05, 1.79700171e-05,\n",
       "       2.14428795e-06, 2.43068254e-05, 8.43113497e-06, 1.20817925e-05,\n",
       "       6.57192175e-06, 9.36987572e-06, 1.78086969e-05, 6.30662196e-06,\n",
       "       7.73619576e-05, 2.12970178e-05, 3.17209147e-05, 4.14427199e-05,\n",
       "       1.97049939e-05, 3.72250710e-05, 4.08829487e-05, 4.32061779e-06,\n",
       "       2.52562142e-05, 3.60775355e-05, 8.49024939e-06, 7.87947126e-06,\n",
       "       4.52361641e-05, 3.32133178e-06, 2.39268949e-05, 3.90692500e-05,\n",
       "       2.69376443e-05, 2.78769451e-05, 1.63127407e-05, 4.62666241e-05,\n",
       "       2.49705698e-05, 7.13779031e-06, 1.12854931e-05, 8.31023333e-06,\n",
       "       1.18413951e-05, 2.66682201e-05, 3.16548816e-05, 2.41780811e-05,\n",
       "       1.14722198e-05, 2.22953735e-06, 2.25269809e-05, 1.89144396e-05,\n",
       "       1.02194187e-05, 2.13354399e-05, 1.60562178e-05, 2.41235431e-05,\n",
       "       3.89145473e-05, 1.65560270e-05, 1.47499467e-06, 2.83120775e-05,\n",
       "       1.64961271e-05, 1.65454366e-05, 1.06070729e-05, 2.00763721e-05,\n",
       "       2.46570782e-05, 4.15196458e-05, 1.66282511e-05, 2.18508315e-05,\n",
       "       3.57166656e-05, 2.17118291e-05, 2.07014823e-06, 1.60253336e-05,\n",
       "       4.14764671e-05, 2.77772979e-05, 1.82256305e-05, 2.32452946e-05,\n",
       "       2.71680336e-05, 1.15555905e-05, 1.43935725e-05, 3.61279381e-06,\n",
       "       2.84834624e-05, 1.98641254e-05, 5.70344364e-06, 3.10617541e-05,\n",
       "       2.90264381e-05, 1.71147037e-06, 1.96791590e-05, 1.93338159e-05,\n",
       "       1.98924656e-06, 1.17689453e-05, 2.82369183e-07, 2.88627994e-05,\n",
       "       5.73587097e-06, 1.06817739e-05, 2.80928372e-05, 1.74030790e-05,\n",
       "       3.93657516e-05, 4.16133288e-05, 1.89114726e-05, 5.26238034e-05,\n",
       "       3.92500755e-05, 4.56309993e-06, 6.93540710e-06, 1.43620598e-05,\n",
       "       2.26646115e-05, 1.95994660e-05, 5.31551617e-06, 1.38695716e-05,\n",
       "       3.66278257e-05, 1.28719822e-05, 6.75777460e-06, 2.16183991e-05,\n",
       "       1.48133250e-05, 2.41797989e-05, 3.56456557e-05, 2.08102019e-05,\n",
       "       1.18173326e-05, 3.83838012e-05, 7.77876418e-06, 2.76686740e-06,\n",
       "       5.88538665e-06])"
      ]
     },
     "metadata": {},
     "execution_count": 175
    }
   ],
   "metadata": {}
  },
  {
   "cell_type": "code",
   "execution_count": 169,
   "source": [
    "peak_to_peak_latencies = []\r\n",
    "peak_to_peak_amplitudes = []\r\n",
    "\r\n",
    "for pos_peak_idx in pos_peak_idc:\r\n",
    "    \r\n",
    "    next_negative_idc = np.where(neg_peak_idc>pos_peak_idx)[0]\r\n",
    "    \r\n",
    "    if next_negative_idc.size==0:\r\n",
    "        break\r\n",
    "    else:\r\n",
    "        next_negative_idx = next_negative_idc[0]\r\n",
    "    \r\n",
    "    neg_peak_idx = neg_peak_idc[next_negative_idx]\r\n",
    "\r\n",
    "    idx_pair = (pos_peak_idx, neg_peak_idx)\r\n",
    "    diff = np.abs(idx_pair[0]-idx_pair[1])\r\n",
    "    \r\n",
    "    peak_to_peak_latencies.append( diff / raw.info['sfreq'] )\r\n",
    "    amp_diff = np.abs(arr[pos_peak_idx] - arr[neg_peak_idx])\r\n",
    "    peak_to_peak_amplitudes.append( amp_diff )\r\n",
    "\r\n",
    "\r\n",
    "\r\n",
    "\r\n",
    "peak_to_peak_latencies = np.array(peak_to_peak_latencies)\r\n",
    "peak_to_peak_amplitudes = np.array(peak_to_peak_amplitudes)\r\n"
   ],
   "outputs": [],
   "metadata": {}
  },
  {
   "cell_type": "code",
   "execution_count": 168,
   "source": [
    "plt.figure()\r\n",
    "sns.distplot(peak_to_peak_amplitudes*1e6)\r\n",
    "plt.tight_layout()\r\n",
    "\r\n",
    "plt.figure()\r\n",
    "sns.distplot(peak_to_peak_latencies)\r\n",
    "plt.tight_layout()"
   ],
   "outputs": [
    {
     "output_type": "stream",
     "name": "stderr",
     "text": [
      "C:\\Users\\lukas\\virtualenvs\\eegenv\\lib\\site-packages\\seaborn\\distributions.py:2557: FutureWarning: `distplot` is a deprecated function and will be removed in a future version. Please adapt your code to use either `displot` (a figure-level function with similar flexibility) or `histplot` (an axes-level function for histograms).\n",
      "  warnings.warn(msg, FutureWarning)\n",
      "C:\\Users\\lukas\\virtualenvs\\eegenv\\lib\\site-packages\\seaborn\\distributions.py:2557: FutureWarning: `distplot` is a deprecated function and will be removed in a future version. Please adapt your code to use either `displot` (a figure-level function with similar flexibility) or `histplot` (an axes-level function for histograms).\n",
      "  warnings.warn(msg, FutureWarning)\n"
     ]
    }
   ],
   "metadata": {}
  },
  {
   "cell_type": "code",
   "execution_count": null,
   "source": [],
   "outputs": [],
   "metadata": {}
  }
 ],
 "metadata": {
  "orig_nbformat": 4,
  "language_info": {
   "name": "python",
   "version": "3.8.10",
   "mimetype": "text/x-python",
   "codemirror_mode": {
    "name": "ipython",
    "version": 3
   },
   "pygments_lexer": "ipython3",
   "nbconvert_exporter": "python",
   "file_extension": ".py"
  },
  "kernelspec": {
   "name": "python3",
   "display_name": "Python 3.8.10 64-bit ('eegenv': virtualenvwrapper)"
  },
  "interpreter": {
   "hash": "b3ab6a524f8fdefa2fba1a0ab7407e8dbd386bc97b991bfb50d01a11f6cd0d5f"
  }
 },
 "nbformat": 4,
 "nbformat_minor": 2
}