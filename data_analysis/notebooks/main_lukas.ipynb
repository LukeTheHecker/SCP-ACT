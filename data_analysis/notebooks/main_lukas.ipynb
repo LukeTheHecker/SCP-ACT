{
 "cells": [
  {
   "cell_type": "code",
   "execution_count": 1,
   "source": [
    "import sys; sys.path.insert(1, '../')\r\n",
    "import numpy as np\r\n",
    "import mne\r\n",
    "import matplotlib.pyplot as plt\r\n",
    "import seaborn as sns\r\n",
    "from actionpy.prepro import get_data, preprocessing\r\n",
    "from actionpy.util import multipage\r\n",
    "sns.set(font_scale=1.25, font='georgia', style='whitegrid')\r\n",
    "\r\n",
    "%load_ext autoreload\r\n",
    "%autoreload 2"
   ],
   "outputs": [],
   "metadata": {}
  },
  {
   "cell_type": "code",
   "execution_count": 43,
   "source": [
    "n = 5\r\n",
    "plot_vals = [\r\n",
    "    list(np.random.randn(n)+0.6),\r\n",
    "    list(np.random.randn(n)-0.6),\r\n",
    "    list(np.random.randn(n)+0.),\r\n",
    "    list(np.random.randn(n)+0.3),\r\n",
    "    list(np.random.randn(n)+1.),\r\n",
    "]\r\n",
    "\r\n",
    "plt.figure(figsize=(13, 7))\r\n",
    "ax_strip = sns.stripplot(data=plot_vals, size=8, color=\".3\", linewidth=1, jitter=False)\r\n",
    "ax_box = sns.boxplot(data=plot_vals)\r\n",
    "\r\n",
    "for isub in range(n):\r\n",
    "    vals = [cond[isub] for cond in plot_vals]\r\n",
    "    plt.plot(np.arange(len(plot_vals)), vals, color='k', linewidth=2)\r\n"
   ],
   "outputs": [
    {
     "output_type": "display_data",
     "data": {
      "text/plain": [
       "<Figure size 936x504 with 1 Axes>"
      ],
      "image/png": "",
      "image/svg+xml": "<?xml version=\"1.0\" encoding=\"utf-8\" standalone=\"no\"?>\r\n<!DOCTYPE svg PUBLIC \"-//W3C//DTD SVG 1.1//EN\"\r\n  \"http://www.w3.org/Graphics/SVG/1.1/DTD/svg11.dtd\">\r\n<svg height=\"417.796172pt\" version=\"1.1\" viewBox=\"0 0 764.051172 417.796172\" width=\"764.051172pt\" xmlns=\"http://www.w3.org/2000/svg\" xmlns:xlink=\"http://www.w3.org/1999/xlink\">\r\n <metadata>\r\n  <rdf:RDF xmlns:cc=\"http://creativecommons.org/ns#\" xmlns:dc=\"http://purl.org/dc/elements/1.1/\" xmlns:rdf=\"http://www.w3.org/1999/02/22-rdf-syntax-ns#\">\r\n   <cc:Work>\r\n    <dc:type rdf:resource=\"http://purl.org/dc/dcmitype/StillImage\"/>\r\n    <dc:date>2021-07-28T09:29:46.301975</dc:date>\r\n    <dc:format>image/svg+xml</dc:format>\r\n    <dc:creator>\r\n     <cc:Agent>\r\n      <dc:title>Matplotlib v3.4.2, https://matplotlib.org/</dc:title>\r\n     </cc:Agent>\r\n    </dc:creator>\r\n   </cc:Work>\r\n  </rdf:RDF>\r\n </metadata>\r\n <defs>\r\n  <style type=\"text/css\">*{stroke-linecap:butt;stroke-linejoin:round;}</style>\r\n </defs>\r\n <g id=\"figure_1\">\r\n  <g id=\"patch_1\">\r\n   <path d=\"M 0 417.796172 \r\nL 764.051172 417.796172 \r\nL 764.051172 0 \r\nL 0 0 \r\nz\r\n\" style=\"fill:#ffffff;\"/>\r\n  </g>\r\n  <g id=\"axes_1\">\r\n   <g id=\"patch_2\">\r\n    <path d=\"M 31.451172 387.72 \r\nL 756.851172 387.72 \r\nL 756.851172 7.2 \r\nL 31.451172 7.2 \r\nz\r\n\" style=\"fill:#ffffff;\"/>\r\n   </g>\r\n   <g id=\"matplotlib.axis_1\">\r\n    <g id=\"xtick_1\">\r\n     <g id=\"text_1\">\r\n      <!-- 0 -->\r\n      <g style=\"fill:#262626;\" transform=\"translate(99.771641 407.614141)scale(0.1375 -0.1375)\">\r\n       <defs>\r\n        <path d=\"M 3209 2919 \r\nQ 3409 2678 3507 2354 \r\nQ 3606 2031 3606 1678 \r\nQ 3606 1253 3484 917 \r\nQ 3363 581 3150 359 \r\nQ 2931 131 2631 15 \r\nQ 2331 -100 1963 -100 \r\nQ 1559 -100 1243 34 \r\nQ 928 169 731 403 \r\nQ 525 647 423 973 \r\nQ 322 1300 322 1678 \r\nQ 322 2050 420 2362 \r\nQ 519 2675 728 2928 \r\nQ 928 3172 1243 3312 \r\nQ 1559 3453 1966 3453 \r\nQ 2394 3453 2700 3309 \r\nQ 3006 3166 3209 2919 \r\nz\r\nM 2916 1678 \r\nQ 2916 2422 2661 2831 \r\nQ 2406 3241 1969 3241 \r\nQ 1525 3241 1269 2831 \r\nQ 1013 2422 1013 1678 \r\nQ 1013 972 1258 542 \r\nQ 1503 113 1963 113 \r\nQ 2422 113 2669 542 \r\nQ 2916 972 2916 1678 \r\nz\r\n\" id=\"Georgia-30\" transform=\"scale(0.015625)\"/>\r\n       </defs>\r\n       <use xlink:href=\"#Georgia-30\"/>\r\n      </g>\r\n     </g>\r\n    </g>\r\n    <g id=\"xtick_2\">\r\n     <g id=\"text_2\">\r\n      <!-- 1 -->\r\n      <g style=\"fill:#262626;\" transform=\"translate(246.11707 407.614141)scale(0.1375 -0.1375)\">\r\n       <defs>\r\n        <path d=\"M 2528 0 \r\nL 422 0 \r\nL 422 222 \r\nQ 516 228 714 248 \r\nQ 913 269 988 291 \r\nQ 1084 322 1136 392 \r\nQ 1188 463 1188 603 \r\nL 1188 2797 \r\nL 409 2797 \r\nL 409 3059 \r\nL 581 3059 \r\nQ 919 3059 1186 3184 \r\nQ 1453 3309 1569 3453 \r\nL 1828 3453 \r\nQ 1819 3250 1809 2978 \r\nQ 1800 2706 1800 2491 \r\nL 1800 638 \r\nQ 1800 528 1848 442 \r\nQ 1897 356 1988 316 \r\nQ 2069 281 2253 253 \r\nQ 2438 225 2528 222 \r\nL 2528 0 \r\nz\r\n\" id=\"Georgia-31\" transform=\"scale(0.015625)\"/>\r\n       </defs>\r\n       <use xlink:href=\"#Georgia-31\"/>\r\n      </g>\r\n     </g>\r\n    </g>\r\n    <g id=\"xtick_3\">\r\n     <g id=\"text_3\">\r\n      <!-- 2 -->\r\n      <g style=\"fill:#262626;\" transform=\"translate(390.31084 407.614141)scale(0.1375 -0.1375)\">\r\n       <defs>\r\n        <path d=\"M 3272 0 \r\nL 344 0 \r\nL 344 425 \r\nQ 428 522 578 642 \r\nQ 728 763 934 903 \r\nQ 1059 988 1234 1088 \r\nQ 1409 1188 1631 1306 \r\nQ 1878 1438 2011 1538 \r\nQ 2144 1638 2253 1784 \r\nQ 2325 1881 2369 2026 \r\nQ 2413 2172 2413 2441 \r\nQ 2413 2831 2203 3014 \r\nQ 1994 3197 1666 3197 \r\nQ 1463 3197 1281 3117 \r\nQ 1100 3038 1009 2897 \r\nQ 1031 2797 1064 2659 \r\nQ 1097 2522 1097 2391 \r\nQ 1097 2272 998 2180 \r\nQ 900 2088 706 2088 \r\nQ 550 2088 465 2195 \r\nQ 381 2303 381 2484 \r\nQ 381 2653 475 2823 \r\nQ 569 2994 744 3138 \r\nQ 916 3278 1169 3365 \r\nQ 1422 3453 1716 3453 \r\nQ 2356 3453 2732 3167 \r\nQ 3109 2881 3109 2403 \r\nQ 3109 2175 3042 1987 \r\nQ 2975 1800 2825 1656 \r\nQ 2659 1497 2437 1383 \r\nQ 2216 1269 1759 1066 \r\nQ 1488 944 1253 811 \r\nQ 1019 678 869 553 \r\nL 3272 553 \r\nL 3272 0 \r\nz\r\n\" id=\"Georgia-32\" transform=\"scale(0.015625)\"/>\r\n       </defs>\r\n       <use xlink:href=\"#Georgia-32\"/>\r\n      </g>\r\n     </g>\r\n    </g>\r\n    <g id=\"xtick_4\">\r\n     <g id=\"text_4\">\r\n      <!-- 3 -->\r\n      <g style=\"fill:#262626;\" transform=\"translate(535.438105 407.614141)scale(0.1375 -0.1375)\">\r\n       <defs>\r\n        <path d=\"M 1522 -1141 \r\nQ 1228 -1141 984 -1067 \r\nQ 741 -994 566 -869 \r\nQ 391 -744 295 -581 \r\nQ 200 -419 200 -247 \r\nQ 200 -94 275 29 \r\nQ 350 153 516 153 \r\nQ 703 153 801 61 \r\nQ 900 -31 900 -150 \r\nQ 900 -250 867 -403 \r\nQ 834 -556 816 -622 \r\nQ 838 -650 895 -697 \r\nQ 953 -744 1038 -781 \r\nQ 1138 -828 1247 -856 \r\nQ 1356 -884 1556 -884 \r\nQ 1744 -884 1917 -821 \r\nQ 2091 -759 2222 -622 \r\nQ 2359 -478 2436 -286 \r\nQ 2513 -94 2513 219 \r\nQ 2513 388 2477 553 \r\nQ 2441 719 2344 841 \r\nQ 2247 963 2080 1030 \r\nQ 1913 1097 1656 1097 \r\nL 1247 1097 \r\nL 1247 1456 \r\nL 1519 1456 \r\nQ 1950 1456 2140 1693 \r\nQ 2331 1931 2331 2409 \r\nQ 2331 2800 2147 2998 \r\nQ 1963 3197 1625 3197 \r\nQ 1463 3197 1358 3158 \r\nQ 1253 3119 1188 3081 \r\nQ 1109 3038 1059 2984 \r\nQ 1009 2931 984 2906 \r\nQ 1006 2806 1037 2661 \r\nQ 1069 2516 1069 2384 \r\nQ 1069 2269 970 2176 \r\nQ 872 2084 681 2084 \r\nQ 516 2084 439 2203 \r\nQ 363 2322 363 2478 \r\nQ 363 2641 453 2809 \r\nQ 544 2978 722 3125 \r\nQ 900 3272 1156 3362 \r\nQ 1413 3453 1747 3453 \r\nQ 2131 3453 2382 3339 \r\nQ 2634 3225 2778 3063 \r\nQ 2919 2903 2972 2728 \r\nQ 3025 2553 3025 2428 \r\nQ 3025 2272 2981 2114 \r\nQ 2938 1956 2838 1822 \r\nQ 2728 1675 2548 1554 \r\nQ 2369 1434 2097 1359 \r\nL 2097 1309 \r\nQ 2272 1294 2470 1231 \r\nQ 2669 1169 2828 1047 \r\nQ 2994 919 3100 717 \r\nQ 3206 516 3206 206 \r\nQ 3206 -394 2725 -767 \r\nQ 2244 -1141 1522 -1141 \r\nz\r\n\" id=\"Georgia-33\" transform=\"scale(0.015625)\"/>\r\n       </defs>\r\n       <use xlink:href=\"#Georgia-33\"/>\r\n      </g>\r\n     </g>\r\n    </g>\r\n    <g id=\"xtick_5\">\r\n     <g id=\"text_5\">\r\n      <!-- 4 -->\r\n      <g style=\"fill:#262626;\" transform=\"translate(680.426797 407.614141)scale(0.1375 -0.1375)\">\r\n       <defs>\r\n        <path d=\"M 3388 281 \r\nL 2753 281 \r\nL 2753 -1141 \r\nL 2153 -1141 \r\nL 2153 281 \r\nL 153 281 \r\nL 153 763 \r\nL 2344 3434 \r\nL 2753 3434 \r\nL 2753 691 \r\nL 3388 691 \r\nL 3388 281 \r\nz\r\nM 2153 691 \r\nL 2153 2738 \r\nL 466 691 \r\nL 2153 691 \r\nz\r\n\" id=\"Georgia-34\" transform=\"scale(0.015625)\"/>\r\n       </defs>\r\n       <use xlink:href=\"#Georgia-34\"/>\r\n      </g>\r\n     </g>\r\n    </g>\r\n   </g>\r\n   <g id=\"matplotlib.axis_2\">\r\n    <g id=\"ytick_1\">\r\n     <g id=\"line2d_1\">\r\n      <path clip-path=\"url(#pa2df4e9dce)\" d=\"M 31.451172 326.564732 \r\nL 756.851172 326.564732 \r\n\" style=\"fill:none;stroke:#cccccc;stroke-linecap:round;\"/>\r\n     </g>\r\n     <g id=\"text_6\">\r\n      <!-- −1 -->\r\n      <g style=\"fill:#262626;\" transform=\"translate(7.2 331.761802)scale(0.1375 -0.1375)\">\r\n       <defs>\r\n        <path d=\"M 3650 1553 \r\nL 466 1553 \r\nL 466 1944 \r\nL 3650 1944 \r\nL 3650 1553 \r\nz\r\n\" id=\"Georgia-2212\" transform=\"scale(0.015625)\"/>\r\n       </defs>\r\n       <use xlink:href=\"#Georgia-2212\"/>\r\n       <use x=\"64.306641\" xlink:href=\"#Georgia-31\"/>\r\n      </g>\r\n     </g>\r\n    </g>\r\n    <g id=\"ytick_2\">\r\n     <g id=\"line2d_2\">\r\n      <path clip-path=\"url(#pa2df4e9dce)\" d=\"M 31.451172 244.075572 \r\nL 756.851172 244.075572 \r\n\" style=\"fill:none;stroke:#cccccc;stroke-linecap:round;\"/>\r\n     </g>\r\n     <g id=\"text_7\">\r\n      <!-- 0 -->\r\n      <g style=\"fill:#262626;\" transform=\"translate(13.512109 249.272643)scale(0.1375 -0.1375)\">\r\n       <use xlink:href=\"#Georgia-30\"/>\r\n      </g>\r\n     </g>\r\n    </g>\r\n    <g id=\"ytick_3\">\r\n     <g id=\"line2d_3\">\r\n      <path clip-path=\"url(#pa2df4e9dce)\" d=\"M 31.451172 161.586413 \r\nL 756.851172 161.586413 \r\n\" style=\"fill:none;stroke:#cccccc;stroke-linecap:round;\"/>\r\n     </g>\r\n     <g id=\"text_8\">\r\n      <!-- 1 -->\r\n      <g style=\"fill:#262626;\" transform=\"translate(16.042969 166.783483)scale(0.1375 -0.1375)\">\r\n       <use xlink:href=\"#Georgia-31\"/>\r\n      </g>\r\n     </g>\r\n    </g>\r\n    <g id=\"ytick_4\">\r\n     <g id=\"line2d_4\">\r\n      <path clip-path=\"url(#pa2df4e9dce)\" d=\"M 31.451172 79.097253 \r\nL 756.851172 79.097253 \r\n\" style=\"fill:none;stroke:#cccccc;stroke-linecap:round;\"/>\r\n     </g>\r\n     <g id=\"text_9\">\r\n      <!-- 2 -->\r\n      <g style=\"fill:#262626;\" transform=\"translate(14.270508 84.294323)scale(0.1375 -0.1375)\">\r\n       <use xlink:href=\"#Georgia-32\"/>\r\n      </g>\r\n     </g>\r\n    </g>\r\n   </g>\r\n   <g id=\"patch_3\">\r\n    <path clip-path=\"url(#pa2df4e9dce)\" d=\"M 45.959172 181.499582 \r\nL 162.023172 181.499582 \r\nL 162.023172 146.462758 \r\nL 45.959172 146.462758 \r\nL 45.959172 181.499582 \r\nz\r\n\" style=\"fill:#5875a4;stroke:#4c4c4c;stroke-linejoin:miter;stroke-width:1.5;\"/>\r\n   </g>\r\n   <g id=\"patch_4\">\r\n    <path clip-path=\"url(#pa2df4e9dce)\" d=\"M 191.039172 323.627236 \r\nL 307.103172 323.627236 \r\nL 307.103172 276.518289 \r\nL 191.039172 276.518289 \r\nL 191.039172 323.627236 \r\nz\r\n\" style=\"fill:#cc8963;stroke:#4c4c4c;stroke-linejoin:miter;stroke-width:1.5;\"/>\r\n   </g>\r\n   <g id=\"patch_5\">\r\n    <path clip-path=\"url(#pa2df4e9dce)\" d=\"M 336.119172 327.851424 \r\nL 452.183172 327.851424 \r\nL 452.183172 263.587054 \r\nL 336.119172 263.587054 \r\nL 336.119172 327.851424 \r\nz\r\n\" style=\"fill:#5f9e6e;stroke:#4c4c4c;stroke-linejoin:miter;stroke-width:1.5;\"/>\r\n   </g>\r\n   <g id=\"patch_6\">\r\n    <path clip-path=\"url(#pa2df4e9dce)\" d=\"M 481.199172 245.734117 \r\nL 597.263172 245.734117 \r\nL 597.263172 125.967432 \r\nL 481.199172 125.967432 \r\nL 481.199172 245.734117 \r\nz\r\n\" style=\"fill:#b55d60;stroke:#4c4c4c;stroke-linejoin:miter;stroke-width:1.5;\"/>\r\n   </g>\r\n   <g id=\"patch_7\">\r\n    <path clip-path=\"url(#pa2df4e9dce)\" d=\"M 626.279172 220.895685 \r\nL 742.343172 220.895685 \r\nL 742.343172 109.733335 \r\nL 626.279172 109.733335 \r\nL 626.279172 220.895685 \r\nz\r\n\" style=\"fill:#857aab;stroke:#4c4c4c;stroke-linejoin:miter;stroke-width:1.5;\"/>\r\n   </g>\r\n   <g id=\"line2d_5\">\r\n    <path clip-path=\"url(#pa2df4e9dce)\" d=\"M 103.991172 181.499582 \r\nL 103.991172 181.499582 \r\n\" style=\"fill:none;stroke:#4c4c4c;stroke-linecap:round;stroke-width:1.5;\"/>\r\n   </g>\r\n   <g id=\"line2d_6\">\r\n    <path clip-path=\"url(#pa2df4e9dce)\" d=\"M 103.991172 146.462758 \r\nL 103.991172 146.462758 \r\n\" style=\"fill:none;stroke:#4c4c4c;stroke-linecap:round;stroke-width:1.5;\"/>\r\n   </g>\r\n   <g id=\"line2d_7\">\r\n    <path clip-path=\"url(#pa2df4e9dce)\" d=\"M 74.975172 181.499582 \r\nL 133.007172 181.499582 \r\n\" style=\"fill:none;stroke:#4c4c4c;stroke-linecap:round;stroke-width:1.5;\"/>\r\n   </g>\r\n   <g id=\"line2d_8\">\r\n    <path clip-path=\"url(#pa2df4e9dce)\" d=\"M 74.975172 146.462758 \r\nL 133.007172 146.462758 \r\n\" style=\"fill:none;stroke:#4c4c4c;stroke-linecap:round;stroke-width:1.5;\"/>\r\n   </g>\r\n   <g id=\"line2d_9\">\r\n    <defs>\r\n     <path d=\"M 0 3.535534 \r\nL 2.12132 0 \r\nL 0 -3.535534 \r\nL -2.12132 0 \r\nz\r\n\" id=\"m34d592297e\" style=\"stroke:#4c4c4c;stroke-linejoin:miter;\"/>\r\n    </defs>\r\n    <g clip-path=\"url(#pa2df4e9dce)\">\r\n     <use style=\"fill:#4c4c4c;stroke:#4c4c4c;stroke-linejoin:miter;\" x=\"103.991172\" xlink:href=\"#m34d592297e\" y=\"245.434849\"/>\r\n     <use style=\"fill:#4c4c4c;stroke:#4c4c4c;stroke-linejoin:miter;\" x=\"103.991172\" xlink:href=\"#m34d592297e\" y=\"24.496364\"/>\r\n    </g>\r\n   </g>\r\n   <g id=\"line2d_10\">\r\n    <path clip-path=\"url(#pa2df4e9dce)\" d=\"M 249.071172 323.627236 \r\nL 249.071172 370.423636 \r\n\" style=\"fill:none;stroke:#4c4c4c;stroke-linecap:round;stroke-width:1.5;\"/>\r\n   </g>\r\n   <g id=\"line2d_11\">\r\n    <path clip-path=\"url(#pa2df4e9dce)\" d=\"M 249.071172 276.518289 \r\nL 249.071172 243.524146 \r\n\" style=\"fill:none;stroke:#4c4c4c;stroke-linecap:round;stroke-width:1.5;\"/>\r\n   </g>\r\n   <g id=\"line2d_12\">\r\n    <path clip-path=\"url(#pa2df4e9dce)\" d=\"M 220.055172 370.423636 \r\nL 278.087172 370.423636 \r\n\" style=\"fill:none;stroke:#4c4c4c;stroke-linecap:round;stroke-width:1.5;\"/>\r\n   </g>\r\n   <g id=\"line2d_13\">\r\n    <path clip-path=\"url(#pa2df4e9dce)\" d=\"M 220.055172 243.524146 \r\nL 278.087172 243.524146 \r\n\" style=\"fill:none;stroke:#4c4c4c;stroke-linecap:round;stroke-width:1.5;\"/>\r\n   </g>\r\n   <g id=\"line2d_14\"/>\r\n   <g id=\"line2d_15\">\r\n    <path clip-path=\"url(#pa2df4e9dce)\" d=\"M 394.151172 327.851424 \r\nL 394.151172 333.129768 \r\n\" style=\"fill:none;stroke:#4c4c4c;stroke-linecap:round;stroke-width:1.5;\"/>\r\n   </g>\r\n   <g id=\"line2d_16\">\r\n    <path clip-path=\"url(#pa2df4e9dce)\" d=\"M 394.151172 263.587054 \r\nL 394.151172 223.21838 \r\n\" style=\"fill:none;stroke:#4c4c4c;stroke-linecap:round;stroke-width:1.5;\"/>\r\n   </g>\r\n   <g id=\"line2d_17\">\r\n    <path clip-path=\"url(#pa2df4e9dce)\" d=\"M 365.135172 333.129768 \r\nL 423.167172 333.129768 \r\n\" style=\"fill:none;stroke:#4c4c4c;stroke-linecap:round;stroke-width:1.5;\"/>\r\n   </g>\r\n   <g id=\"line2d_18\">\r\n    <path clip-path=\"url(#pa2df4e9dce)\" d=\"M 365.135172 223.21838 \r\nL 423.167172 223.21838 \r\n\" style=\"fill:none;stroke:#4c4c4c;stroke-linecap:round;stroke-width:1.5;\"/>\r\n   </g>\r\n   <g id=\"line2d_19\"/>\r\n   <g id=\"line2d_20\">\r\n    <path clip-path=\"url(#pa2df4e9dce)\" d=\"M 539.231172 245.734117 \r\nL 539.231172 280.794332 \r\n\" style=\"fill:none;stroke:#4c4c4c;stroke-linecap:round;stroke-width:1.5;\"/>\r\n   </g>\r\n   <g id=\"line2d_21\">\r\n    <path clip-path=\"url(#pa2df4e9dce)\" d=\"M 539.231172 125.967432 \r\nL 539.231172 110.75623 \r\n\" style=\"fill:none;stroke:#4c4c4c;stroke-linecap:round;stroke-width:1.5;\"/>\r\n   </g>\r\n   <g id=\"line2d_22\">\r\n    <path clip-path=\"url(#pa2df4e9dce)\" d=\"M 510.215172 280.794332 \r\nL 568.247172 280.794332 \r\n\" style=\"fill:none;stroke:#4c4c4c;stroke-linecap:round;stroke-width:1.5;\"/>\r\n   </g>\r\n   <g id=\"line2d_23\">\r\n    <path clip-path=\"url(#pa2df4e9dce)\" d=\"M 510.215172 110.75623 \r\nL 568.247172 110.75623 \r\n\" style=\"fill:none;stroke:#4c4c4c;stroke-linecap:round;stroke-width:1.5;\"/>\r\n   </g>\r\n   <g id=\"line2d_24\"/>\r\n   <g id=\"line2d_25\">\r\n    <path clip-path=\"url(#pa2df4e9dce)\" d=\"M 684.311172 220.895685 \r\nL 684.311172 348.719625 \r\n\" style=\"fill:none;stroke:#4c4c4c;stroke-linecap:round;stroke-width:1.5;\"/>\r\n   </g>\r\n   <g id=\"line2d_26\">\r\n    <path clip-path=\"url(#pa2df4e9dce)\" d=\"M 684.311172 109.733335 \r\nL 684.311172 72.497133 \r\n\" style=\"fill:none;stroke:#4c4c4c;stroke-linecap:round;stroke-width:1.5;\"/>\r\n   </g>\r\n   <g id=\"line2d_27\">\r\n    <path clip-path=\"url(#pa2df4e9dce)\" d=\"M 655.295172 348.719625 \r\nL 713.327172 348.719625 \r\n\" style=\"fill:none;stroke:#4c4c4c;stroke-linecap:round;stroke-width:1.5;\"/>\r\n   </g>\r\n   <g id=\"line2d_28\">\r\n    <path clip-path=\"url(#pa2df4e9dce)\" d=\"M 655.295172 72.497133 \r\nL 713.327172 72.497133 \r\n\" style=\"fill:none;stroke:#4c4c4c;stroke-linecap:round;stroke-width:1.5;\"/>\r\n   </g>\r\n   <g id=\"line2d_29\"/>\r\n   <g id=\"line2d_30\">\r\n    <path clip-path=\"url(#pa2df4e9dce)\" d=\"M 103.991172 154.886372 \r\nL 249.071172 243.524146 \r\nL 394.151172 306.512733 \r\nL 539.231172 245.734117 \r\nL 684.311172 182.678267 \r\n\" style=\"fill:none;stroke:#1a1a1a;stroke-linecap:round;stroke-width:2;\"/>\r\n   </g>\r\n   <g id=\"line2d_31\">\r\n    <path clip-path=\"url(#pa2df4e9dce)\" d=\"M 103.991172 245.434849 \r\nL 249.071172 323.627236 \r\nL 394.151172 223.21838 \r\nL 539.231172 125.967432 \r\nL 684.311172 72.497133 \r\n\" style=\"fill:none;stroke:#1a1a1a;stroke-linecap:round;stroke-width:2;\"/>\r\n   </g>\r\n   <g id=\"line2d_32\">\r\n    <path clip-path=\"url(#pa2df4e9dce)\" d=\"M 103.991172 181.499582 \r\nL 249.071172 370.423636 \r\nL 394.151172 327.851424 \r\nL 539.231172 110.75623 \r\nL 684.311172 220.895685 \r\n\" style=\"fill:none;stroke:#1a1a1a;stroke-linecap:round;stroke-width:2;\"/>\r\n   </g>\r\n   <g id=\"line2d_33\">\r\n    <path clip-path=\"url(#pa2df4e9dce)\" d=\"M 103.991172 146.462758 \r\nL 249.071172 320.887165 \r\nL 394.151172 263.587054 \r\nL 539.231172 280.794332 \r\nL 684.311172 348.719625 \r\n\" style=\"fill:none;stroke:#1a1a1a;stroke-linecap:round;stroke-width:2;\"/>\r\n   </g>\r\n   <g id=\"line2d_34\">\r\n    <path clip-path=\"url(#pa2df4e9dce)\" d=\"M 103.991172 24.496364 \r\nL 249.071172 276.518289 \r\nL 394.151172 333.129768 \r\nL 539.231172 196.940413 \r\nL 684.311172 109.733335 \r\n\" style=\"fill:none;stroke:#1a1a1a;stroke-linecap:round;stroke-width:2;\"/>\r\n   </g>\r\n   <g id=\"line2d_35\">\r\n    <path clip-path=\"url(#pa2df4e9dce)\" d=\"M 45.959172 154.886372 \r\nL 162.023172 154.886372 \r\n\" style=\"fill:none;stroke:#4c4c4c;stroke-linecap:round;stroke-width:1.5;\"/>\r\n   </g>\r\n   <g id=\"line2d_36\">\r\n    <path clip-path=\"url(#pa2df4e9dce)\" d=\"M 191.039172 320.887165 \r\nL 307.103172 320.887165 \r\n\" style=\"fill:none;stroke:#4c4c4c;stroke-linecap:round;stroke-width:1.5;\"/>\r\n   </g>\r\n   <g id=\"line2d_37\">\r\n    <path clip-path=\"url(#pa2df4e9dce)\" d=\"M 336.119172 306.512733 \r\nL 452.183172 306.512733 \r\n\" style=\"fill:none;stroke:#4c4c4c;stroke-linecap:round;stroke-width:1.5;\"/>\r\n   </g>\r\n   <g id=\"line2d_38\">\r\n    <path clip-path=\"url(#pa2df4e9dce)\" d=\"M 481.199172 196.940413 \r\nL 597.263172 196.940413 \r\n\" style=\"fill:none;stroke:#4c4c4c;stroke-linecap:round;stroke-width:1.5;\"/>\r\n   </g>\r\n   <g id=\"line2d_39\">\r\n    <path clip-path=\"url(#pa2df4e9dce)\" d=\"M 626.279172 182.678267 \r\nL 742.343172 182.678267 \r\n\" style=\"fill:none;stroke:#4c4c4c;stroke-linecap:round;stroke-width:1.5;\"/>\r\n   </g>\r\n   <g id=\"patch_8\">\r\n    <path d=\"M 31.451172 387.72 \r\nL 31.451172 7.2 \r\n\" style=\"fill:none;stroke:#cccccc;stroke-linecap:square;stroke-linejoin:miter;stroke-width:1.25;\"/>\r\n   </g>\r\n   <g id=\"patch_9\">\r\n    <path d=\"M 756.851172 387.72 \r\nL 756.851172 7.2 \r\n\" style=\"fill:none;stroke:#cccccc;stroke-linecap:square;stroke-linejoin:miter;stroke-width:1.25;\"/>\r\n   </g>\r\n   <g id=\"patch_10\">\r\n    <path d=\"M 31.451172 387.72 \r\nL 756.851172 387.72 \r\n\" style=\"fill:none;stroke:#cccccc;stroke-linecap:square;stroke-linejoin:miter;stroke-width:1.25;\"/>\r\n   </g>\r\n   <g id=\"patch_11\">\r\n    <path d=\"M 31.451172 7.2 \r\nL 756.851172 7.2 \r\n\" style=\"fill:none;stroke:#cccccc;stroke-linecap:square;stroke-linejoin:miter;stroke-width:1.25;\"/>\r\n   </g>\r\n   <g id=\"PathCollection_1\">\r\n    <defs>\r\n     <path d=\"M 0 4 \r\nC 1.060812 4 2.078319 3.578535 2.828427 2.828427 \r\nC 3.578535 2.078319 4 1.060812 4 -0 \r\nC 4 -1.060812 3.578535 -2.078319 2.828427 -2.828427 \r\nC 2.078319 -3.578535 1.060812 -4 0 -4 \r\nC -1.060812 -4 -2.078319 -3.578535 -2.828427 -2.828427 \r\nC -3.578535 -2.078319 -4 -1.060812 -4 0 \r\nC -4 1.060812 -3.578535 2.078319 -2.828427 2.828427 \r\nC -2.078319 3.578535 -1.060812 4 0 4 \r\nz\r\n\" id=\"C0_0_e5db3a9b16\"/>\r\n    </defs>\r\n    <g clip-path=\"url(#pa2df4e9dce)\">\r\n     <use style=\"fill:#4c4c4c;stroke:#2e2e2e;\" x=\"116.403826\" xlink:href=\"#C0_0_e5db3a9b16\" y=\"154.886372\"/>\r\n    </g>\r\n    <g clip-path=\"url(#pa2df4e9dce)\">\r\n     <use style=\"fill:#4c4c4c;stroke:#2e2e2e;\" x=\"100.822809\" xlink:href=\"#C0_0_e5db3a9b16\" y=\"245.434849\"/>\r\n    </g>\r\n    <g clip-path=\"url(#pa2df4e9dce)\">\r\n     <use style=\"fill:#4c4c4c;stroke:#2e2e2e;\" x=\"100.812505\" xlink:href=\"#C0_0_e5db3a9b16\" y=\"181.499582\"/>\r\n    </g>\r\n    <g clip-path=\"url(#pa2df4e9dce)\">\r\n     <use style=\"fill:#4c4c4c;stroke:#2e2e2e;\" x=\"113.396475\" xlink:href=\"#C0_0_e5db3a9b16\" y=\"146.462758\"/>\r\n    </g>\r\n    <g clip-path=\"url(#pa2df4e9dce)\">\r\n     <use style=\"fill:#4c4c4c;stroke:#2e2e2e;\" x=\"114.111304\" xlink:href=\"#C0_0_e5db3a9b16\" y=\"24.496364\"/>\r\n    </g>\r\n   </g>\r\n   <g id=\"PathCollection_2\">\r\n    <defs>\r\n     <path d=\"M 0 4 \r\nC 1.060812 4 2.078319 3.578535 2.828427 2.828427 \r\nC 3.578535 2.078319 4 1.060812 4 -0 \r\nC 4 -1.060812 3.578535 -2.078319 2.828427 -2.828427 \r\nC 2.078319 -3.578535 1.060812 -4 0 -4 \r\nC -1.060812 -4 -2.078319 -3.578535 -2.828427 -2.828427 \r\nC -3.578535 -2.078319 -4 -1.060812 -4 0 \r\nC -4 1.060812 -3.578535 2.078319 -2.828427 2.828427 \r\nC -2.078319 3.578535 -1.060812 4 0 4 \r\nz\r\n\" id=\"C1_0_741d6d484c\"/>\r\n    </defs>\r\n    <g clip-path=\"url(#pa2df4e9dce)\">\r\n     <use style=\"fill:#4c4c4c;stroke:#2e2e2e;\" x=\"245.503622\" xlink:href=\"#C1_0_741d6d484c\" y=\"243.524146\"/>\r\n    </g>\r\n    <g clip-path=\"url(#pa2df4e9dce)\">\r\n     <use style=\"fill:#4c4c4c;stroke:#2e2e2e;\" x=\"248.328686\" xlink:href=\"#C1_0_741d6d484c\" y=\"323.627236\"/>\r\n    </g>\r\n    <g clip-path=\"url(#pa2df4e9dce)\">\r\n     <use style=\"fill:#4c4c4c;stroke:#2e2e2e;\" x=\"236.15961\" xlink:href=\"#C1_0_741d6d484c\" y=\"370.423636\"/>\r\n    </g>\r\n    <g clip-path=\"url(#pa2df4e9dce)\">\r\n     <use style=\"fill:#4c4c4c;stroke:#2e2e2e;\" x=\"237.688072\" xlink:href=\"#C1_0_741d6d484c\" y=\"320.887165\"/>\r\n    </g>\r\n    <g clip-path=\"url(#pa2df4e9dce)\">\r\n     <use style=\"fill:#4c4c4c;stroke:#2e2e2e;\" x=\"237.113274\" xlink:href=\"#C1_0_741d6d484c\" y=\"276.518289\"/>\r\n    </g>\r\n   </g>\r\n   <g id=\"PathCollection_3\">\r\n    <defs>\r\n     <path d=\"M 0 4 \r\nC 1.060812 4 2.078319 3.578535 2.828427 2.828427 \r\nC 3.578535 2.078319 4 1.060812 4 -0 \r\nC 4 -1.060812 3.578535 -2.078319 2.828427 -2.828427 \r\nC 2.078319 -3.578535 1.060812 -4 0 -4 \r\nC -1.060812 -4 -2.078319 -3.578535 -2.828427 -2.828427 \r\nC -3.578535 -2.078319 -4 -1.060812 -4 0 \r\nC -4 1.060812 -3.578535 2.078319 -2.828427 2.828427 \r\nC -2.078319 3.578535 -1.060812 4 0 4 \r\nz\r\n\" id=\"C2_0_86290e7d78\"/>\r\n    </defs>\r\n    <g clip-path=\"url(#pa2df4e9dce)\">\r\n     <use style=\"fill:#4c4c4c;stroke:#2e2e2e;\" x=\"398.249769\" xlink:href=\"#C2_0_86290e7d78\" y=\"306.512733\"/>\r\n    </g>\r\n    <g clip-path=\"url(#pa2df4e9dce)\">\r\n     <use style=\"fill:#4c4c4c;stroke:#2e2e2e;\" x=\"395.955627\" xlink:href=\"#C2_0_86290e7d78\" y=\"223.21838\"/>\r\n    </g>\r\n    <g clip-path=\"url(#pa2df4e9dce)\">\r\n     <use style=\"fill:#4c4c4c;stroke:#2e2e2e;\" x=\"383.923723\" xlink:href=\"#C2_0_86290e7d78\" y=\"327.851424\"/>\r\n    </g>\r\n    <g clip-path=\"url(#pa2df4e9dce)\">\r\n     <use style=\"fill:#4c4c4c;stroke:#2e2e2e;\" x=\"394.810714\" xlink:href=\"#C2_0_86290e7d78\" y=\"263.587054\"/>\r\n    </g>\r\n    <g clip-path=\"url(#pa2df4e9dce)\">\r\n     <use style=\"fill:#4c4c4c;stroke:#2e2e2e;\" x=\"382.729769\" xlink:href=\"#C2_0_86290e7d78\" y=\"333.129768\"/>\r\n    </g>\r\n   </g>\r\n   <g id=\"PathCollection_4\">\r\n    <defs>\r\n     <path d=\"M 0 4 \r\nC 1.060812 4 2.078319 3.578535 2.828427 2.828427 \r\nC 3.578535 2.078319 4 1.060812 4 -0 \r\nC 4 -1.060812 3.578535 -2.078319 2.828427 -2.828427 \r\nC 2.078319 -3.578535 1.060812 -4 0 -4 \r\nC -1.060812 -4 -2.078319 -3.578535 -2.828427 -2.828427 \r\nC -3.578535 -2.078319 -4 -1.060812 -4 0 \r\nC -4 1.060812 -3.578535 2.078319 -2.828427 2.828427 \r\nC -2.078319 3.578535 -1.060812 4 0 4 \r\nz\r\n\" id=\"C3_0_a3843fa59f\"/>\r\n    </defs>\r\n    <g clip-path=\"url(#pa2df4e9dce)\">\r\n     <use style=\"fill:#4c4c4c;stroke:#2e2e2e;\" x=\"543.094337\" xlink:href=\"#C3_0_a3843fa59f\" y=\"245.734117\"/>\r\n    </g>\r\n    <g clip-path=\"url(#pa2df4e9dce)\">\r\n     <use style=\"fill:#4c4c4c;stroke:#2e2e2e;\" x=\"537.738924\" xlink:href=\"#C3_0_a3843fa59f\" y=\"125.967432\"/>\r\n    </g>\r\n    <g clip-path=\"url(#pa2df4e9dce)\">\r\n     <use style=\"fill:#4c4c4c;stroke:#2e2e2e;\" x=\"535.226254\" xlink:href=\"#C3_0_a3843fa59f\" y=\"110.75623\"/>\r\n    </g>\r\n    <g clip-path=\"url(#pa2df4e9dce)\">\r\n     <use style=\"fill:#4c4c4c;stroke:#2e2e2e;\" x=\"541.935719\" xlink:href=\"#C3_0_a3843fa59f\" y=\"280.794332\"/>\r\n    </g>\r\n    <g clip-path=\"url(#pa2df4e9dce)\">\r\n     <use style=\"fill:#4c4c4c;stroke:#2e2e2e;\" x=\"536.908131\" xlink:href=\"#C3_0_a3843fa59f\" y=\"196.940413\"/>\r\n    </g>\r\n   </g>\r\n   <g id=\"PathCollection_5\">\r\n    <defs>\r\n     <path d=\"M 0 4 \r\nC 1.060812 4 2.078319 3.578535 2.828427 2.828427 \r\nC 3.578535 2.078319 4 1.060812 4 -0 \r\nC 4 -1.060812 3.578535 -2.078319 2.828427 -2.828427 \r\nC 2.078319 -3.578535 1.060812 -4 0 -4 \r\nC -1.060812 -4 -2.078319 -3.578535 -2.828427 -2.828427 \r\nC -3.578535 -2.078319 -4 -1.060812 -4 0 \r\nC -4 1.060812 -3.578535 2.078319 -2.828427 2.828427 \r\nC -2.078319 3.578535 -1.060812 4 0 4 \r\nz\r\n\" id=\"C4_0_42692c31d4\"/>\r\n    </defs>\r\n    <g clip-path=\"url(#pa2df4e9dce)\">\r\n     <use style=\"fill:#4c4c4c;stroke:#2e2e2e;\" x=\"688.898447\" xlink:href=\"#C4_0_42692c31d4\" y=\"182.678267\"/>\r\n    </g>\r\n    <g clip-path=\"url(#pa2df4e9dce)\">\r\n     <use style=\"fill:#4c4c4c;stroke:#2e2e2e;\" x=\"671.269947\" xlink:href=\"#C4_0_42692c31d4\" y=\"72.497133\"/>\r\n    </g>\r\n    <g clip-path=\"url(#pa2df4e9dce)\">\r\n     <use style=\"fill:#4c4c4c;stroke:#2e2e2e;\" x=\"696.837728\" xlink:href=\"#C4_0_42692c31d4\" y=\"220.895685\"/>\r\n    </g>\r\n    <g clip-path=\"url(#pa2df4e9dce)\">\r\n     <use style=\"fill:#4c4c4c;stroke:#2e2e2e;\" x=\"692.176366\" xlink:href=\"#C4_0_42692c31d4\" y=\"348.719625\"/>\r\n    </g>\r\n    <g clip-path=\"url(#pa2df4e9dce)\">\r\n     <use style=\"fill:#4c4c4c;stroke:#2e2e2e;\" x=\"684.236966\" xlink:href=\"#C4_0_42692c31d4\" y=\"109.733335\"/>\r\n    </g>\r\n   </g>\r\n  </g>\r\n </g>\r\n <defs>\r\n  <clipPath id=\"pa2df4e9dce\">\r\n   <rect height=\"380.52\" width=\"725.4\" x=\"31.451172\" y=\"7.2\"/>\r\n  </clipPath>\r\n </defs>\r\n</svg>\r\n"
     },
     "metadata": {}
    }
   ],
   "metadata": {}
  },
  {
   "cell_type": "markdown",
   "source": [
    "# Preprocessing"
   ],
   "metadata": {}
  },
  {
   "cell_type": "code",
   "execution_count": 2,
   "source": [
    "subjects = ['S00', 'S01', 'S02']\r\n",
    "\r\n",
    "files = ['rest_01', 'rest_02', 'exp_01', 'drmt_01', 'drmt_02', 'vol_01', 'vol_02']\r\n",
    "ending = '.vhdr'\r\n",
    "\r\n",
    "data = []\r\n",
    "for subject in subjects:\r\n",
    "    print(subject)\r\n",
    "    raws = []\r\n",
    "    base_path = 'D:/data/scp-act' + '/' + subject + '/' + subject + '_'\r\n",
    "    for file in files:\r\n",
    "        print('\\t', file)\r\n",
    "        pth_raw = base_path + file + ending\r\n",
    "        print(pth_raw)\r\n",
    "        raws.append( preprocessing(pth_raw) )\r\n",
    "    data.append(raws)"
   ],
   "outputs": [
    {
     "output_type": "stream",
     "name": "stdout",
     "text": [
      "S00\n",
      "\t rest_01\n",
      "D:/data/scp-act/S00/S00_rest_01.vhdr\n"
     ]
    },
    {
     "output_type": "stream",
     "name": "stderr",
     "text": [
      "c:\\Users\\lukas\\Dokumente\\projects\\scp-act\\data_analysis\\notebooks\\..\\actionpy\\prepro\\prepro.py:23: RuntimeWarning: Online software filter detected. Using software filter settings and ignoring hardware values\n",
      "  raw = mne.io.read_raw_brainvision(pth, preload=True, verbose=verbose)\n",
      "c:\\Users\\lukas\\Dokumente\\projects\\scp-act\\data_analysis\\notebooks\\..\\actionpy\\prepro\\prepro.py:23: RuntimeWarning: Channels contain different highpass filters. Lowest (weakest) filter setting (0.00 Hz) will be stored.\n",
      "  raw = mne.io.read_raw_brainvision(pth, preload=True, verbose=verbose)\n",
      "c:\\Users\\lukas\\Dokumente\\projects\\scp-act\\data_analysis\\notebooks\\..\\actionpy\\prepro\\prepro.py:23: RuntimeWarning: Channels contain different lowpass filters. Highest (weakest) filter setting (500.00 Hz, Nyquist limit) will be stored.\n",
      "  raw = mne.io.read_raw_brainvision(pth, preload=True, verbose=verbose)\n"
     ]
    },
    {
     "output_type": "stream",
     "name": "stdout",
     "text": [
      "Used Annotations descriptions: ['New Segment/', 'Stimulus/S  2', 'Stimulus/S  4']\n"
     ]
    },
    {
     "output_type": "stream",
     "name": "stderr",
     "text": [
      "c:\\Users\\lukas\\Dokumente\\projects\\scp-act\\data_analysis\\notebooks\\..\\actionpy\\prepro\\prepro.py:124: RuntimeWarning: The unit for channel(s) VEOG has changed from C to V.\n",
      "  raw.set_channel_types(mapping)\n",
      "c:\\Users\\lukas\\Dokumente\\projects\\scp-act\\data_analysis\\notebooks\\..\\actionpy\\prepro\\prepro.py:39: RuntimeWarning: filter_length (660001) is longer than the signal (421000), distortion is likely. Reduce filter length or filter a longer signal.\n",
      "  raw.filter(0.005, 45, n_jobs=-1, verbose=verbose)\n"
     ]
    },
    {
     "output_type": "stream",
     "name": "stdout",
     "text": [
      "Not setting metadata\n",
      "Not setting metadata\n",
      "1 matching events found\n",
      "No baseline correction applied\n",
      "0 projection items activated\n",
      "0 bad epochs dropped\n"
     ]
    },
    {
     "output_type": "stream",
     "name": "stderr",
     "text": [
      "[Parallel(n_jobs=8)]: Using backend LokyBackend with 8 concurrent workers.\n"
     ]
    },
    {
     "output_type": "stream",
     "name": "stdout",
     "text": [
      "Interpolating bad channels\n",
      "    Automatic origin fit: head of radius 92.0 mm\n",
      "Computing interpolation matrix from 30 sensor positions\n",
      "Interpolating 1 sensors\n",
      "Creating RawArray with float64 data, n_channels=1, n_times=42100\n"
     ]
    },
    {
     "output_type": "stream",
     "name": "stderr",
     "text": [
      "[Parallel(n_jobs=8)]: Done   1 tasks      | elapsed:    1.9s\n",
      "[Parallel(n_jobs=8)]: Done   1 out of   1 | elapsed:    1.9s finished\n"
     ]
    },
    {
     "output_type": "stream",
     "name": "stdout",
     "text": [
      "    Range : 0 ... 42099 =      0.000 ...   420.990 secs\n",
      "Ready.\n"
     ]
    },
    {
     "output_type": "stream",
     "name": "stderr",
     "text": [
      "c:\\Users\\lukas\\Dokumente\\projects\\scp-act\\data_analysis\\notebooks\\..\\actionpy\\prepro\\prepro.py:147: DeprecationWarning: Version 0.23 introduced max_iter=\"auto\", setting max_iter=1000 for `fastica` and max_iter=500 for `infomax` and `picard`. The current default of max_iter=200 will be changed to \"auto\" in version 0.24.\n",
      "  ica = mne.preprocessing.ICA(n_components=n_components,\n"
     ]
    },
    {
     "output_type": "stream",
     "name": "stdout",
     "text": [
      "\t rest_02\n",
      "D:/data/scp-act/S00/S00_rest_02.vhdr\n"
     ]
    },
    {
     "output_type": "stream",
     "name": "stderr",
     "text": [
      "c:\\Users\\lukas\\Dokumente\\projects\\scp-act\\data_analysis\\notebooks\\..\\actionpy\\prepro\\prepro.py:23: RuntimeWarning: Online software filter detected. Using software filter settings and ignoring hardware values\n",
      "  raw = mne.io.read_raw_brainvision(pth, preload=True, verbose=verbose)\n",
      "c:\\Users\\lukas\\Dokumente\\projects\\scp-act\\data_analysis\\notebooks\\..\\actionpy\\prepro\\prepro.py:23: RuntimeWarning: Channels contain different highpass filters. Lowest (weakest) filter setting (0.00 Hz) will be stored.\n",
      "  raw = mne.io.read_raw_brainvision(pth, preload=True, verbose=verbose)\n",
      "c:\\Users\\lukas\\Dokumente\\projects\\scp-act\\data_analysis\\notebooks\\..\\actionpy\\prepro\\prepro.py:23: RuntimeWarning: Channels contain different lowpass filters. Highest (weakest) filter setting (500.00 Hz, Nyquist limit) will be stored.\n",
      "  raw = mne.io.read_raw_brainvision(pth, preload=True, verbose=verbose)\n"
     ]
    },
    {
     "output_type": "stream",
     "name": "stdout",
     "text": [
      "Used Annotations descriptions: ['New Segment/', 'Stimulus/S  2', 'Stimulus/S  4', 'Stimulus/S 14']\n"
     ]
    },
    {
     "output_type": "stream",
     "name": "stderr",
     "text": [
      "c:\\Users\\lukas\\Dokumente\\projects\\scp-act\\data_analysis\\notebooks\\..\\actionpy\\prepro\\prepro.py:124: RuntimeWarning: The unit for channel(s) VEOG has changed from C to V.\n",
      "  raw.set_channel_types(mapping)\n",
      "c:\\Users\\lukas\\Dokumente\\projects\\scp-act\\data_analysis\\notebooks\\..\\actionpy\\prepro\\prepro.py:39: RuntimeWarning: filter_length (660001) is longer than the signal (421003), distortion is likely. Reduce filter length or filter a longer signal.\n",
      "  raw.filter(0.005, 45, n_jobs=-1, verbose=verbose)\n"
     ]
    },
    {
     "output_type": "stream",
     "name": "stdout",
     "text": [
      "Not setting metadata\n",
      "Not setting metadata\n",
      "1 matching events found\n",
      "No baseline correction applied\n",
      "0 projection items activated\n",
      "0 bad epochs dropped\n"
     ]
    },
    {
     "output_type": "stream",
     "name": "stderr",
     "text": [
      "[Parallel(n_jobs=8)]: Using backend LokyBackend with 8 concurrent workers.\n"
     ]
    },
    {
     "output_type": "stream",
     "name": "stdout",
     "text": [
      "Interpolating bad channels\n",
      "    Automatic origin fit: head of radius 92.0 mm\n",
      "Computing interpolation matrix from 30 sensor positions\n",
      "Interpolating 1 sensors\n",
      "Creating RawArray with float64 data, n_channels=1, n_times=42100\n"
     ]
    },
    {
     "output_type": "stream",
     "name": "stderr",
     "text": [
      "[Parallel(n_jobs=8)]: Done   1 tasks      | elapsed:    1.9s\n",
      "[Parallel(n_jobs=8)]: Done   1 out of   1 | elapsed:    1.9s finished\n"
     ]
    },
    {
     "output_type": "stream",
     "name": "stdout",
     "text": [
      "    Range : 0 ... 42099 =      0.000 ...   420.990 secs\n",
      "Ready.\n"
     ]
    },
    {
     "output_type": "stream",
     "name": "stderr",
     "text": [
      "c:\\Users\\lukas\\Dokumente\\projects\\scp-act\\data_analysis\\notebooks\\..\\actionpy\\prepro\\prepro.py:147: DeprecationWarning: Version 0.23 introduced max_iter=\"auto\", setting max_iter=1000 for `fastica` and max_iter=500 for `infomax` and `picard`. The current default of max_iter=200 will be changed to \"auto\" in version 0.24.\n",
      "  ica = mne.preprocessing.ICA(n_components=n_components,\n"
     ]
    },
    {
     "output_type": "stream",
     "name": "stdout",
     "text": [
      "\t exp_01\n",
      "D:/data/scp-act/S00/S00_exp_01.vhdr\n"
     ]
    },
    {
     "output_type": "stream",
     "name": "stderr",
     "text": [
      "c:\\Users\\lukas\\Dokumente\\projects\\scp-act\\data_analysis\\notebooks\\..\\actionpy\\prepro\\prepro.py:23: RuntimeWarning: Online software filter detected. Using software filter settings and ignoring hardware values\n",
      "  raw = mne.io.read_raw_brainvision(pth, preload=True, verbose=verbose)\n",
      "c:\\Users\\lukas\\Dokumente\\projects\\scp-act\\data_analysis\\notebooks\\..\\actionpy\\prepro\\prepro.py:23: RuntimeWarning: Channels contain different highpass filters. Lowest (weakest) filter setting (0.00 Hz) will be stored.\n",
      "  raw = mne.io.read_raw_brainvision(pth, preload=True, verbose=verbose)\n",
      "c:\\Users\\lukas\\Dokumente\\projects\\scp-act\\data_analysis\\notebooks\\..\\actionpy\\prepro\\prepro.py:23: RuntimeWarning: Channels contain different lowpass filters. Highest (weakest) filter setting (500.00 Hz, Nyquist limit) will be stored.\n",
      "  raw = mne.io.read_raw_brainvision(pth, preload=True, verbose=verbose)\n"
     ]
    },
    {
     "output_type": "stream",
     "name": "stdout",
     "text": [
      "Used Annotations descriptions: ['New Segment/', 'Response/R  7', 'Response/R 15', 'Stimulus/S  2', 'Stimulus/S  4', 'Stimulus/S  6', 'Stimulus/S 14']\n"
     ]
    },
    {
     "output_type": "stream",
     "name": "stderr",
     "text": [
      "c:\\Users\\lukas\\Dokumente\\projects\\scp-act\\data_analysis\\notebooks\\..\\actionpy\\prepro\\prepro.py:124: RuntimeWarning: The unit for channel(s) VEOG has changed from C to V.\n",
      "  raw.set_channel_types(mapping)\n",
      "c:\\Users\\lukas\\Dokumente\\projects\\scp-act\\data_analysis\\notebooks\\..\\actionpy\\prepro\\prepro.py:39: RuntimeWarning: filter_length (660001) is longer than the signal (421013), distortion is likely. Reduce filter length or filter a longer signal.\n",
      "  raw.filter(0.005, 45, n_jobs=-1, verbose=verbose)\n"
     ]
    },
    {
     "output_type": "stream",
     "name": "stdout",
     "text": [
      "Not setting metadata\n",
      "Not setting metadata\n",
      "1 matching events found\n",
      "No baseline correction applied\n",
      "0 projection items activated\n",
      "0 bad epochs dropped\n"
     ]
    },
    {
     "output_type": "stream",
     "name": "stderr",
     "text": [
      "[Parallel(n_jobs=8)]: Using backend LokyBackend with 8 concurrent workers.\n"
     ]
    },
    {
     "output_type": "stream",
     "name": "stdout",
     "text": [
      "Interpolating bad channels\n",
      "    Automatic origin fit: head of radius 92.0 mm\n",
      "Computing interpolation matrix from 27 sensor positions\n",
      "Interpolating 4 sensors\n",
      "Creating RawArray with float64 data, n_channels=1, n_times=42101\n"
     ]
    },
    {
     "output_type": "stream",
     "name": "stderr",
     "text": [
      "[Parallel(n_jobs=8)]: Done   1 tasks      | elapsed:    1.9s\n",
      "[Parallel(n_jobs=8)]: Done   1 out of   1 | elapsed:    1.9s finished\n"
     ]
    },
    {
     "output_type": "stream",
     "name": "stdout",
     "text": [
      "    Range : 0 ... 42100 =      0.000 ...   421.000 secs\n",
      "Ready.\n"
     ]
    },
    {
     "output_type": "stream",
     "name": "stderr",
     "text": [
      "c:\\Users\\lukas\\Dokumente\\projects\\scp-act\\data_analysis\\notebooks\\..\\actionpy\\prepro\\prepro.py:147: DeprecationWarning: Version 0.23 introduced max_iter=\"auto\", setting max_iter=1000 for `fastica` and max_iter=500 for `infomax` and `picard`. The current default of max_iter=200 will be changed to \"auto\" in version 0.24.\n",
      "  ica = mne.preprocessing.ICA(n_components=n_components,\n"
     ]
    },
    {
     "output_type": "stream",
     "name": "stdout",
     "text": [
      "\t drmt_01\n",
      "D:/data/scp-act/S00/S00_drmt_01.vhdr\n"
     ]
    },
    {
     "output_type": "stream",
     "name": "stderr",
     "text": [
      "c:\\Users\\lukas\\Dokumente\\projects\\scp-act\\data_analysis\\notebooks\\..\\actionpy\\prepro\\prepro.py:23: RuntimeWarning: Online software filter detected. Using software filter settings and ignoring hardware values\n",
      "  raw = mne.io.read_raw_brainvision(pth, preload=True, verbose=verbose)\n",
      "c:\\Users\\lukas\\Dokumente\\projects\\scp-act\\data_analysis\\notebooks\\..\\actionpy\\prepro\\prepro.py:23: RuntimeWarning: Channels contain different highpass filters. Lowest (weakest) filter setting (0.00 Hz) will be stored.\n",
      "  raw = mne.io.read_raw_brainvision(pth, preload=True, verbose=verbose)\n",
      "c:\\Users\\lukas\\Dokumente\\projects\\scp-act\\data_analysis\\notebooks\\..\\actionpy\\prepro\\prepro.py:23: RuntimeWarning: Channels contain different lowpass filters. Highest (weakest) filter setting (500.00 Hz, Nyquist limit) will be stored.\n",
      "  raw = mne.io.read_raw_brainvision(pth, preload=True, verbose=verbose)\n"
     ]
    },
    {
     "output_type": "stream",
     "name": "stdout",
     "text": [
      "Used Annotations descriptions: ['New Segment/', 'Stimulus/S  2', 'Stimulus/S  4', 'Stimulus/S  6', 'Stimulus/S 14']\n"
     ]
    },
    {
     "output_type": "stream",
     "name": "stderr",
     "text": [
      "c:\\Users\\lukas\\Dokumente\\projects\\scp-act\\data_analysis\\notebooks\\..\\actionpy\\prepro\\prepro.py:124: RuntimeWarning: The unit for channel(s) VEOG has changed from C to V.\n",
      "  raw.set_channel_types(mapping)\n",
      "c:\\Users\\lukas\\Dokumente\\projects\\scp-act\\data_analysis\\notebooks\\..\\actionpy\\prepro\\prepro.py:39: RuntimeWarning: filter_length (660001) is longer than the signal (420000), distortion is likely. Reduce filter length or filter a longer signal.\n",
      "  raw.filter(0.005, 45, n_jobs=-1, verbose=verbose)\n"
     ]
    },
    {
     "output_type": "stream",
     "name": "stdout",
     "text": [
      "Not setting metadata\n",
      "Not setting metadata\n",
      "1 matching events found\n",
      "No baseline correction applied\n",
      "0 projection items activated\n",
      "0 bad epochs dropped\n"
     ]
    },
    {
     "output_type": "stream",
     "name": "stderr",
     "text": [
      "[Parallel(n_jobs=8)]: Using backend LokyBackend with 8 concurrent workers.\n"
     ]
    },
    {
     "output_type": "stream",
     "name": "stdout",
     "text": [
      "Interpolating bad channels\n",
      "    Automatic origin fit: head of radius 92.0 mm\n",
      "Computing interpolation matrix from 28 sensor positions\n",
      "Interpolating 3 sensors\n",
      "Creating RawArray with float64 data, n_channels=1, n_times=42000\n"
     ]
    },
    {
     "output_type": "stream",
     "name": "stderr",
     "text": [
      "[Parallel(n_jobs=8)]: Done   1 tasks      | elapsed:    1.9s\n",
      "[Parallel(n_jobs=8)]: Done   1 out of   1 | elapsed:    1.9s finished\n"
     ]
    },
    {
     "output_type": "stream",
     "name": "stdout",
     "text": [
      "    Range : 0 ... 41999 =      0.000 ...   419.990 secs\n",
      "Ready.\n"
     ]
    },
    {
     "output_type": "stream",
     "name": "stderr",
     "text": [
      "c:\\Users\\lukas\\Dokumente\\projects\\scp-act\\data_analysis\\notebooks\\..\\actionpy\\prepro\\prepro.py:147: DeprecationWarning: Version 0.23 introduced max_iter=\"auto\", setting max_iter=1000 for `fastica` and max_iter=500 for `infomax` and `picard`. The current default of max_iter=200 will be changed to \"auto\" in version 0.24.\n",
      "  ica = mne.preprocessing.ICA(n_components=n_components,\n"
     ]
    },
    {
     "output_type": "stream",
     "name": "stdout",
     "text": [
      "\t drmt_02\n",
      "D:/data/scp-act/S00/S00_drmt_02.vhdr\n"
     ]
    },
    {
     "output_type": "stream",
     "name": "stderr",
     "text": [
      "c:\\Users\\lukas\\Dokumente\\projects\\scp-act\\data_analysis\\notebooks\\..\\actionpy\\prepro\\prepro.py:23: RuntimeWarning: Online software filter detected. Using software filter settings and ignoring hardware values\n",
      "  raw = mne.io.read_raw_brainvision(pth, preload=True, verbose=verbose)\n",
      "c:\\Users\\lukas\\Dokumente\\projects\\scp-act\\data_analysis\\notebooks\\..\\actionpy\\prepro\\prepro.py:23: RuntimeWarning: Channels contain different highpass filters. Lowest (weakest) filter setting (0.00 Hz) will be stored.\n",
      "  raw = mne.io.read_raw_brainvision(pth, preload=True, verbose=verbose)\n",
      "c:\\Users\\lukas\\Dokumente\\projects\\scp-act\\data_analysis\\notebooks\\..\\actionpy\\prepro\\prepro.py:23: RuntimeWarning: Channels contain different lowpass filters. Highest (weakest) filter setting (500.00 Hz, Nyquist limit) will be stored.\n",
      "  raw = mne.io.read_raw_brainvision(pth, preload=True, verbose=verbose)\n"
     ]
    },
    {
     "output_type": "stream",
     "name": "stdout",
     "text": [
      "Used Annotations descriptions: ['New Segment/', 'Stimulus/S  2', 'Stimulus/S 14']\n"
     ]
    },
    {
     "output_type": "stream",
     "name": "stderr",
     "text": [
      "c:\\Users\\lukas\\Dokumente\\projects\\scp-act\\data_analysis\\notebooks\\..\\actionpy\\prepro\\prepro.py:124: RuntimeWarning: The unit for channel(s) VEOG has changed from C to V.\n",
      "  raw.set_channel_types(mapping)\n",
      "c:\\Users\\lukas\\Dokumente\\projects\\scp-act\\data_analysis\\notebooks\\..\\actionpy\\prepro\\prepro.py:39: RuntimeWarning: filter_length (660001) is longer than the signal (420000), distortion is likely. Reduce filter length or filter a longer signal.\n",
      "  raw.filter(0.005, 45, n_jobs=-1, verbose=verbose)\n"
     ]
    },
    {
     "output_type": "stream",
     "name": "stdout",
     "text": [
      "Not setting metadata\n",
      "Not setting metadata\n",
      "1 matching events found\n",
      "No baseline correction applied\n",
      "0 projection items activated\n",
      "0 bad epochs dropped\n"
     ]
    },
    {
     "output_type": "stream",
     "name": "stderr",
     "text": [
      "[Parallel(n_jobs=8)]: Using backend LokyBackend with 8 concurrent workers.\n"
     ]
    },
    {
     "output_type": "stream",
     "name": "stdout",
     "text": [
      "Interpolating bad channels\n",
      "    Automatic origin fit: head of radius 92.0 mm\n",
      "Computing interpolation matrix from 27 sensor positions\n",
      "Interpolating 4 sensors\n",
      "Creating RawArray with float64 data, n_channels=1, n_times=42000\n",
      "    Range : 0 ... 41999 =      0.000 ...   419.990 secs\n",
      "Ready.\n"
     ]
    },
    {
     "output_type": "stream",
     "name": "stderr",
     "text": [
      "[Parallel(n_jobs=8)]: Done   1 tasks      | elapsed:    1.8s\n",
      "[Parallel(n_jobs=8)]: Done   1 out of   1 | elapsed:    1.8s finished\n",
      "c:\\Users\\lukas\\Dokumente\\projects\\scp-act\\data_analysis\\notebooks\\..\\actionpy\\prepro\\prepro.py:147: DeprecationWarning: Version 0.23 introduced max_iter=\"auto\", setting max_iter=1000 for `fastica` and max_iter=500 for `infomax` and `picard`. The current default of max_iter=200 will be changed to \"auto\" in version 0.24.\n",
      "  ica = mne.preprocessing.ICA(n_components=n_components,\n"
     ]
    },
    {
     "output_type": "stream",
     "name": "stdout",
     "text": [
      "\t vol_01\n",
      "D:/data/scp-act/S00/S00_vol_01.vhdr\n"
     ]
    },
    {
     "output_type": "stream",
     "name": "stderr",
     "text": [
      "c:\\Users\\lukas\\Dokumente\\projects\\scp-act\\data_analysis\\notebooks\\..\\actionpy\\prepro\\prepro.py:23: RuntimeWarning: Online software filter detected. Using software filter settings and ignoring hardware values\n",
      "  raw = mne.io.read_raw_brainvision(pth, preload=True, verbose=verbose)\n",
      "c:\\Users\\lukas\\Dokumente\\projects\\scp-act\\data_analysis\\notebooks\\..\\actionpy\\prepro\\prepro.py:23: RuntimeWarning: Channels contain different highpass filters. Lowest (weakest) filter setting (0.00 Hz) will be stored.\n",
      "  raw = mne.io.read_raw_brainvision(pth, preload=True, verbose=verbose)\n",
      "c:\\Users\\lukas\\Dokumente\\projects\\scp-act\\data_analysis\\notebooks\\..\\actionpy\\prepro\\prepro.py:23: RuntimeWarning: Channels contain different lowpass filters. Highest (weakest) filter setting (500.00 Hz, Nyquist limit) will be stored.\n",
      "  raw = mne.io.read_raw_brainvision(pth, preload=True, verbose=verbose)\n"
     ]
    },
    {
     "output_type": "stream",
     "name": "stdout",
     "text": [
      "Used Annotations descriptions: ['New Segment/', 'Response/R  7', 'Response/R 15', 'Stimulus/S  2', 'Stimulus/S  4']\n"
     ]
    },
    {
     "output_type": "stream",
     "name": "stderr",
     "text": [
      "c:\\Users\\lukas\\Dokumente\\projects\\scp-act\\data_analysis\\notebooks\\..\\actionpy\\prepro\\prepro.py:124: RuntimeWarning: The unit for channel(s) VEOG has changed from C to V.\n",
      "  raw.set_channel_types(mapping)\n",
      "c:\\Users\\lukas\\Dokumente\\projects\\scp-act\\data_analysis\\notebooks\\..\\actionpy\\prepro\\prepro.py:39: RuntimeWarning: filter_length (660001) is longer than the signal (421002), distortion is likely. Reduce filter length or filter a longer signal.\n",
      "  raw.filter(0.005, 45, n_jobs=-1, verbose=verbose)\n"
     ]
    },
    {
     "output_type": "stream",
     "name": "stdout",
     "text": [
      "Not setting metadata\n",
      "Not setting metadata\n",
      "1 matching events found\n",
      "No baseline correction applied\n",
      "0 projection items activated\n",
      "0 bad epochs dropped\n"
     ]
    },
    {
     "output_type": "stream",
     "name": "stderr",
     "text": [
      "[Parallel(n_jobs=8)]: Using backend LokyBackend with 8 concurrent workers.\n"
     ]
    },
    {
     "output_type": "stream",
     "name": "stdout",
     "text": [
      "Interpolating bad channels\n",
      "    Automatic origin fit: head of radius 92.0 mm\n",
      "Computing interpolation matrix from 30 sensor positions\n",
      "Interpolating 1 sensors\n",
      "Creating RawArray with float64 data, n_channels=1, n_times=42100\n"
     ]
    },
    {
     "output_type": "stream",
     "name": "stderr",
     "text": [
      "[Parallel(n_jobs=8)]: Done   1 tasks      | elapsed:    1.9s\n",
      "[Parallel(n_jobs=8)]: Done   1 out of   1 | elapsed:    1.9s finished\n"
     ]
    },
    {
     "output_type": "stream",
     "name": "stdout",
     "text": [
      "    Range : 0 ... 42099 =      0.000 ...   420.990 secs\n",
      "Ready.\n"
     ]
    },
    {
     "output_type": "stream",
     "name": "stderr",
     "text": [
      "c:\\Users\\lukas\\Dokumente\\projects\\scp-act\\data_analysis\\notebooks\\..\\actionpy\\prepro\\prepro.py:147: DeprecationWarning: Version 0.23 introduced max_iter=\"auto\", setting max_iter=1000 for `fastica` and max_iter=500 for `infomax` and `picard`. The current default of max_iter=200 will be changed to \"auto\" in version 0.24.\n",
      "  ica = mne.preprocessing.ICA(n_components=n_components,\n"
     ]
    },
    {
     "output_type": "stream",
     "name": "stdout",
     "text": [
      "\t vol_02\n",
      "D:/data/scp-act/S00/S00_vol_02.vhdr\n"
     ]
    },
    {
     "output_type": "stream",
     "name": "stderr",
     "text": [
      "c:\\Users\\lukas\\Dokumente\\projects\\scp-act\\data_analysis\\notebooks\\..\\actionpy\\prepro\\prepro.py:23: RuntimeWarning: Online software filter detected. Using software filter settings and ignoring hardware values\n",
      "  raw = mne.io.read_raw_brainvision(pth, preload=True, verbose=verbose)\n",
      "c:\\Users\\lukas\\Dokumente\\projects\\scp-act\\data_analysis\\notebooks\\..\\actionpy\\prepro\\prepro.py:23: RuntimeWarning: Channels contain different highpass filters. Lowest (weakest) filter setting (0.00 Hz) will be stored.\n",
      "  raw = mne.io.read_raw_brainvision(pth, preload=True, verbose=verbose)\n",
      "c:\\Users\\lukas\\Dokumente\\projects\\scp-act\\data_analysis\\notebooks\\..\\actionpy\\prepro\\prepro.py:23: RuntimeWarning: Channels contain different lowpass filters. Highest (weakest) filter setting (500.00 Hz, Nyquist limit) will be stored.\n",
      "  raw = mne.io.read_raw_brainvision(pth, preload=True, verbose=verbose)\n"
     ]
    },
    {
     "output_type": "stream",
     "name": "stdout",
     "text": [
      "Used Annotations descriptions: ['New Segment/', 'Response/R  7', 'Response/R 15', 'Stimulus/S  2', 'Stimulus/S  4']\n"
     ]
    },
    {
     "output_type": "stream",
     "name": "stderr",
     "text": [
      "c:\\Users\\lukas\\Dokumente\\projects\\scp-act\\data_analysis\\notebooks\\..\\actionpy\\prepro\\prepro.py:124: RuntimeWarning: The unit for channel(s) VEOG has changed from C to V.\n",
      "  raw.set_channel_types(mapping)\n",
      "c:\\Users\\lukas\\Dokumente\\projects\\scp-act\\data_analysis\\notebooks\\..\\actionpy\\prepro\\prepro.py:39: RuntimeWarning: filter_length (660001) is longer than the signal (421002), distortion is likely. Reduce filter length or filter a longer signal.\n",
      "  raw.filter(0.005, 45, n_jobs=-1, verbose=verbose)\n"
     ]
    },
    {
     "output_type": "stream",
     "name": "stdout",
     "text": [
      "Not setting metadata\n",
      "Not setting metadata\n",
      "1 matching events found\n",
      "No baseline correction applied\n",
      "0 projection items activated\n",
      "0 bad epochs dropped\n"
     ]
    },
    {
     "output_type": "stream",
     "name": "stderr",
     "text": [
      "[Parallel(n_jobs=8)]: Using backend LokyBackend with 8 concurrent workers.\n"
     ]
    },
    {
     "output_type": "stream",
     "name": "stdout",
     "text": [
      "Interpolating bad channels\n",
      "    Automatic origin fit: head of radius 92.0 mm\n",
      "Computing interpolation matrix from 30 sensor positions\n",
      "Interpolating 1 sensors\n"
     ]
    },
    {
     "output_type": "stream",
     "name": "stderr",
     "text": [
      "[Parallel(n_jobs=8)]: Done   1 tasks      | elapsed:    1.9s\n",
      "[Parallel(n_jobs=8)]: Done   1 out of   1 | elapsed:    1.9s finished\n"
     ]
    },
    {
     "output_type": "stream",
     "name": "stdout",
     "text": [
      "Creating RawArray with float64 data, n_channels=1, n_times=42100\n",
      "    Range : 0 ... 42099 =      0.000 ...   420.990 secs\n",
      "Ready.\n"
     ]
    },
    {
     "output_type": "stream",
     "name": "stderr",
     "text": [
      "c:\\Users\\lukas\\Dokumente\\projects\\scp-act\\data_analysis\\notebooks\\..\\actionpy\\prepro\\prepro.py:147: DeprecationWarning: Version 0.23 introduced max_iter=\"auto\", setting max_iter=1000 for `fastica` and max_iter=500 for `infomax` and `picard`. The current default of max_iter=200 will be changed to \"auto\" in version 0.24.\n",
      "  ica = mne.preprocessing.ICA(n_components=n_components,\n"
     ]
    },
    {
     "output_type": "stream",
     "name": "stdout",
     "text": [
      "S01\n",
      "\t rest_01\n",
      "D:/data/scp-act/S01/S01_rest_01.vhdr\n"
     ]
    },
    {
     "output_type": "stream",
     "name": "stderr",
     "text": [
      "c:\\Users\\lukas\\Dokumente\\projects\\scp-act\\data_analysis\\notebooks\\..\\actionpy\\prepro\\prepro.py:23: RuntimeWarning: Online software filter detected. Using software filter settings and ignoring hardware values\n",
      "  raw = mne.io.read_raw_brainvision(pth, preload=True, verbose=verbose)\n",
      "c:\\Users\\lukas\\Dokumente\\projects\\scp-act\\data_analysis\\notebooks\\..\\actionpy\\prepro\\prepro.py:23: RuntimeWarning: Channels contain different highpass filters. Lowest (weakest) filter setting (0.00 Hz) will be stored.\n",
      "  raw = mne.io.read_raw_brainvision(pth, preload=True, verbose=verbose)\n",
      "c:\\Users\\lukas\\Dokumente\\projects\\scp-act\\data_analysis\\notebooks\\..\\actionpy\\prepro\\prepro.py:23: RuntimeWarning: Channels contain different lowpass filters. Highest (weakest) filter setting (500.00 Hz, Nyquist limit) will be stored.\n",
      "  raw = mne.io.read_raw_brainvision(pth, preload=True, verbose=verbose)\n"
     ]
    },
    {
     "output_type": "stream",
     "name": "stdout",
     "text": [
      "Used Annotations descriptions: ['New Segment/', 'Stimulus/S  2', 'Stimulus/S  4']\n"
     ]
    },
    {
     "output_type": "stream",
     "name": "stderr",
     "text": [
      "c:\\Users\\lukas\\Dokumente\\projects\\scp-act\\data_analysis\\notebooks\\..\\actionpy\\prepro\\prepro.py:124: RuntimeWarning: The unit for channel(s) VEOG has changed from C to V.\n",
      "  raw.set_channel_types(mapping)\n",
      "c:\\Users\\lukas\\Dokumente\\projects\\scp-act\\data_analysis\\notebooks\\..\\actionpy\\prepro\\prepro.py:39: RuntimeWarning: filter_length (660001) is longer than the signal (421001), distortion is likely. Reduce filter length or filter a longer signal.\n",
      "  raw.filter(0.005, 45, n_jobs=-1, verbose=verbose)\n"
     ]
    },
    {
     "output_type": "stream",
     "name": "stdout",
     "text": [
      "Not setting metadata\n",
      "Not setting metadata\n",
      "1 matching events found\n",
      "No baseline correction applied\n",
      "0 projection items activated\n",
      "0 bad epochs dropped\n"
     ]
    },
    {
     "output_type": "stream",
     "name": "stderr",
     "text": [
      "[Parallel(n_jobs=8)]: Using backend LokyBackend with 8 concurrent workers.\n"
     ]
    },
    {
     "output_type": "stream",
     "name": "stdout",
     "text": [
      "Interpolating bad channels\n",
      "    Automatic origin fit: head of radius 92.0 mm\n",
      "Computing interpolation matrix from 29 sensor positions\n",
      "Interpolating 2 sensors\n",
      "Creating RawArray with float64 data, n_channels=1, n_times=42100\n",
      "    Range : 0 ... 42099 =      0.000 ...   420.990 secs\n",
      "Ready.\n"
     ]
    },
    {
     "output_type": "stream",
     "name": "stderr",
     "text": [
      "[Parallel(n_jobs=8)]: Done   1 tasks      | elapsed:    2.0s\n",
      "[Parallel(n_jobs=8)]: Done   1 out of   1 | elapsed:    2.0s finished\n",
      "c:\\Users\\lukas\\Dokumente\\projects\\scp-act\\data_analysis\\notebooks\\..\\actionpy\\prepro\\prepro.py:147: DeprecationWarning: Version 0.23 introduced max_iter=\"auto\", setting max_iter=1000 for `fastica` and max_iter=500 for `infomax` and `picard`. The current default of max_iter=200 will be changed to \"auto\" in version 0.24.\n",
      "  ica = mne.preprocessing.ICA(n_components=n_components,\n"
     ]
    },
    {
     "output_type": "stream",
     "name": "stdout",
     "text": [
      "\t rest_02\n",
      "D:/data/scp-act/S01/S01_rest_02.vhdr\n",
      "Used Annotations descriptions: ['New Segment/', 'Stimulus/S  2', 'Stimulus/S  4']\n"
     ]
    },
    {
     "output_type": "stream",
     "name": "stderr",
     "text": [
      "c:\\Users\\lukas\\Dokumente\\projects\\scp-act\\data_analysis\\notebooks\\..\\actionpy\\prepro\\prepro.py:23: RuntimeWarning: Online software filter detected. Using software filter settings and ignoring hardware values\n",
      "  raw = mne.io.read_raw_brainvision(pth, preload=True, verbose=verbose)\n",
      "c:\\Users\\lukas\\Dokumente\\projects\\scp-act\\data_analysis\\notebooks\\..\\actionpy\\prepro\\prepro.py:23: RuntimeWarning: Channels contain different highpass filters. Lowest (weakest) filter setting (0.00 Hz) will be stored.\n",
      "  raw = mne.io.read_raw_brainvision(pth, preload=True, verbose=verbose)\n",
      "c:\\Users\\lukas\\Dokumente\\projects\\scp-act\\data_analysis\\notebooks\\..\\actionpy\\prepro\\prepro.py:23: RuntimeWarning: Channels contain different lowpass filters. Highest (weakest) filter setting (500.00 Hz, Nyquist limit) will be stored.\n",
      "  raw = mne.io.read_raw_brainvision(pth, preload=True, verbose=verbose)\n",
      "c:\\Users\\lukas\\Dokumente\\projects\\scp-act\\data_analysis\\notebooks\\..\\actionpy\\prepro\\prepro.py:124: RuntimeWarning: The unit for channel(s) VEOG has changed from C to V.\n",
      "  raw.set_channel_types(mapping)\n",
      "c:\\Users\\lukas\\Dokumente\\projects\\scp-act\\data_analysis\\notebooks\\..\\actionpy\\prepro\\prepro.py:39: RuntimeWarning: filter_length (660001) is longer than the signal (421005), distortion is likely. Reduce filter length or filter a longer signal.\n",
      "  raw.filter(0.005, 45, n_jobs=-1, verbose=verbose)\n"
     ]
    },
    {
     "output_type": "stream",
     "name": "stdout",
     "text": [
      "Not setting metadata\n",
      "Not setting metadata\n",
      "1 matching events found\n",
      "No baseline correction applied\n",
      "0 projection items activated\n",
      "0 bad epochs dropped\n"
     ]
    },
    {
     "output_type": "stream",
     "name": "stderr",
     "text": [
      "[Parallel(n_jobs=8)]: Using backend LokyBackend with 8 concurrent workers.\n"
     ]
    },
    {
     "output_type": "stream",
     "name": "stdout",
     "text": [
      "Interpolating bad channels\n",
      "    Automatic origin fit: head of radius 92.0 mm\n",
      "Computing interpolation matrix from 29 sensor positions\n",
      "Interpolating 2 sensors\n"
     ]
    },
    {
     "output_type": "stream",
     "name": "stderr",
     "text": [
      "[Parallel(n_jobs=8)]: Done   1 tasks      | elapsed:    2.0s\n",
      "[Parallel(n_jobs=8)]: Done   1 out of   1 | elapsed:    2.0s finished\n"
     ]
    },
    {
     "output_type": "stream",
     "name": "stdout",
     "text": [
      "Creating RawArray with float64 data, n_channels=1, n_times=42100\n",
      "    Range : 0 ... 42099 =      0.000 ...   420.990 secs\n",
      "Ready.\n"
     ]
    },
    {
     "output_type": "stream",
     "name": "stderr",
     "text": [
      "c:\\Users\\lukas\\Dokumente\\projects\\scp-act\\data_analysis\\notebooks\\..\\actionpy\\prepro\\prepro.py:147: DeprecationWarning: Version 0.23 introduced max_iter=\"auto\", setting max_iter=1000 for `fastica` and max_iter=500 for `infomax` and `picard`. The current default of max_iter=200 will be changed to \"auto\" in version 0.24.\n",
      "  ica = mne.preprocessing.ICA(n_components=n_components,\n"
     ]
    },
    {
     "output_type": "stream",
     "name": "stdout",
     "text": [
      "\t exp_01\n",
      "D:/data/scp-act/S01/S01_exp_01.vhdr\n"
     ]
    },
    {
     "output_type": "stream",
     "name": "stderr",
     "text": [
      "c:\\Users\\lukas\\Dokumente\\projects\\scp-act\\data_analysis\\notebooks\\..\\actionpy\\prepro\\prepro.py:23: RuntimeWarning: Online software filter detected. Using software filter settings and ignoring hardware values\n",
      "  raw = mne.io.read_raw_brainvision(pth, preload=True, verbose=verbose)\n",
      "c:\\Users\\lukas\\Dokumente\\projects\\scp-act\\data_analysis\\notebooks\\..\\actionpy\\prepro\\prepro.py:23: RuntimeWarning: Channels contain different highpass filters. Lowest (weakest) filter setting (0.00 Hz) will be stored.\n",
      "  raw = mne.io.read_raw_brainvision(pth, preload=True, verbose=verbose)\n",
      "c:\\Users\\lukas\\Dokumente\\projects\\scp-act\\data_analysis\\notebooks\\..\\actionpy\\prepro\\prepro.py:23: RuntimeWarning: Channels contain different lowpass filters. Highest (weakest) filter setting (500.00 Hz, Nyquist limit) will be stored.\n",
      "  raw = mne.io.read_raw_brainvision(pth, preload=True, verbose=verbose)\n"
     ]
    },
    {
     "output_type": "stream",
     "name": "stdout",
     "text": [
      "Used Annotations descriptions: ['New Segment/', 'Response/R  7', 'Response/R 15', 'Stimulus/S  2', 'Stimulus/S  4', 'Stimulus/S  6', 'Stimulus/S 14']\n"
     ]
    },
    {
     "output_type": "stream",
     "name": "stderr",
     "text": [
      "c:\\Users\\lukas\\Dokumente\\projects\\scp-act\\data_analysis\\notebooks\\..\\actionpy\\prepro\\prepro.py:124: RuntimeWarning: The unit for channel(s) VEOG has changed from C to V.\n",
      "  raw.set_channel_types(mapping)\n",
      "c:\\Users\\lukas\\Dokumente\\projects\\scp-act\\data_analysis\\notebooks\\..\\actionpy\\prepro\\prepro.py:39: RuntimeWarning: filter_length (660001) is longer than the signal (421020), distortion is likely. Reduce filter length or filter a longer signal.\n",
      "  raw.filter(0.005, 45, n_jobs=-1, verbose=verbose)\n"
     ]
    },
    {
     "output_type": "stream",
     "name": "stdout",
     "text": [
      "Not setting metadata\n",
      "Not setting metadata\n",
      "1 matching events found\n",
      "No baseline correction applied\n",
      "0 projection items activated\n",
      "0 bad epochs dropped\n"
     ]
    },
    {
     "output_type": "stream",
     "name": "stderr",
     "text": [
      "[Parallel(n_jobs=8)]: Using backend LokyBackend with 8 concurrent workers.\n"
     ]
    },
    {
     "output_type": "stream",
     "name": "stdout",
     "text": [
      "Interpolating bad channels\n",
      "    Automatic origin fit: head of radius 92.0 mm\n",
      "Computing interpolation matrix from 30 sensor positions\n",
      "Interpolating 1 sensors\n",
      "Creating RawArray with float64 data, n_channels=1, n_times=42102\n"
     ]
    },
    {
     "output_type": "stream",
     "name": "stderr",
     "text": [
      "[Parallel(n_jobs=8)]: Done   1 tasks      | elapsed:    2.0s\n",
      "[Parallel(n_jobs=8)]: Done   1 out of   1 | elapsed:    2.0s finished\n"
     ]
    },
    {
     "output_type": "stream",
     "name": "stdout",
     "text": [
      "    Range : 0 ... 42101 =      0.000 ...   421.010 secs\n",
      "Ready.\n"
     ]
    },
    {
     "output_type": "stream",
     "name": "stderr",
     "text": [
      "c:\\Users\\lukas\\Dokumente\\projects\\scp-act\\data_analysis\\notebooks\\..\\actionpy\\prepro\\prepro.py:147: DeprecationWarning: Version 0.23 introduced max_iter=\"auto\", setting max_iter=1000 for `fastica` and max_iter=500 for `infomax` and `picard`. The current default of max_iter=200 will be changed to \"auto\" in version 0.24.\n",
      "  ica = mne.preprocessing.ICA(n_components=n_components,\n"
     ]
    },
    {
     "output_type": "stream",
     "name": "stdout",
     "text": [
      "\t drmt_01\n",
      "D:/data/scp-act/S01/S01_drmt_01.vhdr\n"
     ]
    },
    {
     "output_type": "stream",
     "name": "stderr",
     "text": [
      "c:\\Users\\lukas\\Dokumente\\projects\\scp-act\\data_analysis\\notebooks\\..\\actionpy\\prepro\\prepro.py:23: RuntimeWarning: Online software filter detected. Using software filter settings and ignoring hardware values\n",
      "  raw = mne.io.read_raw_brainvision(pth, preload=True, verbose=verbose)\n",
      "c:\\Users\\lukas\\Dokumente\\projects\\scp-act\\data_analysis\\notebooks\\..\\actionpy\\prepro\\prepro.py:23: RuntimeWarning: Channels contain different highpass filters. Lowest (weakest) filter setting (0.00 Hz) will be stored.\n",
      "  raw = mne.io.read_raw_brainvision(pth, preload=True, verbose=verbose)\n",
      "c:\\Users\\lukas\\Dokumente\\projects\\scp-act\\data_analysis\\notebooks\\..\\actionpy\\prepro\\prepro.py:23: RuntimeWarning: Channels contain different lowpass filters. Highest (weakest) filter setting (500.00 Hz, Nyquist limit) will be stored.\n",
      "  raw = mne.io.read_raw_brainvision(pth, preload=True, verbose=verbose)\n"
     ]
    },
    {
     "output_type": "stream",
     "name": "stdout",
     "text": [
      "Used Annotations descriptions: ['New Segment/', 'Stimulus/S  2', 'Stimulus/S  4', 'Stimulus/S  6']\n"
     ]
    },
    {
     "output_type": "stream",
     "name": "stderr",
     "text": [
      "c:\\Users\\lukas\\Dokumente\\projects\\scp-act\\data_analysis\\notebooks\\..\\actionpy\\prepro\\prepro.py:124: RuntimeWarning: The unit for channel(s) VEOG has changed from C to V.\n",
      "  raw.set_channel_types(mapping)\n",
      "c:\\Users\\lukas\\Dokumente\\projects\\scp-act\\data_analysis\\notebooks\\..\\actionpy\\prepro\\prepro.py:39: RuntimeWarning: filter_length (660001) is longer than the signal (420000), distortion is likely. Reduce filter length or filter a longer signal.\n",
      "  raw.filter(0.005, 45, n_jobs=-1, verbose=verbose)\n"
     ]
    },
    {
     "output_type": "stream",
     "name": "stdout",
     "text": [
      "Not setting metadata\n",
      "Not setting metadata\n",
      "1 matching events found\n",
      "No baseline correction applied\n",
      "0 projection items activated\n",
      "0 bad epochs dropped\n"
     ]
    },
    {
     "output_type": "stream",
     "name": "stderr",
     "text": [
      "[Parallel(n_jobs=8)]: Using backend LokyBackend with 8 concurrent workers.\n"
     ]
    },
    {
     "output_type": "stream",
     "name": "stdout",
     "text": [
      "Interpolating bad channels\n",
      "    Automatic origin fit: head of radius 92.0 mm\n",
      "Computing interpolation matrix from 30 sensor positions\n",
      "Interpolating 1 sensors\n",
      "Creating RawArray with float64 data, n_channels=1, n_times=42000\n",
      "    Range : 0 ... 41999 =      0.000 ...   419.990 secs\n",
      "Ready.\n"
     ]
    },
    {
     "output_type": "stream",
     "name": "stderr",
     "text": [
      "[Parallel(n_jobs=8)]: Done   1 tasks      | elapsed:    2.0s\n",
      "[Parallel(n_jobs=8)]: Done   1 out of   1 | elapsed:    2.0s finished\n",
      "c:\\Users\\lukas\\Dokumente\\projects\\scp-act\\data_analysis\\notebooks\\..\\actionpy\\prepro\\prepro.py:147: DeprecationWarning: Version 0.23 introduced max_iter=\"auto\", setting max_iter=1000 for `fastica` and max_iter=500 for `infomax` and `picard`. The current default of max_iter=200 will be changed to \"auto\" in version 0.24.\n",
      "  ica = mne.preprocessing.ICA(n_components=n_components,\n"
     ]
    },
    {
     "output_type": "stream",
     "name": "stdout",
     "text": [
      "\t drmt_02\n",
      "D:/data/scp-act/S01/S01_drmt_02.vhdr\n"
     ]
    },
    {
     "output_type": "stream",
     "name": "stderr",
     "text": [
      "c:\\Users\\lukas\\Dokumente\\projects\\scp-act\\data_analysis\\notebooks\\..\\actionpy\\prepro\\prepro.py:23: RuntimeWarning: Online software filter detected. Using software filter settings and ignoring hardware values\n",
      "  raw = mne.io.read_raw_brainvision(pth, preload=True, verbose=verbose)\n",
      "c:\\Users\\lukas\\Dokumente\\projects\\scp-act\\data_analysis\\notebooks\\..\\actionpy\\prepro\\prepro.py:23: RuntimeWarning: Channels contain different highpass filters. Lowest (weakest) filter setting (0.00 Hz) will be stored.\n",
      "  raw = mne.io.read_raw_brainvision(pth, preload=True, verbose=verbose)\n",
      "c:\\Users\\lukas\\Dokumente\\projects\\scp-act\\data_analysis\\notebooks\\..\\actionpy\\prepro\\prepro.py:23: RuntimeWarning: Channels contain different lowpass filters. Highest (weakest) filter setting (500.00 Hz, Nyquist limit) will be stored.\n",
      "  raw = mne.io.read_raw_brainvision(pth, preload=True, verbose=verbose)\n"
     ]
    },
    {
     "output_type": "stream",
     "name": "stdout",
     "text": [
      "Used Annotations descriptions: ['New Segment/', 'Stimulus/S  2', 'Stimulus/S  4', 'Stimulus/S  6']\n"
     ]
    },
    {
     "output_type": "stream",
     "name": "stderr",
     "text": [
      "c:\\Users\\lukas\\Dokumente\\projects\\scp-act\\data_analysis\\notebooks\\..\\actionpy\\prepro\\prepro.py:124: RuntimeWarning: The unit for channel(s) VEOG has changed from C to V.\n",
      "  raw.set_channel_types(mapping)\n",
      "c:\\Users\\lukas\\Dokumente\\projects\\scp-act\\data_analysis\\notebooks\\..\\actionpy\\prepro\\prepro.py:39: RuntimeWarning: filter_length (660001) is longer than the signal (420000), distortion is likely. Reduce filter length or filter a longer signal.\n",
      "  raw.filter(0.005, 45, n_jobs=-1, verbose=verbose)\n"
     ]
    },
    {
     "output_type": "stream",
     "name": "stdout",
     "text": [
      "Not setting metadata\n",
      "Not setting metadata\n",
      "1 matching events found\n",
      "No baseline correction applied\n",
      "0 projection items activated\n",
      "0 bad epochs dropped\n"
     ]
    },
    {
     "output_type": "stream",
     "name": "stderr",
     "text": [
      "[Parallel(n_jobs=8)]: Using backend LokyBackend with 8 concurrent workers.\n"
     ]
    },
    {
     "output_type": "stream",
     "name": "stdout",
     "text": [
      "Creating RawArray with float64 data, n_channels=1, n_times=42000\n",
      "    Range : 0 ... 41999 =      0.000 ...   419.990 secs\n",
      "Ready.\n"
     ]
    },
    {
     "output_type": "stream",
     "name": "stderr",
     "text": [
      "[Parallel(n_jobs=8)]: Done   1 tasks      | elapsed:    2.0s\n",
      "[Parallel(n_jobs=8)]: Done   1 out of   1 | elapsed:    2.0s finished\n",
      "C:\\Users\\lukas\\virtualenvs\\eegenv\\lib\\site-packages\\autoreject\\ransac.py:226: RuntimeWarning: No bad channels to interpolate. Doing nothing...\n",
      "  epochs.interpolate_bads(reset_bads=True)\n",
      "c:\\Users\\lukas\\Dokumente\\projects\\scp-act\\data_analysis\\notebooks\\..\\actionpy\\prepro\\prepro.py:147: DeprecationWarning: Version 0.23 introduced max_iter=\"auto\", setting max_iter=1000 for `fastica` and max_iter=500 for `infomax` and `picard`. The current default of max_iter=200 will be changed to \"auto\" in version 0.24.\n",
      "  ica = mne.preprocessing.ICA(n_components=n_components,\n"
     ]
    },
    {
     "output_type": "stream",
     "name": "stdout",
     "text": [
      "\t vol_01\n",
      "D:/data/scp-act/S01/S01_vol_01.vhdr\n"
     ]
    },
    {
     "output_type": "stream",
     "name": "stderr",
     "text": [
      "c:\\Users\\lukas\\Dokumente\\projects\\scp-act\\data_analysis\\notebooks\\..\\actionpy\\prepro\\prepro.py:23: RuntimeWarning: Online software filter detected. Using software filter settings and ignoring hardware values\n",
      "  raw = mne.io.read_raw_brainvision(pth, preload=True, verbose=verbose)\n",
      "c:\\Users\\lukas\\Dokumente\\projects\\scp-act\\data_analysis\\notebooks\\..\\actionpy\\prepro\\prepro.py:23: RuntimeWarning: Channels contain different highpass filters. Lowest (weakest) filter setting (0.00 Hz) will be stored.\n",
      "  raw = mne.io.read_raw_brainvision(pth, preload=True, verbose=verbose)\n",
      "c:\\Users\\lukas\\Dokumente\\projects\\scp-act\\data_analysis\\notebooks\\..\\actionpy\\prepro\\prepro.py:23: RuntimeWarning: Channels contain different lowpass filters. Highest (weakest) filter setting (500.00 Hz, Nyquist limit) will be stored.\n",
      "  raw = mne.io.read_raw_brainvision(pth, preload=True, verbose=verbose)\n"
     ]
    },
    {
     "output_type": "stream",
     "name": "stdout",
     "text": [
      "Used Annotations descriptions: ['New Segment/', 'Response/R  7', 'Response/R 15', 'Stimulus/S  2', 'Stimulus/S  4']\n"
     ]
    },
    {
     "output_type": "stream",
     "name": "stderr",
     "text": [
      "c:\\Users\\lukas\\Dokumente\\projects\\scp-act\\data_analysis\\notebooks\\..\\actionpy\\prepro\\prepro.py:124: RuntimeWarning: The unit for channel(s) VEOG has changed from C to V.\n",
      "  raw.set_channel_types(mapping)\n",
      "c:\\Users\\lukas\\Dokumente\\projects\\scp-act\\data_analysis\\notebooks\\..\\actionpy\\prepro\\prepro.py:39: RuntimeWarning: filter_length (660001) is longer than the signal (421005), distortion is likely. Reduce filter length or filter a longer signal.\n",
      "  raw.filter(0.005, 45, n_jobs=-1, verbose=verbose)\n"
     ]
    },
    {
     "output_type": "stream",
     "name": "stdout",
     "text": [
      "Not setting metadata\n",
      "Not setting metadata\n",
      "1 matching events found\n",
      "No baseline correction applied\n",
      "0 projection items activated\n",
      "0 bad epochs dropped\n"
     ]
    },
    {
     "output_type": "stream",
     "name": "stderr",
     "text": [
      "[Parallel(n_jobs=8)]: Using backend LokyBackend with 8 concurrent workers.\n"
     ]
    },
    {
     "output_type": "stream",
     "name": "stdout",
     "text": [
      "Interpolating bad channels\n",
      "    Automatic origin fit: head of radius 92.0 mm\n",
      "Computing interpolation matrix from 27 sensor positions\n",
      "Interpolating 4 sensors\n"
     ]
    },
    {
     "output_type": "stream",
     "name": "stderr",
     "text": [
      "[Parallel(n_jobs=8)]: Done   1 tasks      | elapsed:    2.0s\n",
      "[Parallel(n_jobs=8)]: Done   1 out of   1 | elapsed:    2.0s finished\n"
     ]
    },
    {
     "output_type": "stream",
     "name": "stdout",
     "text": [
      "Creating RawArray with float64 data, n_channels=1, n_times=42100\n",
      "    Range : 0 ... 42099 =      0.000 ...   420.990 secs\n",
      "Ready.\n"
     ]
    },
    {
     "output_type": "stream",
     "name": "stderr",
     "text": [
      "c:\\Users\\lukas\\Dokumente\\projects\\scp-act\\data_analysis\\notebooks\\..\\actionpy\\prepro\\prepro.py:147: DeprecationWarning: Version 0.23 introduced max_iter=\"auto\", setting max_iter=1000 for `fastica` and max_iter=500 for `infomax` and `picard`. The current default of max_iter=200 will be changed to \"auto\" in version 0.24.\n",
      "  ica = mne.preprocessing.ICA(n_components=n_components,\n"
     ]
    },
    {
     "output_type": "stream",
     "name": "stdout",
     "text": [
      "\t vol_02\n",
      "D:/data/scp-act/S01/S01_vol_02.vhdr\n"
     ]
    },
    {
     "output_type": "stream",
     "name": "stderr",
     "text": [
      "c:\\Users\\lukas\\Dokumente\\projects\\scp-act\\data_analysis\\notebooks\\..\\actionpy\\prepro\\prepro.py:23: RuntimeWarning: Online software filter detected. Using software filter settings and ignoring hardware values\n",
      "  raw = mne.io.read_raw_brainvision(pth, preload=True, verbose=verbose)\n",
      "c:\\Users\\lukas\\Dokumente\\projects\\scp-act\\data_analysis\\notebooks\\..\\actionpy\\prepro\\prepro.py:23: RuntimeWarning: Channels contain different highpass filters. Lowest (weakest) filter setting (0.00 Hz) will be stored.\n",
      "  raw = mne.io.read_raw_brainvision(pth, preload=True, verbose=verbose)\n",
      "c:\\Users\\lukas\\Dokumente\\projects\\scp-act\\data_analysis\\notebooks\\..\\actionpy\\prepro\\prepro.py:23: RuntimeWarning: Channels contain different lowpass filters. Highest (weakest) filter setting (500.00 Hz, Nyquist limit) will be stored.\n",
      "  raw = mne.io.read_raw_brainvision(pth, preload=True, verbose=verbose)\n"
     ]
    },
    {
     "output_type": "stream",
     "name": "stdout",
     "text": [
      "Used Annotations descriptions: ['New Segment/', 'Response/R  7', 'Response/R 15', 'Stimulus/S  2', 'Stimulus/S  4']\n"
     ]
    },
    {
     "output_type": "stream",
     "name": "stderr",
     "text": [
      "c:\\Users\\lukas\\Dokumente\\projects\\scp-act\\data_analysis\\notebooks\\..\\actionpy\\prepro\\prepro.py:124: RuntimeWarning: The unit for channel(s) VEOG has changed from C to V.\n",
      "  raw.set_channel_types(mapping)\n",
      "c:\\Users\\lukas\\Dokumente\\projects\\scp-act\\data_analysis\\notebooks\\..\\actionpy\\prepro\\prepro.py:39: RuntimeWarning: filter_length (660001) is longer than the signal (421007), distortion is likely. Reduce filter length or filter a longer signal.\n",
      "  raw.filter(0.005, 45, n_jobs=-1, verbose=verbose)\n"
     ]
    },
    {
     "output_type": "stream",
     "name": "stdout",
     "text": [
      "Not setting metadata\n",
      "Not setting metadata\n",
      "1 matching events found\n",
      "No baseline correction applied\n",
      "0 projection items activated\n",
      "0 bad epochs dropped\n"
     ]
    },
    {
     "output_type": "stream",
     "name": "stderr",
     "text": [
      "[Parallel(n_jobs=8)]: Using backend LokyBackend with 8 concurrent workers.\n"
     ]
    },
    {
     "output_type": "stream",
     "name": "stdout",
     "text": [
      "Interpolating bad channels\n",
      "    Automatic origin fit: head of radius 92.0 mm\n",
      "Computing interpolation matrix from 30 sensor positions\n",
      "Interpolating 1 sensors\n",
      "Creating RawArray with float64 data, n_channels=1, n_times=42101\n"
     ]
    },
    {
     "output_type": "stream",
     "name": "stderr",
     "text": [
      "[Parallel(n_jobs=8)]: Done   1 tasks      | elapsed:    2.0s\n",
      "[Parallel(n_jobs=8)]: Done   1 out of   1 | elapsed:    2.0s finished\n"
     ]
    },
    {
     "output_type": "stream",
     "name": "stdout",
     "text": [
      "    Range : 0 ... 42100 =      0.000 ...   421.000 secs\n",
      "Ready.\n"
     ]
    },
    {
     "output_type": "stream",
     "name": "stderr",
     "text": [
      "c:\\Users\\lukas\\Dokumente\\projects\\scp-act\\data_analysis\\notebooks\\..\\actionpy\\prepro\\prepro.py:147: DeprecationWarning: Version 0.23 introduced max_iter=\"auto\", setting max_iter=1000 for `fastica` and max_iter=500 for `infomax` and `picard`. The current default of max_iter=200 will be changed to \"auto\" in version 0.24.\n",
      "  ica = mne.preprocessing.ICA(n_components=n_components,\n"
     ]
    },
    {
     "output_type": "stream",
     "name": "stdout",
     "text": [
      "S02\n",
      "\t rest_01\n",
      "D:/data/scp-act/S02/S02_rest_01.vhdr\n",
      "Used Annotations descriptions: ['New Segment/', 'Stimulus/S  2', 'Stimulus/S  4']\n"
     ]
    },
    {
     "output_type": "stream",
     "name": "stderr",
     "text": [
      "c:\\Users\\lukas\\Dokumente\\projects\\scp-act\\data_analysis\\notebooks\\..\\actionpy\\prepro\\prepro.py:23: RuntimeWarning: Online software filter detected. Using software filter settings and ignoring hardware values\n",
      "  raw = mne.io.read_raw_brainvision(pth, preload=True, verbose=verbose)\n",
      "c:\\Users\\lukas\\Dokumente\\projects\\scp-act\\data_analysis\\notebooks\\..\\actionpy\\prepro\\prepro.py:23: RuntimeWarning: Channels contain different highpass filters. Lowest (weakest) filter setting (0.00 Hz) will be stored.\n",
      "  raw = mne.io.read_raw_brainvision(pth, preload=True, verbose=verbose)\n",
      "c:\\Users\\lukas\\Dokumente\\projects\\scp-act\\data_analysis\\notebooks\\..\\actionpy\\prepro\\prepro.py:23: RuntimeWarning: Channels contain different lowpass filters. Highest (weakest) filter setting (500.00 Hz, Nyquist limit) will be stored.\n",
      "  raw = mne.io.read_raw_brainvision(pth, preload=True, verbose=verbose)\n",
      "c:\\Users\\lukas\\Dokumente\\projects\\scp-act\\data_analysis\\notebooks\\..\\actionpy\\prepro\\prepro.py:124: RuntimeWarning: The unit for channel(s) VEOG has changed from C to V.\n",
      "  raw.set_channel_types(mapping)\n",
      "c:\\Users\\lukas\\Dokumente\\projects\\scp-act\\data_analysis\\notebooks\\..\\actionpy\\prepro\\prepro.py:39: RuntimeWarning: filter_length (660001) is longer than the signal (421008), distortion is likely. Reduce filter length or filter a longer signal.\n",
      "  raw.filter(0.005, 45, n_jobs=-1, verbose=verbose)\n"
     ]
    },
    {
     "output_type": "stream",
     "name": "stdout",
     "text": [
      "Not setting metadata\n",
      "Not setting metadata\n",
      "1 matching events found\n",
      "No baseline correction applied\n",
      "0 projection items activated\n",
      "0 bad epochs dropped\n"
     ]
    },
    {
     "output_type": "stream",
     "name": "stderr",
     "text": [
      "[Parallel(n_jobs=8)]: Using backend LokyBackend with 8 concurrent workers.\n"
     ]
    },
    {
     "output_type": "stream",
     "name": "stdout",
     "text": [
      "Interpolating bad channels\n",
      "    Automatic origin fit: head of radius 92.0 mm\n",
      "Computing interpolation matrix from 29 sensor positions\n",
      "Interpolating 2 sensors\n",
      "Creating RawArray with float64 data, n_channels=1, n_times=42101\n"
     ]
    },
    {
     "output_type": "stream",
     "name": "stderr",
     "text": [
      "[Parallel(n_jobs=8)]: Done   1 tasks      | elapsed:    2.0s\n",
      "[Parallel(n_jobs=8)]: Done   1 out of   1 | elapsed:    2.0s finished\n"
     ]
    },
    {
     "output_type": "stream",
     "name": "stdout",
     "text": [
      "    Range : 0 ... 42100 =      0.000 ...   421.000 secs\n",
      "Ready.\n"
     ]
    },
    {
     "output_type": "stream",
     "name": "stderr",
     "text": [
      "c:\\Users\\lukas\\Dokumente\\projects\\scp-act\\data_analysis\\notebooks\\..\\actionpy\\prepro\\prepro.py:147: DeprecationWarning: Version 0.23 introduced max_iter=\"auto\", setting max_iter=1000 for `fastica` and max_iter=500 for `infomax` and `picard`. The current default of max_iter=200 will be changed to \"auto\" in version 0.24.\n",
      "  ica = mne.preprocessing.ICA(n_components=n_components,\n"
     ]
    },
    {
     "output_type": "stream",
     "name": "stdout",
     "text": [
      "\t rest_02\n",
      "D:/data/scp-act/S02/S02_rest_02.vhdr\n"
     ]
    },
    {
     "output_type": "stream",
     "name": "stderr",
     "text": [
      "c:\\Users\\lukas\\Dokumente\\projects\\scp-act\\data_analysis\\notebooks\\..\\actionpy\\prepro\\prepro.py:23: RuntimeWarning: Online software filter detected. Using software filter settings and ignoring hardware values\n",
      "  raw = mne.io.read_raw_brainvision(pth, preload=True, verbose=verbose)\n",
      "c:\\Users\\lukas\\Dokumente\\projects\\scp-act\\data_analysis\\notebooks\\..\\actionpy\\prepro\\prepro.py:23: RuntimeWarning: Channels contain different highpass filters. Lowest (weakest) filter setting (0.00 Hz) will be stored.\n",
      "  raw = mne.io.read_raw_brainvision(pth, preload=True, verbose=verbose)\n",
      "c:\\Users\\lukas\\Dokumente\\projects\\scp-act\\data_analysis\\notebooks\\..\\actionpy\\prepro\\prepro.py:23: RuntimeWarning: Channels contain different lowpass filters. Highest (weakest) filter setting (500.00 Hz, Nyquist limit) will be stored.\n",
      "  raw = mne.io.read_raw_brainvision(pth, preload=True, verbose=verbose)\n"
     ]
    },
    {
     "output_type": "stream",
     "name": "stdout",
     "text": [
      "Used Annotations descriptions: ['New Segment/', 'Stimulus/S  2', 'Stimulus/S  4']\n"
     ]
    },
    {
     "output_type": "stream",
     "name": "stderr",
     "text": [
      "c:\\Users\\lukas\\Dokumente\\projects\\scp-act\\data_analysis\\notebooks\\..\\actionpy\\prepro\\prepro.py:124: RuntimeWarning: The unit for channel(s) VEOG has changed from C to V.\n",
      "  raw.set_channel_types(mapping)\n",
      "c:\\Users\\lukas\\Dokumente\\projects\\scp-act\\data_analysis\\notebooks\\..\\actionpy\\prepro\\prepro.py:39: RuntimeWarning: filter_length (660001) is longer than the signal (420999), distortion is likely. Reduce filter length or filter a longer signal.\n",
      "  raw.filter(0.005, 45, n_jobs=-1, verbose=verbose)\n"
     ]
    },
    {
     "output_type": "stream",
     "name": "stdout",
     "text": [
      "Not setting metadata\n",
      "Not setting metadata\n",
      "1 matching events found\n",
      "No baseline correction applied\n",
      "0 projection items activated\n",
      "0 bad epochs dropped\n"
     ]
    },
    {
     "output_type": "stream",
     "name": "stderr",
     "text": [
      "[Parallel(n_jobs=8)]: Using backend LokyBackend with 8 concurrent workers.\n"
     ]
    },
    {
     "output_type": "stream",
     "name": "stdout",
     "text": [
      "Interpolating bad channels\n",
      "    Automatic origin fit: head of radius 92.0 mm\n",
      "Computing interpolation matrix from 30 sensor positions\n",
      "Interpolating 1 sensors\n",
      "Creating RawArray with float64 data, n_channels=1, n_times=42100\n"
     ]
    },
    {
     "output_type": "stream",
     "name": "stderr",
     "text": [
      "[Parallel(n_jobs=8)]: Done   1 tasks      | elapsed:    2.0s\n",
      "[Parallel(n_jobs=8)]: Done   1 out of   1 | elapsed:    2.0s finished\n"
     ]
    },
    {
     "output_type": "stream",
     "name": "stdout",
     "text": [
      "    Range : 0 ... 42099 =      0.000 ...   420.990 secs\n",
      "Ready.\n"
     ]
    },
    {
     "output_type": "stream",
     "name": "stderr",
     "text": [
      "c:\\Users\\lukas\\Dokumente\\projects\\scp-act\\data_analysis\\notebooks\\..\\actionpy\\prepro\\prepro.py:147: DeprecationWarning: Version 0.23 introduced max_iter=\"auto\", setting max_iter=1000 for `fastica` and max_iter=500 for `infomax` and `picard`. The current default of max_iter=200 will be changed to \"auto\" in version 0.24.\n",
      "  ica = mne.preprocessing.ICA(n_components=n_components,\n"
     ]
    },
    {
     "output_type": "stream",
     "name": "stdout",
     "text": [
      "\t exp_01\n",
      "D:/data/scp-act/S02/S02_exp_01.vhdr\n"
     ]
    },
    {
     "output_type": "stream",
     "name": "stderr",
     "text": [
      "c:\\Users\\lukas\\Dokumente\\projects\\scp-act\\data_analysis\\notebooks\\..\\actionpy\\prepro\\prepro.py:23: RuntimeWarning: Online software filter detected. Using software filter settings and ignoring hardware values\n",
      "  raw = mne.io.read_raw_brainvision(pth, preload=True, verbose=verbose)\n",
      "c:\\Users\\lukas\\Dokumente\\projects\\scp-act\\data_analysis\\notebooks\\..\\actionpy\\prepro\\prepro.py:23: RuntimeWarning: Channels contain different highpass filters. Lowest (weakest) filter setting (0.00 Hz) will be stored.\n",
      "  raw = mne.io.read_raw_brainvision(pth, preload=True, verbose=verbose)\n",
      "c:\\Users\\lukas\\Dokumente\\projects\\scp-act\\data_analysis\\notebooks\\..\\actionpy\\prepro\\prepro.py:23: RuntimeWarning: Channels contain different lowpass filters. Highest (weakest) filter setting (500.00 Hz, Nyquist limit) will be stored.\n",
      "  raw = mne.io.read_raw_brainvision(pth, preload=True, verbose=verbose)\n"
     ]
    },
    {
     "output_type": "stream",
     "name": "stdout",
     "text": [
      "Used Annotations descriptions: ['New Segment/', 'Response/R  7', 'Response/R 15', 'Stimulus/S  2', 'Stimulus/S  4', 'Stimulus/S  6']\n"
     ]
    },
    {
     "output_type": "stream",
     "name": "stderr",
     "text": [
      "c:\\Users\\lukas\\Dokumente\\projects\\scp-act\\data_analysis\\notebooks\\..\\actionpy\\prepro\\prepro.py:124: RuntimeWarning: The unit for channel(s) VEOG has changed from C to V.\n",
      "  raw.set_channel_types(mapping)\n",
      "c:\\Users\\lukas\\Dokumente\\projects\\scp-act\\data_analysis\\notebooks\\..\\actionpy\\prepro\\prepro.py:39: RuntimeWarning: filter_length (660001) is longer than the signal (421009), distortion is likely. Reduce filter length or filter a longer signal.\n",
      "  raw.filter(0.005, 45, n_jobs=-1, verbose=verbose)\n"
     ]
    },
    {
     "output_type": "stream",
     "name": "stdout",
     "text": [
      "Not setting metadata\n",
      "Not setting metadata\n",
      "1 matching events found\n",
      "No baseline correction applied\n",
      "0 projection items activated\n",
      "0 bad epochs dropped\n"
     ]
    },
    {
     "output_type": "stream",
     "name": "stderr",
     "text": [
      "[Parallel(n_jobs=8)]: Using backend LokyBackend with 8 concurrent workers.\n"
     ]
    },
    {
     "output_type": "stream",
     "name": "stdout",
     "text": [
      "Interpolating bad channels\n",
      "    Automatic origin fit: head of radius 92.0 mm\n",
      "Computing interpolation matrix from 27 sensor positions\n",
      "Interpolating 4 sensors\n",
      "Creating RawArray with float64 data, n_channels=1, n_times=42101\n"
     ]
    },
    {
     "output_type": "stream",
     "name": "stderr",
     "text": [
      "[Parallel(n_jobs=8)]: Done   1 tasks      | elapsed:    2.0s\n",
      "[Parallel(n_jobs=8)]: Done   1 out of   1 | elapsed:    2.0s finished\n"
     ]
    },
    {
     "output_type": "stream",
     "name": "stdout",
     "text": [
      "    Range : 0 ... 42100 =      0.000 ...   421.000 secs\n",
      "Ready.\n"
     ]
    },
    {
     "output_type": "stream",
     "name": "stderr",
     "text": [
      "c:\\Users\\lukas\\Dokumente\\projects\\scp-act\\data_analysis\\notebooks\\..\\actionpy\\prepro\\prepro.py:147: DeprecationWarning: Version 0.23 introduced max_iter=\"auto\", setting max_iter=1000 for `fastica` and max_iter=500 for `infomax` and `picard`. The current default of max_iter=200 will be changed to \"auto\" in version 0.24.\n",
      "  ica = mne.preprocessing.ICA(n_components=n_components,\n"
     ]
    },
    {
     "output_type": "stream",
     "name": "stdout",
     "text": [
      "\t drmt_01\n",
      "D:/data/scp-act/S02/S02_drmt_01.vhdr\n"
     ]
    },
    {
     "output_type": "stream",
     "name": "stderr",
     "text": [
      "c:\\Users\\lukas\\Dokumente\\projects\\scp-act\\data_analysis\\notebooks\\..\\actionpy\\prepro\\prepro.py:23: RuntimeWarning: Online software filter detected. Using software filter settings and ignoring hardware values\n",
      "  raw = mne.io.read_raw_brainvision(pth, preload=True, verbose=verbose)\n",
      "c:\\Users\\lukas\\Dokumente\\projects\\scp-act\\data_analysis\\notebooks\\..\\actionpy\\prepro\\prepro.py:23: RuntimeWarning: Channels contain different highpass filters. Lowest (weakest) filter setting (0.00 Hz) will be stored.\n",
      "  raw = mne.io.read_raw_brainvision(pth, preload=True, verbose=verbose)\n",
      "c:\\Users\\lukas\\Dokumente\\projects\\scp-act\\data_analysis\\notebooks\\..\\actionpy\\prepro\\prepro.py:23: RuntimeWarning: Channels contain different lowpass filters. Highest (weakest) filter setting (500.00 Hz, Nyquist limit) will be stored.\n",
      "  raw = mne.io.read_raw_brainvision(pth, preload=True, verbose=verbose)\n"
     ]
    },
    {
     "output_type": "stream",
     "name": "stdout",
     "text": [
      "Used Annotations descriptions: ['New Segment/', 'Stimulus/S  2', 'Stimulus/S  4']\n"
     ]
    },
    {
     "output_type": "stream",
     "name": "stderr",
     "text": [
      "c:\\Users\\lukas\\Dokumente\\projects\\scp-act\\data_analysis\\notebooks\\..\\actionpy\\prepro\\prepro.py:124: RuntimeWarning: The unit for channel(s) VEOG has changed from C to V.\n",
      "  raw.set_channel_types(mapping)\n",
      "c:\\Users\\lukas\\Dokumente\\projects\\scp-act\\data_analysis\\notebooks\\..\\actionpy\\prepro\\prepro.py:39: RuntimeWarning: filter_length (660001) is longer than the signal (420000), distortion is likely. Reduce filter length or filter a longer signal.\n",
      "  raw.filter(0.005, 45, n_jobs=-1, verbose=verbose)\n"
     ]
    },
    {
     "output_type": "stream",
     "name": "stdout",
     "text": [
      "Not setting metadata\n",
      "Not setting metadata\n",
      "1 matching events found\n",
      "No baseline correction applied\n",
      "0 projection items activated\n",
      "0 bad epochs dropped\n"
     ]
    },
    {
     "output_type": "stream",
     "name": "stderr",
     "text": [
      "[Parallel(n_jobs=8)]: Using backend LokyBackend with 8 concurrent workers.\n"
     ]
    },
    {
     "output_type": "stream",
     "name": "stdout",
     "text": [
      "Interpolating bad channels\n",
      "    Automatic origin fit: head of radius 92.0 mm\n",
      "Computing interpolation matrix from 30 sensor positions\n",
      "Interpolating 1 sensors\n"
     ]
    },
    {
     "output_type": "stream",
     "name": "stderr",
     "text": [
      "[Parallel(n_jobs=8)]: Done   1 tasks      | elapsed:    2.0s\n",
      "[Parallel(n_jobs=8)]: Done   1 out of   1 | elapsed:    2.0s finished\n"
     ]
    },
    {
     "output_type": "stream",
     "name": "stdout",
     "text": [
      "Creating RawArray with float64 data, n_channels=1, n_times=42000\n",
      "    Range : 0 ... 41999 =      0.000 ...   419.990 secs\n",
      "Ready.\n"
     ]
    },
    {
     "output_type": "stream",
     "name": "stderr",
     "text": [
      "c:\\Users\\lukas\\Dokumente\\projects\\scp-act\\data_analysis\\notebooks\\..\\actionpy\\prepro\\prepro.py:147: DeprecationWarning: Version 0.23 introduced max_iter=\"auto\", setting max_iter=1000 for `fastica` and max_iter=500 for `infomax` and `picard`. The current default of max_iter=200 will be changed to \"auto\" in version 0.24.\n",
      "  ica = mne.preprocessing.ICA(n_components=n_components,\n"
     ]
    },
    {
     "output_type": "stream",
     "name": "stdout",
     "text": [
      "\t drmt_02\n",
      "D:/data/scp-act/S02/S02_drmt_02.vhdr\n"
     ]
    },
    {
     "output_type": "stream",
     "name": "stderr",
     "text": [
      "c:\\Users\\lukas\\Dokumente\\projects\\scp-act\\data_analysis\\notebooks\\..\\actionpy\\prepro\\prepro.py:23: RuntimeWarning: Online software filter detected. Using software filter settings and ignoring hardware values\n",
      "  raw = mne.io.read_raw_brainvision(pth, preload=True, verbose=verbose)\n",
      "c:\\Users\\lukas\\Dokumente\\projects\\scp-act\\data_analysis\\notebooks\\..\\actionpy\\prepro\\prepro.py:23: RuntimeWarning: Channels contain different highpass filters. Lowest (weakest) filter setting (0.00 Hz) will be stored.\n",
      "  raw = mne.io.read_raw_brainvision(pth, preload=True, verbose=verbose)\n",
      "c:\\Users\\lukas\\Dokumente\\projects\\scp-act\\data_analysis\\notebooks\\..\\actionpy\\prepro\\prepro.py:23: RuntimeWarning: Channels contain different lowpass filters. Highest (weakest) filter setting (500.00 Hz, Nyquist limit) will be stored.\n",
      "  raw = mne.io.read_raw_brainvision(pth, preload=True, verbose=verbose)\n"
     ]
    },
    {
     "output_type": "stream",
     "name": "stdout",
     "text": [
      "Used Annotations descriptions: ['New Segment/', 'Stimulus/S  2', 'Stimulus/S  4']\n"
     ]
    },
    {
     "output_type": "stream",
     "name": "stderr",
     "text": [
      "c:\\Users\\lukas\\Dokumente\\projects\\scp-act\\data_analysis\\notebooks\\..\\actionpy\\prepro\\prepro.py:124: RuntimeWarning: The unit for channel(s) VEOG has changed from C to V.\n",
      "  raw.set_channel_types(mapping)\n",
      "c:\\Users\\lukas\\Dokumente\\projects\\scp-act\\data_analysis\\notebooks\\..\\actionpy\\prepro\\prepro.py:39: RuntimeWarning: filter_length (660001) is longer than the signal (420000), distortion is likely. Reduce filter length or filter a longer signal.\n",
      "  raw.filter(0.005, 45, n_jobs=-1, verbose=verbose)\n"
     ]
    },
    {
     "output_type": "stream",
     "name": "stdout",
     "text": [
      "Not setting metadata\n",
      "Not setting metadata\n",
      "1 matching events found\n",
      "No baseline correction applied\n",
      "0 projection items activated\n",
      "0 bad epochs dropped\n"
     ]
    },
    {
     "output_type": "stream",
     "name": "stderr",
     "text": [
      "[Parallel(n_jobs=8)]: Using backend LokyBackend with 8 concurrent workers.\n"
     ]
    },
    {
     "output_type": "stream",
     "name": "stdout",
     "text": [
      "Creating RawArray with float64 data, n_channels=1, n_times=42000\n",
      "    Range : 0 ... 41999 =      0.000 ...   419.990 secs\n",
      "Ready.\n"
     ]
    },
    {
     "output_type": "stream",
     "name": "stderr",
     "text": [
      "[Parallel(n_jobs=8)]: Done   1 tasks      | elapsed:    2.0s\n",
      "[Parallel(n_jobs=8)]: Done   1 out of   1 | elapsed:    2.0s finished\n",
      "C:\\Users\\lukas\\virtualenvs\\eegenv\\lib\\site-packages\\autoreject\\ransac.py:226: RuntimeWarning: No bad channels to interpolate. Doing nothing...\n",
      "  epochs.interpolate_bads(reset_bads=True)\n",
      "c:\\Users\\lukas\\Dokumente\\projects\\scp-act\\data_analysis\\notebooks\\..\\actionpy\\prepro\\prepro.py:147: DeprecationWarning: Version 0.23 introduced max_iter=\"auto\", setting max_iter=1000 for `fastica` and max_iter=500 for `infomax` and `picard`. The current default of max_iter=200 will be changed to \"auto\" in version 0.24.\n",
      "  ica = mne.preprocessing.ICA(n_components=n_components,\n"
     ]
    },
    {
     "output_type": "stream",
     "name": "stdout",
     "text": [
      "\t vol_01\n",
      "D:/data/scp-act/S02/S02_vol_01.vhdr\n"
     ]
    },
    {
     "output_type": "stream",
     "name": "stderr",
     "text": [
      "c:\\Users\\lukas\\Dokumente\\projects\\scp-act\\data_analysis\\notebooks\\..\\actionpy\\prepro\\prepro.py:23: RuntimeWarning: Online software filter detected. Using software filter settings and ignoring hardware values\n",
      "  raw = mne.io.read_raw_brainvision(pth, preload=True, verbose=verbose)\n",
      "c:\\Users\\lukas\\Dokumente\\projects\\scp-act\\data_analysis\\notebooks\\..\\actionpy\\prepro\\prepro.py:23: RuntimeWarning: Channels contain different highpass filters. Lowest (weakest) filter setting (0.00 Hz) will be stored.\n",
      "  raw = mne.io.read_raw_brainvision(pth, preload=True, verbose=verbose)\n",
      "c:\\Users\\lukas\\Dokumente\\projects\\scp-act\\data_analysis\\notebooks\\..\\actionpy\\prepro\\prepro.py:23: RuntimeWarning: Channels contain different lowpass filters. Highest (weakest) filter setting (500.00 Hz, Nyquist limit) will be stored.\n",
      "  raw = mne.io.read_raw_brainvision(pth, preload=True, verbose=verbose)\n"
     ]
    },
    {
     "output_type": "stream",
     "name": "stdout",
     "text": [
      "Used Annotations descriptions: ['New Segment/', 'Response/R  7', 'Response/R 15', 'Stimulus/S  2', 'Stimulus/S  4']\n"
     ]
    },
    {
     "output_type": "stream",
     "name": "stderr",
     "text": [
      "c:\\Users\\lukas\\Dokumente\\projects\\scp-act\\data_analysis\\notebooks\\..\\actionpy\\prepro\\prepro.py:124: RuntimeWarning: The unit for channel(s) VEOG has changed from C to V.\n",
      "  raw.set_channel_types(mapping)\n",
      "c:\\Users\\lukas\\Dokumente\\projects\\scp-act\\data_analysis\\notebooks\\..\\actionpy\\prepro\\prepro.py:39: RuntimeWarning: filter_length (660001) is longer than the signal (420999), distortion is likely. Reduce filter length or filter a longer signal.\n",
      "  raw.filter(0.005, 45, n_jobs=-1, verbose=verbose)\n"
     ]
    },
    {
     "output_type": "stream",
     "name": "stdout",
     "text": [
      "Not setting metadata\n",
      "Not setting metadata\n",
      "1 matching events found\n",
      "No baseline correction applied\n",
      "0 projection items activated\n",
      "0 bad epochs dropped\n"
     ]
    },
    {
     "output_type": "stream",
     "name": "stderr",
     "text": [
      "[Parallel(n_jobs=8)]: Using backend LokyBackend with 8 concurrent workers.\n"
     ]
    },
    {
     "output_type": "stream",
     "name": "stdout",
     "text": [
      "Interpolating bad channels\n",
      "    Automatic origin fit: head of radius 92.0 mm\n",
      "Computing interpolation matrix from 30 sensor positions\n",
      "Interpolating 1 sensors\n",
      "Creating RawArray with float64 data, n_channels=1, n_times=42100\n"
     ]
    },
    {
     "output_type": "stream",
     "name": "stderr",
     "text": [
      "[Parallel(n_jobs=8)]: Done   1 tasks      | elapsed:    2.0s\n",
      "[Parallel(n_jobs=8)]: Done   1 out of   1 | elapsed:    2.0s finished\n"
     ]
    },
    {
     "output_type": "stream",
     "name": "stdout",
     "text": [
      "    Range : 0 ... 42099 =      0.000 ...   420.990 secs\n",
      "Ready.\n"
     ]
    },
    {
     "output_type": "stream",
     "name": "stderr",
     "text": [
      "c:\\Users\\lukas\\Dokumente\\projects\\scp-act\\data_analysis\\notebooks\\..\\actionpy\\prepro\\prepro.py:147: DeprecationWarning: Version 0.23 introduced max_iter=\"auto\", setting max_iter=1000 for `fastica` and max_iter=500 for `infomax` and `picard`. The current default of max_iter=200 will be changed to \"auto\" in version 0.24.\n",
      "  ica = mne.preprocessing.ICA(n_components=n_components,\n"
     ]
    },
    {
     "output_type": "stream",
     "name": "stdout",
     "text": [
      "\t vol_02\n",
      "D:/data/scp-act/S02/S02_vol_02.vhdr\n"
     ]
    },
    {
     "output_type": "stream",
     "name": "stderr",
     "text": [
      "c:\\Users\\lukas\\Dokumente\\projects\\scp-act\\data_analysis\\notebooks\\..\\actionpy\\prepro\\prepro.py:23: RuntimeWarning: Online software filter detected. Using software filter settings and ignoring hardware values\n",
      "  raw = mne.io.read_raw_brainvision(pth, preload=True, verbose=verbose)\n",
      "c:\\Users\\lukas\\Dokumente\\projects\\scp-act\\data_analysis\\notebooks\\..\\actionpy\\prepro\\prepro.py:23: RuntimeWarning: Channels contain different highpass filters. Lowest (weakest) filter setting (0.00 Hz) will be stored.\n",
      "  raw = mne.io.read_raw_brainvision(pth, preload=True, verbose=verbose)\n",
      "c:\\Users\\lukas\\Dokumente\\projects\\scp-act\\data_analysis\\notebooks\\..\\actionpy\\prepro\\prepro.py:23: RuntimeWarning: Channels contain different lowpass filters. Highest (weakest) filter setting (500.00 Hz, Nyquist limit) will be stored.\n",
      "  raw = mne.io.read_raw_brainvision(pth, preload=True, verbose=verbose)\n"
     ]
    },
    {
     "output_type": "stream",
     "name": "stdout",
     "text": [
      "Used Annotations descriptions: ['New Segment/', 'Response/R  7', 'Response/R 15', 'Stimulus/S  2', 'Stimulus/S  4']\n"
     ]
    },
    {
     "output_type": "stream",
     "name": "stderr",
     "text": [
      "c:\\Users\\lukas\\Dokumente\\projects\\scp-act\\data_analysis\\notebooks\\..\\actionpy\\prepro\\prepro.py:124: RuntimeWarning: The unit for channel(s) VEOG has changed from C to V.\n",
      "  raw.set_channel_types(mapping)\n",
      "c:\\Users\\lukas\\Dokumente\\projects\\scp-act\\data_analysis\\notebooks\\..\\actionpy\\prepro\\prepro.py:39: RuntimeWarning: filter_length (660001) is longer than the signal (421008), distortion is likely. Reduce filter length or filter a longer signal.\n",
      "  raw.filter(0.005, 45, n_jobs=-1, verbose=verbose)\n"
     ]
    },
    {
     "output_type": "stream",
     "name": "stdout",
     "text": [
      "Not setting metadata\n",
      "Not setting metadata\n",
      "1 matching events found\n",
      "No baseline correction applied\n",
      "0 projection items activated\n",
      "0 bad epochs dropped\n"
     ]
    },
    {
     "output_type": "stream",
     "name": "stderr",
     "text": [
      "[Parallel(n_jobs=8)]: Using backend LokyBackend with 8 concurrent workers.\n"
     ]
    },
    {
     "output_type": "stream",
     "name": "stdout",
     "text": [
      "Interpolating bad channels\n",
      "    Automatic origin fit: head of radius 92.0 mm\n",
      "Computing interpolation matrix from 28 sensor positions\n",
      "Interpolating 3 sensors\n"
     ]
    },
    {
     "output_type": "stream",
     "name": "stderr",
     "text": [
      "[Parallel(n_jobs=8)]: Done   1 tasks      | elapsed:    2.0s\n",
      "[Parallel(n_jobs=8)]: Done   1 out of   1 | elapsed:    2.0s finished\n"
     ]
    },
    {
     "output_type": "stream",
     "name": "stdout",
     "text": [
      "Creating RawArray with float64 data, n_channels=1, n_times=42101\n",
      "    Range : 0 ... 42100 =      0.000 ...   421.000 secs\n",
      "Ready.\n"
     ]
    },
    {
     "output_type": "stream",
     "name": "stderr",
     "text": [
      "c:\\Users\\lukas\\Dokumente\\projects\\scp-act\\data_analysis\\notebooks\\..\\actionpy\\prepro\\prepro.py:147: DeprecationWarning: Version 0.23 introduced max_iter=\"auto\", setting max_iter=1000 for `fastica` and max_iter=500 for `infomax` and `picard`. The current default of max_iter=200 will be changed to \"auto\" in version 0.24.\n",
      "  ica = mne.preprocessing.ICA(n_components=n_components,\n"
     ]
    }
   ],
   "metadata": {}
  },
  {
   "cell_type": "markdown",
   "source": [
    "# Visualize Raw SCPs\r\n",
    "Lets visualize the global field power of one condition for each participant."
   ],
   "metadata": {}
  },
  {
   "cell_type": "code",
   "execution_count": 25,
   "source": [
    "%matplotlib qt\r\n",
    "plt.figure()\r\n",
    "# ylim = (-90, 90)\r\n",
    "scale = 1e6\r\n",
    "n = len(data)\r\n",
    "for i, sub in enumerate(data):\r\n",
    "    num = n*100 + 11 + i\r\n",
    "    raw = sub[2]\r\n",
    "    plt.subplot(num)\r\n",
    "    plt.plot(raw.times, np.std(raw.copy().filter(None, 0.01).pick_types(eeg=True)._data, axis=0)*scale)\r\n",
    "plt.tight_layout()\r\n"
   ],
   "outputs": [],
   "metadata": {}
  },
  {
   "cell_type": "markdown",
   "source": [
    "# Global Descriptors\r\n",
    "## Calculation"
   ],
   "metadata": {}
  },
  {
   "cell_type": "code",
   "execution_count": 3,
   "source": [
    "from nolds import sampen\r\n",
    "from actionpy.analysis import run_length_encoding, omega_descriptor, sigma_descriptor, phi_descriptor, average_phase_synchrony\r\n",
    "\r\n",
    "metrics = (omega_descriptor, sigma_descriptor, phi_descriptor, average_phase_synchrony)\r\n",
    "metric_names = ('omega', 'sigma', 'phi', 'phase_synchrony')\r\n",
    "condition_names = ['Rest_1', 'Rest_2', 'Expectancy_1', 'Relaxation_1', 'Relaxation_2', 'Volition_1', 'Volition_2']\r\n",
    "\r\n",
    "n = 14\r\n",
    "results_gd = dict()\r\n",
    "for cond, filename in enumerate(condition_names):\r\n",
    "    print(filename)\r\n",
    "    results_gd[filename] = dict()\r\n",
    "    for metric, metric_name in zip(metrics, metric_names):\r\n",
    "        results_gd[filename][metric_name] = []\r\n",
    "        for subject in data:\r\n",
    "            subject_data = subject[cond].copy().filter(None, 0.5).pick_types(eeg=True)._data\r\n",
    "            if metric_name == 'phi':\r\n",
    "                result = np.median( [metric(portion, sfreq=100) for portion in np.array_split(subject_data, n, axis=1)] )\r\n",
    "            else:\r\n",
    "                result = np.median( [metric(portion) for portion in np.array_split(subject_data, n, axis=1)] )\r\n",
    "            results_gd[filename][metric_name].append(result)\r\n"
   ],
   "outputs": [
    {
     "output_type": "stream",
     "name": "stdout",
     "text": [
      "Rest_1\n",
      "Rest_2\n",
      "Expectancy_1\n",
      "Relaxation_1\n",
      "Relaxation_2\n",
      "Volition_1\n",
      "Volition_2\n"
     ]
    }
   ],
   "metadata": {}
  },
  {
   "cell_type": "code",
   "execution_count": null,
   "source": [],
   "outputs": [],
   "metadata": {}
  },
  {
   "cell_type": "markdown",
   "source": [
    "## Visualize Global Descriptors"
   ],
   "metadata": {}
  },
  {
   "cell_type": "code",
   "execution_count": 5,
   "source": [
    "import seaborn as sns\r\n",
    "%matplotlib qt\r\n",
    "condition_names = ['Rest_1', 'Rest_2', 'Expectancy_1', 'Relaxation_1', 'Relaxation_2', 'Volition_1', 'Volition_2']\r\n",
    "metric_names = ('omega', 'sigma', 'phi', 'phase_synchrony')\r\n",
    "\r\n",
    "for metric_name in metric_names:\r\n",
    "    plotvals = [np.real(results_gd[condition_name][metric_name]) for condition_name in condition_names]\r\n",
    "\r\n",
    "    plt.figure(figsize=(13, 7))\r\n",
    "    sns.boxplot(data=plotvals)\r\n",
    "    sns.stripplot(data=plotvals, size=8, color=\".3\", linewidth=1, jitter=False)\r\n",
    "    \r\n",
    "    for isub in range(len(plotvals[0])):\r\n",
    "        vals = [cond[isub] for cond in plotvals]\r\n",
    "        plt.plot(np.arange(len(plotvals)), vals, color='k', linewidth=2)\r\n",
    "\r\n",
    "    plt.xticks(ticks=np.arange(len(plotvals)), labels=condition_names)\r\n",
    "    plt.title(metric_name)\r\n",
    "    plt.tight_layout()\r\n",
    "\r\n",
    "# multipage(r'C:\\Users\\lukas\\Dokumente\\projects\\scp-act\\figures\\report_marianne\\global\\global_descriptors.pdf', png=True)"
   ],
   "outputs": [],
   "metadata": {}
  },
  {
   "cell_type": "markdown",
   "source": [
    "## Single Channel Metrics"
   ],
   "metadata": {}
  },
  {
   "cell_type": "code",
   "execution_count": 10,
   "source": [
    "from nolds import sampen\r\n",
    "from actionpy.analysis import run_length_encoding, get_acfw, get_ptp_amplitudes, get_ptp_latencies\r\n",
    "\r\n",
    "metrics = (sampen, run_length_encoding, np.std, get_acfw, lambda x: np.median(get_ptp_amplitudes(x)), lambda x: np.median(get_ptp_latencies(x)))\r\n",
    "metric_names = ('Sample_Entropy', 'Run_Length_Encoding', 'Standard_Deviation', 'ACFW', 'P2P Amplitudes Median', 'P2P Latencies Median')\r\n",
    "\r\n",
    "condition_names = ['Rest_1', 'Rest_2', 'Expectancy_1', 'Relaxation_1', 'Relaxation_2', 'Volition_1', 'Volition_2']\r\n",
    "\r\n",
    "ch_name = 'Cz'\r\n",
    "ch_idx = data[0][0].ch_names.index(ch_name)\r\n",
    "\r\n",
    "n = 14\r\n",
    "results_sc = dict()\r\n",
    "for cond, filename in enumerate(condition_names):\r\n",
    "    print(filename)\r\n",
    "    results_sc[filename] = dict()\r\n",
    "    for metric, metric_name in zip(metrics, metric_names):\r\n",
    "        results_sc[filename][metric_name] = []\r\n",
    "        for subject in data:\r\n",
    "            subject_data = subject[cond].copy().filter(None, 0.5)._data\r\n",
    "            result = np.median( [metric(portion[ch_idx]) for portion in np.array_split(subject_data, n, axis=1)] )\r\n",
    "            results_sc[filename][metric_name].append(result)"
   ],
   "outputs": [
    {
     "output_type": "stream",
     "name": "stdout",
     "text": [
      "Rest_1\n",
      "Rest_2\n",
      "Expectancy_1\n",
      "Relaxation_1\n",
      "Relaxation_2\n",
      "Volition_1\n",
      "Volition_2\n"
     ]
    }
   ],
   "metadata": {}
  },
  {
   "cell_type": "markdown",
   "source": [
    "# Visualize Single-Channel Metrics"
   ],
   "metadata": {}
  },
  {
   "cell_type": "code",
   "execution_count": 12,
   "source": [
    "for metric_name in metric_names:\r\n",
    "    plotvals = [np.real(results_sc[condition_name][metric_name]) for condition_name in condition_names]\r\n",
    "\r\n",
    "    plt.figure(figsize=(13, 7))\r\n",
    "    sns.boxplot(data=plotvals)\r\n",
    "    sns.stripplot(data=plotvals, size=8, color=\".3\", linewidth=1, jitter=False)\r\n",
    "    \r\n",
    "    for isub in range(len(plotvals[0])):\r\n",
    "        vals = [cond[isub] for cond in plotvals]\r\n",
    "        plt.plot(np.arange(len(plotvals)), vals, color='k', linewidth=2)\r\n",
    "\r\n",
    "    plt.xticks(ticks=np.arange(len(plotvals)), labels=condition_names)\r\n",
    "    plt.title(metric_name)\r\n",
    "    plt.tight_layout()\r\n",
    "\r\n",
    "# multipage(r'C:\\Users\\lukas\\Dokumente\\projects\\scp-act\\figures\\report_marianne\\single_channel\\Resp\\single_channel_metrics.pdf', png=True)"
   ],
   "outputs": [],
   "metadata": {}
  },
  {
   "cell_type": "code",
   "execution_count": null,
   "source": [
    "import seaborn as sns\r\n",
    "\r\n",
    "for channel_name in ch_names:\r\n",
    "    for metric_name in metric_names:\r\n",
    "        plt.figure()\r\n",
    "        sns.boxplot(data=results[channel_name][metric_name])\r\n",
    "        plt.xticks(ticks=np.arange(len(files)), labels=files)\r\n",
    "        plt.title(f'{metric_name} {channel_name}')\r\n",
    "        "
   ],
   "outputs": [],
   "metadata": {}
  },
  {
   "cell_type": "code",
   "execution_count": null,
   "source": [
    "from scipy.stats import pearsonr\r\n",
    "from sklearn.metrics import mutual_info_score\r\n",
    "\r\n",
    "ch1 = raw.ch_names.index('Cz')\r\n",
    "ch2 = raw.ch_names.index('Resp')\r\n",
    "mutual_information_scores = []\r\n",
    "correlation_scores = []\r\n",
    "for cnd in range(4):\r\n",
    "    mi = mutual_info_score(datas[cnd][ch1], datas[cnd][ch2])\r\n",
    "    r = pearsonr(datas[cnd][ch1], datas[cnd][ch2])\r\n",
    "    print(cnd, mi)\r\n",
    "    mutual_information_scores.append(mi)\r\n",
    "    correlation_scores.append(r[0])\r\n",
    "\r\n",
    "plt.figure()\r\n",
    "plt.bar(files, mutual_information_scores)\r\n",
    "plt.ylim(min(mutual_information_scores)*0.99, max(mutual_information_scores)*1.01)\r\n",
    "\r\n",
    "plt.figure()\r\n",
    "plt.bar(files, correlation_scores)\r\n"
   ],
   "outputs": [],
   "metadata": {}
  },
  {
   "cell_type": "markdown",
   "source": [
    "# Coupling between SCP and Respiration"
   ],
   "metadata": {}
  },
  {
   "cell_type": "code",
   "execution_count": null,
   "source": [
    "np.array_split(data, n, axis=1)[0].shape"
   ],
   "outputs": [],
   "metadata": {}
  },
  {
   "cell_type": "code",
   "execution_count": null,
   "source": [
    "corrs = []\r\n",
    "psis = []\r\n",
    "n = 14\r\n",
    "for raw in raws:\r\n",
    "    data = raw.copy().filter(None, 0.5, n_jobs=-1).pick(['Cz', 'Resp'])._data\r\n",
    "    corr = [mne.connectivity.envelope_correlation(np.expand_dims(portion, axis=0))[0,1] for portion in np.array_split(data, n, axis=1)]\r\n",
    "    corrs.append( corr )\r\n",
    "    \r\n",
    "    \r\n",
    "    indices = (np.array([0]), np.array([1]))\r\n",
    "    psi = [np.squeeze(mne.connectivity.phase_slope_index(np.expand_dims(portion, axis=0), indices=indices)[0]) for portion in np.array_split(data, n, axis=1)]\r\n",
    "    psis.append(psi)\r\n",
    "\r\n",
    "results['coupling'] = corrs\r\n",
    "results['direction'] = psis\r\n"
   ],
   "outputs": [],
   "metadata": {}
  },
  {
   "cell_type": "code",
   "execution_count": null,
   "source": [
    "%matplotlib qt\r\n",
    "\r\n",
    "plt.figure()\r\n",
    "plt.subplot(211)\r\n",
    "sns.boxplot(data=results['coupling'])\r\n",
    "plt.title(f'Envelope Correlation')\r\n",
    "\r\n",
    "plt.subplot(212)\r\n",
    "sns.boxplot(data=results['direction'])\r\n",
    "plt.title(f'Phase Slope Index')\r\n",
    "\r\n",
    "plt.tight_layout()\r\n"
   ],
   "outputs": [],
   "metadata": {}
  },
  {
   "cell_type": "code",
   "execution_count": 172,
   "source": [
    "from scipy.signal import find_peaks\r\n",
    "raw = data[0][0]\r\n",
    "arr = raw.copy().filter(None, 0.5).pick(['Cz'])._data[0]\r\n",
    "\r\n",
    "\r\n",
    "\r\n",
    "amps = get_ptp_amplitudes(arr)\r\n",
    "print(amps)"
   ],
   "outputs": [],
   "metadata": {}
  },
  {
   "cell_type": "code",
   "execution_count": 175,
   "source": [
    "amps = get_ptp_amplitudes(arr)"
   ],
   "outputs": [
    {
     "output_type": "execute_result",
     "data": {
      "text/plain": [
       "array([1.00895385e-05, 1.35358625e-05, 8.62183332e-06, 2.72146272e-05,\n",
       "       3.24071482e-07, 1.84678090e-05, 1.62310312e-05, 1.88398698e-05,\n",
       "       1.40142593e-05, 3.59547509e-06, 2.86531200e-05, 1.26917550e-06,\n",
       "       2.71139110e-05, 7.14943018e-06, 3.30785407e-06, 2.02380506e-05,\n",
       "       2.23137867e-05, 2.24088621e-05, 1.63538039e-05, 1.59946010e-05,\n",
       "       2.92357402e-05, 9.41596368e-06, 1.18291384e-05, 2.88924150e-06,\n",
       "       2.07938672e-05, 2.96949382e-05, 3.03009923e-05, 2.60861390e-06,\n",
       "       2.00260243e-05, 2.01928814e-05, 1.39104537e-05, 3.03065156e-05,\n",
       "       1.18884440e-05, 7.84882095e-06, 1.36633549e-05, 1.79700171e-05,\n",
       "       2.14428795e-06, 2.43068254e-05, 8.43113497e-06, 1.20817925e-05,\n",
       "       6.57192175e-06, 9.36987572e-06, 1.78086969e-05, 6.30662196e-06,\n",
       "       7.73619576e-05, 2.12970178e-05, 3.17209147e-05, 4.14427199e-05,\n",
       "       1.97049939e-05, 3.72250710e-05, 4.08829487e-05, 4.32061779e-06,\n",
       "       2.52562142e-05, 3.60775355e-05, 8.49024939e-06, 7.87947126e-06,\n",
       "       4.52361641e-05, 3.32133178e-06, 2.39268949e-05, 3.90692500e-05,\n",
       "       2.69376443e-05, 2.78769451e-05, 1.63127407e-05, 4.62666241e-05,\n",
       "       2.49705698e-05, 7.13779031e-06, 1.12854931e-05, 8.31023333e-06,\n",
       "       1.18413951e-05, 2.66682201e-05, 3.16548816e-05, 2.41780811e-05,\n",
       "       1.14722198e-05, 2.22953735e-06, 2.25269809e-05, 1.89144396e-05,\n",
       "       1.02194187e-05, 2.13354399e-05, 1.60562178e-05, 2.41235431e-05,\n",
       "       3.89145473e-05, 1.65560270e-05, 1.47499467e-06, 2.83120775e-05,\n",
       "       1.64961271e-05, 1.65454366e-05, 1.06070729e-05, 2.00763721e-05,\n",
       "       2.46570782e-05, 4.15196458e-05, 1.66282511e-05, 2.18508315e-05,\n",
       "       3.57166656e-05, 2.17118291e-05, 2.07014823e-06, 1.60253336e-05,\n",
       "       4.14764671e-05, 2.77772979e-05, 1.82256305e-05, 2.32452946e-05,\n",
       "       2.71680336e-05, 1.15555905e-05, 1.43935725e-05, 3.61279381e-06,\n",
       "       2.84834624e-05, 1.98641254e-05, 5.70344364e-06, 3.10617541e-05,\n",
       "       2.90264381e-05, 1.71147037e-06, 1.96791590e-05, 1.93338159e-05,\n",
       "       1.98924656e-06, 1.17689453e-05, 2.82369183e-07, 2.88627994e-05,\n",
       "       5.73587097e-06, 1.06817739e-05, 2.80928372e-05, 1.74030790e-05,\n",
       "       3.93657516e-05, 4.16133288e-05, 1.89114726e-05, 5.26238034e-05,\n",
       "       3.92500755e-05, 4.56309993e-06, 6.93540710e-06, 1.43620598e-05,\n",
       "       2.26646115e-05, 1.95994660e-05, 5.31551617e-06, 1.38695716e-05,\n",
       "       3.66278257e-05, 1.28719822e-05, 6.75777460e-06, 2.16183991e-05,\n",
       "       1.48133250e-05, 2.41797989e-05, 3.56456557e-05, 2.08102019e-05,\n",
       "       1.18173326e-05, 3.83838012e-05, 7.77876418e-06, 2.76686740e-06,\n",
       "       5.88538665e-06])"
      ]
     },
     "metadata": {},
     "execution_count": 175
    }
   ],
   "metadata": {}
  },
  {
   "cell_type": "code",
   "execution_count": 169,
   "source": [
    "peak_to_peak_latencies = []\r\n",
    "peak_to_peak_amplitudes = []\r\n",
    "\r\n",
    "for pos_peak_idx in pos_peak_idc:\r\n",
    "    \r\n",
    "    next_negative_idc = np.where(neg_peak_idc>pos_peak_idx)[0]\r\n",
    "    \r\n",
    "    if next_negative_idc.size==0:\r\n",
    "        break\r\n",
    "    else:\r\n",
    "        next_negative_idx = next_negative_idc[0]\r\n",
    "    \r\n",
    "    neg_peak_idx = neg_peak_idc[next_negative_idx]\r\n",
    "\r\n",
    "    idx_pair = (pos_peak_idx, neg_peak_idx)\r\n",
    "    diff = np.abs(idx_pair[0]-idx_pair[1])\r\n",
    "    \r\n",
    "    peak_to_peak_latencies.append( diff / raw.info['sfreq'] )\r\n",
    "    amp_diff = np.abs(arr[pos_peak_idx] - arr[neg_peak_idx])\r\n",
    "    peak_to_peak_amplitudes.append( amp_diff )\r\n",
    "\r\n",
    "\r\n",
    "\r\n",
    "\r\n",
    "peak_to_peak_latencies = np.array(peak_to_peak_latencies)\r\n",
    "peak_to_peak_amplitudes = np.array(peak_to_peak_amplitudes)\r\n"
   ],
   "outputs": [],
   "metadata": {}
  },
  {
   "cell_type": "code",
   "execution_count": 168,
   "source": [
    "plt.figure()\r\n",
    "sns.distplot(peak_to_peak_amplitudes*1e6)\r\n",
    "plt.tight_layout()\r\n",
    "\r\n",
    "plt.figure()\r\n",
    "sns.distplot(peak_to_peak_latencies)\r\n",
    "plt.tight_layout()"
   ],
   "outputs": [
    {
     "output_type": "stream",
     "name": "stderr",
     "text": [
      "C:\\Users\\lukas\\virtualenvs\\eegenv\\lib\\site-packages\\seaborn\\distributions.py:2557: FutureWarning: `distplot` is a deprecated function and will be removed in a future version. Please adapt your code to use either `displot` (a figure-level function with similar flexibility) or `histplot` (an axes-level function for histograms).\n",
      "  warnings.warn(msg, FutureWarning)\n",
      "C:\\Users\\lukas\\virtualenvs\\eegenv\\lib\\site-packages\\seaborn\\distributions.py:2557: FutureWarning: `distplot` is a deprecated function and will be removed in a future version. Please adapt your code to use either `displot` (a figure-level function with similar flexibility) or `histplot` (an axes-level function for histograms).\n",
      "  warnings.warn(msg, FutureWarning)\n"
     ]
    }
   ],
   "metadata": {}
  },
  {
   "cell_type": "code",
   "execution_count": null,
   "source": [],
   "outputs": [],
   "metadata": {}
  }
 ],
 "metadata": {
  "orig_nbformat": 4,
  "language_info": {
   "name": "python",
   "version": "3.8.10",
   "mimetype": "text/x-python",
   "codemirror_mode": {
    "name": "ipython",
    "version": 3
   },
   "pygments_lexer": "ipython3",
   "nbconvert_exporter": "python",
   "file_extension": ".py"
  },
  "kernelspec": {
   "name": "python3",
   "display_name": "Python 3.8.10 64-bit ('eegenv': virtualenvwrapper)"
  },
  "interpreter": {
   "hash": "b3ab6a524f8fdefa2fba1a0ab7407e8dbd386bc97b991bfb50d01a11f6cd0d5f"
  }
 },
 "nbformat": 4,
 "nbformat_minor": 2
}